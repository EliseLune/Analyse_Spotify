{
 "cells": [
  {
   "cell_type": "code",
   "execution_count": 1,
   "metadata": {},
   "outputs": [],
   "source": [
    "import numpy as np\n",
    "import pandas as pd\n",
    "import json\n",
    "import matplotlib.pyplot as plt"
   ]
  },
  {
   "cell_type": "code",
   "execution_count": 2,
   "metadata": {},
   "outputs": [],
   "source": [
    "with open(\"user_top_tracks_medium_term.json\",\"r\") as f:\n",
    "    data=json.loads(f.read())\n"
   ]
  },
  {
   "cell_type": "code",
   "execution_count": 3,
   "metadata": {},
   "outputs": [],
   "source": [
    "for track in data:\n",
    "    track['track_id']=track.pop('id')\n",
    "    track['track_href']=track.pop('href')"
   ]
  },
  {
   "cell_type": "markdown",
   "metadata": {},
   "source": [
    "Il y a des dictionnaires et des listes imbriqués, notamment pour l'album dans lequel est la musique considérée: la description de cet album contient notamment l'artiste qui a fait l'album, sous forme de liste,qui peut être de taille>1 si il s'agit d'un album collaboratif ou d'un single en featuring. "
   ]
  },
  {
   "cell_type": "markdown",
   "metadata": {},
   "source": [
    "Avec la fonction pd.json_normalize on peut extraire les dictionnaires dans ces listes à différents niveaux de profondeur"
   ]
  },
  {
   "cell_type": "code",
   "execution_count": 4,
   "metadata": {},
   "outputs": [],
   "source": [
    "artists_v2=pd.json_normalize(data,[['album','artists']],meta=['track_id','track_href'])\n",
    "images=album_images=pd.json_normalize(data,record_path=['album','images'],meta=['track_id','track_href'])\n",
    "album_album=pd.json_normalize(data,meta=['external_urls','spotify'])\n",
    "album_artists_v2=pd.json_normalize(data,record_path=['album','artists'],meta=['track_id','track_href'])"
   ]
  },
  {
   "cell_type": "markdown",
   "metadata": {},
   "source": [
    "On réassemble tout ce que l'on a extrait dans un même tableau,grâce aux clés primaires \"track_id\" et \"track_href\"."
   ]
  },
  {
   "cell_type": "code",
   "execution_count": 5,
   "metadata": {},
   "outputs": [],
   "source": [
    "a=artists_v2.merge(album_artists_v2,how='inner',left_on=['track_id','track_href'],right_on=['track_id','track_href'])"
   ]
  },
  {
   "cell_type": "code",
   "execution_count": 6,
   "metadata": {},
   "outputs": [],
   "source": [
    "b=a.merge(album_album,how='inner',left_on=['track_id','track_href'],right_on=['track_id','track_href'])"
   ]
  },
  {
   "cell_type": "code",
   "execution_count": 7,
   "metadata": {},
   "outputs": [],
   "source": [
    "c=b.merge(images,how='inner',left_on=['track_id','track_href'],right_on=['track_id','track_href'])"
   ]
  },
  {
   "cell_type": "code",
   "execution_count": 8,
   "metadata": {},
   "outputs": [
    {
     "data": {
      "text/plain": [
       "Index(['href_x', 'id_x', 'name_x', 'type_x', 'uri_x',\n",
       "       'external_urls.spotify_x', 'track_id', 'track_href', 'href_y', 'id_y',\n",
       "       'name_y', 'type_y', 'uri_y', 'external_urls.spotify_y', 'artists',\n",
       "       'available_markets', 'disc_number', 'duration_ms', 'explicit',\n",
       "       'is_local', 'name', 'popularity', 'preview_url', 'track_number', 'type',\n",
       "       'uri', 'album.album_type', 'album.artists', 'album.available_markets',\n",
       "       'album.external_urls.spotify', 'album.href', 'album.id', 'album.images',\n",
       "       'album.name', 'album.release_date', 'album.release_date_precision',\n",
       "       'album.total_tracks', 'album.type', 'album.uri', 'external_ids.isrc',\n",
       "       'external_urls.spotify', 'height', 'url', 'width'],\n",
       "      dtype='object')"
      ]
     },
     "execution_count": 8,
     "metadata": {},
     "output_type": "execute_result"
    }
   ],
   "source": [
    "c.columns"
   ]
  },
  {
   "cell_type": "code",
   "execution_count": 9,
   "metadata": {},
   "outputs": [],
   "source": [
    "#On supprime les colonnes qui contiennent encore des dictionnaires\n",
    "del c['artists']\n",
    "del c['album.images']"
   ]
  },
  {
   "cell_type": "code",
   "execution_count": 10,
   "metadata": {},
   "outputs": [
    {
     "data": {
      "text/plain": [
       "Index(['href_x', 'id_x', 'name_x', 'type_x', 'uri_x',\n",
       "       'external_urls.spotify_x', 'track_id', 'track_href', 'href_y', 'id_y',\n",
       "       'name_y', 'type_y', 'uri_y', 'external_urls.spotify_y',\n",
       "       'available_markets', 'disc_number', 'duration_ms', 'explicit',\n",
       "       'is_local', 'name', 'popularity', 'preview_url', 'track_number', 'type',\n",
       "       'uri', 'album.album_type', 'album.artists', 'album.available_markets',\n",
       "       'album.external_urls.spotify', 'album.href', 'album.id', 'album.name',\n",
       "       'album.release_date', 'album.release_date_precision',\n",
       "       'album.total_tracks', 'album.type', 'album.uri', 'external_ids.isrc',\n",
       "       'external_urls.spotify', 'height', 'url', 'width'],\n",
       "      dtype='object')"
      ]
     },
     "execution_count": 10,
     "metadata": {},
     "output_type": "execute_result"
    }
   ],
   "source": [
    "c.columns"
   ]
  },
  {
   "cell_type": "code",
   "execution_count": 11,
   "metadata": {},
   "outputs": [],
   "source": [
    "#On renomme de manière plus claire certaines colonnes\n",
    "d=c.rename(columns={\"href_x\":'album.artists.href','id_x':'album.artists.id','name_x':'album.artists.name','type_x':'album.artists.type','uri_x':'album.artists.uri',\n",
    "                 'external_urls.spotify_x':'album.artists.external_urls.spotify','href_y':'artists.href','id_y':'artists.id','name_y':'artists.name','type_y':'artists.type',\n",
    "                 'uri_y':'artists.uri','external_urls.spotify_y':'artists.external_urls.spotify','height':'images.height','url':'image.url','width':'image.width'})"
   ]
  },
  {
   "cell_type": "code",
   "execution_count": 12,
   "metadata": {},
   "outputs": [
    {
     "data": {
      "text/html": [
       "<div>\n",
       "<style scoped>\n",
       "    .dataframe tbody tr th:only-of-type {\n",
       "        vertical-align: middle;\n",
       "    }\n",
       "\n",
       "    .dataframe tbody tr th {\n",
       "        vertical-align: top;\n",
       "    }\n",
       "\n",
       "    .dataframe thead th {\n",
       "        text-align: right;\n",
       "    }\n",
       "</style>\n",
       "<table border=\"1\" class=\"dataframe\">\n",
       "  <thead>\n",
       "    <tr style=\"text-align: right;\">\n",
       "      <th></th>\n",
       "      <th>album.artists.href</th>\n",
       "      <th>album.artists.id</th>\n",
       "      <th>album.artists.name</th>\n",
       "      <th>album.artists.type</th>\n",
       "      <th>album.artists.uri</th>\n",
       "      <th>album.artists.external_urls.spotify</th>\n",
       "      <th>track_id</th>\n",
       "      <th>track_href</th>\n",
       "      <th>artists.href</th>\n",
       "      <th>artists.id</th>\n",
       "      <th>...</th>\n",
       "      <th>album.release_date</th>\n",
       "      <th>album.release_date_precision</th>\n",
       "      <th>album.total_tracks</th>\n",
       "      <th>album.type</th>\n",
       "      <th>album.uri</th>\n",
       "      <th>external_ids.isrc</th>\n",
       "      <th>external_urls.spotify</th>\n",
       "      <th>images.height</th>\n",
       "      <th>image.url</th>\n",
       "      <th>image.width</th>\n",
       "    </tr>\n",
       "  </thead>\n",
       "  <tbody>\n",
       "    <tr>\n",
       "      <th>0</th>\n",
       "      <td>https://api.spotify.com/v1/artists/69irZ4R8Osr...</td>\n",
       "      <td>69irZ4R8OsrLHjr6VmMmMg</td>\n",
       "      <td>Gaël Faye</td>\n",
       "      <td>artist</td>\n",
       "      <td>spotify:artist:69irZ4R8OsrLHjr6VmMmMg</td>\n",
       "      <td>https://open.spotify.com/artist/69irZ4R8OsrLHj...</td>\n",
       "      <td>4P89bNZVTCmu3zT0IBNLS8</td>\n",
       "      <td>https://api.spotify.com/v1/tracks/4P89bNZVTCmu...</td>\n",
       "      <td>https://api.spotify.com/v1/artists/69irZ4R8Osr...</td>\n",
       "      <td>69irZ4R8OsrLHjr6VmMmMg</td>\n",
       "      <td>...</td>\n",
       "      <td>2020-11-06</td>\n",
       "      <td>day</td>\n",
       "      <td>14</td>\n",
       "      <td>album</td>\n",
       "      <td>spotify:album:42QybsqCIxCc1H2SEskAiv</td>\n",
       "      <td>FRPDK2000080</td>\n",
       "      <td>https://open.spotify.com/track/4P89bNZVTCmu3zT...</td>\n",
       "      <td>640</td>\n",
       "      <td>https://i.scdn.co/image/ab67616d0000b273c841d8...</td>\n",
       "      <td>640</td>\n",
       "    </tr>\n",
       "    <tr>\n",
       "      <th>1</th>\n",
       "      <td>https://api.spotify.com/v1/artists/69irZ4R8Osr...</td>\n",
       "      <td>69irZ4R8OsrLHjr6VmMmMg</td>\n",
       "      <td>Gaël Faye</td>\n",
       "      <td>artist</td>\n",
       "      <td>spotify:artist:69irZ4R8OsrLHjr6VmMmMg</td>\n",
       "      <td>https://open.spotify.com/artist/69irZ4R8OsrLHj...</td>\n",
       "      <td>4P89bNZVTCmu3zT0IBNLS8</td>\n",
       "      <td>https://api.spotify.com/v1/tracks/4P89bNZVTCmu...</td>\n",
       "      <td>https://api.spotify.com/v1/artists/69irZ4R8Osr...</td>\n",
       "      <td>69irZ4R8OsrLHjr6VmMmMg</td>\n",
       "      <td>...</td>\n",
       "      <td>2020-11-06</td>\n",
       "      <td>day</td>\n",
       "      <td>14</td>\n",
       "      <td>album</td>\n",
       "      <td>spotify:album:42QybsqCIxCc1H2SEskAiv</td>\n",
       "      <td>FRPDK2000080</td>\n",
       "      <td>https://open.spotify.com/track/4P89bNZVTCmu3zT...</td>\n",
       "      <td>300</td>\n",
       "      <td>https://i.scdn.co/image/ab67616d00001e02c841d8...</td>\n",
       "      <td>300</td>\n",
       "    </tr>\n",
       "    <tr>\n",
       "      <th>2</th>\n",
       "      <td>https://api.spotify.com/v1/artists/69irZ4R8Osr...</td>\n",
       "      <td>69irZ4R8OsrLHjr6VmMmMg</td>\n",
       "      <td>Gaël Faye</td>\n",
       "      <td>artist</td>\n",
       "      <td>spotify:artist:69irZ4R8OsrLHjr6VmMmMg</td>\n",
       "      <td>https://open.spotify.com/artist/69irZ4R8OsrLHj...</td>\n",
       "      <td>4P89bNZVTCmu3zT0IBNLS8</td>\n",
       "      <td>https://api.spotify.com/v1/tracks/4P89bNZVTCmu...</td>\n",
       "      <td>https://api.spotify.com/v1/artists/69irZ4R8Osr...</td>\n",
       "      <td>69irZ4R8OsrLHjr6VmMmMg</td>\n",
       "      <td>...</td>\n",
       "      <td>2020-11-06</td>\n",
       "      <td>day</td>\n",
       "      <td>14</td>\n",
       "      <td>album</td>\n",
       "      <td>spotify:album:42QybsqCIxCc1H2SEskAiv</td>\n",
       "      <td>FRPDK2000080</td>\n",
       "      <td>https://open.spotify.com/track/4P89bNZVTCmu3zT...</td>\n",
       "      <td>64</td>\n",
       "      <td>https://i.scdn.co/image/ab67616d00004851c841d8...</td>\n",
       "      <td>64</td>\n",
       "    </tr>\n",
       "    <tr>\n",
       "      <th>3</th>\n",
       "      <td>https://api.spotify.com/v1/artists/3ycxRkcZ67A...</td>\n",
       "      <td>3ycxRkcZ67ALN3GQJ57Vig</td>\n",
       "      <td>Masego</td>\n",
       "      <td>artist</td>\n",
       "      <td>spotify:artist:3ycxRkcZ67ALN3GQJ57Vig</td>\n",
       "      <td>https://open.spotify.com/artist/3ycxRkcZ67ALN3...</td>\n",
       "      <td>2Ee9amLUslOwgoJWZEpSSD</td>\n",
       "      <td>https://api.spotify.com/v1/tracks/2Ee9amLUslOw...</td>\n",
       "      <td>https://api.spotify.com/v1/artists/3ycxRkcZ67A...</td>\n",
       "      <td>3ycxRkcZ67ALN3GQJ57Vig</td>\n",
       "      <td>...</td>\n",
       "      <td>2020-11-10</td>\n",
       "      <td>day</td>\n",
       "      <td>1</td>\n",
       "      <td>album</td>\n",
       "      <td>spotify:album:3iJYwx4U2xHyDi7BRjskIJ</td>\n",
       "      <td>USUM72021142</td>\n",
       "      <td>https://open.spotify.com/track/2Ee9amLUslOwgoJ...</td>\n",
       "      <td>640</td>\n",
       "      <td>https://i.scdn.co/image/ab67616d0000b273ce4316...</td>\n",
       "      <td>640</td>\n",
       "    </tr>\n",
       "    <tr>\n",
       "      <th>4</th>\n",
       "      <td>https://api.spotify.com/v1/artists/3ycxRkcZ67A...</td>\n",
       "      <td>3ycxRkcZ67ALN3GQJ57Vig</td>\n",
       "      <td>Masego</td>\n",
       "      <td>artist</td>\n",
       "      <td>spotify:artist:3ycxRkcZ67ALN3GQJ57Vig</td>\n",
       "      <td>https://open.spotify.com/artist/3ycxRkcZ67ALN3...</td>\n",
       "      <td>2Ee9amLUslOwgoJWZEpSSD</td>\n",
       "      <td>https://api.spotify.com/v1/tracks/2Ee9amLUslOw...</td>\n",
       "      <td>https://api.spotify.com/v1/artists/3ycxRkcZ67A...</td>\n",
       "      <td>3ycxRkcZ67ALN3GQJ57Vig</td>\n",
       "      <td>...</td>\n",
       "      <td>2020-11-10</td>\n",
       "      <td>day</td>\n",
       "      <td>1</td>\n",
       "      <td>album</td>\n",
       "      <td>spotify:album:3iJYwx4U2xHyDi7BRjskIJ</td>\n",
       "      <td>USUM72021142</td>\n",
       "      <td>https://open.spotify.com/track/2Ee9amLUslOwgoJ...</td>\n",
       "      <td>300</td>\n",
       "      <td>https://i.scdn.co/image/ab67616d00001e02ce4316...</td>\n",
       "      <td>300</td>\n",
       "    </tr>\n",
       "  </tbody>\n",
       "</table>\n",
       "<p>5 rows × 42 columns</p>\n",
       "</div>"
      ],
      "text/plain": [
       "                                  album.artists.href        album.artists.id  \\\n",
       "0  https://api.spotify.com/v1/artists/69irZ4R8Osr...  69irZ4R8OsrLHjr6VmMmMg   \n",
       "1  https://api.spotify.com/v1/artists/69irZ4R8Osr...  69irZ4R8OsrLHjr6VmMmMg   \n",
       "2  https://api.spotify.com/v1/artists/69irZ4R8Osr...  69irZ4R8OsrLHjr6VmMmMg   \n",
       "3  https://api.spotify.com/v1/artists/3ycxRkcZ67A...  3ycxRkcZ67ALN3GQJ57Vig   \n",
       "4  https://api.spotify.com/v1/artists/3ycxRkcZ67A...  3ycxRkcZ67ALN3GQJ57Vig   \n",
       "\n",
       "  album.artists.name album.artists.type  \\\n",
       "0          Gaël Faye             artist   \n",
       "1          Gaël Faye             artist   \n",
       "2          Gaël Faye             artist   \n",
       "3             Masego             artist   \n",
       "4             Masego             artist   \n",
       "\n",
       "                       album.artists.uri  \\\n",
       "0  spotify:artist:69irZ4R8OsrLHjr6VmMmMg   \n",
       "1  spotify:artist:69irZ4R8OsrLHjr6VmMmMg   \n",
       "2  spotify:artist:69irZ4R8OsrLHjr6VmMmMg   \n",
       "3  spotify:artist:3ycxRkcZ67ALN3GQJ57Vig   \n",
       "4  spotify:artist:3ycxRkcZ67ALN3GQJ57Vig   \n",
       "\n",
       "                 album.artists.external_urls.spotify                track_id  \\\n",
       "0  https://open.spotify.com/artist/69irZ4R8OsrLHj...  4P89bNZVTCmu3zT0IBNLS8   \n",
       "1  https://open.spotify.com/artist/69irZ4R8OsrLHj...  4P89bNZVTCmu3zT0IBNLS8   \n",
       "2  https://open.spotify.com/artist/69irZ4R8OsrLHj...  4P89bNZVTCmu3zT0IBNLS8   \n",
       "3  https://open.spotify.com/artist/3ycxRkcZ67ALN3...  2Ee9amLUslOwgoJWZEpSSD   \n",
       "4  https://open.spotify.com/artist/3ycxRkcZ67ALN3...  2Ee9amLUslOwgoJWZEpSSD   \n",
       "\n",
       "                                          track_href  \\\n",
       "0  https://api.spotify.com/v1/tracks/4P89bNZVTCmu...   \n",
       "1  https://api.spotify.com/v1/tracks/4P89bNZVTCmu...   \n",
       "2  https://api.spotify.com/v1/tracks/4P89bNZVTCmu...   \n",
       "3  https://api.spotify.com/v1/tracks/2Ee9amLUslOw...   \n",
       "4  https://api.spotify.com/v1/tracks/2Ee9amLUslOw...   \n",
       "\n",
       "                                        artists.href              artists.id  \\\n",
       "0  https://api.spotify.com/v1/artists/69irZ4R8Osr...  69irZ4R8OsrLHjr6VmMmMg   \n",
       "1  https://api.spotify.com/v1/artists/69irZ4R8Osr...  69irZ4R8OsrLHjr6VmMmMg   \n",
       "2  https://api.spotify.com/v1/artists/69irZ4R8Osr...  69irZ4R8OsrLHjr6VmMmMg   \n",
       "3  https://api.spotify.com/v1/artists/3ycxRkcZ67A...  3ycxRkcZ67ALN3GQJ57Vig   \n",
       "4  https://api.spotify.com/v1/artists/3ycxRkcZ67A...  3ycxRkcZ67ALN3GQJ57Vig   \n",
       "\n",
       "   ... album.release_date album.release_date_precision album.total_tracks  \\\n",
       "0  ...         2020-11-06                          day                 14   \n",
       "1  ...         2020-11-06                          day                 14   \n",
       "2  ...         2020-11-06                          day                 14   \n",
       "3  ...         2020-11-10                          day                  1   \n",
       "4  ...         2020-11-10                          day                  1   \n",
       "\n",
       "  album.type                             album.uri  external_ids.isrc  \\\n",
       "0      album  spotify:album:42QybsqCIxCc1H2SEskAiv       FRPDK2000080   \n",
       "1      album  spotify:album:42QybsqCIxCc1H2SEskAiv       FRPDK2000080   \n",
       "2      album  spotify:album:42QybsqCIxCc1H2SEskAiv       FRPDK2000080   \n",
       "3      album  spotify:album:3iJYwx4U2xHyDi7BRjskIJ       USUM72021142   \n",
       "4      album  spotify:album:3iJYwx4U2xHyDi7BRjskIJ       USUM72021142   \n",
       "\n",
       "                               external_urls.spotify  images.height  \\\n",
       "0  https://open.spotify.com/track/4P89bNZVTCmu3zT...            640   \n",
       "1  https://open.spotify.com/track/4P89bNZVTCmu3zT...            300   \n",
       "2  https://open.spotify.com/track/4P89bNZVTCmu3zT...             64   \n",
       "3  https://open.spotify.com/track/2Ee9amLUslOwgoJ...            640   \n",
       "4  https://open.spotify.com/track/2Ee9amLUslOwgoJ...            300   \n",
       "\n",
       "                                           image.url image.width  \n",
       "0  https://i.scdn.co/image/ab67616d0000b273c841d8...         640  \n",
       "1  https://i.scdn.co/image/ab67616d00001e02c841d8...         300  \n",
       "2  https://i.scdn.co/image/ab67616d00004851c841d8...          64  \n",
       "3  https://i.scdn.co/image/ab67616d0000b273ce4316...         640  \n",
       "4  https://i.scdn.co/image/ab67616d00001e02ce4316...         300  \n",
       "\n",
       "[5 rows x 42 columns]"
      ]
     },
     "execution_count": 12,
     "metadata": {},
     "output_type": "execute_result"
    }
   ],
   "source": [
    "#Et là on a un tableau (trop) complet qui contient toutes les données.\n",
    "d.head()"
   ]
  },
  {
   "cell_type": "code",
   "execution_count": 13,
   "metadata": {},
   "outputs": [],
   "source": [
    "#Et maintenant on exporte ce tableau en fichier csv\n",
    "d.to_csv('user_top_track_medium_term_complet.csv')"
   ]
  },
  {
   "cell_type": "code",
   "execution_count": 14,
   "metadata": {},
   "outputs": [],
   "source": [
    "#Si on veut avoir un tableau sans les doublons d'artistes par exemple, on peut faire d.drop_duplicates(subset = ['artists.name'])"
   ]
  },
  {
   "cell_type": "code",
   "execution_count": null,
   "metadata": {},
   "outputs": [],
   "source": []
  }
 ],
 "metadata": {
  "kernelspec": {
   "display_name": "Python 3",
   "language": "python",
   "name": "python3"
  },
  "language_info": {
   "codemirror_mode": {
    "name": "ipython",
    "version": 3
   },
   "file_extension": ".py",
   "mimetype": "text/x-python",
   "name": "python",
   "nbconvert_exporter": "python",
   "pygments_lexer": "ipython3",
   "version": "3.8.3"
  }
 },
 "nbformat": 4,
 "nbformat_minor": 4
}
