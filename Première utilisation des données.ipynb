{
 "cells": [
  {
   "cell_type": "markdown",
   "metadata": {},
   "source": [
    "# Première utilisation des données"
   ]
  },
  {
   "cell_type": "code",
   "execution_count": 25,
   "metadata": {},
   "outputs": [],
   "source": [
    "import numpy as np\n",
    "import pandas as pd\n",
    "import json\n",
    "import matplotlib.pyplot as plt"
   ]
  },
  {
   "cell_type": "code",
   "execution_count": 4,
   "metadata": {},
   "outputs": [],
   "source": [
    "table = pd.read_csv('user_top_tracks_medium_term_audio-features.csv')"
   ]
  },
  {
   "cell_type": "code",
   "execution_count": 6,
   "metadata": {},
   "outputs": [
    {
     "data": {
      "text/html": [
       "<div>\n",
       "<style scoped>\n",
       "    .dataframe tbody tr th:only-of-type {\n",
       "        vertical-align: middle;\n",
       "    }\n",
       "\n",
       "    .dataframe tbody tr th {\n",
       "        vertical-align: top;\n",
       "    }\n",
       "\n",
       "    .dataframe thead th {\n",
       "        text-align: right;\n",
       "    }\n",
       "</style>\n",
       "<table border=\"1\" class=\"dataframe\">\n",
       "  <thead>\n",
       "    <tr style=\"text-align: right;\">\n",
       "      <th></th>\n",
       "      <th>Unnamed: 0</th>\n",
       "      <th>danceability</th>\n",
       "      <th>energy</th>\n",
       "      <th>key</th>\n",
       "      <th>loudness</th>\n",
       "      <th>mode</th>\n",
       "      <th>speechiness</th>\n",
       "      <th>acousticness</th>\n",
       "      <th>instrumentalness</th>\n",
       "      <th>liveness</th>\n",
       "      <th>valence</th>\n",
       "      <th>tempo</th>\n",
       "      <th>type</th>\n",
       "      <th>id</th>\n",
       "      <th>uri</th>\n",
       "      <th>track_href</th>\n",
       "      <th>analysis_url</th>\n",
       "      <th>duration_ms</th>\n",
       "      <th>time_signature</th>\n",
       "      <th>track_id</th>\n",
       "    </tr>\n",
       "  </thead>\n",
       "  <tbody>\n",
       "    <tr>\n",
       "      <th>0</th>\n",
       "      <td>0</td>\n",
       "      <td>0.792</td>\n",
       "      <td>0.518</td>\n",
       "      <td>10</td>\n",
       "      <td>-9.630</td>\n",
       "      <td>0</td>\n",
       "      <td>0.0491</td>\n",
       "      <td>0.3480</td>\n",
       "      <td>0.000018</td>\n",
       "      <td>0.1030</td>\n",
       "      <td>0.526</td>\n",
       "      <td>100.004</td>\n",
       "      <td>audio_features</td>\n",
       "      <td>4P89bNZVTCmu3zT0IBNLS8</td>\n",
       "      <td>spotify:track:4P89bNZVTCmu3zT0IBNLS8</td>\n",
       "      <td>https://api.spotify.com/v1/tracks/4P89bNZVTCmu...</td>\n",
       "      <td>https://api.spotify.com/v1/audio-analysis/4P89...</td>\n",
       "      <td>215240</td>\n",
       "      <td>4</td>\n",
       "      <td>4P89bNZVTCmu3zT0IBNLS8</td>\n",
       "    </tr>\n",
       "    <tr>\n",
       "      <th>1</th>\n",
       "      <td>1</td>\n",
       "      <td>0.747</td>\n",
       "      <td>0.494</td>\n",
       "      <td>3</td>\n",
       "      <td>-7.957</td>\n",
       "      <td>0</td>\n",
       "      <td>0.1410</td>\n",
       "      <td>0.3930</td>\n",
       "      <td>0.000000</td>\n",
       "      <td>0.0982</td>\n",
       "      <td>0.624</td>\n",
       "      <td>76.006</td>\n",
       "      <td>audio_features</td>\n",
       "      <td>2Ee9amLUslOwgoJWZEpSSD</td>\n",
       "      <td>spotify:track:2Ee9amLUslOwgoJWZEpSSD</td>\n",
       "      <td>https://api.spotify.com/v1/tracks/2Ee9amLUslOw...</td>\n",
       "      <td>https://api.spotify.com/v1/audio-analysis/2Ee9...</td>\n",
       "      <td>228453</td>\n",
       "      <td>4</td>\n",
       "      <td>2Ee9amLUslOwgoJWZEpSSD</td>\n",
       "    </tr>\n",
       "    <tr>\n",
       "      <th>2</th>\n",
       "      <td>2</td>\n",
       "      <td>0.649</td>\n",
       "      <td>0.618</td>\n",
       "      <td>9</td>\n",
       "      <td>-7.691</td>\n",
       "      <td>1</td>\n",
       "      <td>0.0779</td>\n",
       "      <td>0.0215</td>\n",
       "      <td>0.000001</td>\n",
       "      <td>0.0911</td>\n",
       "      <td>0.381</td>\n",
       "      <td>92.020</td>\n",
       "      <td>audio_features</td>\n",
       "      <td>1p9dxTMtG4gZpLp7yzvT54</td>\n",
       "      <td>spotify:track:1p9dxTMtG4gZpLp7yzvT54</td>\n",
       "      <td>https://api.spotify.com/v1/tracks/1p9dxTMtG4gZ...</td>\n",
       "      <td>https://api.spotify.com/v1/audio-analysis/1p9d...</td>\n",
       "      <td>192613</td>\n",
       "      <td>4</td>\n",
       "      <td>1p9dxTMtG4gZpLp7yzvT54</td>\n",
       "    </tr>\n",
       "    <tr>\n",
       "      <th>3</th>\n",
       "      <td>3</td>\n",
       "      <td>0.399</td>\n",
       "      <td>0.491</td>\n",
       "      <td>6</td>\n",
       "      <td>-10.778</td>\n",
       "      <td>0</td>\n",
       "      <td>0.0538</td>\n",
       "      <td>0.0563</td>\n",
       "      <td>0.000890</td>\n",
       "      <td>0.1100</td>\n",
       "      <td>0.151</td>\n",
       "      <td>91.066</td>\n",
       "      <td>audio_features</td>\n",
       "      <td>6AGOKlMZWLCaEJGnaROtF9</td>\n",
       "      <td>spotify:track:6AGOKlMZWLCaEJGnaROtF9</td>\n",
       "      <td>https://api.spotify.com/v1/tracks/6AGOKlMZWLCa...</td>\n",
       "      <td>https://api.spotify.com/v1/audio-analysis/6AGO...</td>\n",
       "      <td>210463</td>\n",
       "      <td>4</td>\n",
       "      <td>6AGOKlMZWLCaEJGnaROtF9</td>\n",
       "    </tr>\n",
       "    <tr>\n",
       "      <th>4</th>\n",
       "      <td>4</td>\n",
       "      <td>0.718</td>\n",
       "      <td>0.712</td>\n",
       "      <td>11</td>\n",
       "      <td>-4.366</td>\n",
       "      <td>1</td>\n",
       "      <td>0.1740</td>\n",
       "      <td>0.5120</td>\n",
       "      <td>0.001210</td>\n",
       "      <td>0.1040</td>\n",
       "      <td>0.531</td>\n",
       "      <td>180.034</td>\n",
       "      <td>audio_features</td>\n",
       "      <td>7x4ASXYEKfQBCewcZhK776</td>\n",
       "      <td>spotify:track:7x4ASXYEKfQBCewcZhK776</td>\n",
       "      <td>https://api.spotify.com/v1/tracks/7x4ASXYEKfQB...</td>\n",
       "      <td>https://api.spotify.com/v1/audio-analysis/7x4A...</td>\n",
       "      <td>189653</td>\n",
       "      <td>4</td>\n",
       "      <td>7x4ASXYEKfQBCewcZhK776</td>\n",
       "    </tr>\n",
       "  </tbody>\n",
       "</table>\n",
       "</div>"
      ],
      "text/plain": [
       "   Unnamed: 0  danceability  energy  key  loudness  mode  speechiness  \\\n",
       "0           0         0.792   0.518   10    -9.630     0       0.0491   \n",
       "1           1         0.747   0.494    3    -7.957     0       0.1410   \n",
       "2           2         0.649   0.618    9    -7.691     1       0.0779   \n",
       "3           3         0.399   0.491    6   -10.778     0       0.0538   \n",
       "4           4         0.718   0.712   11    -4.366     1       0.1740   \n",
       "\n",
       "   acousticness  instrumentalness  liveness  valence    tempo            type  \\\n",
       "0        0.3480          0.000018    0.1030    0.526  100.004  audio_features   \n",
       "1        0.3930          0.000000    0.0982    0.624   76.006  audio_features   \n",
       "2        0.0215          0.000001    0.0911    0.381   92.020  audio_features   \n",
       "3        0.0563          0.000890    0.1100    0.151   91.066  audio_features   \n",
       "4        0.5120          0.001210    0.1040    0.531  180.034  audio_features   \n",
       "\n",
       "                       id                                   uri  \\\n",
       "0  4P89bNZVTCmu3zT0IBNLS8  spotify:track:4P89bNZVTCmu3zT0IBNLS8   \n",
       "1  2Ee9amLUslOwgoJWZEpSSD  spotify:track:2Ee9amLUslOwgoJWZEpSSD   \n",
       "2  1p9dxTMtG4gZpLp7yzvT54  spotify:track:1p9dxTMtG4gZpLp7yzvT54   \n",
       "3  6AGOKlMZWLCaEJGnaROtF9  spotify:track:6AGOKlMZWLCaEJGnaROtF9   \n",
       "4  7x4ASXYEKfQBCewcZhK776  spotify:track:7x4ASXYEKfQBCewcZhK776   \n",
       "\n",
       "                                          track_href  \\\n",
       "0  https://api.spotify.com/v1/tracks/4P89bNZVTCmu...   \n",
       "1  https://api.spotify.com/v1/tracks/2Ee9amLUslOw...   \n",
       "2  https://api.spotify.com/v1/tracks/1p9dxTMtG4gZ...   \n",
       "3  https://api.spotify.com/v1/tracks/6AGOKlMZWLCa...   \n",
       "4  https://api.spotify.com/v1/tracks/7x4ASXYEKfQB...   \n",
       "\n",
       "                                        analysis_url  duration_ms  \\\n",
       "0  https://api.spotify.com/v1/audio-analysis/4P89...       215240   \n",
       "1  https://api.spotify.com/v1/audio-analysis/2Ee9...       228453   \n",
       "2  https://api.spotify.com/v1/audio-analysis/1p9d...       192613   \n",
       "3  https://api.spotify.com/v1/audio-analysis/6AGO...       210463   \n",
       "4  https://api.spotify.com/v1/audio-analysis/7x4A...       189653   \n",
       "\n",
       "   time_signature                track_id  \n",
       "0               4  4P89bNZVTCmu3zT0IBNLS8  \n",
       "1               4  2Ee9amLUslOwgoJWZEpSSD  \n",
       "2               4  1p9dxTMtG4gZpLp7yzvT54  \n",
       "3               4  6AGOKlMZWLCaEJGnaROtF9  \n",
       "4               4  7x4ASXYEKfQBCewcZhK776  "
      ]
     },
     "execution_count": 6,
     "metadata": {},
     "output_type": "execute_result"
    }
   ],
   "source": [
    "table.head()"
   ]
  },
  {
   "cell_type": "code",
   "execution_count": 13,
   "metadata": {},
   "outputs": [],
   "source": [
    "del table['Unnamed: 0']"
   ]
  },
  {
   "cell_type": "code",
   "execution_count": 14,
   "metadata": {},
   "outputs": [
    {
     "data": {
      "text/plain": [
       "<AxesSubplot:>"
      ]
     },
     "execution_count": 14,
     "metadata": {},
     "output_type": "execute_result"
    },
    {
     "data": {
      "image/png": "[encoded data removed]",
      "text/plain": [
       "<Figure size 432x288 with 1 Axes>"
      ]
     },
     "metadata": {
      "needs_background": "light"
     },
     "output_type": "display_data"
    }
   ],
   "source": [
    "table['danceability'].hist()"
   ]
  },
  {
   "cell_type": "code",
   "execution_count": 42,
   "metadata": {},
   "outputs": [
    {
     "data": {
      "text/plain": [
       "array([[<AxesSubplot:title={'center':'danceability'}>,\n",
       "        <AxesSubplot:title={'center':'energy'}>,\n",
       "        <AxesSubplot:title={'center':'key'}>],\n",
       "       [<AxesSubplot:title={'center':'loudness'}>,\n",
       "        <AxesSubplot:title={'center':'mode'}>,\n",
       "        <AxesSubplot:title={'center':'speechiness'}>],\n",
       "       [<AxesSubplot:title={'center':'acousticness'}>,\n",
       "        <AxesSubplot:title={'center':'instrumentalness'}>,\n",
       "        <AxesSubplot:title={'center':'liveness'}>],\n",
       "       [<AxesSubplot:title={'center':'valence'}>,\n",
       "        <AxesSubplot:title={'center':'tempo'}>,\n",
       "        <AxesSubplot:title={'center':'duration_ms'}>]], dtype=object)"
      ]
     },
     "execution_count": 42,
     "metadata": {},
     "output_type": "execute_result"
    },
    {
     "data": {
      "image/png": "[encoded data removed]",
      "text/plain": [
       "<Figure size 432x288 with 12 Axes>"
      ]
     },
     "metadata": {
      "needs_background": "light"
     },
     "output_type": "display_data"
    }
   ],
   "source": [
    "table.loc[:,['danceability','energy','key','loudness','mode','speechiness','acousticness','instrumentalness','liveness','valence','tempo','duration_ms']].hist()"
   ]
  },
  {
   "cell_type": "code",
   "execution_count": 20,
   "metadata": {},
   "outputs": [],
   "source": [
    "df = pd.read_json(\"user_top_tracks_medium_term.json\")"
   ]
  },
  {
   "cell_type": "code",
   "execution_count": 21,
   "metadata": {},
   "outputs": [
    {
     "data": {
      "text/html": [
       "<div>\n",
       "<style scoped>\n",
       "    .dataframe tbody tr th:only-of-type {\n",
       "        vertical-align: middle;\n",
       "    }\n",
       "\n",
       "    .dataframe tbody tr th {\n",
       "        vertical-align: top;\n",
       "    }\n",
       "\n",
       "    .dataframe thead th {\n",
       "        text-align: right;\n",
       "    }\n",
       "</style>\n",
       "<table border=\"1\" class=\"dataframe\">\n",
       "  <thead>\n",
       "    <tr style=\"text-align: right;\">\n",
       "      <th></th>\n",
       "      <th>album</th>\n",
       "      <th>artists</th>\n",
       "      <th>available_markets</th>\n",
       "      <th>disc_number</th>\n",
       "      <th>duration_ms</th>\n",
       "      <th>explicit</th>\n",
       "      <th>external_ids</th>\n",
       "      <th>external_urls</th>\n",
       "      <th>href</th>\n",
       "      <th>id</th>\n",
       "      <th>is_local</th>\n",
       "      <th>name</th>\n",
       "      <th>popularity</th>\n",
       "      <th>preview_url</th>\n",
       "      <th>track_number</th>\n",
       "      <th>type</th>\n",
       "      <th>uri</th>\n",
       "    </tr>\n",
       "  </thead>\n",
       "  <tbody>\n",
       "    <tr>\n",
       "      <th>0</th>\n",
       "      <td>{'album_type': 'ALBUM', 'artists': [{'external...</td>\n",
       "      <td>[{'external_urls': {'spotify': 'https://open.s...</td>\n",
       "      <td>[AD, AE, AR, AT, AU, BE, BG, BH, BO, BR, CA, C...</td>\n",
       "      <td>1</td>\n",
       "      <td>215240</td>\n",
       "      <td>False</td>\n",
       "      <td>{'isrc': 'FRPDK2000080'}</td>\n",
       "      <td>{'spotify': 'https://open.spotify.com/track/4P...</td>\n",
       "      <td>https://api.spotify.com/v1/tracks/4P89bNZVTCmu...</td>\n",
       "      <td>4P89bNZVTCmu3zT0IBNLS8</td>\n",
       "      <td>False</td>\n",
       "      <td>Chalouper</td>\n",
       "      <td>47</td>\n",
       "      <td>https://p.scdn.co/mp3-preview/c96e236cf527f9f9...</td>\n",
       "      <td>3</td>\n",
       "      <td>track</td>\n",
       "      <td>spotify:track:4P89bNZVTCmu3zT0IBNLS8</td>\n",
       "    </tr>\n",
       "    <tr>\n",
       "      <th>1</th>\n",
       "      <td>{'album_type': 'SINGLE', 'artists': [{'externa...</td>\n",
       "      <td>[{'external_urls': {'spotify': 'https://open.s...</td>\n",
       "      <td>[AD, AE, AR, AT, AU, BE, BG, BH, BO, BR, CA, C...</td>\n",
       "      <td>1</td>\n",
       "      <td>228453</td>\n",
       "      <td>False</td>\n",
       "      <td>{'isrc': 'USUM72021142'}</td>\n",
       "      <td>{'spotify': 'https://open.spotify.com/track/2E...</td>\n",
       "      <td>https://api.spotify.com/v1/tracks/2Ee9amLUslOw...</td>\n",
       "      <td>2Ee9amLUslOwgoJWZEpSSD</td>\n",
       "      <td>False</td>\n",
       "      <td>Mystery Lady (feat. Don Toliver)</td>\n",
       "      <td>76</td>\n",
       "      <td>None</td>\n",
       "      <td>1</td>\n",
       "      <td>track</td>\n",
       "      <td>spotify:track:2Ee9amLUslOwgoJWZEpSSD</td>\n",
       "    </tr>\n",
       "    <tr>\n",
       "      <th>2</th>\n",
       "      <td>{'album_type': 'SINGLE', 'artists': [{'externa...</td>\n",
       "      <td>[{'external_urls': {'spotify': 'https://open.s...</td>\n",
       "      <td>[AD, AE, AR, AT, AU, BE, BG, BH, BO, BR, CA, C...</td>\n",
       "      <td>1</td>\n",
       "      <td>192613</td>\n",
       "      <td>False</td>\n",
       "      <td>{'isrc': 'FR7O52000800'}</td>\n",
       "      <td>{'spotify': 'https://open.spotify.com/track/1p...</td>\n",
       "      <td>https://api.spotify.com/v1/tracks/1p9dxTMtG4gZ...</td>\n",
       "      <td>1p9dxTMtG4gZpLp7yzvT54</td>\n",
       "      <td>False</td>\n",
       "      <td>Eté 90</td>\n",
       "      <td>68</td>\n",
       "      <td>https://p.scdn.co/mp3-preview/d805fd1638ee6976...</td>\n",
       "      <td>4</td>\n",
       "      <td>track</td>\n",
       "      <td>spotify:track:1p9dxTMtG4gZpLp7yzvT54</td>\n",
       "    </tr>\n",
       "    <tr>\n",
       "      <th>3</th>\n",
       "      <td>{'album_type': 'SINGLE', 'artists': [{'externa...</td>\n",
       "      <td>[{'external_urls': {'spotify': 'https://open.s...</td>\n",
       "      <td>[AD, AE, AR, AT, AU, BE, BG, BH, BO, BR, CA, C...</td>\n",
       "      <td>1</td>\n",
       "      <td>210463</td>\n",
       "      <td>False</td>\n",
       "      <td>{'isrc': 'USQX92004148'}</td>\n",
       "      <td>{'spotify': 'https://open.spotify.com/track/6A...</td>\n",
       "      <td>https://api.spotify.com/v1/tracks/6AGOKlMZWLCa...</td>\n",
       "      <td>6AGOKlMZWLCaEJGnaROtF9</td>\n",
       "      <td>False</td>\n",
       "      <td>Put Your Records On</td>\n",
       "      <td>86</td>\n",
       "      <td>https://p.scdn.co/mp3-preview/43e2f68fc66eb394...</td>\n",
       "      <td>1</td>\n",
       "      <td>track</td>\n",
       "      <td>spotify:track:6AGOKlMZWLCaEJGnaROtF9</td>\n",
       "    </tr>\n",
       "    <tr>\n",
       "      <th>4</th>\n",
       "      <td>{'album_type': 'SINGLE', 'artists': [{'externa...</td>\n",
       "      <td>[{'external_urls': {'spotify': 'https://open.s...</td>\n",
       "      <td>[AD, AE, AR, AT, AU, BE, BG, BH, BO, BR, CA, C...</td>\n",
       "      <td>1</td>\n",
       "      <td>189653</td>\n",
       "      <td>False</td>\n",
       "      <td>{'isrc': 'USUM72013593'}</td>\n",
       "      <td>{'spotify': 'https://open.spotify.com/track/7x...</td>\n",
       "      <td>https://api.spotify.com/v1/tracks/7x4ASXYEKfQB...</td>\n",
       "      <td>7x4ASXYEKfQBCewcZhK776</td>\n",
       "      <td>False</td>\n",
       "      <td>Ay, DiOs Mío!</td>\n",
       "      <td>85</td>\n",
       "      <td>None</td>\n",
       "      <td>1</td>\n",
       "      <td>track</td>\n",
       "      <td>spotify:track:7x4ASXYEKfQBCewcZhK776</td>\n",
       "    </tr>\n",
       "  </tbody>\n",
       "</table>\n",
       "</div>"
      ],
      "text/plain": [
       "                                               album  \\\n",
       "0  {'album_type': 'ALBUM', 'artists': [{'external...   \n",
       "1  {'album_type': 'SINGLE', 'artists': [{'externa...   \n",
       "2  {'album_type': 'SINGLE', 'artists': [{'externa...   \n",
       "3  {'album_type': 'SINGLE', 'artists': [{'externa...   \n",
       "4  {'album_type': 'SINGLE', 'artists': [{'externa...   \n",
       "\n",
       "                                             artists  \\\n",
       "0  [{'external_urls': {'spotify': 'https://open.s...   \n",
       "1  [{'external_urls': {'spotify': 'https://open.s...   \n",
       "2  [{'external_urls': {'spotify': 'https://open.s...   \n",
       "3  [{'external_urls': {'spotify': 'https://open.s...   \n",
       "4  [{'external_urls': {'spotify': 'https://open.s...   \n",
       "\n",
       "                                   available_markets  disc_number  \\\n",
       "0  [AD, AE, AR, AT, AU, BE, BG, BH, BO, BR, CA, C...            1   \n",
       "1  [AD, AE, AR, AT, AU, BE, BG, BH, BO, BR, CA, C...            1   \n",
       "2  [AD, AE, AR, AT, AU, BE, BG, BH, BO, BR, CA, C...            1   \n",
       "3  [AD, AE, AR, AT, AU, BE, BG, BH, BO, BR, CA, C...            1   \n",
       "4  [AD, AE, AR, AT, AU, BE, BG, BH, BO, BR, CA, C...            1   \n",
       "\n",
       "   duration_ms  explicit              external_ids  \\\n",
       "0       215240     False  {'isrc': 'FRPDK2000080'}   \n",
       "1       228453     False  {'isrc': 'USUM72021142'}   \n",
       "2       192613     False  {'isrc': 'FR7O52000800'}   \n",
       "3       210463     False  {'isrc': 'USQX92004148'}   \n",
       "4       189653     False  {'isrc': 'USUM72013593'}   \n",
       "\n",
       "                                       external_urls  \\\n",
       "0  {'spotify': 'https://open.spotify.com/track/4P...   \n",
       "1  {'spotify': 'https://open.spotify.com/track/2E...   \n",
       "2  {'spotify': 'https://open.spotify.com/track/1p...   \n",
       "3  {'spotify': 'https://open.spotify.com/track/6A...   \n",
       "4  {'spotify': 'https://open.spotify.com/track/7x...   \n",
       "\n",
       "                                                href                      id  \\\n",
       "0  https://api.spotify.com/v1/tracks/4P89bNZVTCmu...  4P89bNZVTCmu3zT0IBNLS8   \n",
       "1  https://api.spotify.com/v1/tracks/2Ee9amLUslOw...  2Ee9amLUslOwgoJWZEpSSD   \n",
       "2  https://api.spotify.com/v1/tracks/1p9dxTMtG4gZ...  1p9dxTMtG4gZpLp7yzvT54   \n",
       "3  https://api.spotify.com/v1/tracks/6AGOKlMZWLCa...  6AGOKlMZWLCaEJGnaROtF9   \n",
       "4  https://api.spotify.com/v1/tracks/7x4ASXYEKfQB...  7x4ASXYEKfQBCewcZhK776   \n",
       "\n",
       "   is_local                              name  popularity  \\\n",
       "0     False                         Chalouper          47   \n",
       "1     False  Mystery Lady (feat. Don Toliver)          76   \n",
       "2     False                            Eté 90          68   \n",
       "3     False               Put Your Records On          86   \n",
       "4     False                     Ay, DiOs Mío!          85   \n",
       "\n",
       "                                         preview_url  track_number   type  \\\n",
       "0  https://p.scdn.co/mp3-preview/c96e236cf527f9f9...             3  track   \n",
       "1                                               None             1  track   \n",
       "2  https://p.scdn.co/mp3-preview/d805fd1638ee6976...             4  track   \n",
       "3  https://p.scdn.co/mp3-preview/43e2f68fc66eb394...             1  track   \n",
       "4                                               None             1  track   \n",
       "\n",
       "                                    uri  \n",
       "0  spotify:track:4P89bNZVTCmu3zT0IBNLS8  \n",
       "1  spotify:track:2Ee9amLUslOwgoJWZEpSSD  \n",
       "2  spotify:track:1p9dxTMtG4gZpLp7yzvT54  \n",
       "3  spotify:track:6AGOKlMZWLCaEJGnaROtF9  \n",
       "4  spotify:track:7x4ASXYEKfQBCewcZhK776  "
      ]
     },
     "execution_count": 21,
     "metadata": {},
     "output_type": "execute_result"
    }
   ],
   "source": [
    "df.head()"
   ]
  },
  {
   "cell_type": "code",
   "execution_count": 22,
   "metadata": {},
   "outputs": [
    {
     "data": {
      "text/plain": [
       "<AxesSubplot:>"
      ]
     },
     "execution_count": 22,
     "metadata": {},
     "output_type": "execute_result"
    },
    {
     "data": {
      "image/png": "[encoded data removed]",
      "text/plain": [
       "<Figure size 432x288 with 1 Axes>"
      ]
     },
     "metadata": {
      "needs_background": "light"
     },
     "output_type": "display_data"
    }
   ],
   "source": [
    "df['duration_ms'].hist()"
   ]
  },
  {
   "cell_type": "code",
   "execution_count": 23,
   "metadata": {},
   "outputs": [
    {
     "data": {
      "text/plain": [
       "<AxesSubplot:>"
      ]
     },
     "execution_count": 23,
     "metadata": {},
     "output_type": "execute_result"
    },
    {
     "data": {
      "image/png": "[encoded data removed]",
      "text/plain": [
       "<Figure size 432x288 with 1 Axes>"
      ]
     },
     "metadata": {
      "needs_background": "light"
     },
     "output_type": "display_data"
    }
   ],
   "source": [
    "df['popularity'].hist()"
   ]
  },
  {
   "cell_type": "code",
   "execution_count": 31,
   "metadata": {},
   "outputs": [
    {
     "data": {
      "image/png": "[encoded data removed]",
      "text/plain": [
       "<Figure size 432x288 with 1 Axes>"
      ]
     },
     "metadata": {
      "needs_background": "light"
     },
     "output_type": "display_data"
    }
   ],
   "source": [
    "plt.scatter(df['popularity'], df['duration_ms'])\n",
    "plt.show()"
   ]
  },
  {
   "cell_type": "code",
   "execution_count": 28,
   "metadata": {},
   "outputs": [
    {
     "data": {
      "text/plain": [
       "<AxesSubplot:>"
      ]
     },
     "execution_count": 28,
     "metadata": {},
     "output_type": "execute_result"
    },
    {
     "data": {
      "image/png": "[encoded data removed]",
      "text/plain": [
       "<Figure size 432x288 with 1 Axes>"
      ]
     },
     "metadata": {
      "needs_background": "light"
     },
     "output_type": "display_data"
    }
   ],
   "source": [
    "df['track_number'].hist()"
   ]
  },
  {
   "cell_type": "code",
   "execution_count": null,
   "metadata": {},
   "outputs": [],
   "source": []
  }
 ],
 "metadata": {
  "kernelspec": {
   "display_name": "Python 3",
   "language": "python",
   "name": "python3"
  },
  "language_info": {
   "codemirror_mode": {
    "name": "ipython",
    "version": 3
   },
   "file_extension": ".py",
   "mimetype": "text/x-python",
   "name": "python",
   "nbconvert_exporter": "python",
   "pygments_lexer": "ipython3",
   "version": "3.8.3"
  }
 },
 "nbformat": 4,
 "nbformat_minor": 4
}
