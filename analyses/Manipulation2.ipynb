{
 "cells": [
  {
   "cell_type": "markdown",
   "metadata": {},
   "source": [
    "# Manipulation des données"
   ]
  },
  {
   "cell_type": "markdown",
   "metadata": {},
   "source": [
    "Les données qu'on a pour des analyses sont :\n",
    "* danceability\n",
    "* energy\n",
    "* key\n",
    "* loudness\n",
    "* mode\n",
    "* speechiness\n",
    "* acousticness\n",
    "* instrumentalness\n",
    "* liveness\n",
    "* valence\n",
    "* tempo\n",
    "* duration_ms\n",
    "* popularity"
   ]
  },
  {
   "cell_type": "markdown",
   "metadata": {},
   "source": [
    "### Description des différents types d' \"Audio-features\"\n",
    "\n",
    "\n",
    "| Audio-features       | Type      | Range        | Description |\n",
    "|:--------------------:|:---------:|:------------:|:------------|\n",
    "| __acousticness__     | Float     | [0, 1]       |A confidence measure from 0.0 to 1.0 of whether the track is acoustic. 1.0 represents high confidence the track is acoustic. |\n",
    "| analysis_url         | String    |              | An HTTP URL to access the full audio analysis of this track. An access token is required to access this data. |\n",
    "| __danceability__     | Float     | [0, 1]       | Danceability describes how suitable a track is for dancing based on a combination of musical elements including tempo, rhythm stability, beat strength, and overall regularity. A value of 0.0 is least danceable and 1.0 is most danceable. |\n",
    "| duration_ms          | Integer   | $\\mathbb{N}$ | The duration of the track in milliseconds. |\n",
    "| __energy__           | Float     | [0, 1]       | Energy is a measure from 0.0 to 1.0 and represents a perceptual measure of intensity and activity. Typically, energetic tracks feel fast, loud, and noisy. For example, death metal has high energy, while a Bach prelude scores low on the scale. Perceptual features contributing to this attribute include dynamic range, perceived loudness, timbre, onset rate, and general entropy. |\n",
    "| id                   | String    |              | The Spotify ID for the track. |\n",
    "| __instrumentalness__ | Float     | [0, 1]       | Predicts whether a track contains no vocals. “Ooh” and “aah” sounds are treated as instrumental in this context. Rap or spoken word tracks are clearly “vocal”. The closer the instrumentalness value is to 1.0, the greater likelihood the track contains no vocal content. Values above 0.5 are intended to represent instrumental tracks, but confidence is higher as the value approaches 1.0. |\n",
    "| __key__              | Interger  | [0, 1]     | The key the track is in. Integers map to pitches using standard Pitch Class notation . E.g. 0 = C, 1 = C♯/D♭, 2 = D, and so on. |\n",
    "| __liveness__         | Float     | [0, 1]       | Detects the presence of an audience in the recording. Higher liveness values represent an increased probability that the track was performed live. A value above 0.8 provides strong likelihood that the track is live. |\n",
    "| __loudness__         | Float     | [0, 1]       | The overall loudness of a track in decibels (dB). Loudness values are averaged across the entire track and are useful for comparing relative loudness of tracks. Loudness is the quality of a sound that is the primary psychological correlate of physical strength (amplitude). Values typical range between -60 and 0 db. |\n",
    "| __mode__             | Integer   | {0, 1}       | Mode indicates the modality (major or minor) of a track, the type of scale from which its melodic content is derived. Major is represented by 1 and minor is 0. |\n",
    "| __speechiness__      | Float     | [0, 1]       | Speechiness detects the presence of spoken words in a track. The more exclusively speech-like the recording (e.g. talk show, audio book, poetry), the closer to 1.0 the attribute value. Values above 0.66 describe tracks that are probably made entirely of spoken words. Values between 0.33 and 0.66 describe tracks that may contain both music and speech, either in sections or layered, including such cases as rap music. Values below 0.33 most likely represent music and other non-speech-like tracks.\t|\n",
    "| __tempo__            | Float     | $\\mathbb{R}_+$| The overall estimated tempo of a track in beats per minute (BPM). In musical terminology, tempo is the speed or pace of a given piece and derives directly from the average beat duration. |\n",
    "| time_signature       | Integer   | $\\mathbb{N}$ | An estimated overall time signature of a track. The time signature (meter) is a notational convention to specify how many beats are in each bar (or measure). |\n",
    "| track_href           | String    |              | A link to the Web API endpoint providing full details of the track. |\n",
    "| type                 | String    |              | The object type: “audio_features” |\n",
    "| uri                  | String    |              | The Spotify URI for the track.\t|\n",
    "| __valence__          | Float     | [0, 1]       | A measure from 0.0 to 1.0 describing the musical positiveness conveyed by a track. Tracks with high valence sound more positive (e.g. happy, cheerful, euphoric), while tracks with low valence sound more negative (e.g. sad, depressed, angry).\t|\n",
    "\n",
    "Les audio-features sont calculées grâce à un algorithme/cyborg nommé __Truffle Pig__ de chez __Echo Nest__ racheté par Spotify, qui a pour but d'améliorer drastiquement la recommandation personnalisée des musiques sur Spotify, notamment par le système de playlists.  \n",
    "La stratégie économique de Spotify repose sur le temps d'écoute en continu sur l'application : plus l'on passe de temps sur Spotify, plus l'on a de chance de s'abonner à Spotify Premium (là où ils font leurs bénéfices).\n",
    "\n",
    "Truffle Pig repose surtout sur du machine-learning."
   ]
  },
  {
   "cell_type": "markdown",
   "metadata": {},
   "source": [
    "On peut les classer en 2 catégories : paramètres objectifs et subjectifs. (en italique, les paramètres utilisables commme critères de préférence pour un utilisateur)\n",
    "\n",
    "| Objectifs | Subjectifs   |\n",
    "| :-------: | :----------: |\n",
    "| Key       | _Danceability_ |\n",
    "| Loudness  | _Energy_       |\n",
    "| Mode      | _Valence_      |\n",
    "| _Speechiness_ | |\n",
    "| _Acousticness_ | |\n",
    "| _Instrumentalness_ | |\n",
    "| _Liveness_ ||\n",
    "| Tempo | |"
   ]
  },
  {
   "cell_type": "markdown",
   "metadata": {},
   "source": [
    "Idées :\n",
    "- établir des fonctions/intervalles que l'on décrit par des mots (par exemple : _speechiness_ entre 0.33 et 0.66 signifie que le morceau contient de la musique \"normale\" et des paroles parlées)\n",
    "- faire des moyennes et des variances et classer en plusieurs catégories\n",
    "- avoir des intervalles types pour chaque genre de musique, afin d'identifier le genre d'un morceau\n",
    "- utiliser ces genres pour présenter à l'utilisateur des statistiques sur ses goûts musicaux et lui recommander des musiques dans le même style\n",
    "- créer un générateur de playlist à partir de quelques paramètres (mood, live, dance, genre)"
   ]
  },
  {
   "cell_type": "code",
   "execution_count": 2,
   "metadata": {},
   "outputs": [],
   "source": [
    "import numpy as np\n",
    "import pandas as pd\n",
    "import json\n",
    "import matplotlib.pyplot as plt"
   ]
  },
  {
   "cell_type": "code",
   "execution_count": 3,
   "metadata": {
    "tags": []
   },
   "outputs": [],
   "source": [
    "# table = pd.read_json('user_top_tracks_medium_term.json')\n",
    "# table = json.load(open('user_top_tracks_medium_term.json'))\n",
    "data = pd.read_csv('user_top_tracks_medium_term_audio-features.csv').set_index('Unnamed: 0')"
   ]
  },
  {
   "cell_type": "code",
   "execution_count": 4,
   "metadata": {},
   "outputs": [
    {
     "data": {
      "text/html": [
       "<div>\n",
       "<style scoped>\n",
       "    .dataframe tbody tr th:only-of-type {\n",
       "        vertical-align: middle;\n",
       "    }\n",
       "\n",
       "    .dataframe tbody tr th {\n",
       "        vertical-align: top;\n",
       "    }\n",
       "\n",
       "    .dataframe thead th {\n",
       "        text-align: right;\n",
       "    }\n",
       "</style>\n",
       "<table border=\"1\" class=\"dataframe\">\n",
       "  <thead>\n",
       "    <tr style=\"text-align: right;\">\n",
       "      <th></th>\n",
       "      <th>danceability</th>\n",
       "      <th>energy</th>\n",
       "      <th>key</th>\n",
       "      <th>loudness</th>\n",
       "      <th>mode</th>\n",
       "      <th>speechiness</th>\n",
       "      <th>acousticness</th>\n",
       "      <th>instrumentalness</th>\n",
       "      <th>liveness</th>\n",
       "      <th>valence</th>\n",
       "      <th>tempo</th>\n",
       "      <th>type</th>\n",
       "      <th>id</th>\n",
       "      <th>uri</th>\n",
       "      <th>track_href</th>\n",
       "      <th>analysis_url</th>\n",
       "      <th>duration_ms</th>\n",
       "      <th>time_signature</th>\n",
       "      <th>track_id</th>\n",
       "    </tr>\n",
       "    <tr>\n",
       "      <th>Unnamed: 0</th>\n",
       "      <th></th>\n",
       "      <th></th>\n",
       "      <th></th>\n",
       "      <th></th>\n",
       "      <th></th>\n",
       "      <th></th>\n",
       "      <th></th>\n",
       "      <th></th>\n",
       "      <th></th>\n",
       "      <th></th>\n",
       "      <th></th>\n",
       "      <th></th>\n",
       "      <th></th>\n",
       "      <th></th>\n",
       "      <th></th>\n",
       "      <th></th>\n",
       "      <th></th>\n",
       "      <th></th>\n",
       "      <th></th>\n",
       "    </tr>\n",
       "  </thead>\n",
       "  <tbody>\n",
       "    <tr>\n",
       "      <th>0</th>\n",
       "      <td>0.792</td>\n",
       "      <td>0.518</td>\n",
       "      <td>10</td>\n",
       "      <td>-9.630</td>\n",
       "      <td>0</td>\n",
       "      <td>0.0491</td>\n",
       "      <td>0.3480</td>\n",
       "      <td>0.000018</td>\n",
       "      <td>0.1030</td>\n",
       "      <td>0.526</td>\n",
       "      <td>100.004</td>\n",
       "      <td>audio_features</td>\n",
       "      <td>4P89bNZVTCmu3zT0IBNLS8</td>\n",
       "      <td>spotify:track:4P89bNZVTCmu3zT0IBNLS8</td>\n",
       "      <td>https://api.spotify.com/v1/tracks/4P89bNZVTCmu...</td>\n",
       "      <td>https://api.spotify.com/v1/audio-analysis/4P89...</td>\n",
       "      <td>215240</td>\n",
       "      <td>4</td>\n",
       "      <td>4P89bNZVTCmu3zT0IBNLS8</td>\n",
       "    </tr>\n",
       "    <tr>\n",
       "      <th>1</th>\n",
       "      <td>0.747</td>\n",
       "      <td>0.494</td>\n",
       "      <td>3</td>\n",
       "      <td>-7.957</td>\n",
       "      <td>0</td>\n",
       "      <td>0.1410</td>\n",
       "      <td>0.3930</td>\n",
       "      <td>0.000000</td>\n",
       "      <td>0.0982</td>\n",
       "      <td>0.624</td>\n",
       "      <td>76.006</td>\n",
       "      <td>audio_features</td>\n",
       "      <td>2Ee9amLUslOwgoJWZEpSSD</td>\n",
       "      <td>spotify:track:2Ee9amLUslOwgoJWZEpSSD</td>\n",
       "      <td>https://api.spotify.com/v1/tracks/2Ee9amLUslOw...</td>\n",
       "      <td>https://api.spotify.com/v1/audio-analysis/2Ee9...</td>\n",
       "      <td>228453</td>\n",
       "      <td>4</td>\n",
       "      <td>2Ee9amLUslOwgoJWZEpSSD</td>\n",
       "    </tr>\n",
       "    <tr>\n",
       "      <th>2</th>\n",
       "      <td>0.649</td>\n",
       "      <td>0.618</td>\n",
       "      <td>9</td>\n",
       "      <td>-7.691</td>\n",
       "      <td>1</td>\n",
       "      <td>0.0779</td>\n",
       "      <td>0.0215</td>\n",
       "      <td>0.000001</td>\n",
       "      <td>0.0911</td>\n",
       "      <td>0.381</td>\n",
       "      <td>92.020</td>\n",
       "      <td>audio_features</td>\n",
       "      <td>1p9dxTMtG4gZpLp7yzvT54</td>\n",
       "      <td>spotify:track:1p9dxTMtG4gZpLp7yzvT54</td>\n",
       "      <td>https://api.spotify.com/v1/tracks/1p9dxTMtG4gZ...</td>\n",
       "      <td>https://api.spotify.com/v1/audio-analysis/1p9d...</td>\n",
       "      <td>192613</td>\n",
       "      <td>4</td>\n",
       "      <td>1p9dxTMtG4gZpLp7yzvT54</td>\n",
       "    </tr>\n",
       "    <tr>\n",
       "      <th>3</th>\n",
       "      <td>0.399</td>\n",
       "      <td>0.491</td>\n",
       "      <td>6</td>\n",
       "      <td>-10.778</td>\n",
       "      <td>0</td>\n",
       "      <td>0.0538</td>\n",
       "      <td>0.0563</td>\n",
       "      <td>0.000890</td>\n",
       "      <td>0.1100</td>\n",
       "      <td>0.151</td>\n",
       "      <td>91.066</td>\n",
       "      <td>audio_features</td>\n",
       "      <td>6AGOKlMZWLCaEJGnaROtF9</td>\n",
       "      <td>spotify:track:6AGOKlMZWLCaEJGnaROtF9</td>\n",
       "      <td>https://api.spotify.com/v1/tracks/6AGOKlMZWLCa...</td>\n",
       "      <td>https://api.spotify.com/v1/audio-analysis/6AGO...</td>\n",
       "      <td>210463</td>\n",
       "      <td>4</td>\n",
       "      <td>6AGOKlMZWLCaEJGnaROtF9</td>\n",
       "    </tr>\n",
       "    <tr>\n",
       "      <th>4</th>\n",
       "      <td>0.718</td>\n",
       "      <td>0.712</td>\n",
       "      <td>11</td>\n",
       "      <td>-4.366</td>\n",
       "      <td>1</td>\n",
       "      <td>0.1740</td>\n",
       "      <td>0.5120</td>\n",
       "      <td>0.001210</td>\n",
       "      <td>0.1040</td>\n",
       "      <td>0.531</td>\n",
       "      <td>180.034</td>\n",
       "      <td>audio_features</td>\n",
       "      <td>7x4ASXYEKfQBCewcZhK776</td>\n",
       "      <td>spotify:track:7x4ASXYEKfQBCewcZhK776</td>\n",
       "      <td>https://api.spotify.com/v1/tracks/7x4ASXYEKfQB...</td>\n",
       "      <td>https://api.spotify.com/v1/audio-analysis/7x4A...</td>\n",
       "      <td>189653</td>\n",
       "      <td>4</td>\n",
       "      <td>7x4ASXYEKfQBCewcZhK776</td>\n",
       "    </tr>\n",
       "  </tbody>\n",
       "</table>\n",
       "</div>"
      ],
      "text/plain": [
       "            danceability  energy  key  loudness  mode  speechiness  \\\n",
       "Unnamed: 0                                                           \n",
       "0                  0.792   0.518   10    -9.630     0       0.0491   \n",
       "1                  0.747   0.494    3    -7.957     0       0.1410   \n",
       "2                  0.649   0.618    9    -7.691     1       0.0779   \n",
       "3                  0.399   0.491    6   -10.778     0       0.0538   \n",
       "4                  0.718   0.712   11    -4.366     1       0.1740   \n",
       "\n",
       "            acousticness  instrumentalness  liveness  valence    tempo  \\\n",
       "Unnamed: 0                                                               \n",
       "0                 0.3480          0.000018    0.1030    0.526  100.004   \n",
       "1                 0.3930          0.000000    0.0982    0.624   76.006   \n",
       "2                 0.0215          0.000001    0.0911    0.381   92.020   \n",
       "3                 0.0563          0.000890    0.1100    0.151   91.066   \n",
       "4                 0.5120          0.001210    0.1040    0.531  180.034   \n",
       "\n",
       "                      type                      id  \\\n",
       "Unnamed: 0                                           \n",
       "0           audio_features  4P89bNZVTCmu3zT0IBNLS8   \n",
       "1           audio_features  2Ee9amLUslOwgoJWZEpSSD   \n",
       "2           audio_features  1p9dxTMtG4gZpLp7yzvT54   \n",
       "3           audio_features  6AGOKlMZWLCaEJGnaROtF9   \n",
       "4           audio_features  7x4ASXYEKfQBCewcZhK776   \n",
       "\n",
       "                                             uri  \\\n",
       "Unnamed: 0                                         \n",
       "0           spotify:track:4P89bNZVTCmu3zT0IBNLS8   \n",
       "1           spotify:track:2Ee9amLUslOwgoJWZEpSSD   \n",
       "2           spotify:track:1p9dxTMtG4gZpLp7yzvT54   \n",
       "3           spotify:track:6AGOKlMZWLCaEJGnaROtF9   \n",
       "4           spotify:track:7x4ASXYEKfQBCewcZhK776   \n",
       "\n",
       "                                                   track_href  \\\n",
       "Unnamed: 0                                                      \n",
       "0           https://api.spotify.com/v1/tracks/4P89bNZVTCmu...   \n",
       "1           https://api.spotify.com/v1/tracks/2Ee9amLUslOw...   \n",
       "2           https://api.spotify.com/v1/tracks/1p9dxTMtG4gZ...   \n",
       "3           https://api.spotify.com/v1/tracks/6AGOKlMZWLCa...   \n",
       "4           https://api.spotify.com/v1/tracks/7x4ASXYEKfQB...   \n",
       "\n",
       "                                                 analysis_url  duration_ms  \\\n",
       "Unnamed: 0                                                                   \n",
       "0           https://api.spotify.com/v1/audio-analysis/4P89...       215240   \n",
       "1           https://api.spotify.com/v1/audio-analysis/2Ee9...       228453   \n",
       "2           https://api.spotify.com/v1/audio-analysis/1p9d...       192613   \n",
       "3           https://api.spotify.com/v1/audio-analysis/6AGO...       210463   \n",
       "4           https://api.spotify.com/v1/audio-analysis/7x4A...       189653   \n",
       "\n",
       "            time_signature                track_id  \n",
       "Unnamed: 0                                          \n",
       "0                        4  4P89bNZVTCmu3zT0IBNLS8  \n",
       "1                        4  2Ee9amLUslOwgoJWZEpSSD  \n",
       "2                        4  1p9dxTMtG4gZpLp7yzvT54  \n",
       "3                        4  6AGOKlMZWLCaEJGnaROtF9  \n",
       "4                        4  7x4ASXYEKfQBCewcZhK776  "
      ]
     },
     "execution_count": 4,
     "metadata": {},
     "output_type": "execute_result"
    }
   ],
   "source": [
    "data.head()"
   ]
  },
  {
   "cell_type": "code",
   "execution_count": 5,
   "metadata": {},
   "outputs": [
    {
     "data": {
      "text/plain": [
       "Text(0, 0.5, 'Valence')"
      ]
     },
     "execution_count": 5,
     "metadata": {},
     "output_type": "execute_result"
    },
    {
     "data": {
      "image/png": "[encoded data removed]",
      "text/plain": [
       "<Figure size 1080x648 with 9 Axes>"
      ]
     },
     "metadata": {
      "needs_background": "light"
     },
     "output_type": "display_data"
    }
   ],
   "source": [
    "fig, ax = plt.subplots(3,3, figsize=(15,9))\n",
    "\n",
    "# Energy\n",
    "\n",
    "ax[0,0].scatter(data['loudness'], data['energy'])\n",
    "ax[0,0].set_xlabel('Loudness')\n",
    "ax[0,0].set_ylabel('Energy')\n",
    "\n",
    "ax[1,0].scatter(data['acousticness'], data['energy'])\n",
    "ax[1,0].set_xlabel('Acousticness')\n",
    "ax[1,0].set_ylabel('Energy')\n",
    "\n",
    "ax[2,0].scatter(data['liveness'], data['energy'])\n",
    "ax[2,0].set_xlabel('Liveness')\n",
    "ax[2,0].set_ylabel('Energy')\n",
    "\n",
    "# Danceability\n",
    "\n",
    "ax[0,1].scatter(data['energy'], data['danceability'])\n",
    "ax[0,1].set_xlabel(\"Energy\")\n",
    "ax[0,1].set_ylabel(\"Danceability\")\n",
    "\n",
    "ax[1,1].scatter(data['acousticness'], data['danceability'])\n",
    "ax[1,1].set_xlabel('Acousticness')\n",
    "ax[1,1].set_ylabel('Danceability')\n",
    "\n",
    "ax[2,1].scatter(data['liveness'], data['danceability'])\n",
    "ax[2,1].set_xlabel('Liveness')\n",
    "ax[2,1].set_ylabel('Danceability')\n",
    "\n",
    "# Valence\n",
    "\n",
    "ax[0,2].scatter(data['energy'], data['valence'])\n",
    "ax[0,2].set_xlabel('Energy')\n",
    "ax[0,2].set_ylabel('Valence')\n",
    "\n",
    "ax[1,2].scatter(data['danceability'], data['valence'])\n",
    "ax[1,2].set_xlabel('Danceability')\n",
    "ax[1,2].set_ylabel('Valence')\n",
    "\n",
    "ax[2,2].scatter(data['liveness'], data['valence'])\n",
    "ax[2,2].set_xlabel('Liveness')\n",
    "ax[2,2].set_ylabel('Valence')"
   ]
  },
  {
   "cell_type": "code",
   "execution_count": 6,
   "metadata": {},
   "outputs": [
    {
     "name": "stdout",
     "output_type": "stream",
     "text": [
      "danceability  :  0.71\n",
      "energy  :  0.6\n",
      "loudness  :  -7.44\n",
      "mode  :  0.4\n",
      "speechiness  :  0.1\n",
      "acousticness  :  0.29\n",
      "instrumentalness  :  0.08\n",
      "liveness  :  0.16\n",
      "valence  :  0.55\n",
      "tempo  :  117.71\n"
     ]
    }
   ],
   "source": [
    "for param in data.columns:\n",
    "    if param == 'key' : continue\n",
    "    print(param, \" : \", round(np.mean(data[param]), 2))\n",
    "    if param == 'tempo' : break"
   ]
  },
  {
   "cell_type": "code",
   "execution_count": 7,
   "metadata": {},
   "outputs": [
    {
     "data": {
      "image/png": "[encoded data removed]",
      "text/plain": [
       "<Figure size 1440x360 with 10 Axes>"
      ]
     },
     "metadata": {
      "needs_background": "light"
     },
     "output_type": "display_data"
    }
   ],
   "source": [
    "fig, ax = plt.subplots(2,5, figsize=(20,5))\n",
    "i=0\n",
    "\n",
    "for param in data.columns:\n",
    "    if param == 'key' : continue\n",
    "    ax[i//5, i%5].hist(data[param])\n",
    "    ax[i//5, i%5].set_title(param)\n",
    "    i += 1\n",
    "    if param == 'tempo' : break"
   ]
  },
  {
   "cell_type": "markdown",
   "metadata": {},
   "source": [
    "### Analyses à implémenter\n",
    "- valence\n",
    "- energie\n",
    "- speechiness\n",
    "- tempo\n",
    "- danceability\n",
    "- liveness (?)\n",
    "- acousticness (?)"
   ]
  },
  {
   "cell_type": "code",
   "execution_count": 14,
   "metadata": {},
   "outputs": [],
   "source": [
    "def analyse_valence(values):\n",
    "    mean = np.mean(values)\n",
    "    if mean <= 1/3:\n",
    "        return round(mean,2), \"Sombre\"\n",
    "    elif mean <= 0.5:\n",
    "        return rount(mean,2), \"Plutôt sombre\"\n",
    "    elif mean >= 2/3:\n",
    "        return round(mean,2), \"Léger\"\n",
    "    else:\n",
    "        return round(mean,2), \"Plutôt léger\""
   ]
  },
  {
   "cell_type": "code",
   "execution_count": 15,
   "metadata": {},
   "outputs": [
    {
     "name": "stdout",
     "output_type": "stream",
     "text": [
      "Analyse de valence de la playlist : \n",
      "\tMoyenne =  0.55 \n",
      "\tApprécition :  Plutôt léger \n",
      "\tRépartition :\n"
     ]
    },
    {
     "data": {
      "image/png": "[encoded data removed]",
      "text/plain": [
       "<Figure size 432x288 with 1 Axes>"
      ]
     },
     "metadata": {
      "needs_background": "light"
     },
     "output_type": "display_data"
    }
   ],
   "source": [
    "moy, tag = analyse_valence(data['valence'])\n",
    "print(\"Analyse de valence de la playlist : \\n\\tMoyenne = \", moy, \"\\n\\tApprécition : \", tag, \"\\n\\tRépartition :\")\n",
    "plt.hist(data['valence'], bins=20)\n",
    "plt.show()"
   ]
  },
  {
   "cell_type": "code",
   "execution_count": null,
   "metadata": {},
   "outputs": [],
   "source": []
  }
 ],
 "metadata": {
  "kernelspec": {
   "display_name": "Python 3",
   "language": "python",
   "name": "python3"
  },
  "language_info": {
   "codemirror_mode": {
    "name": "ipython",
    "version": 3
   },
   "file_extension": ".py",
   "mimetype": "text/x-python",
   "name": "python",
   "nbconvert_exporter": "python",
   "pygments_lexer": "ipython3",
   "version": "3.9.2"
  }
 },
 "nbformat": 4,
 "nbformat_minor": 2
}
