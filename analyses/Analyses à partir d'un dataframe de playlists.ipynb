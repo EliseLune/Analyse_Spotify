{
 "cells": [
  {
   "cell_type": "code",
   "execution_count": 14,
   "id": "3160d5b8",
   "metadata": {},
   "outputs": [],
   "source": [
    "import numpy as np\n",
    "import pandas as pd\n",
    "import plotly.express as px\n",
    "import plotly.figure_factory as ff\n",
    "import matplotlib.pyplot as plt"
   ]
  },
  {
   "cell_type": "code",
   "execution_count": 15,
   "id": "15242f0a",
   "metadata": {
    "scrolled": true
   },
   "outputs": [
    {
     "data": {
      "text/html": [
       "<div>\n",
       "<style scoped>\n",
       "    .dataframe tbody tr th:only-of-type {\n",
       "        vertical-align: middle;\n",
       "    }\n",
       "\n",
       "    .dataframe tbody tr th {\n",
       "        vertical-align: top;\n",
       "    }\n",
       "\n",
       "    .dataframe thead th {\n",
       "        text-align: right;\n",
       "    }\n",
       "</style>\n",
       "<table border=\"1\" class=\"dataframe\">\n",
       "  <thead>\n",
       "    <tr style=\"text-align: right;\">\n",
       "      <th></th>\n",
       "      <th>name</th>\n",
       "      <th>album</th>\n",
       "      <th>artist</th>\n",
       "      <th>release_date</th>\n",
       "      <th>length</th>\n",
       "      <th>popularity</th>\n",
       "      <th>acousticness</th>\n",
       "      <th>danceability</th>\n",
       "      <th>energy</th>\n",
       "      <th>instrumentalness</th>\n",
       "      <th>key</th>\n",
       "      <th>liveness</th>\n",
       "      <th>loudness</th>\n",
       "      <th>mode</th>\n",
       "      <th>speechiness</th>\n",
       "      <th>tempo</th>\n",
       "      <th>time_signature</th>\n",
       "      <th>valence</th>\n",
       "    </tr>\n",
       "  </thead>\n",
       "  <tbody>\n",
       "    <tr>\n",
       "      <th>0</th>\n",
       "      <td>Boom Clap</td>\n",
       "      <td>SUCKER</td>\n",
       "      <td>Charli XCX</td>\n",
       "      <td>2015-02-09</td>\n",
       "      <td>169866</td>\n",
       "      <td>64</td>\n",
       "      <td>0.154000</td>\n",
       "      <td>0.659</td>\n",
       "      <td>0.911</td>\n",
       "      <td>0.000304</td>\n",
       "      <td>4</td>\n",
       "      <td>0.1910</td>\n",
       "      <td>-2.280</td>\n",
       "      <td>1</td>\n",
       "      <td>0.0786</td>\n",
       "      <td>91.999</td>\n",
       "      <td>4</td>\n",
       "      <td>0.576</td>\n",
       "    </tr>\n",
       "    <tr>\n",
       "      <th>1</th>\n",
       "      <td>Time of Our Lives</td>\n",
       "      <td>Globalization</td>\n",
       "      <td>Pitbull</td>\n",
       "      <td>2014-11-21</td>\n",
       "      <td>229360</td>\n",
       "      <td>81</td>\n",
       "      <td>0.092100</td>\n",
       "      <td>0.721</td>\n",
       "      <td>0.802</td>\n",
       "      <td>0.000000</td>\n",
       "      <td>1</td>\n",
       "      <td>0.6940</td>\n",
       "      <td>-5.797</td>\n",
       "      <td>1</td>\n",
       "      <td>0.0583</td>\n",
       "      <td>124.022</td>\n",
       "      <td>4</td>\n",
       "      <td>0.724</td>\n",
       "    </tr>\n",
       "    <tr>\n",
       "      <th>2</th>\n",
       "      <td>Pumped Up Kicks</td>\n",
       "      <td>Torches</td>\n",
       "      <td>Foster The People</td>\n",
       "      <td>2011-05-23</td>\n",
       "      <td>239600</td>\n",
       "      <td>84</td>\n",
       "      <td>0.145000</td>\n",
       "      <td>0.733</td>\n",
       "      <td>0.710</td>\n",
       "      <td>0.115000</td>\n",
       "      <td>5</td>\n",
       "      <td>0.0956</td>\n",
       "      <td>-5.849</td>\n",
       "      <td>0</td>\n",
       "      <td>0.0292</td>\n",
       "      <td>127.975</td>\n",
       "      <td>4</td>\n",
       "      <td>0.965</td>\n",
       "    </tr>\n",
       "    <tr>\n",
       "      <th>3</th>\n",
       "      <td>Titanium (feat. Sia)</td>\n",
       "      <td>Nothing but the Beat (Ultimate Edition)</td>\n",
       "      <td>David Guetta</td>\n",
       "      <td>2012-12-07</td>\n",
       "      <td>245040</td>\n",
       "      <td>79</td>\n",
       "      <td>0.067900</td>\n",
       "      <td>0.604</td>\n",
       "      <td>0.787</td>\n",
       "      <td>0.150000</td>\n",
       "      <td>0</td>\n",
       "      <td>0.1270</td>\n",
       "      <td>-3.674</td>\n",
       "      <td>0</td>\n",
       "      <td>0.1030</td>\n",
       "      <td>126.062</td>\n",
       "      <td>4</td>\n",
       "      <td>0.301</td>\n",
       "    </tr>\n",
       "    <tr>\n",
       "      <th>4</th>\n",
       "      <td>Blame (feat. John Newman)</td>\n",
       "      <td>Motion</td>\n",
       "      <td>Calvin Harris</td>\n",
       "      <td>2014-10-31</td>\n",
       "      <td>212960</td>\n",
       "      <td>76</td>\n",
       "      <td>0.028700</td>\n",
       "      <td>0.414</td>\n",
       "      <td>0.857</td>\n",
       "      <td>0.005740</td>\n",
       "      <td>0</td>\n",
       "      <td>0.3430</td>\n",
       "      <td>-4.078</td>\n",
       "      <td>0</td>\n",
       "      <td>0.0808</td>\n",
       "      <td>128.024</td>\n",
       "      <td>4</td>\n",
       "      <td>0.348</td>\n",
       "    </tr>\n",
       "    <tr>\n",
       "      <th>5</th>\n",
       "      <td>Shake It</td>\n",
       "      <td>Party Hits</td>\n",
       "      <td>Various Artists</td>\n",
       "      <td>2012-11-19</td>\n",
       "      <td>179946</td>\n",
       "      <td>45</td>\n",
       "      <td>0.002210</td>\n",
       "      <td>0.618</td>\n",
       "      <td>0.955</td>\n",
       "      <td>0.000003</td>\n",
       "      <td>4</td>\n",
       "      <td>0.4860</td>\n",
       "      <td>-3.836</td>\n",
       "      <td>1</td>\n",
       "      <td>0.0798</td>\n",
       "      <td>150.034</td>\n",
       "      <td>4</td>\n",
       "      <td>0.790</td>\n",
       "    </tr>\n",
       "    <tr>\n",
       "      <th>6</th>\n",
       "      <td>I Took A Pill In Ibiza</td>\n",
       "      <td>At Night, Alone.</td>\n",
       "      <td>Mike Posner</td>\n",
       "      <td>2016-05-06</td>\n",
       "      <td>280800</td>\n",
       "      <td>57</td>\n",
       "      <td>0.622000</td>\n",
       "      <td>0.637</td>\n",
       "      <td>0.318</td>\n",
       "      <td>0.000002</td>\n",
       "      <td>10</td>\n",
       "      <td>0.1250</td>\n",
       "      <td>-10.070</td>\n",
       "      <td>1</td>\n",
       "      <td>0.0716</td>\n",
       "      <td>74.110</td>\n",
       "      <td>4</td>\n",
       "      <td>0.383</td>\n",
       "    </tr>\n",
       "    <tr>\n",
       "      <th>7</th>\n",
       "      <td>On The Floor</td>\n",
       "      <td>Love?</td>\n",
       "      <td>Jennifer Lopez</td>\n",
       "      <td>2011-01-01</td>\n",
       "      <td>284866</td>\n",
       "      <td>76</td>\n",
       "      <td>0.105000</td>\n",
       "      <td>0.730</td>\n",
       "      <td>0.777</td>\n",
       "      <td>0.000478</td>\n",
       "      <td>3</td>\n",
       "      <td>0.0691</td>\n",
       "      <td>-5.194</td>\n",
       "      <td>0</td>\n",
       "      <td>0.0496</td>\n",
       "      <td>130.000</td>\n",
       "      <td>4</td>\n",
       "      <td>0.575</td>\n",
       "    </tr>\n",
       "    <tr>\n",
       "      <th>8</th>\n",
       "      <td>Whistle</td>\n",
       "      <td>Wild Ones</td>\n",
       "      <td>Flo Rida</td>\n",
       "      <td>2012-06-22</td>\n",
       "      <td>224653</td>\n",
       "      <td>79</td>\n",
       "      <td>0.020800</td>\n",
       "      <td>0.747</td>\n",
       "      <td>0.937</td>\n",
       "      <td>0.000000</td>\n",
       "      <td>0</td>\n",
       "      <td>0.2900</td>\n",
       "      <td>-5.746</td>\n",
       "      <td>1</td>\n",
       "      <td>0.0453</td>\n",
       "      <td>103.976</td>\n",
       "      <td>4</td>\n",
       "      <td>0.739</td>\n",
       "    </tr>\n",
       "    <tr>\n",
       "      <th>9</th>\n",
       "      <td>Dynamite</td>\n",
       "      <td>The Rokstarr Hits Collection</td>\n",
       "      <td>Taio Cruz</td>\n",
       "      <td>2010-01-01</td>\n",
       "      <td>202613</td>\n",
       "      <td>79</td>\n",
       "      <td>0.003790</td>\n",
       "      <td>0.751</td>\n",
       "      <td>0.783</td>\n",
       "      <td>0.000000</td>\n",
       "      <td>4</td>\n",
       "      <td>0.0360</td>\n",
       "      <td>-3.724</td>\n",
       "      <td>1</td>\n",
       "      <td>0.0859</td>\n",
       "      <td>119.975</td>\n",
       "      <td>4</td>\n",
       "      <td>0.816</td>\n",
       "    </tr>\n",
       "    <tr>\n",
       "      <th>10</th>\n",
       "      <td>Rude</td>\n",
       "      <td>Don't Kill the Magic</td>\n",
       "      <td>MAGIC!</td>\n",
       "      <td>2014-08-04</td>\n",
       "      <td>224840</td>\n",
       "      <td>58</td>\n",
       "      <td>0.042200</td>\n",
       "      <td>0.773</td>\n",
       "      <td>0.758</td>\n",
       "      <td>0.000000</td>\n",
       "      <td>1</td>\n",
       "      <td>0.3050</td>\n",
       "      <td>-4.993</td>\n",
       "      <td>1</td>\n",
       "      <td>0.0381</td>\n",
       "      <td>144.033</td>\n",
       "      <td>4</td>\n",
       "      <td>0.925</td>\n",
       "    </tr>\n",
       "    <tr>\n",
       "      <th>11</th>\n",
       "      <td>Counting Stars</td>\n",
       "      <td>Native</td>\n",
       "      <td>OneRepublic</td>\n",
       "      <td>2013-01-01</td>\n",
       "      <td>257266</td>\n",
       "      <td>82</td>\n",
       "      <td>0.065400</td>\n",
       "      <td>0.664</td>\n",
       "      <td>0.705</td>\n",
       "      <td>0.000000</td>\n",
       "      <td>1</td>\n",
       "      <td>0.1180</td>\n",
       "      <td>-4.972</td>\n",
       "      <td>0</td>\n",
       "      <td>0.0382</td>\n",
       "      <td>122.016</td>\n",
       "      <td>4</td>\n",
       "      <td>0.477</td>\n",
       "    </tr>\n",
       "    <tr>\n",
       "      <th>12</th>\n",
       "      <td>Burn</td>\n",
       "      <td>Halcyon Days</td>\n",
       "      <td>Ellie Goulding</td>\n",
       "      <td>2013-01-01</td>\n",
       "      <td>231211</td>\n",
       "      <td>56</td>\n",
       "      <td>0.310000</td>\n",
       "      <td>0.559</td>\n",
       "      <td>0.777</td>\n",
       "      <td>0.000000</td>\n",
       "      <td>1</td>\n",
       "      <td>0.1050</td>\n",
       "      <td>-5.031</td>\n",
       "      <td>1</td>\n",
       "      <td>0.0432</td>\n",
       "      <td>87.016</td>\n",
       "      <td>4</td>\n",
       "      <td>0.329</td>\n",
       "    </tr>\n",
       "    <tr>\n",
       "      <th>13</th>\n",
       "      <td>Safe And Sound</td>\n",
       "      <td>In A Tidal Wave Of Mystery (Deluxe Edition)</td>\n",
       "      <td>Capital Cities</td>\n",
       "      <td>2013</td>\n",
       "      <td>192789</td>\n",
       "      <td>81</td>\n",
       "      <td>0.000176</td>\n",
       "      <td>0.655</td>\n",
       "      <td>0.819</td>\n",
       "      <td>0.003740</td>\n",
       "      <td>0</td>\n",
       "      <td>0.1040</td>\n",
       "      <td>-4.852</td>\n",
       "      <td>1</td>\n",
       "      <td>0.0316</td>\n",
       "      <td>117.956</td>\n",
       "      <td>5</td>\n",
       "      <td>0.766</td>\n",
       "    </tr>\n",
       "    <tr>\n",
       "      <th>14</th>\n",
       "      <td>Story of My Life</td>\n",
       "      <td>Midnight Memories (Deluxe)</td>\n",
       "      <td>One Direction</td>\n",
       "      <td>2013-11-25</td>\n",
       "      <td>245493</td>\n",
       "      <td>82</td>\n",
       "      <td>0.225000</td>\n",
       "      <td>0.600</td>\n",
       "      <td>0.663</td>\n",
       "      <td>0.000000</td>\n",
       "      <td>3</td>\n",
       "      <td>0.1190</td>\n",
       "      <td>-5.802</td>\n",
       "      <td>1</td>\n",
       "      <td>0.0477</td>\n",
       "      <td>121.070</td>\n",
       "      <td>4</td>\n",
       "      <td>0.286</td>\n",
       "    </tr>\n",
       "    <tr>\n",
       "      <th>15</th>\n",
       "      <td>Pompeii</td>\n",
       "      <td>All This Bad Blood</td>\n",
       "      <td>Bastille</td>\n",
       "      <td>2013-01-01</td>\n",
       "      <td>214147</td>\n",
       "      <td>74</td>\n",
       "      <td>0.075500</td>\n",
       "      <td>0.679</td>\n",
       "      <td>0.715</td>\n",
       "      <td>0.000000</td>\n",
       "      <td>9</td>\n",
       "      <td>0.2710</td>\n",
       "      <td>-6.383</td>\n",
       "      <td>1</td>\n",
       "      <td>0.0407</td>\n",
       "      <td>127.435</td>\n",
       "      <td>4</td>\n",
       "      <td>0.571</td>\n",
       "    </tr>\n",
       "    <tr>\n",
       "      <th>16</th>\n",
       "      <td>Best Song Ever</td>\n",
       "      <td>Midnight Memories (Deluxe)</td>\n",
       "      <td>One Direction</td>\n",
       "      <td>2013-11-25</td>\n",
       "      <td>200106</td>\n",
       "      <td>77</td>\n",
       "      <td>0.022700</td>\n",
       "      <td>0.652</td>\n",
       "      <td>0.877</td>\n",
       "      <td>0.000000</td>\n",
       "      <td>1</td>\n",
       "      <td>0.0789</td>\n",
       "      <td>-2.986</td>\n",
       "      <td>1</td>\n",
       "      <td>0.0465</td>\n",
       "      <td>118.491</td>\n",
       "      <td>4</td>\n",
       "      <td>0.486</td>\n",
       "    </tr>\n",
       "    <tr>\n",
       "      <th>17</th>\n",
       "      <td>Rather Be (feat. Jess Glynne)</td>\n",
       "      <td>New Eyes</td>\n",
       "      <td>Clean Bandit</td>\n",
       "      <td>2014-05-27</td>\n",
       "      <td>227833</td>\n",
       "      <td>61</td>\n",
       "      <td>0.162000</td>\n",
       "      <td>0.799</td>\n",
       "      <td>0.586</td>\n",
       "      <td>0.000002</td>\n",
       "      <td>11</td>\n",
       "      <td>0.1930</td>\n",
       "      <td>-6.735</td>\n",
       "      <td>1</td>\n",
       "      <td>0.0377</td>\n",
       "      <td>120.970</td>\n",
       "      <td>4</td>\n",
       "      <td>0.549</td>\n",
       "    </tr>\n",
       "    <tr>\n",
       "      <th>18</th>\n",
       "      <td>Get Lucky (feat. Pharrell Williams &amp; Nile Rodg...</td>\n",
       "      <td>Get Lucky (feat. Pharrell Williams &amp; Nile Rodg...</td>\n",
       "      <td>Daft Punk</td>\n",
       "      <td>2013-04-19</td>\n",
       "      <td>248413</td>\n",
       "      <td>79</td>\n",
       "      <td>0.042600</td>\n",
       "      <td>0.794</td>\n",
       "      <td>0.811</td>\n",
       "      <td>0.000001</td>\n",
       "      <td>6</td>\n",
       "      <td>0.1010</td>\n",
       "      <td>-8.966</td>\n",
       "      <td>0</td>\n",
       "      <td>0.0380</td>\n",
       "      <td>116.047</td>\n",
       "      <td>4</td>\n",
       "      <td>0.862</td>\n",
       "    </tr>\n",
       "    <tr>\n",
       "      <th>19</th>\n",
       "      <td>Best Day Of My Life</td>\n",
       "      <td>Oh, What A Life</td>\n",
       "      <td>American Authors</td>\n",
       "      <td>2014-01-01</td>\n",
       "      <td>194240</td>\n",
       "      <td>79</td>\n",
       "      <td>0.059100</td>\n",
       "      <td>0.673</td>\n",
       "      <td>0.902</td>\n",
       "      <td>0.000262</td>\n",
       "      <td>2</td>\n",
       "      <td>0.0558</td>\n",
       "      <td>-2.392</td>\n",
       "      <td>1</td>\n",
       "      <td>0.0346</td>\n",
       "      <td>100.012</td>\n",
       "      <td>4</td>\n",
       "      <td>0.538</td>\n",
       "    </tr>\n",
       "    <tr>\n",
       "      <th>20</th>\n",
       "      <td>Hot N Cold</td>\n",
       "      <td>One Of The Boys</td>\n",
       "      <td>Katy Perry</td>\n",
       "      <td>2008-06-17</td>\n",
       "      <td>220226</td>\n",
       "      <td>72</td>\n",
       "      <td>0.000079</td>\n",
       "      <td>0.706</td>\n",
       "      <td>0.841</td>\n",
       "      <td>0.000000</td>\n",
       "      <td>7</td>\n",
       "      <td>0.0688</td>\n",
       "      <td>-3.956</td>\n",
       "      <td>1</td>\n",
       "      <td>0.0418</td>\n",
       "      <td>132.032</td>\n",
       "      <td>4</td>\n",
       "      <td>0.861</td>\n",
       "    </tr>\n",
       "    <tr>\n",
       "      <th>21</th>\n",
       "      <td>Call Me Maybe</td>\n",
       "      <td>Kiss</td>\n",
       "      <td>Carly Rae Jepsen</td>\n",
       "      <td>2012-01-01</td>\n",
       "      <td>193400</td>\n",
       "      <td>79</td>\n",
       "      <td>0.011400</td>\n",
       "      <td>0.783</td>\n",
       "      <td>0.580</td>\n",
       "      <td>0.000002</td>\n",
       "      <td>7</td>\n",
       "      <td>0.1080</td>\n",
       "      <td>-6.548</td>\n",
       "      <td>1</td>\n",
       "      <td>0.0408</td>\n",
       "      <td>120.021</td>\n",
       "      <td>4</td>\n",
       "      <td>0.660</td>\n",
       "    </tr>\n",
       "    <tr>\n",
       "      <th>22</th>\n",
       "      <td>We R Who We R</td>\n",
       "      <td>Cannibal (Expanded Edition)</td>\n",
       "      <td>Kesha</td>\n",
       "      <td>2010-11-19</td>\n",
       "      <td>204760</td>\n",
       "      <td>73</td>\n",
       "      <td>0.009870</td>\n",
       "      <td>0.736</td>\n",
       "      <td>0.817</td>\n",
       "      <td>0.001670</td>\n",
       "      <td>8</td>\n",
       "      <td>0.1170</td>\n",
       "      <td>-4.900</td>\n",
       "      <td>1</td>\n",
       "      <td>0.0407</td>\n",
       "      <td>119.950</td>\n",
       "      <td>4</td>\n",
       "      <td>0.653</td>\n",
       "    </tr>\n",
       "    <tr>\n",
       "      <th>23</th>\n",
       "      <td>Stereo Hearts (feat. Adam Levine)</td>\n",
       "      <td>The Papercut Chronicles II</td>\n",
       "      <td>Gym Class Heroes</td>\n",
       "      <td>2011-11-11</td>\n",
       "      <td>210960</td>\n",
       "      <td>83</td>\n",
       "      <td>0.031900</td>\n",
       "      <td>0.646</td>\n",
       "      <td>0.795</td>\n",
       "      <td>0.000000</td>\n",
       "      <td>9</td>\n",
       "      <td>0.2670</td>\n",
       "      <td>-3.293</td>\n",
       "      <td>1</td>\n",
       "      <td>0.0976</td>\n",
       "      <td>89.990</td>\n",
       "      <td>4</td>\n",
       "      <td>0.796</td>\n",
       "    </tr>\n",
       "    <tr>\n",
       "      <th>24</th>\n",
       "      <td>Applause</td>\n",
       "      <td>ARTPOP</td>\n",
       "      <td>Lady Gaga</td>\n",
       "      <td>2013-11-11</td>\n",
       "      <td>212333</td>\n",
       "      <td>72</td>\n",
       "      <td>0.026500</td>\n",
       "      <td>0.669</td>\n",
       "      <td>0.780</td>\n",
       "      <td>0.000002</td>\n",
       "      <td>7</td>\n",
       "      <td>0.1430</td>\n",
       "      <td>-4.287</td>\n",
       "      <td>0</td>\n",
       "      <td>0.0530</td>\n",
       "      <td>139.945</td>\n",
       "      <td>4</td>\n",
       "      <td>0.738</td>\n",
       "    </tr>\n",
       "    <tr>\n",
       "      <th>25</th>\n",
       "      <td>Rather Be (feat. Jess Glynne)</td>\n",
       "      <td>New Eyes</td>\n",
       "      <td>Clean Bandit</td>\n",
       "      <td>2014-06-02</td>\n",
       "      <td>227833</td>\n",
       "      <td>52</td>\n",
       "      <td>0.162000</td>\n",
       "      <td>0.799</td>\n",
       "      <td>0.586</td>\n",
       "      <td>0.000002</td>\n",
       "      <td>11</td>\n",
       "      <td>0.1930</td>\n",
       "      <td>-6.735</td>\n",
       "      <td>1</td>\n",
       "      <td>0.0377</td>\n",
       "      <td>120.970</td>\n",
       "      <td>4</td>\n",
       "      <td>0.549</td>\n",
       "    </tr>\n",
       "    <tr>\n",
       "      <th>26</th>\n",
       "      <td>Fancy</td>\n",
       "      <td>The New Classic (Deluxe Version)</td>\n",
       "      <td>Iggy Azalea</td>\n",
       "      <td>2014-01-01</td>\n",
       "      <td>199938</td>\n",
       "      <td>69</td>\n",
       "      <td>0.090400</td>\n",
       "      <td>0.912</td>\n",
       "      <td>0.716</td>\n",
       "      <td>0.000000</td>\n",
       "      <td>10</td>\n",
       "      <td>0.0491</td>\n",
       "      <td>-4.141</td>\n",
       "      <td>0</td>\n",
       "      <td>0.0697</td>\n",
       "      <td>94.981</td>\n",
       "      <td>4</td>\n",
       "      <td>0.377</td>\n",
       "    </tr>\n",
       "    <tr>\n",
       "      <th>27</th>\n",
       "      <td>Summer</td>\n",
       "      <td>Motion</td>\n",
       "      <td>Calvin Harris</td>\n",
       "      <td>2014-10-31</td>\n",
       "      <td>222533</td>\n",
       "      <td>83</td>\n",
       "      <td>0.021100</td>\n",
       "      <td>0.596</td>\n",
       "      <td>0.856</td>\n",
       "      <td>0.017800</td>\n",
       "      <td>4</td>\n",
       "      <td>0.1410</td>\n",
       "      <td>-3.556</td>\n",
       "      <td>0</td>\n",
       "      <td>0.0346</td>\n",
       "      <td>127.949</td>\n",
       "      <td>4</td>\n",
       "      <td>0.743</td>\n",
       "    </tr>\n",
       "    <tr>\n",
       "      <th>28</th>\n",
       "      <td>Happy - From \"Despicable Me 2\"</td>\n",
       "      <td>G I R L</td>\n",
       "      <td>Pharrell Williams</td>\n",
       "      <td>2014-03-03</td>\n",
       "      <td>232720</td>\n",
       "      <td>80</td>\n",
       "      <td>0.219000</td>\n",
       "      <td>0.647</td>\n",
       "      <td>0.822</td>\n",
       "      <td>0.000000</td>\n",
       "      <td>5</td>\n",
       "      <td>0.0908</td>\n",
       "      <td>-4.662</td>\n",
       "      <td>0</td>\n",
       "      <td>0.1830</td>\n",
       "      <td>160.019</td>\n",
       "      <td>4</td>\n",
       "      <td>0.962</td>\n",
       "    </tr>\n",
       "    <tr>\n",
       "      <th>29</th>\n",
       "      <td>Lush Life</td>\n",
       "      <td>So Good</td>\n",
       "      <td>Zara Larsson</td>\n",
       "      <td>2017-03-17</td>\n",
       "      <td>201122</td>\n",
       "      <td>78</td>\n",
       "      <td>0.132000</td>\n",
       "      <td>0.694</td>\n",
       "      <td>0.712</td>\n",
       "      <td>0.000000</td>\n",
       "      <td>7</td>\n",
       "      <td>0.2110</td>\n",
       "      <td>-3.923</td>\n",
       "      <td>0</td>\n",
       "      <td>0.0460</td>\n",
       "      <td>98.023</td>\n",
       "      <td>4</td>\n",
       "      <td>0.799</td>\n",
       "    </tr>\n",
       "    <tr>\n",
       "      <th>30</th>\n",
       "      <td>King</td>\n",
       "      <td>Communion (Deluxe)</td>\n",
       "      <td>Years &amp; Years</td>\n",
       "      <td>2015-07-10</td>\n",
       "      <td>215360</td>\n",
       "      <td>70</td>\n",
       "      <td>0.059400</td>\n",
       "      <td>0.560</td>\n",
       "      <td>0.857</td>\n",
       "      <td>0.000000</td>\n",
       "      <td>4</td>\n",
       "      <td>0.3810</td>\n",
       "      <td>-4.145</td>\n",
       "      <td>0</td>\n",
       "      <td>0.0384</td>\n",
       "      <td>119.975</td>\n",
       "      <td>4</td>\n",
       "      <td>0.432</td>\n",
       "    </tr>\n",
       "    <tr>\n",
       "      <th>31</th>\n",
       "      <td>Maps</td>\n",
       "      <td>V</td>\n",
       "      <td>Maroon 5</td>\n",
       "      <td>2014-09-02</td>\n",
       "      <td>189960</td>\n",
       "      <td>80</td>\n",
       "      <td>0.020500</td>\n",
       "      <td>0.742</td>\n",
       "      <td>0.713</td>\n",
       "      <td>0.000000</td>\n",
       "      <td>1</td>\n",
       "      <td>0.0590</td>\n",
       "      <td>-5.522</td>\n",
       "      <td>0</td>\n",
       "      <td>0.0303</td>\n",
       "      <td>120.032</td>\n",
       "      <td>4</td>\n",
       "      <td>0.879</td>\n",
       "    </tr>\n",
       "    <tr>\n",
       "      <th>32</th>\n",
       "      <td>Timber (feat. Ke$ha)</td>\n",
       "      <td>Global Warming: Meltdown (Deluxe Version)</td>\n",
       "      <td>Pitbull</td>\n",
       "      <td>2012</td>\n",
       "      <td>204160</td>\n",
       "      <td>81</td>\n",
       "      <td>0.029500</td>\n",
       "      <td>0.581</td>\n",
       "      <td>0.963</td>\n",
       "      <td>0.000000</td>\n",
       "      <td>11</td>\n",
       "      <td>0.1390</td>\n",
       "      <td>-4.087</td>\n",
       "      <td>1</td>\n",
       "      <td>0.0981</td>\n",
       "      <td>129.992</td>\n",
       "      <td>4</td>\n",
       "      <td>0.788</td>\n",
       "    </tr>\n",
       "    <tr>\n",
       "      <th>33</th>\n",
       "      <td>Dark Horse</td>\n",
       "      <td>PRISM</td>\n",
       "      <td>Katy Perry</td>\n",
       "      <td>2013-01-01</td>\n",
       "      <td>215672</td>\n",
       "      <td>73</td>\n",
       "      <td>0.003140</td>\n",
       "      <td>0.647</td>\n",
       "      <td>0.585</td>\n",
       "      <td>0.000000</td>\n",
       "      <td>6</td>\n",
       "      <td>0.1650</td>\n",
       "      <td>-6.123</td>\n",
       "      <td>1</td>\n",
       "      <td>0.0512</td>\n",
       "      <td>131.934</td>\n",
       "      <td>4</td>\n",
       "      <td>0.353</td>\n",
       "    </tr>\n",
       "    <tr>\n",
       "      <th>34</th>\n",
       "      <td>Animals</td>\n",
       "      <td>V</td>\n",
       "      <td>Maroon 5</td>\n",
       "      <td>2014-09-02</td>\n",
       "      <td>231013</td>\n",
       "      <td>80</td>\n",
       "      <td>0.000185</td>\n",
       "      <td>0.279</td>\n",
       "      <td>0.742</td>\n",
       "      <td>0.000000</td>\n",
       "      <td>4</td>\n",
       "      <td>0.5930</td>\n",
       "      <td>-6.460</td>\n",
       "      <td>0</td>\n",
       "      <td>0.0898</td>\n",
       "      <td>189.868</td>\n",
       "      <td>4</td>\n",
       "      <td>0.328</td>\n",
       "    </tr>\n",
       "    <tr>\n",
       "      <th>35</th>\n",
       "      <td>Empire State Of Mind</td>\n",
       "      <td>The Blueprint 3</td>\n",
       "      <td>JAY-Z</td>\n",
       "      <td>2009-09-08</td>\n",
       "      <td>276920</td>\n",
       "      <td>80</td>\n",
       "      <td>0.029500</td>\n",
       "      <td>0.491</td>\n",
       "      <td>0.956</td>\n",
       "      <td>0.000000</td>\n",
       "      <td>11</td>\n",
       "      <td>0.4600</td>\n",
       "      <td>-1.538</td>\n",
       "      <td>1</td>\n",
       "      <td>0.3920</td>\n",
       "      <td>173.585</td>\n",
       "      <td>4</td>\n",
       "      <td>0.811</td>\n",
       "    </tr>\n",
       "    <tr>\n",
       "      <th>36</th>\n",
       "      <td>In My Head</td>\n",
       "      <td>Jason Derulo (International)</td>\n",
       "      <td>Jason Derulo</td>\n",
       "      <td>2010-02-26</td>\n",
       "      <td>199026</td>\n",
       "      <td>68</td>\n",
       "      <td>0.026600</td>\n",
       "      <td>0.762</td>\n",
       "      <td>0.748</td>\n",
       "      <td>0.000000</td>\n",
       "      <td>0</td>\n",
       "      <td>0.3480</td>\n",
       "      <td>-4.150</td>\n",
       "      <td>0</td>\n",
       "      <td>0.0330</td>\n",
       "      <td>110.009</td>\n",
       "      <td>4</td>\n",
       "      <td>0.851</td>\n",
       "    </tr>\n",
       "    <tr>\n",
       "      <th>37</th>\n",
       "      <td>Hello</td>\n",
       "      <td>25</td>\n",
       "      <td>Adele</td>\n",
       "      <td>2015-11-20</td>\n",
       "      <td>295502</td>\n",
       "      <td>14</td>\n",
       "      <td>0.329000</td>\n",
       "      <td>0.470</td>\n",
       "      <td>0.431</td>\n",
       "      <td>0.000000</td>\n",
       "      <td>5</td>\n",
       "      <td>0.0854</td>\n",
       "      <td>-6.129</td>\n",
       "      <td>0</td>\n",
       "      <td>0.0342</td>\n",
       "      <td>157.980</td>\n",
       "      <td>4</td>\n",
       "      <td>0.289</td>\n",
       "    </tr>\n",
       "    <tr>\n",
       "      <th>38</th>\n",
       "      <td>Wiggle (feat. Snoop Dogg)</td>\n",
       "      <td>Tattoos (Deluxe Edition)</td>\n",
       "      <td>Jason Derulo</td>\n",
       "      <td>2013-09-10</td>\n",
       "      <td>193295</td>\n",
       "      <td>67</td>\n",
       "      <td>0.080200</td>\n",
       "      <td>0.697</td>\n",
       "      <td>0.621</td>\n",
       "      <td>0.000000</td>\n",
       "      <td>9</td>\n",
       "      <td>0.1620</td>\n",
       "      <td>-6.886</td>\n",
       "      <td>0</td>\n",
       "      <td>0.2500</td>\n",
       "      <td>81.946</td>\n",
       "      <td>4</td>\n",
       "      <td>0.721</td>\n",
       "    </tr>\n",
       "  </tbody>\n",
       "</table>\n",
       "</div>"
      ],
      "text/plain": [
       "                                                 name  \\\n",
       "0                                           Boom Clap   \n",
       "1                                   Time of Our Lives   \n",
       "2                                     Pumped Up Kicks   \n",
       "3                                Titanium (feat. Sia)   \n",
       "4                           Blame (feat. John Newman)   \n",
       "5                                            Shake It   \n",
       "6                              I Took A Pill In Ibiza   \n",
       "7                                        On The Floor   \n",
       "8                                             Whistle   \n",
       "9                                            Dynamite   \n",
       "10                                               Rude   \n",
       "11                                     Counting Stars   \n",
       "12                                               Burn   \n",
       "13                                     Safe And Sound   \n",
       "14                                   Story of My Life   \n",
       "15                                            Pompeii   \n",
       "16                                     Best Song Ever   \n",
       "17                      Rather Be (feat. Jess Glynne)   \n",
       "18  Get Lucky (feat. Pharrell Williams & Nile Rodg...   \n",
       "19                                Best Day Of My Life   \n",
       "20                                         Hot N Cold   \n",
       "21                                      Call Me Maybe   \n",
       "22                                      We R Who We R   \n",
       "23                  Stereo Hearts (feat. Adam Levine)   \n",
       "24                                           Applause   \n",
       "25                      Rather Be (feat. Jess Glynne)   \n",
       "26                                              Fancy   \n",
       "27                                             Summer   \n",
       "28                     Happy - From \"Despicable Me 2\"   \n",
       "29                                          Lush Life   \n",
       "30                                               King   \n",
       "31                                               Maps   \n",
       "32                               Timber (feat. Ke$ha)   \n",
       "33                                         Dark Horse   \n",
       "34                                            Animals   \n",
       "35                               Empire State Of Mind   \n",
       "36                                         In My Head   \n",
       "37                                              Hello   \n",
       "38                          Wiggle (feat. Snoop Dogg)   \n",
       "\n",
       "                                                album             artist  \\\n",
       "0                                              SUCKER         Charli XCX   \n",
       "1                                       Globalization            Pitbull   \n",
       "2                                             Torches  Foster The People   \n",
       "3             Nothing but the Beat (Ultimate Edition)       David Guetta   \n",
       "4                                              Motion      Calvin Harris   \n",
       "5                                          Party Hits    Various Artists   \n",
       "6                                    At Night, Alone.        Mike Posner   \n",
       "7                                               Love?     Jennifer Lopez   \n",
       "8                                           Wild Ones           Flo Rida   \n",
       "9                        The Rokstarr Hits Collection          Taio Cruz   \n",
       "10                               Don't Kill the Magic             MAGIC!   \n",
       "11                                             Native        OneRepublic   \n",
       "12                                       Halcyon Days     Ellie Goulding   \n",
       "13        In A Tidal Wave Of Mystery (Deluxe Edition)     Capital Cities   \n",
       "14                         Midnight Memories (Deluxe)      One Direction   \n",
       "15                                 All This Bad Blood           Bastille   \n",
       "16                         Midnight Memories (Deluxe)      One Direction   \n",
       "17                                           New Eyes       Clean Bandit   \n",
       "18  Get Lucky (feat. Pharrell Williams & Nile Rodg...          Daft Punk   \n",
       "19                                    Oh, What A Life   American Authors   \n",
       "20                                    One Of The Boys         Katy Perry   \n",
       "21                                               Kiss   Carly Rae Jepsen   \n",
       "22                        Cannibal (Expanded Edition)              Kesha   \n",
       "23                         The Papercut Chronicles II   Gym Class Heroes   \n",
       "24                                             ARTPOP          Lady Gaga   \n",
       "25                                           New Eyes       Clean Bandit   \n",
       "26                   The New Classic (Deluxe Version)        Iggy Azalea   \n",
       "27                                             Motion      Calvin Harris   \n",
       "28                                            G I R L  Pharrell Williams   \n",
       "29                                            So Good       Zara Larsson   \n",
       "30                                 Communion (Deluxe)      Years & Years   \n",
       "31                                                  V           Maroon 5   \n",
       "32          Global Warming: Meltdown (Deluxe Version)            Pitbull   \n",
       "33                                              PRISM         Katy Perry   \n",
       "34                                                  V           Maroon 5   \n",
       "35                                    The Blueprint 3              JAY-Z   \n",
       "36                       Jason Derulo (International)       Jason Derulo   \n",
       "37                                                 25              Adele   \n",
       "38                           Tattoos (Deluxe Edition)       Jason Derulo   \n",
       "\n",
       "   release_date  length  popularity  acousticness  danceability  energy  \\\n",
       "0    2015-02-09  169866          64      0.154000         0.659   0.911   \n",
       "1    2014-11-21  229360          81      0.092100         0.721   0.802   \n",
       "2    2011-05-23  239600          84      0.145000         0.733   0.710   \n",
       "3    2012-12-07  245040          79      0.067900         0.604   0.787   \n",
       "4    2014-10-31  212960          76      0.028700         0.414   0.857   \n",
       "5    2012-11-19  179946          45      0.002210         0.618   0.955   \n",
       "6    2016-05-06  280800          57      0.622000         0.637   0.318   \n",
       "7    2011-01-01  284866          76      0.105000         0.730   0.777   \n",
       "8    2012-06-22  224653          79      0.020800         0.747   0.937   \n",
       "9    2010-01-01  202613          79      0.003790         0.751   0.783   \n",
       "10   2014-08-04  224840          58      0.042200         0.773   0.758   \n",
       "11   2013-01-01  257266          82      0.065400         0.664   0.705   \n",
       "12   2013-01-01  231211          56      0.310000         0.559   0.777   \n",
       "13         2013  192789          81      0.000176         0.655   0.819   \n",
       "14   2013-11-25  245493          82      0.225000         0.600   0.663   \n",
       "15   2013-01-01  214147          74      0.075500         0.679   0.715   \n",
       "16   2013-11-25  200106          77      0.022700         0.652   0.877   \n",
       "17   2014-05-27  227833          61      0.162000         0.799   0.586   \n",
       "18   2013-04-19  248413          79      0.042600         0.794   0.811   \n",
       "19   2014-01-01  194240          79      0.059100         0.673   0.902   \n",
       "20   2008-06-17  220226          72      0.000079         0.706   0.841   \n",
       "21   2012-01-01  193400          79      0.011400         0.783   0.580   \n",
       "22   2010-11-19  204760          73      0.009870         0.736   0.817   \n",
       "23   2011-11-11  210960          83      0.031900         0.646   0.795   \n",
       "24   2013-11-11  212333          72      0.026500         0.669   0.780   \n",
       "25   2014-06-02  227833          52      0.162000         0.799   0.586   \n",
       "26   2014-01-01  199938          69      0.090400         0.912   0.716   \n",
       "27   2014-10-31  222533          83      0.021100         0.596   0.856   \n",
       "28   2014-03-03  232720          80      0.219000         0.647   0.822   \n",
       "29   2017-03-17  201122          78      0.132000         0.694   0.712   \n",
       "30   2015-07-10  215360          70      0.059400         0.560   0.857   \n",
       "31   2014-09-02  189960          80      0.020500         0.742   0.713   \n",
       "32         2012  204160          81      0.029500         0.581   0.963   \n",
       "33   2013-01-01  215672          73      0.003140         0.647   0.585   \n",
       "34   2014-09-02  231013          80      0.000185         0.279   0.742   \n",
       "35   2009-09-08  276920          80      0.029500         0.491   0.956   \n",
       "36   2010-02-26  199026          68      0.026600         0.762   0.748   \n",
       "37   2015-11-20  295502          14      0.329000         0.470   0.431   \n",
       "38   2013-09-10  193295          67      0.080200         0.697   0.621   \n",
       "\n",
       "    instrumentalness  key  liveness  loudness  mode  speechiness    tempo  \\\n",
       "0           0.000304    4    0.1910    -2.280     1       0.0786   91.999   \n",
       "1           0.000000    1    0.6940    -5.797     1       0.0583  124.022   \n",
       "2           0.115000    5    0.0956    -5.849     0       0.0292  127.975   \n",
       "3           0.150000    0    0.1270    -3.674     0       0.1030  126.062   \n",
       "4           0.005740    0    0.3430    -4.078     0       0.0808  128.024   \n",
       "5           0.000003    4    0.4860    -3.836     1       0.0798  150.034   \n",
       "6           0.000002   10    0.1250   -10.070     1       0.0716   74.110   \n",
       "7           0.000478    3    0.0691    -5.194     0       0.0496  130.000   \n",
       "8           0.000000    0    0.2900    -5.746     1       0.0453  103.976   \n",
       "9           0.000000    4    0.0360    -3.724     1       0.0859  119.975   \n",
       "10          0.000000    1    0.3050    -4.993     1       0.0381  144.033   \n",
       "11          0.000000    1    0.1180    -4.972     0       0.0382  122.016   \n",
       "12          0.000000    1    0.1050    -5.031     1       0.0432   87.016   \n",
       "13          0.003740    0    0.1040    -4.852     1       0.0316  117.956   \n",
       "14          0.000000    3    0.1190    -5.802     1       0.0477  121.070   \n",
       "15          0.000000    9    0.2710    -6.383     1       0.0407  127.435   \n",
       "16          0.000000    1    0.0789    -2.986     1       0.0465  118.491   \n",
       "17          0.000002   11    0.1930    -6.735     1       0.0377  120.970   \n",
       "18          0.000001    6    0.1010    -8.966     0       0.0380  116.047   \n",
       "19          0.000262    2    0.0558    -2.392     1       0.0346  100.012   \n",
       "20          0.000000    7    0.0688    -3.956     1       0.0418  132.032   \n",
       "21          0.000002    7    0.1080    -6.548     1       0.0408  120.021   \n",
       "22          0.001670    8    0.1170    -4.900     1       0.0407  119.950   \n",
       "23          0.000000    9    0.2670    -3.293     1       0.0976   89.990   \n",
       "24          0.000002    7    0.1430    -4.287     0       0.0530  139.945   \n",
       "25          0.000002   11    0.1930    -6.735     1       0.0377  120.970   \n",
       "26          0.000000   10    0.0491    -4.141     0       0.0697   94.981   \n",
       "27          0.017800    4    0.1410    -3.556     0       0.0346  127.949   \n",
       "28          0.000000    5    0.0908    -4.662     0       0.1830  160.019   \n",
       "29          0.000000    7    0.2110    -3.923     0       0.0460   98.023   \n",
       "30          0.000000    4    0.3810    -4.145     0       0.0384  119.975   \n",
       "31          0.000000    1    0.0590    -5.522     0       0.0303  120.032   \n",
       "32          0.000000   11    0.1390    -4.087     1       0.0981  129.992   \n",
       "33          0.000000    6    0.1650    -6.123     1       0.0512  131.934   \n",
       "34          0.000000    4    0.5930    -6.460     0       0.0898  189.868   \n",
       "35          0.000000   11    0.4600    -1.538     1       0.3920  173.585   \n",
       "36          0.000000    0    0.3480    -4.150     0       0.0330  110.009   \n",
       "37          0.000000    5    0.0854    -6.129     0       0.0342  157.980   \n",
       "38          0.000000    9    0.1620    -6.886     0       0.2500   81.946   \n",
       "\n",
       "    time_signature  valence  \n",
       "0                4    0.576  \n",
       "1                4    0.724  \n",
       "2                4    0.965  \n",
       "3                4    0.301  \n",
       "4                4    0.348  \n",
       "5                4    0.790  \n",
       "6                4    0.383  \n",
       "7                4    0.575  \n",
       "8                4    0.739  \n",
       "9                4    0.816  \n",
       "10               4    0.925  \n",
       "11               4    0.477  \n",
       "12               4    0.329  \n",
       "13               5    0.766  \n",
       "14               4    0.286  \n",
       "15               4    0.571  \n",
       "16               4    0.486  \n",
       "17               4    0.549  \n",
       "18               4    0.862  \n",
       "19               4    0.538  \n",
       "20               4    0.861  \n",
       "21               4    0.660  \n",
       "22               4    0.653  \n",
       "23               4    0.796  \n",
       "24               4    0.738  \n",
       "25               4    0.549  \n",
       "26               4    0.377  \n",
       "27               4    0.743  \n",
       "28               4    0.962  \n",
       "29               4    0.799  \n",
       "30               4    0.432  \n",
       "31               4    0.879  \n",
       "32               4    0.788  \n",
       "33               4    0.353  \n",
       "34               4    0.328  \n",
       "35               4    0.811  \n",
       "36               4    0.851  \n",
       "37               4    0.289  \n",
       "38               4    0.721  "
      ]
     },
     "execution_count": 15,
     "metadata": {},
     "output_type": "execute_result"
    }
   ],
   "source": [
    "playlistId = \"4pUzBoCxZzig6QncK4fcxD\"\n",
    "playlist = pd.read_csv('df_example_01.csv')\n",
    "playlist"
   ]
  },
  {
   "cell_type": "code",
   "execution_count": 16,
   "id": "2ce5a342",
   "metadata": {},
   "outputs": [],
   "source": [
    "def create_work():\n",
    "    feat = ['acousticness', 'danceability', 'energy', 'instrumentalness', 'key', 'liveness', 'loudness', 'mode', 'speechiness', 'tempo', 'valence', 'popularity']\n",
    "    name = ['Acoustique', 'Dansabilité', 'Energie', 'Insturmentalité', 'Tonalité', 'Live', 'Puissance acoustique', 'Mode', 'Parler', 'Tempo', 'Jovialité', 'Popularité']\n",
    "    desc = [\"Décrit dans quelle proportion la piste est produite par des instruments acoustiques. 0 = électro | 1 = Vivaldi\", \"Décrit à quel point il est possible de danser sur la piste. 0 = émission radio | 1 = musique de boîte\", \"Décrit dans quelle mesure la piste est intense, active. 0 = prélude de Bach | 1 = death metal\", \"Décrit dans quelle proportion on entend des voix (paroles de chant, parlées) dans la piste. 0 = rap pur | 1 = pièce pour piano\", \"Donne la tonalité principale de la piste. 0 = Do, 1 = Do#, 2 = Ré, etc.\", \"Décrit si un public est présent. 0 = piste enregistré en studio | 1 = public qui chante avec l'artiste en concert\", \"Décrit à quel point la piste rend un son fort. -60 dB = ASMR | 0 dB = hard metal\", \"Donne le mode (majeur/mineur) de la piste. 0 = mineur ; 1 = majeur\", \"Décrit dans quelle mesure la piste contient des paroles parlées. 0 = musique pure | 1 = podcast\", \"Donne le tempo de la piste en battementss par minute (BPM).\", \"Décrit la positivité communiquée par la piste. 0 = Sound of Silence | 1 = Happy\", \"Décrit l'étendue du public que la piste, et comment elle y est appréciée\"]\n",
    "    inte = [[0, 0.25, 0.5, 0.75, 1], [0, 0.33, 0.66, 1], [0, 0.33, 0.66, 1], [0, 0.5, 0.75, 1], None, [0, 0.5, 0.8, 1], None, None, [0, 0.33, 0.66, 1], None, [0, 0.25, 0.5, 0.75, 1], [0, 33, 66, 100]]\n",
    "    tags = [['Synthétique', 'Plutôt synthétique', 'Plutôt acoustique', 'Acoustique'], ['Calme', 'De quoi battre le rythme', 'Très dansant'], ['Doux', 'Moyen', 'Energique'], ['Majorité de paroles', 'Majorité instrumentale', 'Instrumental pur'], None, ['Enregistrement studio', \"Présence d'un petit public\", 'Live'], None, None, ['Musical', 'Mélange discours et musique', 'Discours pur'], None, ['Très sombre', 'Plutôt sombre', 'Plutôt léger', 'Joyeux'], ['Peu connu', 'Relativement connu', 'Populaire']]\n",
    "    anly = [True, True, True, True, False, True, False, False, True, False, True, True]\n",
    "    dict  = {'audio-features':feat, 'name':name, 'description':desc, 'intervals':inte, 'tags':tags, 'to analyse':anly}\n",
    "    audio_feat = pd.DataFrame(dict).set_index('audio-features')\n",
    "    return audio_feat"
   ]
  },
  {
   "cell_type": "code",
   "execution_count": 17,
   "id": "f06e855c",
   "metadata": {
    "scrolled": false
   },
   "outputs": [
    {
     "data": {
      "text/html": [
       "<div>\n",
       "<style scoped>\n",
       "    .dataframe tbody tr th:only-of-type {\n",
       "        vertical-align: middle;\n",
       "    }\n",
       "\n",
       "    .dataframe tbody tr th {\n",
       "        vertical-align: top;\n",
       "    }\n",
       "\n",
       "    .dataframe thead th {\n",
       "        text-align: right;\n",
       "    }\n",
       "</style>\n",
       "<table border=\"1\" class=\"dataframe\">\n",
       "  <thead>\n",
       "    <tr style=\"text-align: right;\">\n",
       "      <th></th>\n",
       "      <th>name</th>\n",
       "      <th>description</th>\n",
       "      <th>intervals</th>\n",
       "      <th>tags</th>\n",
       "      <th>to analyse</th>\n",
       "    </tr>\n",
       "    <tr>\n",
       "      <th>audio-features</th>\n",
       "      <th></th>\n",
       "      <th></th>\n",
       "      <th></th>\n",
       "      <th></th>\n",
       "      <th></th>\n",
       "    </tr>\n",
       "  </thead>\n",
       "  <tbody>\n",
       "    <tr>\n",
       "      <th>acousticness</th>\n",
       "      <td>Acoustique</td>\n",
       "      <td>Décrit dans quelle proportion la piste est pro...</td>\n",
       "      <td>[0, 0.25, 0.5, 0.75, 1]</td>\n",
       "      <td>[Synthétique, Plutôt synthétique, Plutôt acous...</td>\n",
       "      <td>True</td>\n",
       "    </tr>\n",
       "    <tr>\n",
       "      <th>danceability</th>\n",
       "      <td>Dansabilité</td>\n",
       "      <td>Décrit à quel point il est possible de danser ...</td>\n",
       "      <td>[0, 0.33, 0.66, 1]</td>\n",
       "      <td>[Calme, De quoi battre le rythme, Très dansant]</td>\n",
       "      <td>True</td>\n",
       "    </tr>\n",
       "    <tr>\n",
       "      <th>energy</th>\n",
       "      <td>Energie</td>\n",
       "      <td>Décrit dans quelle mesure la piste est intense...</td>\n",
       "      <td>[0, 0.33, 0.66, 1]</td>\n",
       "      <td>[Doux, Moyen, Energique]</td>\n",
       "      <td>True</td>\n",
       "    </tr>\n",
       "    <tr>\n",
       "      <th>instrumentalness</th>\n",
       "      <td>Insturmentalité</td>\n",
       "      <td>Décrit dans quelle proportion on entend des vo...</td>\n",
       "      <td>[0, 0.5, 0.75, 1]</td>\n",
       "      <td>[Majorité de paroles, Majorité instrumentale, ...</td>\n",
       "      <td>True</td>\n",
       "    </tr>\n",
       "    <tr>\n",
       "      <th>key</th>\n",
       "      <td>Tonalité</td>\n",
       "      <td>Donne la tonalité principale de la piste. 0 = ...</td>\n",
       "      <td>None</td>\n",
       "      <td>None</td>\n",
       "      <td>False</td>\n",
       "    </tr>\n",
       "    <tr>\n",
       "      <th>liveness</th>\n",
       "      <td>Live</td>\n",
       "      <td>Décrit si un public est présent. 0 = piste enr...</td>\n",
       "      <td>[0, 0.5, 0.8, 1]</td>\n",
       "      <td>[Enregistrement studio, Présence d'un petit pu...</td>\n",
       "      <td>True</td>\n",
       "    </tr>\n",
       "    <tr>\n",
       "      <th>loudness</th>\n",
       "      <td>Puissance acoustique</td>\n",
       "      <td>Décrit à quel point la piste rend un son fort....</td>\n",
       "      <td>None</td>\n",
       "      <td>None</td>\n",
       "      <td>False</td>\n",
       "    </tr>\n",
       "    <tr>\n",
       "      <th>mode</th>\n",
       "      <td>Mode</td>\n",
       "      <td>Donne le mode (majeur/mineur) de la piste. 0 =...</td>\n",
       "      <td>None</td>\n",
       "      <td>None</td>\n",
       "      <td>False</td>\n",
       "    </tr>\n",
       "    <tr>\n",
       "      <th>speechiness</th>\n",
       "      <td>Parler</td>\n",
       "      <td>Décrit dans quelle mesure la piste contient de...</td>\n",
       "      <td>[0, 0.33, 0.66, 1]</td>\n",
       "      <td>[Musical, Mélange discours et musique, Discour...</td>\n",
       "      <td>True</td>\n",
       "    </tr>\n",
       "    <tr>\n",
       "      <th>tempo</th>\n",
       "      <td>Tempo</td>\n",
       "      <td>Donne le tempo de la piste en battementss par ...</td>\n",
       "      <td>None</td>\n",
       "      <td>None</td>\n",
       "      <td>False</td>\n",
       "    </tr>\n",
       "    <tr>\n",
       "      <th>valence</th>\n",
       "      <td>Jovialité</td>\n",
       "      <td>Décrit la positivité communiquée par la piste....</td>\n",
       "      <td>[0, 0.25, 0.5, 0.75, 1]</td>\n",
       "      <td>[Très sombre, Plutôt sombre, Plutôt léger, Joy...</td>\n",
       "      <td>True</td>\n",
       "    </tr>\n",
       "    <tr>\n",
       "      <th>popularity</th>\n",
       "      <td>Popularité</td>\n",
       "      <td>Décrit l'étendue du public que la piste, et co...</td>\n",
       "      <td>[0, 33, 66, 100]</td>\n",
       "      <td>[Peu connu, Relativement connu, Populaire]</td>\n",
       "      <td>True</td>\n",
       "    </tr>\n",
       "  </tbody>\n",
       "</table>\n",
       "</div>"
      ],
      "text/plain": [
       "                                  name  \\\n",
       "audio-features                           \n",
       "acousticness                Acoustique   \n",
       "danceability               Dansabilité   \n",
       "energy                         Energie   \n",
       "instrumentalness       Insturmentalité   \n",
       "key                           Tonalité   \n",
       "liveness                          Live   \n",
       "loudness          Puissance acoustique   \n",
       "mode                              Mode   \n",
       "speechiness                     Parler   \n",
       "tempo                            Tempo   \n",
       "valence                      Jovialité   \n",
       "popularity                  Popularité   \n",
       "\n",
       "                                                        description  \\\n",
       "audio-features                                                        \n",
       "acousticness      Décrit dans quelle proportion la piste est pro...   \n",
       "danceability      Décrit à quel point il est possible de danser ...   \n",
       "energy            Décrit dans quelle mesure la piste est intense...   \n",
       "instrumentalness  Décrit dans quelle proportion on entend des vo...   \n",
       "key               Donne la tonalité principale de la piste. 0 = ...   \n",
       "liveness          Décrit si un public est présent. 0 = piste enr...   \n",
       "loudness          Décrit à quel point la piste rend un son fort....   \n",
       "mode              Donne le mode (majeur/mineur) de la piste. 0 =...   \n",
       "speechiness       Décrit dans quelle mesure la piste contient de...   \n",
       "tempo             Donne le tempo de la piste en battementss par ...   \n",
       "valence           Décrit la positivité communiquée par la piste....   \n",
       "popularity        Décrit l'étendue du public que la piste, et co...   \n",
       "\n",
       "                                intervals  \\\n",
       "audio-features                              \n",
       "acousticness      [0, 0.25, 0.5, 0.75, 1]   \n",
       "danceability           [0, 0.33, 0.66, 1]   \n",
       "energy                 [0, 0.33, 0.66, 1]   \n",
       "instrumentalness        [0, 0.5, 0.75, 1]   \n",
       "key                                  None   \n",
       "liveness                 [0, 0.5, 0.8, 1]   \n",
       "loudness                             None   \n",
       "mode                                 None   \n",
       "speechiness            [0, 0.33, 0.66, 1]   \n",
       "tempo                                None   \n",
       "valence           [0, 0.25, 0.5, 0.75, 1]   \n",
       "popularity               [0, 33, 66, 100]   \n",
       "\n",
       "                                                               tags  \\\n",
       "audio-features                                                        \n",
       "acousticness      [Synthétique, Plutôt synthétique, Plutôt acous...   \n",
       "danceability        [Calme, De quoi battre le rythme, Très dansant]   \n",
       "energy                                     [Doux, Moyen, Energique]   \n",
       "instrumentalness  [Majorité de paroles, Majorité instrumentale, ...   \n",
       "key                                                            None   \n",
       "liveness          [Enregistrement studio, Présence d'un petit pu...   \n",
       "loudness                                                       None   \n",
       "mode                                                           None   \n",
       "speechiness       [Musical, Mélange discours et musique, Discour...   \n",
       "tempo                                                          None   \n",
       "valence           [Très sombre, Plutôt sombre, Plutôt léger, Joy...   \n",
       "popularity               [Peu connu, Relativement connu, Populaire]   \n",
       "\n",
       "                  to analyse  \n",
       "audio-features                \n",
       "acousticness            True  \n",
       "danceability            True  \n",
       "energy                  True  \n",
       "instrumentalness        True  \n",
       "key                    False  \n",
       "liveness                True  \n",
       "loudness               False  \n",
       "mode                   False  \n",
       "speechiness             True  \n",
       "tempo                  False  \n",
       "valence                 True  \n",
       "popularity              True  "
      ]
     },
     "execution_count": 17,
     "metadata": {},
     "output_type": "execute_result"
    }
   ],
   "source": [
    "audio_feat = create_work()\n",
    "audio_feat"
   ]
  },
  {
   "cell_type": "code",
   "execution_count": 18,
   "id": "4f5d2814",
   "metadata": {},
   "outputs": [],
   "source": [
    "# Nombre de pistes total\n",
    "nbrTotTracks = playlist.shape[0]\n",
    "# Durée d'écoute totale (ms)\n",
    "lengthTot = playlist['length'].sum()"
   ]
  },
  {
   "cell_type": "code",
   "execution_count": 19,
   "id": "15f14f7a",
   "metadata": {},
   "outputs": [
    {
     "data": {
      "text/plain": [
       "1    25\n",
       "2     7\n",
       "Name: artist, dtype: int64"
      ]
     },
     "execution_count": 19,
     "metadata": {},
     "output_type": "execute_result"
    }
   ],
   "source": [
    "# Nombre de piste par artiste\n",
    "y = playlist['artist'].value_counts()\n",
    "# Nombre d'artiste par nbr d'occurences\n",
    "y.value_counts()"
   ]
  },
  {
   "cell_type": "code",
   "execution_count": 20,
   "id": "2117a8ea",
   "metadata": {},
   "outputs": [
    {
     "data": {
      "text/plain": [
       "23.77077767011074"
      ]
     },
     "execution_count": 20,
     "metadata": {},
     "output_type": "execute_result"
    }
   ],
   "source": [
    "# Ecart-type du tempo (si petit -> playlist de sport ? marche ?)\n",
    "playlist['tempo'].std()"
   ]
  },
  {
   "cell_type": "code",
   "execution_count": 86,
   "id": "292cfb36",
   "metadata": {
    "scrolled": false
   },
   "outputs": [
    {
     "data": {
      "application/vnd.plotly.v1+json": {
       "config": {
        "plotlyServerURL": "https://plot.ly"
       },
       "data": [
        {
         "autobinx": false,
         "histnorm": "probability density",
         "legendgroup": "danceability",
         "marker": {
          "color": "rgb(31, 119, 180)"
         },
         "name": "danceability",
         "opacity": 0.7,
         "type": "histogram",
         "x": [
          0.659,
          0.721,
          0.733,
          0.604,
          0.414,
          0.618,
          0.637,
          0.73,
          0.747,
          0.751,
          0.773,
          0.664,
          0.559,
          0.655,
          0.6,
          0.679,
          0.652,
          0.799,
          0.794,
          0.673,
          0.706,
          0.783,
          0.736,
          0.646,
          0.669,
          0.799,
          0.912,
          0.596,
          0.647,
          0.694,
          0.56,
          0.742,
          0.581,
          0.647,
          0.279,
          0.491,
          0.762,
          0.47,
          0.697
         ],
         "xaxis": "x",
         "xbins": {
          "end": 0.912,
          "size": 0.1,
          "start": 0.279
         },
         "yaxis": "y"
        },
        {
         "autobinx": false,
         "histnorm": "probability density",
         "legendgroup": "energy",
         "marker": {
          "color": "rgb(255, 127, 14)"
         },
         "name": "energy",
         "opacity": 0.7,
         "type": "histogram",
         "x": [
          0.911,
          0.802,
          0.71,
          0.787,
          0.857,
          0.955,
          0.318,
          0.777,
          0.937,
          0.783,
          0.758,
          0.705,
          0.777,
          0.819,
          0.663,
          0.715,
          0.877,
          0.586,
          0.811,
          0.902,
          0.841,
          0.58,
          0.817,
          0.795,
          0.78,
          0.586,
          0.716,
          0.856,
          0.822,
          0.712,
          0.857,
          0.713,
          0.963,
          0.585,
          0.742,
          0.956,
          0.748,
          0.431,
          0.621
         ],
         "xaxis": "x",
         "xbins": {
          "end": 0.963,
          "size": 0.1,
          "start": 0.318
         },
         "yaxis": "y"
        },
        {
         "legendgroup": "danceability",
         "marker": {
          "color": "rgb(31, 119, 180)"
         },
         "mode": "lines",
         "name": "danceability",
         "showlegend": false,
         "type": "scatter",
         "x": [
          0.279,
          0.280266,
          0.281532,
          0.28279800000000005,
          0.28406400000000004,
          0.28533000000000003,
          0.286596,
          0.287862,
          0.28912800000000005,
          0.29039400000000004,
          0.29166000000000003,
          0.292926,
          0.294192,
          0.295458,
          0.29672400000000004,
          0.29799000000000003,
          0.299256,
          0.300522,
          0.301788,
          0.30305400000000005,
          0.30432000000000003,
          0.305586,
          0.306852,
          0.308118,
          0.30938400000000005,
          0.31065000000000004,
          0.311916,
          0.313182,
          0.314448,
          0.31571400000000005,
          0.31698000000000004,
          0.31824600000000003,
          0.319512,
          0.320778,
          0.322044,
          0.32331000000000004,
          0.32457600000000003,
          0.325842,
          0.327108,
          0.32837400000000005,
          0.32964000000000004,
          0.33090600000000003,
          0.332172,
          0.333438,
          0.334704,
          0.33597000000000005,
          0.33723600000000004,
          0.338502,
          0.339768,
          0.341034,
          0.34230000000000005,
          0.34356600000000004,
          0.344832,
          0.346098,
          0.347364,
          0.34863,
          0.34989600000000004,
          0.35116200000000003,
          0.352428,
          0.353694,
          0.35496000000000005,
          0.35622600000000004,
          0.35749200000000003,
          0.358758,
          0.360024,
          0.36129,
          0.362556,
          0.36382200000000003,
          0.365088,
          0.366354,
          0.36762000000000006,
          0.36888600000000005,
          0.37015200000000004,
          0.371418,
          0.372684,
          0.37395,
          0.37521600000000005,
          0.37648200000000004,
          0.37774800000000003,
          0.379014,
          0.38028,
          0.38154600000000005,
          0.38281200000000004,
          0.38407800000000003,
          0.385344,
          0.38661,
          0.387876,
          0.389142,
          0.39040800000000003,
          0.391674,
          0.39294,
          0.39420600000000006,
          0.39547200000000005,
          0.39673800000000004,
          0.398004,
          0.39927,
          0.400536,
          0.40180200000000005,
          0.40306800000000004,
          0.404334,
          0.4056,
          0.40686600000000006,
          0.40813200000000005,
          0.40939800000000004,
          0.41066400000000003,
          0.41193,
          0.413196,
          0.414462,
          0.41572800000000004,
          0.41699400000000003,
          0.41826,
          0.41952600000000007,
          0.42079200000000005,
          0.42205800000000004,
          0.42332400000000003,
          0.42459,
          0.425856,
          0.427122,
          0.428388,
          0.42965400000000004,
          0.4309200000000001,
          0.43218600000000007,
          0.43345200000000006,
          0.43471800000000005,
          0.43598400000000004,
          0.43725,
          0.438516,
          0.439782,
          0.441048,
          0.442314,
          0.44358000000000003,
          0.444846,
          0.446112,
          0.44737800000000005,
          0.44864400000000004,
          0.44991000000000003,
          0.451176,
          0.452442,
          0.453708,
          0.454974,
          0.45624000000000003,
          0.457506,
          0.458772,
          0.46003800000000006,
          0.46130400000000005,
          0.46257000000000004,
          0.463836,
          0.465102,
          0.466368,
          0.46763400000000005,
          0.46890000000000004,
          0.47016600000000003,
          0.4714320000000001,
          0.47269800000000006,
          0.47396400000000005,
          0.47523000000000004,
          0.47649600000000003,
          0.477762,
          0.479028,
          0.480294,
          0.48156,
          0.48282600000000003,
          0.4840920000000001,
          0.48535800000000007,
          0.48662400000000006,
          0.48789000000000005,
          0.48915600000000004,
          0.490422,
          0.491688,
          0.492954,
          0.49422,
          0.495486,
          0.496752,
          0.498018,
          0.499284,
          0.50055,
          0.501816,
          0.503082,
          0.504348,
          0.505614,
          0.50688,
          0.508146,
          0.509412,
          0.510678,
          0.5119440000000001,
          0.51321,
          0.514476,
          0.515742,
          0.517008,
          0.518274,
          0.51954,
          0.5208060000000001,
          0.5220720000000001,
          0.5233380000000001,
          0.5246040000000001,
          0.5258700000000001,
          0.527136,
          0.528402,
          0.529668,
          0.530934,
          0.5322,
          0.533466,
          0.534732,
          0.535998,
          0.537264,
          0.5385300000000001,
          0.5397959999999999,
          0.541062,
          0.5423279999999999,
          0.543594,
          0.5448600000000001,
          0.546126,
          0.5473920000000001,
          0.5486580000000001,
          0.5499240000000001,
          0.5511900000000001,
          0.5524560000000001,
          0.553722,
          0.554988,
          0.556254,
          0.55752,
          0.558786,
          0.560052,
          0.561318,
          0.562584,
          0.5638500000000001,
          0.565116,
          0.566382,
          0.567648,
          0.568914,
          0.57018,
          0.5714460000000001,
          0.572712,
          0.5739780000000001,
          0.5752440000000001,
          0.5765100000000001,
          0.5777760000000001,
          0.5790420000000001,
          0.580308,
          0.581574,
          0.58284,
          0.584106,
          0.585372,
          0.586638,
          0.587904,
          0.58917,
          0.590436,
          0.591702,
          0.592968,
          0.5942339999999999,
          0.5955,
          0.596766,
          0.598032,
          0.5992980000000001,
          0.6005640000000001,
          0.6018300000000001,
          0.6030960000000001,
          0.6043620000000001,
          0.605628,
          0.606894,
          0.60816,
          0.609426,
          0.610692,
          0.611958,
          0.613224,
          0.61449,
          0.6157560000000001,
          0.617022,
          0.6182880000000001,
          0.619554,
          0.62082,
          0.622086,
          0.623352,
          0.624618,
          0.6258840000000001,
          0.62715,
          0.6284160000000001,
          0.6296820000000001,
          0.6309480000000001,
          0.632214,
          0.63348,
          0.634746,
          0.636012,
          0.637278,
          0.638544,
          0.63981,
          0.641076,
          0.642342,
          0.643608,
          0.6448740000000001,
          0.6461399999999999,
          0.647406,
          0.648672,
          0.649938,
          0.6512040000000001,
          0.6524700000000001,
          0.6537360000000001,
          0.6550020000000001,
          0.6562680000000001,
          0.6575340000000001,
          0.6588,
          0.660066,
          0.661332,
          0.662598,
          0.663864,
          0.66513,
          0.666396,
          0.667662,
          0.668928,
          0.6701940000000001,
          0.67146,
          0.672726,
          0.673992,
          0.675258,
          0.676524,
          0.6777900000000001,
          0.679056,
          0.6803220000000001,
          0.6815880000000001,
          0.6828540000000001,
          0.6841200000000001,
          0.685386,
          0.686652,
          0.687918,
          0.689184,
          0.69045,
          0.691716,
          0.692982,
          0.694248,
          0.695514,
          0.6967800000000001,
          0.6980459999999999,
          0.699312,
          0.700578,
          0.701844,
          0.70311,
          0.704376,
          0.7056420000000001,
          0.7069080000000001,
          0.7081740000000001,
          0.7094400000000001,
          0.7107060000000001,
          0.711972,
          0.713238,
          0.714504,
          0.71577,
          0.717036,
          0.718302,
          0.719568,
          0.720834,
          0.7221000000000001,
          0.723366,
          0.724632,
          0.725898,
          0.727164,
          0.72843,
          0.7296960000000001,
          0.730962,
          0.7322280000000001,
          0.7334940000000001,
          0.7347600000000001,
          0.7360260000000001,
          0.7372920000000001,
          0.738558,
          0.739824,
          0.74109,
          0.742356,
          0.743622,
          0.744888,
          0.746154,
          0.74742,
          0.748686,
          0.749952,
          0.751218,
          0.7524839999999999,
          0.75375,
          0.755016,
          0.756282,
          0.7575480000000001,
          0.7588140000000001,
          0.7600800000000001,
          0.7613460000000001,
          0.7626120000000001,
          0.7638780000000001,
          0.765144,
          0.76641,
          0.767676,
          0.768942,
          0.770208,
          0.771474,
          0.77274,
          0.774006,
          0.775272,
          0.7765380000000001,
          0.777804,
          0.77907,
          0.780336,
          0.781602,
          0.782868,
          0.784134,
          0.7854,
          0.786666,
          0.7879320000000001,
          0.789198,
          0.790464,
          0.79173,
          0.792996,
          0.7942620000000001,
          0.795528,
          0.796794,
          0.7980600000000001,
          0.7993260000000001,
          0.800592,
          0.8018580000000001,
          0.8031240000000001,
          0.80439,
          0.8056559999999999,
          0.806922,
          0.808188,
          0.809454,
          0.8107200000000001,
          0.811986,
          0.813252,
          0.8145180000000001,
          0.8157840000000001,
          0.8170499999999999,
          0.818316,
          0.819582,
          0.820848,
          0.822114,
          0.82338,
          0.824646,
          0.8259120000000001,
          0.827178,
          0.828444,
          0.8297100000000001,
          0.830976,
          0.832242,
          0.833508,
          0.834774,
          0.83604,
          0.8373060000000001,
          0.838572,
          0.839838,
          0.8411040000000001,
          0.8423700000000001,
          0.8436359999999999,
          0.844902,
          0.846168,
          0.847434,
          0.8487000000000001,
          0.849966,
          0.851232,
          0.8524980000000001,
          0.8537640000000001,
          0.85503,
          0.8562960000000001,
          0.857562,
          0.858828,
          0.860094,
          0.86136,
          0.862626,
          0.8638920000000001,
          0.8651580000000001,
          0.866424,
          0.8676900000000001,
          0.8689560000000001,
          0.870222,
          0.871488,
          0.872754,
          0.87402,
          0.8752860000000001,
          0.876552,
          0.877818,
          0.8790840000000001,
          0.8803500000000001,
          0.8816160000000001,
          0.8828820000000001,
          0.884148,
          0.885414,
          0.8866800000000001,
          0.887946,
          0.889212,
          0.890478,
          0.8917440000000001,
          0.89301,
          0.894276,
          0.8955420000000001,
          0.896808,
          0.8980739999999999,
          0.89934,
          0.900606,
          0.901872,
          0.9031380000000001,
          0.904404,
          0.90567,
          0.9069360000000001,
          0.9082020000000001,
          0.9094679999999999,
          0.910734
         ],
         "xaxis": "x",
         "y": [
          0.1933353784522823,
          0.19390210852847112,
          0.19440514996595176,
          0.1948457846707437,
          0.19522545469650884,
          0.1955457604596686,
          0.1958084585219209,
          0.1960154589441414,
          0.1961688222171339,
          0.19627075577615835,
          0.19632361010760593,
          0.1963298744576055,
          0.19629217215372427,
          0.19621325555226574,
          0.19609600062495966,
          0.19594340120008538,
          0.19575856287425186,
          0.195544696612187,
          0.19530511205294723,
          0.1950432105419476,
          0.19476247790913048,
          0.19446647701442865,
          0.19415884008243672,
          0.19384326084887868,
          0.19352348654205034,
          0.19320330972291358,
          0.19288656000793147,
          0.1925770956990548,
          0.19227879534549697,
          0.19199554926207493,
          0.19173125102893424,
          0.191489788997436,
          0.1912750378268411,
          0.1910908500762076,
          0.19094104787559837,
          0.1908294147003037,
          0.19075968727129827,
          0.1907355476045932,
          0.19076061523150709,
          0.19083843961116642,
          0.19097249275576816,
          0.19116616208828982,
          0.1914227435514268,
          0.19174543498557198,
          0.19213732979263887,
          0.19260141090146743,
          0.19314054504944747,
          0.1937574773938562,
          0.19445482646523524,
          0.19523507947393384,
          0.19610058797973404,
          0.1970535639332356,
          0.19809607609644445,
          0.19923004684876158,
          0.20045724938332726,
          0.20177930529744428,
          0.20319768257957557,
          0.2047136939942135,
          0.20632849586472984,
          0.20804308725316173,
          0.20985830953476628,
          0.21177484636408414,
          0.21379322402820813,
          0.2159138121819419,
          0.21813682495858056,
          0.22046232244913275,
          0.22289021254194774,
          0.22542025311391267,
          0.2280520545636377,
          0.23078508267636708,
          0.23361866180972268,
          0.2365519783888304,
          0.2395840846988752,
          0.24271390296269119,
          0.24594022969061893,
          0.2492617402895436,
          0.2526769939177757,
          0.25618443857224,
          0.25978241639430166,
          0.26346916918047625,
          0.267242844084244,
          0.271101499495215,
          0.2750431110819584,
          0.2790655779849351,
          0.2831667291461253,
          0.2873443297621476,
          0.2915960878478956,
          0.2959196608979826,
          0.30031266263358275,
          0.30477266982255796,
          0.30929722916111013,
          0.31388386420552705,
          0.318530082342962,
          0.3232333817905428,
          0.3279912586124692,
          0.3328012137451241,
          0.3376607600205754,
          0.3425674291791918,
          0.3475187788624236,
          0.3525123995771176,
          0.35754592162302073,
          0.36261702197539974,
          0.36772343111494427,
          0.37286293979733315,
          0.37803340575502786,
          0.3832327603239991,
          0.38845901498822144,
          0.39371026783483587,
          0.3989847099129393,
          0.40428063148895926,
          0.40959642819156117,
          0.4149306070389575,
          0.4202817923414176,
          0.42564873147163934,
          0.43103030049549734,
          0.4364255096555023,
          0.4418335086991037,
          0.4472535920437429,
          0.4526852037703214,
          0.4581279424364992,
          0.4635815657009614,
          0.4690459947495375,
          0.47452131851377705,
          0.4800077976723148,
          0.4855058684251188,
          0.4910161460304529,
          0.4965394280941748,
          0.5020766976007845,
          0.5076291256754736,
          0.5131980740662855,
          0.5187850973354077,
          0.524391944748558,
          0.5300205618514354,
          0.5356730917222439,
          0.5413518758894147,
          0.5470594549038217,
          0.5527985685550085,
          0.5585721557212581,
          0.564383353843689,
          0.5702354980150269,
          0.5761321196741812,
          0.5820769448983745,
          0.5880738922852174,
          0.5941270704178487,
          0.6002407749070922,
          0.6064194850054377,
          0.6126678597886079,
          0.6189907339015,
          0.6253931128663445,
          0.6318801679520897,
          0.6384572306051893,
          0.6451297864432298,
          0.6519034688141062,
          0.6587840519248022,
          0.6657774435451695,
          0.6728896772934919,
          0.6801269045120291,
          0.6874953857421329,
          0.695001481809964,
          0.7026516445352237,
          0.7104524070767371,
          0.7184103739300766,
          0.7265322105937803,
          0.7348246329220125,
          0.7432943961827783,
          0.7519482838420186,
          0.7607930960950356,
          0.7698356381678055,
          0.7790827084116891,
          0.7885410862160166,
          0.7982175197637853,
          0.8081187136565035,
          0.8182513164347749,
          0.8286219080217907,
          0.8392369871172832,
          0.8501029585697838,
          0.8612261207552431,
          0.8726126529901114,
          0.8842686030069253,
          0.8961998745203089,
          0.9084122149109586,
          0.9209112030548415,
          0.933702237324256,
          0.9467905237868455,
          0.9601810646278587,
          0.9738786468201668,
          0.9878878310656123,
          1.0022129410301968,
          1.016858052894598,
          1.031826985240244,
          1.0471232892900026,
          1.0627502395211739,
          1.0787108246671797,
          1.0950077391229107,
          1.1116433747672938,
          1.128619813215154,
          1.1459388185090693,
          1.1636018302603595,
          1.1816099572469836,
          1.1999639714746366,
          1.2186643027059827,
          1.2377110334615318,
          1.2571038944944335,
          1.276842260740136,
          1.2969251477406747,
          1.3173512085422765,
          1.338118731063823,
          1.359225635932905,
          1.3806694747851096,
          1.402447429021689,
          1.4245563090197577,
          1.446992553788908,
          1.4697522310674132,
          1.4928310378509333,
          1.5162243013463708,
          1.5399269803433457,
          1.5639336669956527,
          1.5882385890052013,
          1.6128356122009835,
          1.6377182435058393,
          1.6628796342841814,
          1.688312584064067,
          1.714009544627626,
          1.739962624464203,
          1.7661635935812539,
          1.792603888668544,
          1.819274618611909,
          1.846166570353435,
          1.8732702150955711,
          1.9005757148474194,
          1.9280729293120111,
          1.9557514231140432,
          1.9836004733681238,
          2.0116090775881683,
          2.039765961938888,
          2.068059589831026,
          2.096478170861989,
          2.1250096701040233,
          2.153641817742061,
          2.182362119063505,
          2.21115786480202,
          2.2400161418373217,
          2.268923844252508,
          2.297867684750078,
          2.3268342064271486,
          2.3558097949096775,
          2.3847806908445373,
          2.4137330027473967,
          2.4426527202030637,
          2.4715257274137716,
          2.5003378170894193,
          2.5290747046721873,
          2.557722042886408,
          2.586265436602666,
          2.6146904580032975,
          2.6429826620345254,
          2.671127602128344,
          2.6991108461752105,
          2.7269179927264937,
          2.7545346874033143,
          2.78194663948634,
          2.809139638658784,
          2.8360995718726882,
          2.8628124403064166,
          2.889264376379125,
          2.915441660785957,
          2.941330739515687,
          2.966918240810707,
          2.992190992027537,
          3.017136036354237,
          3.0417406493399515,
          3.0659923551902026,
          3.0898789427806688,
          3.113388481341203,
          3.1365093357611027,
          3.159230181466322,
          3.1815400188189535,
          3.203428186989403,
          3.224884377251968,
          3.2458986456550525,
          3.2664614250180777,
          3.286563536208236,
          3.3061961986516195,
          3.325351040034867,
          3.3440201051553897,
          3.362195863880457,
          3.3798712181778248,
          3.3970395081833153,
          3.413694517273728,
          3.42983047611662,
          3.445442065671932,
          3.460524419124086,
          3.475073122726917,
          3.4890842155479382,
          3.5025541881024727,
          3.5154799798725302,
          3.5278589757097794,
          3.5396890011263404,
          3.5509683164818853,
          3.5616956100799646,
          3.571869990191347,
          3.5814909760266063,
          3.5905584876849774,
          3.5990728351109706,
          3.607034706094814,
          3.6144451533570767,
          3.6213055807622236,
          3.627617728709836,
          3.633383658756259,
          3.6386057375231062,
          3.643286619952596,
          3.6474292319729784,
          3.6510367526402403,
          3.6541125958251097,
          3.6566603915167164,
          3.6586839668164215,
          3.6601873266971006,
          3.661174634604643,
          3.6616501929794723,
          3.6616184237767,
          3.6610838490638677,
          3.660051071775249,
          3.6585247567013828,
          3.6565096117916904,
          3.654010369847059,
          3.651031770677743,
          3.647578543800182,
          3.643655391744139,
          3.6392669740391668,
          3.634417891946465,
          3.6291126739992228,
          3.623355762410988,
          3.6171515004079966,
          3.610504120537411,
          3.603417733999195,
          3.5958963210449726,
          3.587943722482548,
          3.5795636323200277,
          3.5707595915784833,
          3.5615349832970398,
          3.551893028749109,
          3.5418367848831664,
          3.5313691429962693,
          3.520492828643006,
          3.5092104027774282,
          3.4975242641199724,
          3.4854366527363143,
          3.47294965480973,
          3.4600652085835164,
          3.446785111445032,
          3.433111028118026,
          3.4190444999252576,
          3.4045869550789263,
          3.3897397199520842,
          3.374504031280136,
          3.358881049237659,
          3.342871871332243,
          3.326477547053588,
          3.3096990932131183,
          3.2925375099066496,
          3.2749937970299667,
          3.2570689712752507,
          3.238764083534205,
          3.2200802366323362,
          3.201018603317506,
          3.1815804444250504,
          3.1617671271410805,
          3.141580143285388,
          3.1210211275353634,
          3.1000918755127547,
          3.0787943616556586,
          3.0571307567992636,
          3.035103445389935,
          3.012715042258957,
          2.9899684088839296,
          2.9668666690680094,
          2.943413223969463,
          2.919611766416576,
          2.895466294445874,
          2.8709811240044636,
          2.8461609007607045,
          2.821010610970694,
          2.7955355913517423,
          2.7697415379176396,
          2.7436345137344804,
          2.7172209555597613,
          2.6905076793315823,
          2.663501884478969,
          2.6362111570286118,
          2.6086434714876368,
          2.58080719148639,
          2.5527110691695905,
          2.5243642433286584,
          2.4957762362723606,
          2.466956949437367,
          2.437916657744539,
          2.408666002711196,
          2.3792159843337632,
          2.349577951759324,
          2.319763592768749,
          2.2897849220979465,
          2.259654268627703,
          2.2293842614762083,
          2.1989878150320634,
          2.168478112968825,
          2.137868591285685,
          2.107172920421654,
          2.0764049864938983,
          2.045578871713387,
          2.01470883403365,
          1.9838092860909216,
          1.95289477349594,
          1.9219799525397185,
          1.8910795673773921,
          1.8602084267557695,
          1.829381380351389,
          1.7986132947872449,
          1.7679190293969422,
          1.737313411805952,
          1.7068112133997688,
          1.6764271247492983,
          1.6461757310634957,
          1.6160714877391948,
          1.5861286960775574,
          1.556361479235878,
          1.5267837584825432,
          1.497409229821945,
          1.4682513410547149,
          1.4393232693371678,
          1.4106378993021629,
          1.3822078018016335,
          1.3540452133290137,
          1.3261620161774363,
          1.298569719387293,
          1.2712794405339645,
          1.2443018884040455,
          1.2176473466052447,
          1.1913256581523588,
          1.1653462110684427,
          1.1397179250371736,
          1.114449239138961,
          1.0895481007000567,
          1.0650219552803053,
          1.0408777378216894,
          1.0171218649761964,
          0.9937602286278712,
          0.9707981906202089,
          0.9482405786963991,
          0.9260916836562536,
          0.9043552577298097,
          0.883034514164154,
          0.862132128016193,
          0.8416502381406007,
          0.8215904503586371,
          0.8019538417900514,
          0.7827409663268875,
          0.7639518612248017,
          0.7455860547842358,
          0.7276425750907554,
          0.710119959780928,
          0.6930162667973089,
          0.6763290860933806,
          0.6600555522468665,
          0.6441923579373912,
          0.6287357682423073,
          0.6136816357025033,
          0.599025416108144,
          0.5847621849526083,
          0.5708866545014762,
          0.5573931914221161,
          0.5442758349182937,
          0.531528315313428,
          0.5191440730253375,
          0.5071162778748906,
          0.495437848670677,
          0.4841014730117075,
          0.4730996272502534,
          0.46242459655728546,
          0.45206849503339197,
          0.44202328580880906,
          0.4322808010769969,
          0.42283276200729963,
          0.4136707984833773,
          0.40478646861554496,
          0.3961712779766439,
          0.38781669851278283,
          0.37971418708212296,
          0.3718552035768459,
          0.36423122858554446,
          0.3568337805554667,
          0.34965443241638927,
          0.342684827630311,
          0.3359166956336,
          0.32934186664089443,
          0.3229522857826014,
          0.3167400265506048,
          0.31069730352947394,
          0.30481648439325915,
          0.29909010115072976,
          0.2935108606247027
         ],
         "yaxis": "y"
        },
        {
         "legendgroup": "energy",
         "marker": {
          "color": "rgb(255, 127, 14)"
         },
         "mode": "lines",
         "name": "energy",
         "showlegend": false,
         "type": "scatter",
         "x": [
          0.318,
          0.31929,
          0.32058000000000003,
          0.32187,
          0.32316,
          0.32445,
          0.32574000000000003,
          0.32703,
          0.32832,
          0.32961,
          0.3309,
          0.33219,
          0.33348,
          0.33477,
          0.33606,
          0.33735,
          0.33864,
          0.33993,
          0.34122,
          0.34251,
          0.3438,
          0.34509,
          0.34638,
          0.34767000000000003,
          0.34896,
          0.35025,
          0.35154,
          0.35283,
          0.35412,
          0.35541,
          0.3567,
          0.35799000000000003,
          0.35928,
          0.36057,
          0.36186,
          0.36315,
          0.36444,
          0.36573,
          0.36702,
          0.36831,
          0.3696,
          0.37089,
          0.37218,
          0.37347,
          0.37476,
          0.37605,
          0.37734,
          0.37863,
          0.37992000000000004,
          0.38121,
          0.3825,
          0.38379,
          0.38508,
          0.38637,
          0.38766,
          0.38895,
          0.39024000000000003,
          0.39153,
          0.39282,
          0.39411,
          0.39540000000000003,
          0.39669,
          0.39798,
          0.39927,
          0.40056,
          0.40185000000000004,
          0.40314,
          0.40443,
          0.40571999999999997,
          0.40701,
          0.4083,
          0.40959,
          0.41088,
          0.41217000000000004,
          0.41346,
          0.41475,
          0.41604,
          0.41733,
          0.41862,
          0.41991,
          0.4212,
          0.42249000000000003,
          0.42378,
          0.42507,
          0.42636,
          0.42765000000000003,
          0.42894,
          0.43023,
          0.43152,
          0.43281000000000003,
          0.43410000000000004,
          0.43539,
          0.43668,
          0.43796999999999997,
          0.43926,
          0.44055,
          0.44184,
          0.44313,
          0.44442000000000004,
          0.44571000000000005,
          0.447,
          0.44828999999999997,
          0.44958,
          0.45087,
          0.45216,
          0.45345,
          0.45474000000000003,
          0.45603000000000005,
          0.45732,
          0.45861,
          0.4599,
          0.46119,
          0.46248,
          0.46377,
          0.46506000000000003,
          0.46635,
          0.46764000000000006,
          0.46893,
          0.47021999999999997,
          0.47151,
          0.4728,
          0.47409,
          0.47538,
          0.47667000000000004,
          0.47796000000000005,
          0.47925,
          0.48053999999999997,
          0.48183,
          0.48312,
          0.48441,
          0.4857,
          0.48699000000000003,
          0.48828000000000005,
          0.48957,
          0.49086,
          0.49215,
          0.49344,
          0.49473,
          0.49602,
          0.49731000000000003,
          0.4986,
          0.49989000000000006,
          0.50118,
          0.50247,
          0.50376,
          0.50505,
          0.50634,
          0.50763,
          0.50892,
          0.51021,
          0.5115000000000001,
          0.51279,
          0.51408,
          0.51537,
          0.51666,
          0.51795,
          0.51924,
          0.5205299999999999,
          0.52182,
          0.52311,
          0.5244,
          0.52569,
          0.52698,
          0.52827,
          0.52956,
          0.53085,
          0.5321400000000001,
          0.5334300000000001,
          0.53472,
          0.53601,
          0.5373,
          0.53859,
          0.53988,
          0.54117,
          0.54246,
          0.54375,
          0.54504,
          0.54633,
          0.54762,
          0.54891,
          0.5502,
          0.55149,
          0.55278,
          0.5540700000000001,
          0.5553600000000001,
          0.55665,
          0.55794,
          0.55923,
          0.56052,
          0.56181,
          0.5630999999999999,
          0.5643900000000001,
          0.56568,
          0.56697,
          0.56826,
          0.56955,
          0.57084,
          0.57213,
          0.57342,
          0.57471,
          0.5760000000000001,
          0.5772900000000001,
          0.57858,
          0.57987,
          0.58116,
          0.5824499999999999,
          0.58374,
          0.58503,
          0.58632,
          0.58761,
          0.5889,
          0.59019,
          0.59148,
          0.59277,
          0.59406,
          0.59535,
          0.5966400000000001,
          0.5979300000000001,
          0.5992200000000001,
          0.60051,
          0.6018,
          0.60309,
          0.6043799999999999,
          0.60567,
          0.60696,
          0.60825,
          0.60954,
          0.61083,
          0.61212,
          0.61341,
          0.6147,
          0.61599,
          0.61728,
          0.6185700000000001,
          0.6198600000000001,
          0.6211500000000001,
          0.62244,
          0.62373,
          0.6250199999999999,
          0.62631,
          0.6276,
          0.62889,
          0.63018,
          0.63147,
          0.63276,
          0.63405,
          0.63534,
          0.63663,
          0.63792,
          0.6392100000000001,
          0.6405000000000001,
          0.6417900000000001,
          0.64308,
          0.64437,
          0.64566,
          0.6469499999999999,
          0.64824,
          0.64953,
          0.65082,
          0.65211,
          0.6534,
          0.65469,
          0.65598,
          0.65727,
          0.65856,
          0.65985,
          0.6611400000000001,
          0.6624300000000001,
          0.6637200000000001,
          0.66501,
          0.6663,
          0.66759,
          0.6688799999999999,
          0.67017,
          0.6714600000000001,
          0.67275,
          0.67404,
          0.67533,
          0.67662,
          0.67791,
          0.6792,
          0.68049,
          0.68178,
          0.6830700000000001,
          0.6843600000000001,
          0.6856500000000001,
          0.68694,
          0.68823,
          0.6895199999999999,
          0.6908099999999999,
          0.6921,
          0.69339,
          0.69468,
          0.69597,
          0.69726,
          0.69855,
          0.69984,
          0.70113,
          0.70242,
          0.7037100000000001,
          0.7050000000000001,
          0.7062900000000001,
          0.70758,
          0.70887,
          0.71016,
          0.7114499999999999,
          0.71274,
          0.71403,
          0.71532,
          0.71661,
          0.7179,
          0.71919,
          0.72048,
          0.72177,
          0.72306,
          0.72435,
          0.7256400000000001,
          0.7269300000000001,
          0.7282200000000001,
          0.72951,
          0.7308,
          0.73209,
          0.7333799999999999,
          0.73467,
          0.7359600000000001,
          0.73725,
          0.73854,
          0.73983,
          0.74112,
          0.74241,
          0.7437,
          0.74499,
          0.74628,
          0.7475700000000001,
          0.7488600000000001,
          0.7501500000000001,
          0.75144,
          0.75273,
          0.75402,
          0.7553099999999999,
          0.7566,
          0.75789,
          0.75918,
          0.76047,
          0.76176,
          0.76305,
          0.76434,
          0.76563,
          0.76692,
          0.7682100000000001,
          0.7695000000000001,
          0.7707900000000001,
          0.7720800000000001,
          0.77337,
          0.77466,
          0.7759499999999999,
          0.7772399999999999,
          0.77853,
          0.77982,
          0.78111,
          0.7824,
          0.78369,
          0.78498,
          0.78627,
          0.78756,
          0.78885,
          0.7901400000000001,
          0.7914300000000001,
          0.7927200000000001,
          0.79401,
          0.7953,
          0.79659,
          0.7978799999999999,
          0.79917,
          0.8004600000000001,
          0.80175,
          0.80304,
          0.80433,
          0.80562,
          0.80691,
          0.8082,
          0.80949,
          0.8107800000000001,
          0.8120700000000001,
          0.8133600000000001,
          0.8146500000000001,
          0.81594,
          0.81723,
          0.8185200000000001,
          0.8198099999999999,
          0.8210999999999999,
          0.82239,
          0.82368,
          0.82497,
          0.82626,
          0.82755,
          0.82884,
          0.83013,
          0.83142,
          0.8327100000000001,
          0.8340000000000001,
          0.8352899999999999,
          0.8365800000000001,
          0.8378700000000001,
          0.8391599999999999,
          0.8404500000000001,
          0.8417399999999999,
          0.84303,
          0.84432,
          0.84561,
          0.8469,
          0.84819,
          0.84948,
          0.85077,
          0.85206,
          0.85335,
          0.8546400000000001,
          0.8559300000000001,
          0.8572200000000001,
          0.8585100000000001,
          0.8598000000000001,
          0.8610900000000001,
          0.8623799999999999,
          0.8636699999999999,
          0.86496,
          0.86625,
          0.86754,
          0.86883,
          0.87012,
          0.87141,
          0.8727,
          0.87399,
          0.8752800000000001,
          0.8765700000000001,
          0.8778600000000001,
          0.8791499999999999,
          0.8804400000000001,
          0.8817300000000001,
          0.8830199999999999,
          0.8843100000000002,
          0.8855999999999999,
          0.88689,
          0.88818,
          0.88947,
          0.89076,
          0.89205,
          0.89334,
          0.89463,
          0.89592,
          0.8972100000000001,
          0.8985000000000001,
          0.8997899999999999,
          0.9010800000000001,
          0.9023700000000001,
          0.9036599999999999,
          0.9049500000000001,
          0.9062399999999999,
          0.90753,
          0.90882,
          0.91011,
          0.9114,
          0.91269,
          0.91398,
          0.91527,
          0.91656,
          0.91785,
          0.9191400000000001,
          0.9204300000000001,
          0.9217200000000001,
          0.9230099999999999,
          0.9243000000000001,
          0.9255900000000001,
          0.9268799999999999,
          0.9281700000000002,
          0.92946,
          0.93075,
          0.93204,
          0.93333,
          0.93462,
          0.93591,
          0.9372,
          0.93849,
          0.9397800000000001,
          0.9410700000000001,
          0.9423600000000001,
          0.9436499999999999,
          0.9449400000000001,
          0.9462300000000001,
          0.9475199999999999,
          0.9488100000000002,
          0.9501,
          0.95139,
          0.95268,
          0.95397,
          0.95526,
          0.95655,
          0.95784,
          0.95913,
          0.96042,
          0.9617100000000001
         ],
         "xaxis": "x",
         "y": [
          0.1902678461774076,
          0.1914657872892867,
          0.19263297918993205,
          0.19376950858003852,
          0.19487549997612805,
          0.1959511148495583,
          0.19699655069338431,
          0.1980120400214913,
          0.19899784930470615,
          0.1999542778488757,
          0.20088165662015414,
          0.20178034702298475,
          0.20265073963648447,
          0.20349325291513184,
          0.2043083318598438,
          0.2050964466656768,
          0.205858091352519,
          0.206593782385244,
          0.20730405728988022,
          0.2079894732723965,
          0.2086506058467369,
          0.20928804747873317,
          0.20990240625249387,
          0.21049430456581575,
          0.21106437786107363,
          0.21161327339793473,
          0.21214164907410207,
          0.21265017230012148,
          0.21313951893409178,
          0.21361037228189395,
          0.21406342216830385,
          0.21449936408408268,
          0.21491889841383152,
          0.21532272974907832,
          0.2157115662907156,
          0.2160861193445376,
          0.2164471029132368,
          0.21679523338780915,
          0.2171312293408916,
          0.21745581142410939,
          0.21776970237105453,
          0.21807362710704362,
          0.21836831296631853,
          0.21865449001686293,
          0.21893289149250406,
          0.21920425433146418,
          0.21946931982001253,
          0.2197288343393583,
          0.21998355021340843,
          0.22023422665450618,
          0.22048163080375588,
          0.22072653886204027,
          0.22096973730734137,
          0.22121202419349464,
          0.22145421052503364,
          0.22169712170232547,
          0.22194159903075716,
          0.22218850128730963,
          0.22243870633745128,
          0.22269311279490503,
          0.2229526417164811,
          0.2232182383238366,
          0.22349087374371598,
          0.22377154675794864,
          0.2240612855542307,
          0.22436114946850108,
          0.22467223070953593,
          0.2249956560562347,
          0.22533258851795032,
          0.22568422894813842,
          0.2260518176015492,
          0.22643663562517888,
          0.22684000647322475,
          0.2272632972363516,
          0.227707919875684,
          0.22817533235207532,
          0.22866703964138926,
          0.22918459462674357,
          0.22972959885892252,
          0.23030370317645737,
          0.23090860817720354,
          0.23154606453361068,
          0.23221787314428063,
          0.23292588511484671,
          0.2336720015616776,
          0.23445817323240836,
          0.2352863999378383,
          0.23615872979029448,
          0.23707725824415343,
          0.2380441269348298,
          0.23906152231318328,
          0.2401316740729612,
          0.24125685336957894,
          0.24243937082924766,
          0.24368157434817994,
          0.2449858466823395,
          0.24635460282895413,
          0.2477902872017654,
          0.2492953706027596,
          0.25087234699389444,
          0.25252373007311,
          0.25425204965969056,
          0.25605984789481095,
          0.2579496752638728,
          0.2599240864479946,
          0.26198563601276453,
          0.26413687394310875,
          0.26638034103383823,
          0.26871856414614903,
          0.2711540513410259,
          0.27368928690115685,
          0.2763267262536044,
          0.27906879080607105,
          0.28191786271018165,
          0.2848762795657358,
          0.28794632908038736,
          0.29113024369968127,
          0.2944301952227907,
          0.29784828941969604,
          0.3013865606658777,
          0.30504696661088654,
          0.3088313828974151,
          0.31274159794767814,
          0.3167793078340627,
          0.3209461112511061,
          0.3252435046058981,
          0.32967287724399885,
          0.33423550682788716,
          0.3389325548848469,
          0.34376506254100786,
          0.34873394645803074,
          0.35383999498863694,
          0.3590838645668275,
          0.36446607634824163,
          0.369987013115643,
          0.37564691646399817,
          0.3814458842790586,
          0.38738386852271056,
          0.39346067333770685,
          0.3996759534836392,
          0.4060292131152533,
          0.4125198049133699,
          0.4191469295778008,
          0.4259096356907462,
          0.4328068199581736,
          0.4398372278357048,
          0.446999454544488,
          0.4542919464814534,
          0.46171300302726714,
          0.4692607787541439,
          0.4769332860345371,
          0.48472839805054313,
          0.49264385220264917,
          0.5006772539152508,
          0.5088260808351369,
          0.5170876874179068,
          0.5254593098960516,
          0.5339380716211843,
          0.5425209887716977,
          0.5512049764158639,
          0.5599868549192244,
          0.5688633566838943,
          0.5778311332062332,
          0.5868867624382008,
          0.5960267564365802,
          0.6052475692831636,
          0.6145456052579645,
          0.6239172272464746,
          0.6333587653610567,
          0.642866525755617,
          0.6524367996118535,
          0.6620658722745599,
          0.6717500325127176,
          0.6814855818824176,
          0.6912688441670369,
          0.7010961748695236,
          0.7109639707311899,
          0.7208686792509744,
          0.7308068081788086,
          0.7407749349564822,
          0.7507697160792031,
          0.7607878963509512,
          0.7708263180067413,
          0.7808819296749345,
          0.7909517951529363,
          0.8010331019698137,
          0.8111231697097286,
          0.8212194580704556,
          0.831319574631758,
          0.841421282308981,
          0.8515225064678519,
          0.8616213416772326,
          0.8717160580773639,
          0.8818051073420838,
          0.8918871282143894,
          0.9019609515958203,
          0.9120256051712264,
          0.9220803175516505,
          0.9321245219192948,
          0.9421578591598577,
          0.9521801804688623,
          0.9621915494199922,
          0.9721922434849366,
          0.9821827549957061,
          0.9921637915419282,
          1.0021362757971874,
          1.012101344770089,
          1.0220603484772992,
          1.0320148480374953,
          1.041966613186767,
          1.051917619217676,
          1.0618700433458308,
          1.0718262605094893,
          1.0817888386093206,
          1.0917605331971052,
          1.1017442816237182,
          1.1117431966583564,
          1.12176055959249,
          1.131799812843503,
          1.1418645520745045,
          1.1519585178481662,
          1.1620855868337907,
          1.1722497625881878,
          1.1824551659321083,
          1.1927060249451946,
          1.2030066646035287,
          1.2133614960848682,
          1.2237750057676295,
          1.2342517439505576,
          1.2447963133208095,
          1.2554133571988981,
          1.266107547589534,
          1.2768835730679788,
          1.2877461265319068,
          1.2986998928491653,
          1.3097495364320304,
          1.3208996887687403,
          1.3321549359431506,
          1.3435198061732618,
          1.3549987573993465,
          1.3665961649520617,
          1.3783163093307085,
          1.3901633641213411,
          1.4021413840839432,
          1.4142542934373292,
          1.4265058743697123,
          1.4388997558021874,
          1.451439402431514,
          1.464128104077671,
          1.476968965360736,
          1.4899648957305365,
          1.5031185998714471,
          1.5164325685035576,
          1.529909069600182,
          1.5435501400404394,
          1.5573575777143192,
          1.5713329340962887,
          1.5854775073021123,
          1.5997923356421537,
          1.6142781916829745,
          1.6289355768275902,
          1.643764716423295,
          1.6587655554044511,
          1.6739377544762117,
          1.6892806868436132,
          1.7047934354890386,
          1.7204747909996154,
          1.7363232499446273,
          1.752337013801636,
          1.7685139884286434,
          1.784851784078235,
          1.801347715948347,
          1.8179988052630387,
          1.8348017808754151,
          1.8517530813836476,
          1.8688488577499547,
          1.8860849764112968,
          1.9034570228695367,
          1.9209603057478781,
          1.9385898612994925,
          1.9563404583534312,
          1.9742066036821477,
          1.992182547774275,
          2.010262290995701,
          2.0284395901214056,
          2.0467079652200524,
          2.065060706872938,
          2.083490883708551,
          2.101991350233688,
          2.1205547549419643,
          2.1391735486803007,
          2.1578399932540258,
          2.17654617025113,
          2.1952839900663195,
          2.2140452011056437,
          2.232821399152596,
          2.251604036876889,
          2.2703844334673495,
          2.2891537843706984,
          2.307903171118406,
          2.3266235712242174,
          2.3453058681353944,
          2.3639408612212054,
          2.382519275782808,
          2.401031773069098,
          2.4194689602837967,
          2.437821400569609,
          2.45607962295588,
          2.4742341322568686,
          2.4922754189083705,
          2.5101939687310506,
          2.527980272609573,
          2.5456248360771747,
          2.5631181887960617,
          2.5804508939245903,
          2.5976135573628443,
          2.614596836868846,
          2.6313914510382252,
          2.647988188140735,
          2.664377914807592,
          2.680551584564149,
          2.696500246202877,
          2.712215051992141,
          2.7276872657167517,
          2.7429082705465806,
          2.757869576730012,
          2.7725628291093627,
          2.7869798144556066,
          2.801112468620201,
          2.8149528835019053,
          2.828493313826808,
          2.8417261837399477,
          2.8546440932069888,
          2.8672398242246597,
          2.8795063468386597,
          2.891436824967811,
          2.9030246220333296,
          2.91426330639199,
          2.9251466565720237,
          2.9356686663105096,
          2.945823549390951,
          2.9556057442796217,
          2.9650099185592445,
          2.974030973158307,
          2.982664046374344,
          2.9909045176892417,
          2.9987480113745515,
          3.0061903998846033,
          3.013227807035082,
          3.019856610964549,
          3.0260734468762243,
          3.0318752095572545,
          3.0372590556724752,
          3.042222405829596,
          3.0467629464125885,
          3.0508786311799847,
          3.0545676826246613,
          3.0578285930916587,
          3.060660125650521,
          3.063061314718598,
          3.0650314664318006,
          3.0665701587592737,
          3.0676772413585383,
          3.0683528351677287,
          3.0685973317316733,
          3.068411392258679,
          3.0677959464050946,
          3.0667521907849298,
          3.065281587201996,
          3.0633858606023807,
          3.061066996745332,
          3.0583272395909304,
          3.0551690884033964,
          3.0515952945691422,
          3.0476088581292258,
          3.0432130240262514,
          3.038411278066267,
          3.033207342596716,
          3.0276051719020374,
          3.0216089473190797,
          3.0152230720750195,
          3.0084521658511894,
          3.0013010590766673,
          2.9937747869562914,
          2.9858785832382626,
          2.9776178737272354,
          2.968998269549439,
          2.9600255601769887,
          2.950705706219321,
          2.941044831990243,
          2.931049217859806,
          2.9207252924008906,
          2.910079624340995,
          2.8991189143303897,
          2.887849986538412,
          2.8762797800902846,
          2.864415340357457,
          2.852263810114968,
          2.839832420579958,
          2.8271284823458944,
          2.8141593762276123,
          2.80093254403268,
          2.787455479275067,
          2.773735717847433,
          2.7597808286686747,
          2.7455984043237556,
          2.731196051713044,
          2.7165813827285246,
          2.701762004974614,
          2.686745512551232,
          2.671539476916959,
          2.656151437850105,
          2.6405888945255342,
          2.624859296724913,
          2.6089700361980457,
          2.5929284381926725,
          2.57674175316998,
          2.5604171487226863,
          2.543961701712314,
          2.527382390641851,
          2.5106860882795616,
          2.493879554549215,
          2.476969429701541,
          2.4599622277810123,
          2.442864330401595,
          2.425681980844295,
          2.408421278488705,
          2.391088173589976,
          2.3736884624118666,
          2.3562277827256777,
          2.338711609684016,
          2.321145252077482,
          2.3035338489814086,
          2.285882366798843,
          2.268195596705014,
          2.250478152497509,
          2.2327344688553743,
          2.2149688000093946,
          2.197185218824596,
          2.1793876162952017,
          2.161579701451081,
          2.1437650016736036,
          2.1259468634179886,
          2.108128453337968,
          2.0903127598076363,
          2.0725025948343383,
          2.054700596355401,
          2.036909230910507,
          2.019130796680551,
          2.0013674268828776,
          1.9836210935117984,
          1.965893611412477,
          1.9481866426753327,
          1.9305017013373469,
          1.9128401583757513,
          1.895203246978955,
          1.8775920680788207,
          1.860007596127588,
          1.8424506851024023,
          1.8249220747195771,
          1.8074223968403396,
          1.78995218204933,
          1.7725118663866772,
          1.7551017982141726,
          1.7377222451957182,
          1.7203734013720193,
          1.7030553943093365,
          1.685768292301922,
          1.668512111607784,
          1.651286823697407,
          1.6340923624950503,
          1.6169286315925278,
          1.599795511415348,
          1.58269286632151,
          1.5656205516135182,
          1.5485784204443824,
          1.5315663305990739,
          1.5145841511330786,
          1.497631768850403,
          1.4807090946039079,
          1.4638160694014437,
          1.446952670301959,
          1.4301189160864567,
          1.4133148726894562,
          1.396540658377363,
          1.3797964486610417,
          1.363082480930707,
          1.34639905880223,
          1.3297465561647157,
          1.313125420920397,
          1.2965361784086957,
          1.2799794345072837,
          1.2634558784041638,
          1.2469662850356147,
          1.2305115171859755,
          1.2140925272462733,
          1.1977103586297269,
          1.1813661468431822,
          1.1650611202145749,
          1.1487966002775638
         ],
         "yaxis": "y"
        }
       ],
       "layout": {
        "barmode": "overlay",
        "hovermode": "closest",
        "legend": {
         "traceorder": "reversed"
        },
        "template": {
         "data": {
          "bar": [
           {
            "error_x": {
             "color": "#2a3f5f"
            },
            "error_y": {
             "color": "#2a3f5f"
            },
            "marker": {
             "line": {
              "color": "#E5ECF6",
              "width": 0.5
             }
            },
            "type": "bar"
           }
          ],
          "barpolar": [
           {
            "marker": {
             "line": {
              "color": "#E5ECF6",
              "width": 0.5
             }
            },
            "type": "barpolar"
           }
          ],
          "carpet": [
           {
            "aaxis": {
             "endlinecolor": "#2a3f5f",
             "gridcolor": "white",
             "linecolor": "white",
             "minorgridcolor": "white",
             "startlinecolor": "#2a3f5f"
            },
            "baxis": {
             "endlinecolor": "#2a3f5f",
             "gridcolor": "white",
             "linecolor": "white",
             "minorgridcolor": "white",
             "startlinecolor": "#2a3f5f"
            },
            "type": "carpet"
           }
          ],
          "choropleth": [
           {
            "colorbar": {
             "outlinewidth": 0,
             "ticks": ""
            },
            "type": "choropleth"
           }
          ],
          "contour": [
           {
            "colorbar": {
             "outlinewidth": 0,
             "ticks": ""
            },
            "colorscale": [
             [
              0,
              "#0d0887"
             ],
             [
              0.1111111111111111,
              "#46039f"
             ],
             [
              0.2222222222222222,
              "#7201a8"
             ],
             [
              0.3333333333333333,
              "#9c179e"
             ],
             [
              0.4444444444444444,
              "#bd3786"
             ],
             [
              0.5555555555555556,
              "#d8576b"
             ],
             [
              0.6666666666666666,
              "#ed7953"
             ],
             [
              0.7777777777777778,
              "#fb9f3a"
             ],
             [
              0.8888888888888888,
              "#fdca26"
             ],
             [
              1,
              "#f0f921"
             ]
            ],
            "type": "contour"
           }
          ],
          "contourcarpet": [
           {
            "colorbar": {
             "outlinewidth": 0,
             "ticks": ""
            },
            "type": "contourcarpet"
           }
          ],
          "heatmap": [
           {
            "colorbar": {
             "outlinewidth": 0,
             "ticks": ""
            },
            "colorscale": [
             [
              0,
              "#0d0887"
             ],
             [
              0.1111111111111111,
              "#46039f"
             ],
             [
              0.2222222222222222,
              "#7201a8"
             ],
             [
              0.3333333333333333,
              "#9c179e"
             ],
             [
              0.4444444444444444,
              "#bd3786"
             ],
             [
              0.5555555555555556,
              "#d8576b"
             ],
             [
              0.6666666666666666,
              "#ed7953"
             ],
             [
              0.7777777777777778,
              "#fb9f3a"
             ],
             [
              0.8888888888888888,
              "#fdca26"
             ],
             [
              1,
              "#f0f921"
             ]
            ],
            "type": "heatmap"
           }
          ],
          "heatmapgl": [
           {
            "colorbar": {
             "outlinewidth": 0,
             "ticks": ""
            },
            "colorscale": [
             [
              0,
              "#0d0887"
             ],
             [
              0.1111111111111111,
              "#46039f"
             ],
             [
              0.2222222222222222,
              "#7201a8"
             ],
             [
              0.3333333333333333,
              "#9c179e"
             ],
             [
              0.4444444444444444,
              "#bd3786"
             ],
             [
              0.5555555555555556,
              "#d8576b"
             ],
             [
              0.6666666666666666,
              "#ed7953"
             ],
             [
              0.7777777777777778,
              "#fb9f3a"
             ],
             [
              0.8888888888888888,
              "#fdca26"
             ],
             [
              1,
              "#f0f921"
             ]
            ],
            "type": "heatmapgl"
           }
          ],
          "histogram": [
           {
            "marker": {
             "colorbar": {
              "outlinewidth": 0,
              "ticks": ""
             }
            },
            "type": "histogram"
           }
          ],
          "histogram2d": [
           {
            "colorbar": {
             "outlinewidth": 0,
             "ticks": ""
            },
            "colorscale": [
             [
              0,
              "#0d0887"
             ],
             [
              0.1111111111111111,
              "#46039f"
             ],
             [
              0.2222222222222222,
              "#7201a8"
             ],
             [
              0.3333333333333333,
              "#9c179e"
             ],
             [
              0.4444444444444444,
              "#bd3786"
             ],
             [
              0.5555555555555556,
              "#d8576b"
             ],
             [
              0.6666666666666666,
              "#ed7953"
             ],
             [
              0.7777777777777778,
              "#fb9f3a"
             ],
             [
              0.8888888888888888,
              "#fdca26"
             ],
             [
              1,
              "#f0f921"
             ]
            ],
            "type": "histogram2d"
           }
          ],
          "histogram2dcontour": [
           {
            "colorbar": {
             "outlinewidth": 0,
             "ticks": ""
            },
            "colorscale": [
             [
              0,
              "#0d0887"
             ],
             [
              0.1111111111111111,
              "#46039f"
             ],
             [
              0.2222222222222222,
              "#7201a8"
             ],
             [
              0.3333333333333333,
              "#9c179e"
             ],
             [
              0.4444444444444444,
              "#bd3786"
             ],
             [
              0.5555555555555556,
              "#d8576b"
             ],
             [
              0.6666666666666666,
              "#ed7953"
             ],
             [
              0.7777777777777778,
              "#fb9f3a"
             ],
             [
              0.8888888888888888,
              "#fdca26"
             ],
             [
              1,
              "#f0f921"
             ]
            ],
            "type": "histogram2dcontour"
           }
          ],
          "mesh3d": [
           {
            "colorbar": {
             "outlinewidth": 0,
             "ticks": ""
            },
            "type": "mesh3d"
           }
          ],
          "parcoords": [
           {
            "line": {
             "colorbar": {
              "outlinewidth": 0,
              "ticks": ""
             }
            },
            "type": "parcoords"
           }
          ],
          "pie": [
           {
            "automargin": true,
            "type": "pie"
           }
          ],
          "scatter": [
           {
            "marker": {
             "colorbar": {
              "outlinewidth": 0,
              "ticks": ""
             }
            },
            "type": "scatter"
           }
          ],
          "scatter3d": [
           {
            "line": {
             "colorbar": {
              "outlinewidth": 0,
              "ticks": ""
             }
            },
            "marker": {
             "colorbar": {
              "outlinewidth": 0,
              "ticks": ""
             }
            },
            "type": "scatter3d"
           }
          ],
          "scattercarpet": [
           {
            "marker": {
             "colorbar": {
              "outlinewidth": 0,
              "ticks": ""
             }
            },
            "type": "scattercarpet"
           }
          ],
          "scattergeo": [
           {
            "marker": {
             "colorbar": {
              "outlinewidth": 0,
              "ticks": ""
             }
            },
            "type": "scattergeo"
           }
          ],
          "scattergl": [
           {
            "marker": {
             "colorbar": {
              "outlinewidth": 0,
              "ticks": ""
             }
            },
            "type": "scattergl"
           }
          ],
          "scattermapbox": [
           {
            "marker": {
             "colorbar": {
              "outlinewidth": 0,
              "ticks": ""
             }
            },
            "type": "scattermapbox"
           }
          ],
          "scatterpolar": [
           {
            "marker": {
             "colorbar": {
              "outlinewidth": 0,
              "ticks": ""
             }
            },
            "type": "scatterpolar"
           }
          ],
          "scatterpolargl": [
           {
            "marker": {
             "colorbar": {
              "outlinewidth": 0,
              "ticks": ""
             }
            },
            "type": "scatterpolargl"
           }
          ],
          "scatterternary": [
           {
            "marker": {
             "colorbar": {
              "outlinewidth": 0,
              "ticks": ""
             }
            },
            "type": "scatterternary"
           }
          ],
          "surface": [
           {
            "colorbar": {
             "outlinewidth": 0,
             "ticks": ""
            },
            "colorscale": [
             [
              0,
              "#0d0887"
             ],
             [
              0.1111111111111111,
              "#46039f"
             ],
             [
              0.2222222222222222,
              "#7201a8"
             ],
             [
              0.3333333333333333,
              "#9c179e"
             ],
             [
              0.4444444444444444,
              "#bd3786"
             ],
             [
              0.5555555555555556,
              "#d8576b"
             ],
             [
              0.6666666666666666,
              "#ed7953"
             ],
             [
              0.7777777777777778,
              "#fb9f3a"
             ],
             [
              0.8888888888888888,
              "#fdca26"
             ],
             [
              1,
              "#f0f921"
             ]
            ],
            "type": "surface"
           }
          ],
          "table": [
           {
            "cells": {
             "fill": {
              "color": "#EBF0F8"
             },
             "line": {
              "color": "white"
             }
            },
            "header": {
             "fill": {
              "color": "#C8D4E3"
             },
             "line": {
              "color": "white"
             }
            },
            "type": "table"
           }
          ]
         },
         "layout": {
          "annotationdefaults": {
           "arrowcolor": "#2a3f5f",
           "arrowhead": 0,
           "arrowwidth": 1
          },
          "autotypenumbers": "strict",
          "coloraxis": {
           "colorbar": {
            "outlinewidth": 0,
            "ticks": ""
           }
          },
          "colorscale": {
           "diverging": [
            [
             0,
             "#8e0152"
            ],
            [
             0.1,
             "#c51b7d"
            ],
            [
             0.2,
             "#de77ae"
            ],
            [
             0.3,
             "#f1b6da"
            ],
            [
             0.4,
             "#fde0ef"
            ],
            [
             0.5,
             "#f7f7f7"
            ],
            [
             0.6,
             "#e6f5d0"
            ],
            [
             0.7,
             "#b8e186"
            ],
            [
             0.8,
             "#7fbc41"
            ],
            [
             0.9,
             "#4d9221"
            ],
            [
             1,
             "#276419"
            ]
           ],
           "sequential": [
            [
             0,
             "#0d0887"
            ],
            [
             0.1111111111111111,
             "#46039f"
            ],
            [
             0.2222222222222222,
             "#7201a8"
            ],
            [
             0.3333333333333333,
             "#9c179e"
            ],
            [
             0.4444444444444444,
             "#bd3786"
            ],
            [
             0.5555555555555556,
             "#d8576b"
            ],
            [
             0.6666666666666666,
             "#ed7953"
            ],
            [
             0.7777777777777778,
             "#fb9f3a"
            ],
            [
             0.8888888888888888,
             "#fdca26"
            ],
            [
             1,
             "#f0f921"
            ]
           ],
           "sequentialminus": [
            [
             0,
             "#0d0887"
            ],
            [
             0.1111111111111111,
             "#46039f"
            ],
            [
             0.2222222222222222,
             "#7201a8"
            ],
            [
             0.3333333333333333,
             "#9c179e"
            ],
            [
             0.4444444444444444,
             "#bd3786"
            ],
            [
             0.5555555555555556,
             "#d8576b"
            ],
            [
             0.6666666666666666,
             "#ed7953"
            ],
            [
             0.7777777777777778,
             "#fb9f3a"
            ],
            [
             0.8888888888888888,
             "#fdca26"
            ],
            [
             1,
             "#f0f921"
            ]
           ]
          },
          "colorway": [
           "#636efa",
           "#EF553B",
           "#00cc96",
           "#ab63fa",
           "#FFA15A",
           "#19d3f3",
           "#FF6692",
           "#B6E880",
           "#FF97FF",
           "#FECB52"
          ],
          "font": {
           "color": "#2a3f5f"
          },
          "geo": {
           "bgcolor": "white",
           "lakecolor": "white",
           "landcolor": "#E5ECF6",
           "showlakes": true,
           "showland": true,
           "subunitcolor": "white"
          },
          "hoverlabel": {
           "align": "left"
          },
          "hovermode": "closest",
          "mapbox": {
           "style": "light"
          },
          "paper_bgcolor": "white",
          "plot_bgcolor": "#E5ECF6",
          "polar": {
           "angularaxis": {
            "gridcolor": "white",
            "linecolor": "white",
            "ticks": ""
           },
           "bgcolor": "#E5ECF6",
           "radialaxis": {
            "gridcolor": "white",
            "linecolor": "white",
            "ticks": ""
           }
          },
          "scene": {
           "xaxis": {
            "backgroundcolor": "#E5ECF6",
            "gridcolor": "white",
            "gridwidth": 2,
            "linecolor": "white",
            "showbackground": true,
            "ticks": "",
            "zerolinecolor": "white"
           },
           "yaxis": {
            "backgroundcolor": "#E5ECF6",
            "gridcolor": "white",
            "gridwidth": 2,
            "linecolor": "white",
            "showbackground": true,
            "ticks": "",
            "zerolinecolor": "white"
           },
           "zaxis": {
            "backgroundcolor": "#E5ECF6",
            "gridcolor": "white",
            "gridwidth": 2,
            "linecolor": "white",
            "showbackground": true,
            "ticks": "",
            "zerolinecolor": "white"
           }
          },
          "shapedefaults": {
           "line": {
            "color": "#2a3f5f"
           }
          },
          "ternary": {
           "aaxis": {
            "gridcolor": "white",
            "linecolor": "white",
            "ticks": ""
           },
           "baxis": {
            "gridcolor": "white",
            "linecolor": "white",
            "ticks": ""
           },
           "bgcolor": "#E5ECF6",
           "caxis": {
            "gridcolor": "white",
            "linecolor": "white",
            "ticks": ""
           }
          },
          "title": {
           "x": 0.05
          },
          "xaxis": {
           "automargin": true,
           "gridcolor": "white",
           "linecolor": "white",
           "ticks": "",
           "title": {
            "standoff": 15
           },
           "zerolinecolor": "white",
           "zerolinewidth": 2
          },
          "yaxis": {
           "automargin": true,
           "gridcolor": "white",
           "linecolor": "white",
           "ticks": "",
           "title": {
            "standoff": 15
           },
           "zerolinecolor": "white",
           "zerolinewidth": 2
          }
         }
        },
        "xaxis": {
         "anchor": "y2",
         "domain": [
          0,
          1
         ],
         "zeroline": false
        },
        "yaxis": {
         "anchor": "free",
         "domain": [
          0,
          1
         ],
         "position": 0
        }
       }
      },
      "text/html": [
       "<div>                            <div id=\"5b469983-470d-44aa-bf42-863894c19892\" class=\"plotly-graph-div\" style=\"height:525px; width:100%;\"></div>            <script type=\"text/javascript\">                require([\"plotly\"], function(Plotly) {                    window.PLOTLYENV=window.PLOTLYENV || {};                                    if (document.getElementById(\"5b469983-470d-44aa-bf42-863894c19892\")) {                    Plotly.newPlot(                        \"5b469983-470d-44aa-bf42-863894c19892\",                        [{\"autobinx\": false, \"histnorm\": \"probability density\", \"legendgroup\": \"danceability\", \"marker\": {\"color\": \"rgb(31, 119, 180)\"}, \"name\": \"danceability\", \"opacity\": 0.7, \"type\": \"histogram\", \"x\": [0.659, 0.721, 0.733, 0.604, 0.414, 0.618, 0.637, 0.73, 0.747, 0.751, 0.773, 0.664, 0.559, 0.655, 0.6, 0.679, 0.652, 0.799, 0.794, 0.673, 0.706, 0.783, 0.736, 0.646, 0.669, 0.799, 0.912, 0.596, 0.647, 0.694, 0.56, 0.742, 0.581, 0.647, 0.279, 0.491, 0.762, 0.47, 0.697], \"xaxis\": \"x\", \"xbins\": {\"end\": 0.912, \"size\": 0.1, \"start\": 0.279}, \"yaxis\": \"y\"}, {\"autobinx\": false, \"histnorm\": \"probability density\", \"legendgroup\": \"energy\", \"marker\": {\"color\": \"rgb(255, 127, 14)\"}, \"name\": \"energy\", \"opacity\": 0.7, \"type\": \"histogram\", \"x\": [0.911, 0.802, 0.71, 0.787, 0.857, 0.955, 0.318, 0.777, 0.937, 0.783, 0.758, 0.705, 0.777, 0.819, 0.663, 0.715, 0.877, 0.586, 0.811, 0.902, 0.841, 0.58, 0.817, 0.795, 0.78, 0.586, 0.716, 0.856, 0.822, 0.712, 0.857, 0.713, 0.963, 0.585, 0.742, 0.956, 0.748, 0.431, 0.621], \"xaxis\": \"x\", \"xbins\": {\"end\": 0.963, \"size\": 0.1, \"start\": 0.318}, \"yaxis\": \"y\"}, {\"legendgroup\": \"danceability\", \"marker\": {\"color\": \"rgb(31, 119, 180)\"}, \"mode\": \"lines\", \"name\": \"danceability\", \"showlegend\": false, \"type\": \"scatter\", \"x\": [0.279, 0.280266, 0.281532, 0.28279800000000005, 0.28406400000000004, 0.28533000000000003, 0.286596, 0.287862, 0.28912800000000005, 0.29039400000000004, 0.29166000000000003, 0.292926, 0.294192, 0.295458, 0.29672400000000004, 0.29799000000000003, 0.299256, 0.300522, 0.301788, 0.30305400000000005, 0.30432000000000003, 0.305586, 0.306852, 0.308118, 0.30938400000000005, 0.31065000000000004, 0.311916, 0.313182, 0.314448, 0.31571400000000005, 0.31698000000000004, 0.31824600000000003, 0.319512, 0.320778, 0.322044, 0.32331000000000004, 0.32457600000000003, 0.325842, 0.327108, 0.32837400000000005, 0.32964000000000004, 0.33090600000000003, 0.332172, 0.333438, 0.334704, 0.33597000000000005, 0.33723600000000004, 0.338502, 0.339768, 0.341034, 0.34230000000000005, 0.34356600000000004, 0.344832, 0.346098, 0.347364, 0.34863, 0.34989600000000004, 0.35116200000000003, 0.352428, 0.353694, 0.35496000000000005, 0.35622600000000004, 0.35749200000000003, 0.358758, 0.360024, 0.36129, 0.362556, 0.36382200000000003, 0.365088, 0.366354, 0.36762000000000006, 0.36888600000000005, 0.37015200000000004, 0.371418, 0.372684, 0.37395, 0.37521600000000005, 0.37648200000000004, 0.37774800000000003, 0.379014, 0.38028, 0.38154600000000005, 0.38281200000000004, 0.38407800000000003, 0.385344, 0.38661, 0.387876, 0.389142, 0.39040800000000003, 0.391674, 0.39294, 0.39420600000000006, 0.39547200000000005, 0.39673800000000004, 0.398004, 0.39927, 0.400536, 0.40180200000000005, 0.40306800000000004, 0.404334, 0.4056, 0.40686600000000006, 0.40813200000000005, 0.40939800000000004, 0.41066400000000003, 0.41193, 0.413196, 0.414462, 0.41572800000000004, 0.41699400000000003, 0.41826, 0.41952600000000007, 0.42079200000000005, 0.42205800000000004, 0.42332400000000003, 0.42459, 0.425856, 0.427122, 0.428388, 0.42965400000000004, 0.4309200000000001, 0.43218600000000007, 0.43345200000000006, 0.43471800000000005, 0.43598400000000004, 0.43725, 0.438516, 0.439782, 0.441048, 0.442314, 0.44358000000000003, 0.444846, 0.446112, 0.44737800000000005, 0.44864400000000004, 0.44991000000000003, 0.451176, 0.452442, 0.453708, 0.454974, 0.45624000000000003, 0.457506, 0.458772, 0.46003800000000006, 0.46130400000000005, 0.46257000000000004, 0.463836, 0.465102, 0.466368, 0.46763400000000005, 0.46890000000000004, 0.47016600000000003, 0.4714320000000001, 0.47269800000000006, 0.47396400000000005, 0.47523000000000004, 0.47649600000000003, 0.477762, 0.479028, 0.480294, 0.48156, 0.48282600000000003, 0.4840920000000001, 0.48535800000000007, 0.48662400000000006, 0.48789000000000005, 0.48915600000000004, 0.490422, 0.491688, 0.492954, 0.49422, 0.495486, 0.496752, 0.498018, 0.499284, 0.50055, 0.501816, 0.503082, 0.504348, 0.505614, 0.50688, 0.508146, 0.509412, 0.510678, 0.5119440000000001, 0.51321, 0.514476, 0.515742, 0.517008, 0.518274, 0.51954, 0.5208060000000001, 0.5220720000000001, 0.5233380000000001, 0.5246040000000001, 0.5258700000000001, 0.527136, 0.528402, 0.529668, 0.530934, 0.5322, 0.533466, 0.534732, 0.535998, 0.537264, 0.5385300000000001, 0.5397959999999999, 0.541062, 0.5423279999999999, 0.543594, 0.5448600000000001, 0.546126, 0.5473920000000001, 0.5486580000000001, 0.5499240000000001, 0.5511900000000001, 0.5524560000000001, 0.553722, 0.554988, 0.556254, 0.55752, 0.558786, 0.560052, 0.561318, 0.562584, 0.5638500000000001, 0.565116, 0.566382, 0.567648, 0.568914, 0.57018, 0.5714460000000001, 0.572712, 0.5739780000000001, 0.5752440000000001, 0.5765100000000001, 0.5777760000000001, 0.5790420000000001, 0.580308, 0.581574, 0.58284, 0.584106, 0.585372, 0.586638, 0.587904, 0.58917, 0.590436, 0.591702, 0.592968, 0.5942339999999999, 0.5955, 0.596766, 0.598032, 0.5992980000000001, 0.6005640000000001, 0.6018300000000001, 0.6030960000000001, 0.6043620000000001, 0.605628, 0.606894, 0.60816, 0.609426, 0.610692, 0.611958, 0.613224, 0.61449, 0.6157560000000001, 0.617022, 0.6182880000000001, 0.619554, 0.62082, 0.622086, 0.623352, 0.624618, 0.6258840000000001, 0.62715, 0.6284160000000001, 0.6296820000000001, 0.6309480000000001, 0.632214, 0.63348, 0.634746, 0.636012, 0.637278, 0.638544, 0.63981, 0.641076, 0.642342, 0.643608, 0.6448740000000001, 0.6461399999999999, 0.647406, 0.648672, 0.649938, 0.6512040000000001, 0.6524700000000001, 0.6537360000000001, 0.6550020000000001, 0.6562680000000001, 0.6575340000000001, 0.6588, 0.660066, 0.661332, 0.662598, 0.663864, 0.66513, 0.666396, 0.667662, 0.668928, 0.6701940000000001, 0.67146, 0.672726, 0.673992, 0.675258, 0.676524, 0.6777900000000001, 0.679056, 0.6803220000000001, 0.6815880000000001, 0.6828540000000001, 0.6841200000000001, 0.685386, 0.686652, 0.687918, 0.689184, 0.69045, 0.691716, 0.692982, 0.694248, 0.695514, 0.6967800000000001, 0.6980459999999999, 0.699312, 0.700578, 0.701844, 0.70311, 0.704376, 0.7056420000000001, 0.7069080000000001, 0.7081740000000001, 0.7094400000000001, 0.7107060000000001, 0.711972, 0.713238, 0.714504, 0.71577, 0.717036, 0.718302, 0.719568, 0.720834, 0.7221000000000001, 0.723366, 0.724632, 0.725898, 0.727164, 0.72843, 0.7296960000000001, 0.730962, 0.7322280000000001, 0.7334940000000001, 0.7347600000000001, 0.7360260000000001, 0.7372920000000001, 0.738558, 0.739824, 0.74109, 0.742356, 0.743622, 0.744888, 0.746154, 0.74742, 0.748686, 0.749952, 0.751218, 0.7524839999999999, 0.75375, 0.755016, 0.756282, 0.7575480000000001, 0.7588140000000001, 0.7600800000000001, 0.7613460000000001, 0.7626120000000001, 0.7638780000000001, 0.765144, 0.76641, 0.767676, 0.768942, 0.770208, 0.771474, 0.77274, 0.774006, 0.775272, 0.7765380000000001, 0.777804, 0.77907, 0.780336, 0.781602, 0.782868, 0.784134, 0.7854, 0.786666, 0.7879320000000001, 0.789198, 0.790464, 0.79173, 0.792996, 0.7942620000000001, 0.795528, 0.796794, 0.7980600000000001, 0.7993260000000001, 0.800592, 0.8018580000000001, 0.8031240000000001, 0.80439, 0.8056559999999999, 0.806922, 0.808188, 0.809454, 0.8107200000000001, 0.811986, 0.813252, 0.8145180000000001, 0.8157840000000001, 0.8170499999999999, 0.818316, 0.819582, 0.820848, 0.822114, 0.82338, 0.824646, 0.8259120000000001, 0.827178, 0.828444, 0.8297100000000001, 0.830976, 0.832242, 0.833508, 0.834774, 0.83604, 0.8373060000000001, 0.838572, 0.839838, 0.8411040000000001, 0.8423700000000001, 0.8436359999999999, 0.844902, 0.846168, 0.847434, 0.8487000000000001, 0.849966, 0.851232, 0.8524980000000001, 0.8537640000000001, 0.85503, 0.8562960000000001, 0.857562, 0.858828, 0.860094, 0.86136, 0.862626, 0.8638920000000001, 0.8651580000000001, 0.866424, 0.8676900000000001, 0.8689560000000001, 0.870222, 0.871488, 0.872754, 0.87402, 0.8752860000000001, 0.876552, 0.877818, 0.8790840000000001, 0.8803500000000001, 0.8816160000000001, 0.8828820000000001, 0.884148, 0.885414, 0.8866800000000001, 0.887946, 0.889212, 0.890478, 0.8917440000000001, 0.89301, 0.894276, 0.8955420000000001, 0.896808, 0.8980739999999999, 0.89934, 0.900606, 0.901872, 0.9031380000000001, 0.904404, 0.90567, 0.9069360000000001, 0.9082020000000001, 0.9094679999999999, 0.910734], \"xaxis\": \"x\", \"y\": [0.1933353784522823, 0.19390210852847112, 0.19440514996595176, 0.1948457846707437, 0.19522545469650884, 0.1955457604596686, 0.1958084585219209, 0.1960154589441414, 0.1961688222171339, 0.19627075577615835, 0.19632361010760593, 0.1963298744576055, 0.19629217215372427, 0.19621325555226574, 0.19609600062495966, 0.19594340120008538, 0.19575856287425186, 0.195544696612187, 0.19530511205294723, 0.1950432105419476, 0.19476247790913048, 0.19446647701442865, 0.19415884008243672, 0.19384326084887868, 0.19352348654205034, 0.19320330972291358, 0.19288656000793147, 0.1925770956990548, 0.19227879534549697, 0.19199554926207493, 0.19173125102893424, 0.191489788997436, 0.1912750378268411, 0.1910908500762076, 0.19094104787559837, 0.1908294147003037, 0.19075968727129827, 0.1907355476045932, 0.19076061523150709, 0.19083843961116642, 0.19097249275576816, 0.19116616208828982, 0.1914227435514268, 0.19174543498557198, 0.19213732979263887, 0.19260141090146743, 0.19314054504944747, 0.1937574773938562, 0.19445482646523524, 0.19523507947393384, 0.19610058797973404, 0.1970535639332356, 0.19809607609644445, 0.19923004684876158, 0.20045724938332726, 0.20177930529744428, 0.20319768257957557, 0.2047136939942135, 0.20632849586472984, 0.20804308725316173, 0.20985830953476628, 0.21177484636408414, 0.21379322402820813, 0.2159138121819419, 0.21813682495858056, 0.22046232244913275, 0.22289021254194774, 0.22542025311391267, 0.2280520545636377, 0.23078508267636708, 0.23361866180972268, 0.2365519783888304, 0.2395840846988752, 0.24271390296269119, 0.24594022969061893, 0.2492617402895436, 0.2526769939177757, 0.25618443857224, 0.25978241639430166, 0.26346916918047625, 0.267242844084244, 0.271101499495215, 0.2750431110819584, 0.2790655779849351, 0.2831667291461253, 0.2873443297621476, 0.2915960878478956, 0.2959196608979826, 0.30031266263358275, 0.30477266982255796, 0.30929722916111013, 0.31388386420552705, 0.318530082342962, 0.3232333817905428, 0.3279912586124692, 0.3328012137451241, 0.3376607600205754, 0.3425674291791918, 0.3475187788624236, 0.3525123995771176, 0.35754592162302073, 0.36261702197539974, 0.36772343111494427, 0.37286293979733315, 0.37803340575502786, 0.3832327603239991, 0.38845901498822144, 0.39371026783483587, 0.3989847099129393, 0.40428063148895926, 0.40959642819156117, 0.4149306070389575, 0.4202817923414176, 0.42564873147163934, 0.43103030049549734, 0.4364255096555023, 0.4418335086991037, 0.4472535920437429, 0.4526852037703214, 0.4581279424364992, 0.4635815657009614, 0.4690459947495375, 0.47452131851377705, 0.4800077976723148, 0.4855058684251188, 0.4910161460304529, 0.4965394280941748, 0.5020766976007845, 0.5076291256754736, 0.5131980740662855, 0.5187850973354077, 0.524391944748558, 0.5300205618514354, 0.5356730917222439, 0.5413518758894147, 0.5470594549038217, 0.5527985685550085, 0.5585721557212581, 0.564383353843689, 0.5702354980150269, 0.5761321196741812, 0.5820769448983745, 0.5880738922852174, 0.5941270704178487, 0.6002407749070922, 0.6064194850054377, 0.6126678597886079, 0.6189907339015, 0.6253931128663445, 0.6318801679520897, 0.6384572306051893, 0.6451297864432298, 0.6519034688141062, 0.6587840519248022, 0.6657774435451695, 0.6728896772934919, 0.6801269045120291, 0.6874953857421329, 0.695001481809964, 0.7026516445352237, 0.7104524070767371, 0.7184103739300766, 0.7265322105937803, 0.7348246329220125, 0.7432943961827783, 0.7519482838420186, 0.7607930960950356, 0.7698356381678055, 0.7790827084116891, 0.7885410862160166, 0.7982175197637853, 0.8081187136565035, 0.8182513164347749, 0.8286219080217907, 0.8392369871172832, 0.8501029585697838, 0.8612261207552431, 0.8726126529901114, 0.8842686030069253, 0.8961998745203089, 0.9084122149109586, 0.9209112030548415, 0.933702237324256, 0.9467905237868455, 0.9601810646278587, 0.9738786468201668, 0.9878878310656123, 1.0022129410301968, 1.016858052894598, 1.031826985240244, 1.0471232892900026, 1.0627502395211739, 1.0787108246671797, 1.0950077391229107, 1.1116433747672938, 1.128619813215154, 1.1459388185090693, 1.1636018302603595, 1.1816099572469836, 1.1999639714746366, 1.2186643027059827, 1.2377110334615318, 1.2571038944944335, 1.276842260740136, 1.2969251477406747, 1.3173512085422765, 1.338118731063823, 1.359225635932905, 1.3806694747851096, 1.402447429021689, 1.4245563090197577, 1.446992553788908, 1.4697522310674132, 1.4928310378509333, 1.5162243013463708, 1.5399269803433457, 1.5639336669956527, 1.5882385890052013, 1.6128356122009835, 1.6377182435058393, 1.6628796342841814, 1.688312584064067, 1.714009544627626, 1.739962624464203, 1.7661635935812539, 1.792603888668544, 1.819274618611909, 1.846166570353435, 1.8732702150955711, 1.9005757148474194, 1.9280729293120111, 1.9557514231140432, 1.9836004733681238, 2.0116090775881683, 2.039765961938888, 2.068059589831026, 2.096478170861989, 2.1250096701040233, 2.153641817742061, 2.182362119063505, 2.21115786480202, 2.2400161418373217, 2.268923844252508, 2.297867684750078, 2.3268342064271486, 2.3558097949096775, 2.3847806908445373, 2.4137330027473967, 2.4426527202030637, 2.4715257274137716, 2.5003378170894193, 2.5290747046721873, 2.557722042886408, 2.586265436602666, 2.6146904580032975, 2.6429826620345254, 2.671127602128344, 2.6991108461752105, 2.7269179927264937, 2.7545346874033143, 2.78194663948634, 2.809139638658784, 2.8360995718726882, 2.8628124403064166, 2.889264376379125, 2.915441660785957, 2.941330739515687, 2.966918240810707, 2.992190992027537, 3.017136036354237, 3.0417406493399515, 3.0659923551902026, 3.0898789427806688, 3.113388481341203, 3.1365093357611027, 3.159230181466322, 3.1815400188189535, 3.203428186989403, 3.224884377251968, 3.2458986456550525, 3.2664614250180777, 3.286563536208236, 3.3061961986516195, 3.325351040034867, 3.3440201051553897, 3.362195863880457, 3.3798712181778248, 3.3970395081833153, 3.413694517273728, 3.42983047611662, 3.445442065671932, 3.460524419124086, 3.475073122726917, 3.4890842155479382, 3.5025541881024727, 3.5154799798725302, 3.5278589757097794, 3.5396890011263404, 3.5509683164818853, 3.5616956100799646, 3.571869990191347, 3.5814909760266063, 3.5905584876849774, 3.5990728351109706, 3.607034706094814, 3.6144451533570767, 3.6213055807622236, 3.627617728709836, 3.633383658756259, 3.6386057375231062, 3.643286619952596, 3.6474292319729784, 3.6510367526402403, 3.6541125958251097, 3.6566603915167164, 3.6586839668164215, 3.6601873266971006, 3.661174634604643, 3.6616501929794723, 3.6616184237767, 3.6610838490638677, 3.660051071775249, 3.6585247567013828, 3.6565096117916904, 3.654010369847059, 3.651031770677743, 3.647578543800182, 3.643655391744139, 3.6392669740391668, 3.634417891946465, 3.6291126739992228, 3.623355762410988, 3.6171515004079966, 3.610504120537411, 3.603417733999195, 3.5958963210449726, 3.587943722482548, 3.5795636323200277, 3.5707595915784833, 3.5615349832970398, 3.551893028749109, 3.5418367848831664, 3.5313691429962693, 3.520492828643006, 3.5092104027774282, 3.4975242641199724, 3.4854366527363143, 3.47294965480973, 3.4600652085835164, 3.446785111445032, 3.433111028118026, 3.4190444999252576, 3.4045869550789263, 3.3897397199520842, 3.374504031280136, 3.358881049237659, 3.342871871332243, 3.326477547053588, 3.3096990932131183, 3.2925375099066496, 3.2749937970299667, 3.2570689712752507, 3.238764083534205, 3.2200802366323362, 3.201018603317506, 3.1815804444250504, 3.1617671271410805, 3.141580143285388, 3.1210211275353634, 3.1000918755127547, 3.0787943616556586, 3.0571307567992636, 3.035103445389935, 3.012715042258957, 2.9899684088839296, 2.9668666690680094, 2.943413223969463, 2.919611766416576, 2.895466294445874, 2.8709811240044636, 2.8461609007607045, 2.821010610970694, 2.7955355913517423, 2.7697415379176396, 2.7436345137344804, 2.7172209555597613, 2.6905076793315823, 2.663501884478969, 2.6362111570286118, 2.6086434714876368, 2.58080719148639, 2.5527110691695905, 2.5243642433286584, 2.4957762362723606, 2.466956949437367, 2.437916657744539, 2.408666002711196, 2.3792159843337632, 2.349577951759324, 2.319763592768749, 2.2897849220979465, 2.259654268627703, 2.2293842614762083, 2.1989878150320634, 2.168478112968825, 2.137868591285685, 2.107172920421654, 2.0764049864938983, 2.045578871713387, 2.01470883403365, 1.9838092860909216, 1.95289477349594, 1.9219799525397185, 1.8910795673773921, 1.8602084267557695, 1.829381380351389, 1.7986132947872449, 1.7679190293969422, 1.737313411805952, 1.7068112133997688, 1.6764271247492983, 1.6461757310634957, 1.6160714877391948, 1.5861286960775574, 1.556361479235878, 1.5267837584825432, 1.497409229821945, 1.4682513410547149, 1.4393232693371678, 1.4106378993021629, 1.3822078018016335, 1.3540452133290137, 1.3261620161774363, 1.298569719387293, 1.2712794405339645, 1.2443018884040455, 1.2176473466052447, 1.1913256581523588, 1.1653462110684427, 1.1397179250371736, 1.114449239138961, 1.0895481007000567, 1.0650219552803053, 1.0408777378216894, 1.0171218649761964, 0.9937602286278712, 0.9707981906202089, 0.9482405786963991, 0.9260916836562536, 0.9043552577298097, 0.883034514164154, 0.862132128016193, 0.8416502381406007, 0.8215904503586371, 0.8019538417900514, 0.7827409663268875, 0.7639518612248017, 0.7455860547842358, 0.7276425750907554, 0.710119959780928, 0.6930162667973089, 0.6763290860933806, 0.6600555522468665, 0.6441923579373912, 0.6287357682423073, 0.6136816357025033, 0.599025416108144, 0.5847621849526083, 0.5708866545014762, 0.5573931914221161, 0.5442758349182937, 0.531528315313428, 0.5191440730253375, 0.5071162778748906, 0.495437848670677, 0.4841014730117075, 0.4730996272502534, 0.46242459655728546, 0.45206849503339197, 0.44202328580880906, 0.4322808010769969, 0.42283276200729963, 0.4136707984833773, 0.40478646861554496, 0.3961712779766439, 0.38781669851278283, 0.37971418708212296, 0.3718552035768459, 0.36423122858554446, 0.3568337805554667, 0.34965443241638927, 0.342684827630311, 0.3359166956336, 0.32934186664089443, 0.3229522857826014, 0.3167400265506048, 0.31069730352947394, 0.30481648439325915, 0.29909010115072976, 0.2935108606247027], \"yaxis\": \"y\"}, {\"legendgroup\": \"energy\", \"marker\": {\"color\": \"rgb(255, 127, 14)\"}, \"mode\": \"lines\", \"name\": \"energy\", \"showlegend\": false, \"type\": \"scatter\", \"x\": [0.318, 0.31929, 0.32058000000000003, 0.32187, 0.32316, 0.32445, 0.32574000000000003, 0.32703, 0.32832, 0.32961, 0.3309, 0.33219, 0.33348, 0.33477, 0.33606, 0.33735, 0.33864, 0.33993, 0.34122, 0.34251, 0.3438, 0.34509, 0.34638, 0.34767000000000003, 0.34896, 0.35025, 0.35154, 0.35283, 0.35412, 0.35541, 0.3567, 0.35799000000000003, 0.35928, 0.36057, 0.36186, 0.36315, 0.36444, 0.36573, 0.36702, 0.36831, 0.3696, 0.37089, 0.37218, 0.37347, 0.37476, 0.37605, 0.37734, 0.37863, 0.37992000000000004, 0.38121, 0.3825, 0.38379, 0.38508, 0.38637, 0.38766, 0.38895, 0.39024000000000003, 0.39153, 0.39282, 0.39411, 0.39540000000000003, 0.39669, 0.39798, 0.39927, 0.40056, 0.40185000000000004, 0.40314, 0.40443, 0.40571999999999997, 0.40701, 0.4083, 0.40959, 0.41088, 0.41217000000000004, 0.41346, 0.41475, 0.41604, 0.41733, 0.41862, 0.41991, 0.4212, 0.42249000000000003, 0.42378, 0.42507, 0.42636, 0.42765000000000003, 0.42894, 0.43023, 0.43152, 0.43281000000000003, 0.43410000000000004, 0.43539, 0.43668, 0.43796999999999997, 0.43926, 0.44055, 0.44184, 0.44313, 0.44442000000000004, 0.44571000000000005, 0.447, 0.44828999999999997, 0.44958, 0.45087, 0.45216, 0.45345, 0.45474000000000003, 0.45603000000000005, 0.45732, 0.45861, 0.4599, 0.46119, 0.46248, 0.46377, 0.46506000000000003, 0.46635, 0.46764000000000006, 0.46893, 0.47021999999999997, 0.47151, 0.4728, 0.47409, 0.47538, 0.47667000000000004, 0.47796000000000005, 0.47925, 0.48053999999999997, 0.48183, 0.48312, 0.48441, 0.4857, 0.48699000000000003, 0.48828000000000005, 0.48957, 0.49086, 0.49215, 0.49344, 0.49473, 0.49602, 0.49731000000000003, 0.4986, 0.49989000000000006, 0.50118, 0.50247, 0.50376, 0.50505, 0.50634, 0.50763, 0.50892, 0.51021, 0.5115000000000001, 0.51279, 0.51408, 0.51537, 0.51666, 0.51795, 0.51924, 0.5205299999999999, 0.52182, 0.52311, 0.5244, 0.52569, 0.52698, 0.52827, 0.52956, 0.53085, 0.5321400000000001, 0.5334300000000001, 0.53472, 0.53601, 0.5373, 0.53859, 0.53988, 0.54117, 0.54246, 0.54375, 0.54504, 0.54633, 0.54762, 0.54891, 0.5502, 0.55149, 0.55278, 0.5540700000000001, 0.5553600000000001, 0.55665, 0.55794, 0.55923, 0.56052, 0.56181, 0.5630999999999999, 0.5643900000000001, 0.56568, 0.56697, 0.56826, 0.56955, 0.57084, 0.57213, 0.57342, 0.57471, 0.5760000000000001, 0.5772900000000001, 0.57858, 0.57987, 0.58116, 0.5824499999999999, 0.58374, 0.58503, 0.58632, 0.58761, 0.5889, 0.59019, 0.59148, 0.59277, 0.59406, 0.59535, 0.5966400000000001, 0.5979300000000001, 0.5992200000000001, 0.60051, 0.6018, 0.60309, 0.6043799999999999, 0.60567, 0.60696, 0.60825, 0.60954, 0.61083, 0.61212, 0.61341, 0.6147, 0.61599, 0.61728, 0.6185700000000001, 0.6198600000000001, 0.6211500000000001, 0.62244, 0.62373, 0.6250199999999999, 0.62631, 0.6276, 0.62889, 0.63018, 0.63147, 0.63276, 0.63405, 0.63534, 0.63663, 0.63792, 0.6392100000000001, 0.6405000000000001, 0.6417900000000001, 0.64308, 0.64437, 0.64566, 0.6469499999999999, 0.64824, 0.64953, 0.65082, 0.65211, 0.6534, 0.65469, 0.65598, 0.65727, 0.65856, 0.65985, 0.6611400000000001, 0.6624300000000001, 0.6637200000000001, 0.66501, 0.6663, 0.66759, 0.6688799999999999, 0.67017, 0.6714600000000001, 0.67275, 0.67404, 0.67533, 0.67662, 0.67791, 0.6792, 0.68049, 0.68178, 0.6830700000000001, 0.6843600000000001, 0.6856500000000001, 0.68694, 0.68823, 0.6895199999999999, 0.6908099999999999, 0.6921, 0.69339, 0.69468, 0.69597, 0.69726, 0.69855, 0.69984, 0.70113, 0.70242, 0.7037100000000001, 0.7050000000000001, 0.7062900000000001, 0.70758, 0.70887, 0.71016, 0.7114499999999999, 0.71274, 0.71403, 0.71532, 0.71661, 0.7179, 0.71919, 0.72048, 0.72177, 0.72306, 0.72435, 0.7256400000000001, 0.7269300000000001, 0.7282200000000001, 0.72951, 0.7308, 0.73209, 0.7333799999999999, 0.73467, 0.7359600000000001, 0.73725, 0.73854, 0.73983, 0.74112, 0.74241, 0.7437, 0.74499, 0.74628, 0.7475700000000001, 0.7488600000000001, 0.7501500000000001, 0.75144, 0.75273, 0.75402, 0.7553099999999999, 0.7566, 0.75789, 0.75918, 0.76047, 0.76176, 0.76305, 0.76434, 0.76563, 0.76692, 0.7682100000000001, 0.7695000000000001, 0.7707900000000001, 0.7720800000000001, 0.77337, 0.77466, 0.7759499999999999, 0.7772399999999999, 0.77853, 0.77982, 0.78111, 0.7824, 0.78369, 0.78498, 0.78627, 0.78756, 0.78885, 0.7901400000000001, 0.7914300000000001, 0.7927200000000001, 0.79401, 0.7953, 0.79659, 0.7978799999999999, 0.79917, 0.8004600000000001, 0.80175, 0.80304, 0.80433, 0.80562, 0.80691, 0.8082, 0.80949, 0.8107800000000001, 0.8120700000000001, 0.8133600000000001, 0.8146500000000001, 0.81594, 0.81723, 0.8185200000000001, 0.8198099999999999, 0.8210999999999999, 0.82239, 0.82368, 0.82497, 0.82626, 0.82755, 0.82884, 0.83013, 0.83142, 0.8327100000000001, 0.8340000000000001, 0.8352899999999999, 0.8365800000000001, 0.8378700000000001, 0.8391599999999999, 0.8404500000000001, 0.8417399999999999, 0.84303, 0.84432, 0.84561, 0.8469, 0.84819, 0.84948, 0.85077, 0.85206, 0.85335, 0.8546400000000001, 0.8559300000000001, 0.8572200000000001, 0.8585100000000001, 0.8598000000000001, 0.8610900000000001, 0.8623799999999999, 0.8636699999999999, 0.86496, 0.86625, 0.86754, 0.86883, 0.87012, 0.87141, 0.8727, 0.87399, 0.8752800000000001, 0.8765700000000001, 0.8778600000000001, 0.8791499999999999, 0.8804400000000001, 0.8817300000000001, 0.8830199999999999, 0.8843100000000002, 0.8855999999999999, 0.88689, 0.88818, 0.88947, 0.89076, 0.89205, 0.89334, 0.89463, 0.89592, 0.8972100000000001, 0.8985000000000001, 0.8997899999999999, 0.9010800000000001, 0.9023700000000001, 0.9036599999999999, 0.9049500000000001, 0.9062399999999999, 0.90753, 0.90882, 0.91011, 0.9114, 0.91269, 0.91398, 0.91527, 0.91656, 0.91785, 0.9191400000000001, 0.9204300000000001, 0.9217200000000001, 0.9230099999999999, 0.9243000000000001, 0.9255900000000001, 0.9268799999999999, 0.9281700000000002, 0.92946, 0.93075, 0.93204, 0.93333, 0.93462, 0.93591, 0.9372, 0.93849, 0.9397800000000001, 0.9410700000000001, 0.9423600000000001, 0.9436499999999999, 0.9449400000000001, 0.9462300000000001, 0.9475199999999999, 0.9488100000000002, 0.9501, 0.95139, 0.95268, 0.95397, 0.95526, 0.95655, 0.95784, 0.95913, 0.96042, 0.9617100000000001], \"xaxis\": \"x\", \"y\": [0.1902678461774076, 0.1914657872892867, 0.19263297918993205, 0.19376950858003852, 0.19487549997612805, 0.1959511148495583, 0.19699655069338431, 0.1980120400214913, 0.19899784930470615, 0.1999542778488757, 0.20088165662015414, 0.20178034702298475, 0.20265073963648447, 0.20349325291513184, 0.2043083318598438, 0.2050964466656768, 0.205858091352519, 0.206593782385244, 0.20730405728988022, 0.2079894732723965, 0.2086506058467369, 0.20928804747873317, 0.20990240625249387, 0.21049430456581575, 0.21106437786107363, 0.21161327339793473, 0.21214164907410207, 0.21265017230012148, 0.21313951893409178, 0.21361037228189395, 0.21406342216830385, 0.21449936408408268, 0.21491889841383152, 0.21532272974907832, 0.2157115662907156, 0.2160861193445376, 0.2164471029132368, 0.21679523338780915, 0.2171312293408916, 0.21745581142410939, 0.21776970237105453, 0.21807362710704362, 0.21836831296631853, 0.21865449001686293, 0.21893289149250406, 0.21920425433146418, 0.21946931982001253, 0.2197288343393583, 0.21998355021340843, 0.22023422665450618, 0.22048163080375588, 0.22072653886204027, 0.22096973730734137, 0.22121202419349464, 0.22145421052503364, 0.22169712170232547, 0.22194159903075716, 0.22218850128730963, 0.22243870633745128, 0.22269311279490503, 0.2229526417164811, 0.2232182383238366, 0.22349087374371598, 0.22377154675794864, 0.2240612855542307, 0.22436114946850108, 0.22467223070953593, 0.2249956560562347, 0.22533258851795032, 0.22568422894813842, 0.2260518176015492, 0.22643663562517888, 0.22684000647322475, 0.2272632972363516, 0.227707919875684, 0.22817533235207532, 0.22866703964138926, 0.22918459462674357, 0.22972959885892252, 0.23030370317645737, 0.23090860817720354, 0.23154606453361068, 0.23221787314428063, 0.23292588511484671, 0.2336720015616776, 0.23445817323240836, 0.2352863999378383, 0.23615872979029448, 0.23707725824415343, 0.2380441269348298, 0.23906152231318328, 0.2401316740729612, 0.24125685336957894, 0.24243937082924766, 0.24368157434817994, 0.2449858466823395, 0.24635460282895413, 0.2477902872017654, 0.2492953706027596, 0.25087234699389444, 0.25252373007311, 0.25425204965969056, 0.25605984789481095, 0.2579496752638728, 0.2599240864479946, 0.26198563601276453, 0.26413687394310875, 0.26638034103383823, 0.26871856414614903, 0.2711540513410259, 0.27368928690115685, 0.2763267262536044, 0.27906879080607105, 0.28191786271018165, 0.2848762795657358, 0.28794632908038736, 0.29113024369968127, 0.2944301952227907, 0.29784828941969604, 0.3013865606658777, 0.30504696661088654, 0.3088313828974151, 0.31274159794767814, 0.3167793078340627, 0.3209461112511061, 0.3252435046058981, 0.32967287724399885, 0.33423550682788716, 0.3389325548848469, 0.34376506254100786, 0.34873394645803074, 0.35383999498863694, 0.3590838645668275, 0.36446607634824163, 0.369987013115643, 0.37564691646399817, 0.3814458842790586, 0.38738386852271056, 0.39346067333770685, 0.3996759534836392, 0.4060292131152533, 0.4125198049133699, 0.4191469295778008, 0.4259096356907462, 0.4328068199581736, 0.4398372278357048, 0.446999454544488, 0.4542919464814534, 0.46171300302726714, 0.4692607787541439, 0.4769332860345371, 0.48472839805054313, 0.49264385220264917, 0.5006772539152508, 0.5088260808351369, 0.5170876874179068, 0.5254593098960516, 0.5339380716211843, 0.5425209887716977, 0.5512049764158639, 0.5599868549192244, 0.5688633566838943, 0.5778311332062332, 0.5868867624382008, 0.5960267564365802, 0.6052475692831636, 0.6145456052579645, 0.6239172272464746, 0.6333587653610567, 0.642866525755617, 0.6524367996118535, 0.6620658722745599, 0.6717500325127176, 0.6814855818824176, 0.6912688441670369, 0.7010961748695236, 0.7109639707311899, 0.7208686792509744, 0.7308068081788086, 0.7407749349564822, 0.7507697160792031, 0.7607878963509512, 0.7708263180067413, 0.7808819296749345, 0.7909517951529363, 0.8010331019698137, 0.8111231697097286, 0.8212194580704556, 0.831319574631758, 0.841421282308981, 0.8515225064678519, 0.8616213416772326, 0.8717160580773639, 0.8818051073420838, 0.8918871282143894, 0.9019609515958203, 0.9120256051712264, 0.9220803175516505, 0.9321245219192948, 0.9421578591598577, 0.9521801804688623, 0.9621915494199922, 0.9721922434849366, 0.9821827549957061, 0.9921637915419282, 1.0021362757971874, 1.012101344770089, 1.0220603484772992, 1.0320148480374953, 1.041966613186767, 1.051917619217676, 1.0618700433458308, 1.0718262605094893, 1.0817888386093206, 1.0917605331971052, 1.1017442816237182, 1.1117431966583564, 1.12176055959249, 1.131799812843503, 1.1418645520745045, 1.1519585178481662, 1.1620855868337907, 1.1722497625881878, 1.1824551659321083, 1.1927060249451946, 1.2030066646035287, 1.2133614960848682, 1.2237750057676295, 1.2342517439505576, 1.2447963133208095, 1.2554133571988981, 1.266107547589534, 1.2768835730679788, 1.2877461265319068, 1.2986998928491653, 1.3097495364320304, 1.3208996887687403, 1.3321549359431506, 1.3435198061732618, 1.3549987573993465, 1.3665961649520617, 1.3783163093307085, 1.3901633641213411, 1.4021413840839432, 1.4142542934373292, 1.4265058743697123, 1.4388997558021874, 1.451439402431514, 1.464128104077671, 1.476968965360736, 1.4899648957305365, 1.5031185998714471, 1.5164325685035576, 1.529909069600182, 1.5435501400404394, 1.5573575777143192, 1.5713329340962887, 1.5854775073021123, 1.5997923356421537, 1.6142781916829745, 1.6289355768275902, 1.643764716423295, 1.6587655554044511, 1.6739377544762117, 1.6892806868436132, 1.7047934354890386, 1.7204747909996154, 1.7363232499446273, 1.752337013801636, 1.7685139884286434, 1.784851784078235, 1.801347715948347, 1.8179988052630387, 1.8348017808754151, 1.8517530813836476, 1.8688488577499547, 1.8860849764112968, 1.9034570228695367, 1.9209603057478781, 1.9385898612994925, 1.9563404583534312, 1.9742066036821477, 1.992182547774275, 2.010262290995701, 2.0284395901214056, 2.0467079652200524, 2.065060706872938, 2.083490883708551, 2.101991350233688, 2.1205547549419643, 2.1391735486803007, 2.1578399932540258, 2.17654617025113, 2.1952839900663195, 2.2140452011056437, 2.232821399152596, 2.251604036876889, 2.2703844334673495, 2.2891537843706984, 2.307903171118406, 2.3266235712242174, 2.3453058681353944, 2.3639408612212054, 2.382519275782808, 2.401031773069098, 2.4194689602837967, 2.437821400569609, 2.45607962295588, 2.4742341322568686, 2.4922754189083705, 2.5101939687310506, 2.527980272609573, 2.5456248360771747, 2.5631181887960617, 2.5804508939245903, 2.5976135573628443, 2.614596836868846, 2.6313914510382252, 2.647988188140735, 2.664377914807592, 2.680551584564149, 2.696500246202877, 2.712215051992141, 2.7276872657167517, 2.7429082705465806, 2.757869576730012, 2.7725628291093627, 2.7869798144556066, 2.801112468620201, 2.8149528835019053, 2.828493313826808, 2.8417261837399477, 2.8546440932069888, 2.8672398242246597, 2.8795063468386597, 2.891436824967811, 2.9030246220333296, 2.91426330639199, 2.9251466565720237, 2.9356686663105096, 2.945823549390951, 2.9556057442796217, 2.9650099185592445, 2.974030973158307, 2.982664046374344, 2.9909045176892417, 2.9987480113745515, 3.0061903998846033, 3.013227807035082, 3.019856610964549, 3.0260734468762243, 3.0318752095572545, 3.0372590556724752, 3.042222405829596, 3.0467629464125885, 3.0508786311799847, 3.0545676826246613, 3.0578285930916587, 3.060660125650521, 3.063061314718598, 3.0650314664318006, 3.0665701587592737, 3.0676772413585383, 3.0683528351677287, 3.0685973317316733, 3.068411392258679, 3.0677959464050946, 3.0667521907849298, 3.065281587201996, 3.0633858606023807, 3.061066996745332, 3.0583272395909304, 3.0551690884033964, 3.0515952945691422, 3.0476088581292258, 3.0432130240262514, 3.038411278066267, 3.033207342596716, 3.0276051719020374, 3.0216089473190797, 3.0152230720750195, 3.0084521658511894, 3.0013010590766673, 2.9937747869562914, 2.9858785832382626, 2.9776178737272354, 2.968998269549439, 2.9600255601769887, 2.950705706219321, 2.941044831990243, 2.931049217859806, 2.9207252924008906, 2.910079624340995, 2.8991189143303897, 2.887849986538412, 2.8762797800902846, 2.864415340357457, 2.852263810114968, 2.839832420579958, 2.8271284823458944, 2.8141593762276123, 2.80093254403268, 2.787455479275067, 2.773735717847433, 2.7597808286686747, 2.7455984043237556, 2.731196051713044, 2.7165813827285246, 2.701762004974614, 2.686745512551232, 2.671539476916959, 2.656151437850105, 2.6405888945255342, 2.624859296724913, 2.6089700361980457, 2.5929284381926725, 2.57674175316998, 2.5604171487226863, 2.543961701712314, 2.527382390641851, 2.5106860882795616, 2.493879554549215, 2.476969429701541, 2.4599622277810123, 2.442864330401595, 2.425681980844295, 2.408421278488705, 2.391088173589976, 2.3736884624118666, 2.3562277827256777, 2.338711609684016, 2.321145252077482, 2.3035338489814086, 2.285882366798843, 2.268195596705014, 2.250478152497509, 2.2327344688553743, 2.2149688000093946, 2.197185218824596, 2.1793876162952017, 2.161579701451081, 2.1437650016736036, 2.1259468634179886, 2.108128453337968, 2.0903127598076363, 2.0725025948343383, 2.054700596355401, 2.036909230910507, 2.019130796680551, 2.0013674268828776, 1.9836210935117984, 1.965893611412477, 1.9481866426753327, 1.9305017013373469, 1.9128401583757513, 1.895203246978955, 1.8775920680788207, 1.860007596127588, 1.8424506851024023, 1.8249220747195771, 1.8074223968403396, 1.78995218204933, 1.7725118663866772, 1.7551017982141726, 1.7377222451957182, 1.7203734013720193, 1.7030553943093365, 1.685768292301922, 1.668512111607784, 1.651286823697407, 1.6340923624950503, 1.6169286315925278, 1.599795511415348, 1.58269286632151, 1.5656205516135182, 1.5485784204443824, 1.5315663305990739, 1.5145841511330786, 1.497631768850403, 1.4807090946039079, 1.4638160694014437, 1.446952670301959, 1.4301189160864567, 1.4133148726894562, 1.396540658377363, 1.3797964486610417, 1.363082480930707, 1.34639905880223, 1.3297465561647157, 1.313125420920397, 1.2965361784086957, 1.2799794345072837, 1.2634558784041638, 1.2469662850356147, 1.2305115171859755, 1.2140925272462733, 1.1977103586297269, 1.1813661468431822, 1.1650611202145749, 1.1487966002775638], \"yaxis\": \"y\"}],                        {\"barmode\": \"overlay\", \"hovermode\": \"closest\", \"legend\": {\"traceorder\": \"reversed\"}, \"template\": {\"data\": {\"bar\": [{\"error_x\": {\"color\": \"#2a3f5f\"}, \"error_y\": {\"color\": \"#2a3f5f\"}, \"marker\": {\"line\": {\"color\": \"#E5ECF6\", \"width\": 0.5}}, \"type\": \"bar\"}], \"barpolar\": [{\"marker\": {\"line\": {\"color\": \"#E5ECF6\", \"width\": 0.5}}, \"type\": \"barpolar\"}], \"carpet\": [{\"aaxis\": {\"endlinecolor\": \"#2a3f5f\", \"gridcolor\": \"white\", \"linecolor\": \"white\", \"minorgridcolor\": \"white\", \"startlinecolor\": \"#2a3f5f\"}, \"baxis\": {\"endlinecolor\": \"#2a3f5f\", \"gridcolor\": \"white\", \"linecolor\": \"white\", \"minorgridcolor\": \"white\", \"startlinecolor\": \"#2a3f5f\"}, \"type\": \"carpet\"}], \"choropleth\": [{\"colorbar\": {\"outlinewidth\": 0, \"ticks\": \"\"}, \"type\": \"choropleth\"}], \"contour\": [{\"colorbar\": {\"outlinewidth\": 0, \"ticks\": \"\"}, \"colorscale\": [[0.0, \"#0d0887\"], [0.1111111111111111, \"#46039f\"], [0.2222222222222222, \"#7201a8\"], [0.3333333333333333, \"#9c179e\"], [0.4444444444444444, \"#bd3786\"], [0.5555555555555556, \"#d8576b\"], [0.6666666666666666, \"#ed7953\"], [0.7777777777777778, \"#fb9f3a\"], [0.8888888888888888, \"#fdca26\"], [1.0, \"#f0f921\"]], \"type\": \"contour\"}], \"contourcarpet\": [{\"colorbar\": {\"outlinewidth\": 0, \"ticks\": \"\"}, \"type\": \"contourcarpet\"}], \"heatmap\": [{\"colorbar\": {\"outlinewidth\": 0, \"ticks\": \"\"}, \"colorscale\": [[0.0, \"#0d0887\"], [0.1111111111111111, \"#46039f\"], [0.2222222222222222, \"#7201a8\"], [0.3333333333333333, \"#9c179e\"], [0.4444444444444444, \"#bd3786\"], [0.5555555555555556, \"#d8576b\"], [0.6666666666666666, \"#ed7953\"], [0.7777777777777778, \"#fb9f3a\"], [0.8888888888888888, \"#fdca26\"], [1.0, \"#f0f921\"]], \"type\": \"heatmap\"}], \"heatmapgl\": [{\"colorbar\": {\"outlinewidth\": 0, \"ticks\": \"\"}, \"colorscale\": [[0.0, \"#0d0887\"], [0.1111111111111111, \"#46039f\"], [0.2222222222222222, \"#7201a8\"], [0.3333333333333333, \"#9c179e\"], [0.4444444444444444, \"#bd3786\"], [0.5555555555555556, \"#d8576b\"], [0.6666666666666666, \"#ed7953\"], [0.7777777777777778, \"#fb9f3a\"], [0.8888888888888888, \"#fdca26\"], [1.0, \"#f0f921\"]], \"type\": \"heatmapgl\"}], \"histogram\": [{\"marker\": {\"colorbar\": {\"outlinewidth\": 0, \"ticks\": \"\"}}, \"type\": \"histogram\"}], \"histogram2d\": [{\"colorbar\": {\"outlinewidth\": 0, \"ticks\": \"\"}, \"colorscale\": [[0.0, \"#0d0887\"], [0.1111111111111111, \"#46039f\"], [0.2222222222222222, \"#7201a8\"], [0.3333333333333333, \"#9c179e\"], [0.4444444444444444, \"#bd3786\"], [0.5555555555555556, \"#d8576b\"], [0.6666666666666666, \"#ed7953\"], [0.7777777777777778, \"#fb9f3a\"], [0.8888888888888888, \"#fdca26\"], [1.0, \"#f0f921\"]], \"type\": \"histogram2d\"}], \"histogram2dcontour\": [{\"colorbar\": {\"outlinewidth\": 0, \"ticks\": \"\"}, \"colorscale\": [[0.0, \"#0d0887\"], [0.1111111111111111, \"#46039f\"], [0.2222222222222222, \"#7201a8\"], [0.3333333333333333, \"#9c179e\"], [0.4444444444444444, \"#bd3786\"], [0.5555555555555556, \"#d8576b\"], [0.6666666666666666, \"#ed7953\"], [0.7777777777777778, \"#fb9f3a\"], [0.8888888888888888, \"#fdca26\"], [1.0, \"#f0f921\"]], \"type\": \"histogram2dcontour\"}], \"mesh3d\": [{\"colorbar\": {\"outlinewidth\": 0, \"ticks\": \"\"}, \"type\": \"mesh3d\"}], \"parcoords\": [{\"line\": {\"colorbar\": {\"outlinewidth\": 0, \"ticks\": \"\"}}, \"type\": \"parcoords\"}], \"pie\": [{\"automargin\": true, \"type\": \"pie\"}], \"scatter\": [{\"marker\": {\"colorbar\": {\"outlinewidth\": 0, \"ticks\": \"\"}}, \"type\": \"scatter\"}], \"scatter3d\": [{\"line\": {\"colorbar\": {\"outlinewidth\": 0, \"ticks\": \"\"}}, \"marker\": {\"colorbar\": {\"outlinewidth\": 0, \"ticks\": \"\"}}, \"type\": \"scatter3d\"}], \"scattercarpet\": [{\"marker\": {\"colorbar\": {\"outlinewidth\": 0, \"ticks\": \"\"}}, \"type\": \"scattercarpet\"}], \"scattergeo\": [{\"marker\": {\"colorbar\": {\"outlinewidth\": 0, \"ticks\": \"\"}}, \"type\": \"scattergeo\"}], \"scattergl\": [{\"marker\": {\"colorbar\": {\"outlinewidth\": 0, \"ticks\": \"\"}}, \"type\": \"scattergl\"}], \"scattermapbox\": [{\"marker\": {\"colorbar\": {\"outlinewidth\": 0, \"ticks\": \"\"}}, \"type\": \"scattermapbox\"}], \"scatterpolar\": [{\"marker\": {\"colorbar\": {\"outlinewidth\": 0, \"ticks\": \"\"}}, \"type\": \"scatterpolar\"}], \"scatterpolargl\": [{\"marker\": {\"colorbar\": {\"outlinewidth\": 0, \"ticks\": \"\"}}, \"type\": \"scatterpolargl\"}], \"scatterternary\": [{\"marker\": {\"colorbar\": {\"outlinewidth\": 0, \"ticks\": \"\"}}, \"type\": \"scatterternary\"}], \"surface\": [{\"colorbar\": {\"outlinewidth\": 0, \"ticks\": \"\"}, \"colorscale\": [[0.0, \"#0d0887\"], [0.1111111111111111, \"#46039f\"], [0.2222222222222222, \"#7201a8\"], [0.3333333333333333, \"#9c179e\"], [0.4444444444444444, \"#bd3786\"], [0.5555555555555556, \"#d8576b\"], [0.6666666666666666, \"#ed7953\"], [0.7777777777777778, \"#fb9f3a\"], [0.8888888888888888, \"#fdca26\"], [1.0, \"#f0f921\"]], \"type\": \"surface\"}], \"table\": [{\"cells\": {\"fill\": {\"color\": \"#EBF0F8\"}, \"line\": {\"color\": \"white\"}}, \"header\": {\"fill\": {\"color\": \"#C8D4E3\"}, \"line\": {\"color\": \"white\"}}, \"type\": \"table\"}]}, \"layout\": {\"annotationdefaults\": {\"arrowcolor\": \"#2a3f5f\", \"arrowhead\": 0, \"arrowwidth\": 1}, \"autotypenumbers\": \"strict\", \"coloraxis\": {\"colorbar\": {\"outlinewidth\": 0, \"ticks\": \"\"}}, \"colorscale\": {\"diverging\": [[0, \"#8e0152\"], [0.1, \"#c51b7d\"], [0.2, \"#de77ae\"], [0.3, \"#f1b6da\"], [0.4, \"#fde0ef\"], [0.5, \"#f7f7f7\"], [0.6, \"#e6f5d0\"], [0.7, \"#b8e186\"], [0.8, \"#7fbc41\"], [0.9, \"#4d9221\"], [1, \"#276419\"]], \"sequential\": [[0.0, \"#0d0887\"], [0.1111111111111111, \"#46039f\"], [0.2222222222222222, \"#7201a8\"], [0.3333333333333333, \"#9c179e\"], [0.4444444444444444, \"#bd3786\"], [0.5555555555555556, \"#d8576b\"], [0.6666666666666666, \"#ed7953\"], [0.7777777777777778, \"#fb9f3a\"], [0.8888888888888888, \"#fdca26\"], [1.0, \"#f0f921\"]], \"sequentialminus\": [[0.0, \"#0d0887\"], [0.1111111111111111, \"#46039f\"], [0.2222222222222222, \"#7201a8\"], [0.3333333333333333, \"#9c179e\"], [0.4444444444444444, \"#bd3786\"], [0.5555555555555556, \"#d8576b\"], [0.6666666666666666, \"#ed7953\"], [0.7777777777777778, \"#fb9f3a\"], [0.8888888888888888, \"#fdca26\"], [1.0, \"#f0f921\"]]}, \"colorway\": [\"#636efa\", \"#EF553B\", \"#00cc96\", \"#ab63fa\", \"#FFA15A\", \"#19d3f3\", \"#FF6692\", \"#B6E880\", \"#FF97FF\", \"#FECB52\"], \"font\": {\"color\": \"#2a3f5f\"}, \"geo\": {\"bgcolor\": \"white\", \"lakecolor\": \"white\", \"landcolor\": \"#E5ECF6\", \"showlakes\": true, \"showland\": true, \"subunitcolor\": \"white\"}, \"hoverlabel\": {\"align\": \"left\"}, \"hovermode\": \"closest\", \"mapbox\": {\"style\": \"light\"}, \"paper_bgcolor\": \"white\", \"plot_bgcolor\": \"#E5ECF6\", \"polar\": {\"angularaxis\": {\"gridcolor\": \"white\", \"linecolor\": \"white\", \"ticks\": \"\"}, \"bgcolor\": \"#E5ECF6\", \"radialaxis\": {\"gridcolor\": \"white\", \"linecolor\": \"white\", \"ticks\": \"\"}}, \"scene\": {\"xaxis\": {\"backgroundcolor\": \"#E5ECF6\", \"gridcolor\": \"white\", \"gridwidth\": 2, \"linecolor\": \"white\", \"showbackground\": true, \"ticks\": \"\", \"zerolinecolor\": \"white\"}, \"yaxis\": {\"backgroundcolor\": \"#E5ECF6\", \"gridcolor\": \"white\", \"gridwidth\": 2, \"linecolor\": \"white\", \"showbackground\": true, \"ticks\": \"\", \"zerolinecolor\": \"white\"}, \"zaxis\": {\"backgroundcolor\": \"#E5ECF6\", \"gridcolor\": \"white\", \"gridwidth\": 2, \"linecolor\": \"white\", \"showbackground\": true, \"ticks\": \"\", \"zerolinecolor\": \"white\"}}, \"shapedefaults\": {\"line\": {\"color\": \"#2a3f5f\"}}, \"ternary\": {\"aaxis\": {\"gridcolor\": \"white\", \"linecolor\": \"white\", \"ticks\": \"\"}, \"baxis\": {\"gridcolor\": \"white\", \"linecolor\": \"white\", \"ticks\": \"\"}, \"bgcolor\": \"#E5ECF6\", \"caxis\": {\"gridcolor\": \"white\", \"linecolor\": \"white\", \"ticks\": \"\"}}, \"title\": {\"x\": 0.05}, \"xaxis\": {\"automargin\": true, \"gridcolor\": \"white\", \"linecolor\": \"white\", \"ticks\": \"\", \"title\": {\"standoff\": 15}, \"zerolinecolor\": \"white\", \"zerolinewidth\": 2}, \"yaxis\": {\"automargin\": true, \"gridcolor\": \"white\", \"linecolor\": \"white\", \"ticks\": \"\", \"title\": {\"standoff\": 15}, \"zerolinecolor\": \"white\", \"zerolinewidth\": 2}}}, \"xaxis\": {\"anchor\": \"y2\", \"domain\": [0.0, 1.0], \"zeroline\": false}, \"yaxis\": {\"anchor\": \"free\", \"domain\": [0.0, 1], \"position\": 0.0}},                        {\"responsive\": true}                    ).then(function(){\n",
       "                            \n",
       "var gd = document.getElementById('5b469983-470d-44aa-bf42-863894c19892');\n",
       "var x = new MutationObserver(function (mutations, observer) {{\n",
       "        var display = window.getComputedStyle(gd).display;\n",
       "        if (!display || display === 'none') {{\n",
       "            console.log([gd, 'removed!']);\n",
       "            Plotly.purge(gd);\n",
       "            observer.disconnect();\n",
       "        }}\n",
       "}});\n",
       "\n",
       "// Listen for the removal of the full notebook cells\n",
       "var notebookContainer = gd.closest('#notebook-container');\n",
       "if (notebookContainer) {{\n",
       "    x.observe(notebookContainer, {childList: true});\n",
       "}}\n",
       "\n",
       "// Listen for the clearing of the current output cell\n",
       "var outputEl = gd.closest('.output');\n",
       "if (outputEl) {{\n",
       "    x.observe(outputEl, {childList: true});\n",
       "}}\n",
       "\n",
       "                        })                };                });            </script>        </div>"
      ]
     },
     "metadata": {},
     "output_type": "display_data"
    }
   ],
   "source": [
    "# fig = px.histogram(playlist,\n",
    "#                    x=['danceability', 'energy'],\n",
    "#                    barmode='group')\n",
    "# fig.show()\n",
    "\n",
    "fig = ff.create_distplot([playlist['danceability'], playlist['energy']],\n",
    "                         ['danceability', 'energy'],\n",
    "                         bin_size=.1,\n",
    "                         show_rug=False)\n",
    "# fig.update_xaxes(range=[0,1.])\n",
    "fig.show()"
   ]
  },
  {
   "cell_type": "code",
   "execution_count": 64,
   "id": "e4918909",
   "metadata": {},
   "outputs": [],
   "source": [
    "def date_to_year(date):\n",
    "    return int(date[:4])\n",
    "date_to_year = np.vectorize(date_to_year)"
   ]
  },
  {
   "cell_type": "code",
   "execution_count": 37,
   "id": "e84c44a7",
   "metadata": {},
   "outputs": [],
   "source": [
    "playlist[\"release_year\"] = date_to_year(playlist['release_date'])"
   ]
  },
  {
   "cell_type": "code",
   "execution_count": 49,
   "id": "b6184049",
   "metadata": {},
   "outputs": [
    {
     "data": {
      "application/vnd.plotly.v1+json": {
       "config": {
        "plotlyServerURL": "https://plot.ly"
       },
       "data": [
        {
         "alignmentgroup": "True",
         "hovertemplate": "variable=release_year<br>index=%{x}<br>value=%{y}<extra></extra>",
         "legendgroup": "release_year",
         "marker": {
          "color": "#636efa"
         },
         "name": "release_year",
         "offsetgroup": "release_year",
         "orientation": "v",
         "showlegend": true,
         "textposition": "auto",
         "type": "bar",
         "x": [
          2014,
          2013,
          2012,
          2010,
          2011,
          2015,
          2008,
          2009,
          2016,
          2017
         ],
         "xaxis": "x",
         "y": [
          11,
          10,
          5,
          3,
          3,
          3,
          1,
          1,
          1,
          1
         ],
         "yaxis": "y"
        }
       ],
       "layout": {
        "barmode": "relative",
        "legend": {
         "title": {
          "text": "variable"
         },
         "tracegroupgap": 0
        },
        "margin": {
         "t": 60
        },
        "showlegend": false,
        "template": {
         "data": {
          "bar": [
           {
            "error_x": {
             "color": "#2a3f5f"
            },
            "error_y": {
             "color": "#2a3f5f"
            },
            "marker": {
             "line": {
              "color": "#E5ECF6",
              "width": 0.5
             }
            },
            "type": "bar"
           }
          ],
          "barpolar": [
           {
            "marker": {
             "line": {
              "color": "#E5ECF6",
              "width": 0.5
             }
            },
            "type": "barpolar"
           }
          ],
          "carpet": [
           {
            "aaxis": {
             "endlinecolor": "#2a3f5f",
             "gridcolor": "white",
             "linecolor": "white",
             "minorgridcolor": "white",
             "startlinecolor": "#2a3f5f"
            },
            "baxis": {
             "endlinecolor": "#2a3f5f",
             "gridcolor": "white",
             "linecolor": "white",
             "minorgridcolor": "white",
             "startlinecolor": "#2a3f5f"
            },
            "type": "carpet"
           }
          ],
          "choropleth": [
           {
            "colorbar": {
             "outlinewidth": 0,
             "ticks": ""
            },
            "type": "choropleth"
           }
          ],
          "contour": [
           {
            "colorbar": {
             "outlinewidth": 0,
             "ticks": ""
            },
            "colorscale": [
             [
              0,
              "#0d0887"
             ],
             [
              0.1111111111111111,
              "#46039f"
             ],
             [
              0.2222222222222222,
              "#7201a8"
             ],
             [
              0.3333333333333333,
              "#9c179e"
             ],
             [
              0.4444444444444444,
              "#bd3786"
             ],
             [
              0.5555555555555556,
              "#d8576b"
             ],
             [
              0.6666666666666666,
              "#ed7953"
             ],
             [
              0.7777777777777778,
              "#fb9f3a"
             ],
             [
              0.8888888888888888,
              "#fdca26"
             ],
             [
              1,
              "#f0f921"
             ]
            ],
            "type": "contour"
           }
          ],
          "contourcarpet": [
           {
            "colorbar": {
             "outlinewidth": 0,
             "ticks": ""
            },
            "type": "contourcarpet"
           }
          ],
          "heatmap": [
           {
            "colorbar": {
             "outlinewidth": 0,
             "ticks": ""
            },
            "colorscale": [
             [
              0,
              "#0d0887"
             ],
             [
              0.1111111111111111,
              "#46039f"
             ],
             [
              0.2222222222222222,
              "#7201a8"
             ],
             [
              0.3333333333333333,
              "#9c179e"
             ],
             [
              0.4444444444444444,
              "#bd3786"
             ],
             [
              0.5555555555555556,
              "#d8576b"
             ],
             [
              0.6666666666666666,
              "#ed7953"
             ],
             [
              0.7777777777777778,
              "#fb9f3a"
             ],
             [
              0.8888888888888888,
              "#fdca26"
             ],
             [
              1,
              "#f0f921"
             ]
            ],
            "type": "heatmap"
           }
          ],
          "heatmapgl": [
           {
            "colorbar": {
             "outlinewidth": 0,
             "ticks": ""
            },
            "colorscale": [
             [
              0,
              "#0d0887"
             ],
             [
              0.1111111111111111,
              "#46039f"
             ],
             [
              0.2222222222222222,
              "#7201a8"
             ],
             [
              0.3333333333333333,
              "#9c179e"
             ],
             [
              0.4444444444444444,
              "#bd3786"
             ],
             [
              0.5555555555555556,
              "#d8576b"
             ],
             [
              0.6666666666666666,
              "#ed7953"
             ],
             [
              0.7777777777777778,
              "#fb9f3a"
             ],
             [
              0.8888888888888888,
              "#fdca26"
             ],
             [
              1,
              "#f0f921"
             ]
            ],
            "type": "heatmapgl"
           }
          ],
          "histogram": [
           {
            "marker": {
             "colorbar": {
              "outlinewidth": 0,
              "ticks": ""
             }
            },
            "type": "histogram"
           }
          ],
          "histogram2d": [
           {
            "colorbar": {
             "outlinewidth": 0,
             "ticks": ""
            },
            "colorscale": [
             [
              0,
              "#0d0887"
             ],
             [
              0.1111111111111111,
              "#46039f"
             ],
             [
              0.2222222222222222,
              "#7201a8"
             ],
             [
              0.3333333333333333,
              "#9c179e"
             ],
             [
              0.4444444444444444,
              "#bd3786"
             ],
             [
              0.5555555555555556,
              "#d8576b"
             ],
             [
              0.6666666666666666,
              "#ed7953"
             ],
             [
              0.7777777777777778,
              "#fb9f3a"
             ],
             [
              0.8888888888888888,
              "#fdca26"
             ],
             [
              1,
              "#f0f921"
             ]
            ],
            "type": "histogram2d"
           }
          ],
          "histogram2dcontour": [
           {
            "colorbar": {
             "outlinewidth": 0,
             "ticks": ""
            },
            "colorscale": [
             [
              0,
              "#0d0887"
             ],
             [
              0.1111111111111111,
              "#46039f"
             ],
             [
              0.2222222222222222,
              "#7201a8"
             ],
             [
              0.3333333333333333,
              "#9c179e"
             ],
             [
              0.4444444444444444,
              "#bd3786"
             ],
             [
              0.5555555555555556,
              "#d8576b"
             ],
             [
              0.6666666666666666,
              "#ed7953"
             ],
             [
              0.7777777777777778,
              "#fb9f3a"
             ],
             [
              0.8888888888888888,
              "#fdca26"
             ],
             [
              1,
              "#f0f921"
             ]
            ],
            "type": "histogram2dcontour"
           }
          ],
          "mesh3d": [
           {
            "colorbar": {
             "outlinewidth": 0,
             "ticks": ""
            },
            "type": "mesh3d"
           }
          ],
          "parcoords": [
           {
            "line": {
             "colorbar": {
              "outlinewidth": 0,
              "ticks": ""
             }
            },
            "type": "parcoords"
           }
          ],
          "pie": [
           {
            "automargin": true,
            "type": "pie"
           }
          ],
          "scatter": [
           {
            "marker": {
             "colorbar": {
              "outlinewidth": 0,
              "ticks": ""
             }
            },
            "type": "scatter"
           }
          ],
          "scatter3d": [
           {
            "line": {
             "colorbar": {
              "outlinewidth": 0,
              "ticks": ""
             }
            },
            "marker": {
             "colorbar": {
              "outlinewidth": 0,
              "ticks": ""
             }
            },
            "type": "scatter3d"
           }
          ],
          "scattercarpet": [
           {
            "marker": {
             "colorbar": {
              "outlinewidth": 0,
              "ticks": ""
             }
            },
            "type": "scattercarpet"
           }
          ],
          "scattergeo": [
           {
            "marker": {
             "colorbar": {
              "outlinewidth": 0,
              "ticks": ""
             }
            },
            "type": "scattergeo"
           }
          ],
          "scattergl": [
           {
            "marker": {
             "colorbar": {
              "outlinewidth": 0,
              "ticks": ""
             }
            },
            "type": "scattergl"
           }
          ],
          "scattermapbox": [
           {
            "marker": {
             "colorbar": {
              "outlinewidth": 0,
              "ticks": ""
             }
            },
            "type": "scattermapbox"
           }
          ],
          "scatterpolar": [
           {
            "marker": {
             "colorbar": {
              "outlinewidth": 0,
              "ticks": ""
             }
            },
            "type": "scatterpolar"
           }
          ],
          "scatterpolargl": [
           {
            "marker": {
             "colorbar": {
              "outlinewidth": 0,
              "ticks": ""
             }
            },
            "type": "scatterpolargl"
           }
          ],
          "scatterternary": [
           {
            "marker": {
             "colorbar": {
              "outlinewidth": 0,
              "ticks": ""
             }
            },
            "type": "scatterternary"
           }
          ],
          "surface": [
           {
            "colorbar": {
             "outlinewidth": 0,
             "ticks": ""
            },
            "colorscale": [
             [
              0,
              "#0d0887"
             ],
             [
              0.1111111111111111,
              "#46039f"
             ],
             [
              0.2222222222222222,
              "#7201a8"
             ],
             [
              0.3333333333333333,
              "#9c179e"
             ],
             [
              0.4444444444444444,
              "#bd3786"
             ],
             [
              0.5555555555555556,
              "#d8576b"
             ],
             [
              0.6666666666666666,
              "#ed7953"
             ],
             [
              0.7777777777777778,
              "#fb9f3a"
             ],
             [
              0.8888888888888888,
              "#fdca26"
             ],
             [
              1,
              "#f0f921"
             ]
            ],
            "type": "surface"
           }
          ],
          "table": [
           {
            "cells": {
             "fill": {
              "color": "#EBF0F8"
             },
             "line": {
              "color": "white"
             }
            },
            "header": {
             "fill": {
              "color": "#C8D4E3"
             },
             "line": {
              "color": "white"
             }
            },
            "type": "table"
           }
          ]
         },
         "layout": {
          "annotationdefaults": {
           "arrowcolor": "#2a3f5f",
           "arrowhead": 0,
           "arrowwidth": 1
          },
          "autotypenumbers": "strict",
          "coloraxis": {
           "colorbar": {
            "outlinewidth": 0,
            "ticks": ""
           }
          },
          "colorscale": {
           "diverging": [
            [
             0,
             "#8e0152"
            ],
            [
             0.1,
             "#c51b7d"
            ],
            [
             0.2,
             "#de77ae"
            ],
            [
             0.3,
             "#f1b6da"
            ],
            [
             0.4,
             "#fde0ef"
            ],
            [
             0.5,
             "#f7f7f7"
            ],
            [
             0.6,
             "#e6f5d0"
            ],
            [
             0.7,
             "#b8e186"
            ],
            [
             0.8,
             "#7fbc41"
            ],
            [
             0.9,
             "#4d9221"
            ],
            [
             1,
             "#276419"
            ]
           ],
           "sequential": [
            [
             0,
             "#0d0887"
            ],
            [
             0.1111111111111111,
             "#46039f"
            ],
            [
             0.2222222222222222,
             "#7201a8"
            ],
            [
             0.3333333333333333,
             "#9c179e"
            ],
            [
             0.4444444444444444,
             "#bd3786"
            ],
            [
             0.5555555555555556,
             "#d8576b"
            ],
            [
             0.6666666666666666,
             "#ed7953"
            ],
            [
             0.7777777777777778,
             "#fb9f3a"
            ],
            [
             0.8888888888888888,
             "#fdca26"
            ],
            [
             1,
             "#f0f921"
            ]
           ],
           "sequentialminus": [
            [
             0,
             "#0d0887"
            ],
            [
             0.1111111111111111,
             "#46039f"
            ],
            [
             0.2222222222222222,
             "#7201a8"
            ],
            [
             0.3333333333333333,
             "#9c179e"
            ],
            [
             0.4444444444444444,
             "#bd3786"
            ],
            [
             0.5555555555555556,
             "#d8576b"
            ],
            [
             0.6666666666666666,
             "#ed7953"
            ],
            [
             0.7777777777777778,
             "#fb9f3a"
            ],
            [
             0.8888888888888888,
             "#fdca26"
            ],
            [
             1,
             "#f0f921"
            ]
           ]
          },
          "colorway": [
           "#636efa",
           "#EF553B",
           "#00cc96",
           "#ab63fa",
           "#FFA15A",
           "#19d3f3",
           "#FF6692",
           "#B6E880",
           "#FF97FF",
           "#FECB52"
          ],
          "font": {
           "color": "#2a3f5f"
          },
          "geo": {
           "bgcolor": "white",
           "lakecolor": "white",
           "landcolor": "#E5ECF6",
           "showlakes": true,
           "showland": true,
           "subunitcolor": "white"
          },
          "hoverlabel": {
           "align": "left"
          },
          "hovermode": "closest",
          "mapbox": {
           "style": "light"
          },
          "paper_bgcolor": "white",
          "plot_bgcolor": "#E5ECF6",
          "polar": {
           "angularaxis": {
            "gridcolor": "white",
            "linecolor": "white",
            "ticks": ""
           },
           "bgcolor": "#E5ECF6",
           "radialaxis": {
            "gridcolor": "white",
            "linecolor": "white",
            "ticks": ""
           }
          },
          "scene": {
           "xaxis": {
            "backgroundcolor": "#E5ECF6",
            "gridcolor": "white",
            "gridwidth": 2,
            "linecolor": "white",
            "showbackground": true,
            "ticks": "",
            "zerolinecolor": "white"
           },
           "yaxis": {
            "backgroundcolor": "#E5ECF6",
            "gridcolor": "white",
            "gridwidth": 2,
            "linecolor": "white",
            "showbackground": true,
            "ticks": "",
            "zerolinecolor": "white"
           },
           "zaxis": {
            "backgroundcolor": "#E5ECF6",
            "gridcolor": "white",
            "gridwidth": 2,
            "linecolor": "white",
            "showbackground": true,
            "ticks": "",
            "zerolinecolor": "white"
           }
          },
          "shapedefaults": {
           "line": {
            "color": "#2a3f5f"
           }
          },
          "ternary": {
           "aaxis": {
            "gridcolor": "white",
            "linecolor": "white",
            "ticks": ""
           },
           "baxis": {
            "gridcolor": "white",
            "linecolor": "white",
            "ticks": ""
           },
           "bgcolor": "#E5ECF6",
           "caxis": {
            "gridcolor": "white",
            "linecolor": "white",
            "ticks": ""
           }
          },
          "title": {
           "x": 0.05
          },
          "xaxis": {
           "automargin": true,
           "gridcolor": "white",
           "linecolor": "white",
           "ticks": "",
           "title": {
            "standoff": 15
           },
           "zerolinecolor": "white",
           "zerolinewidth": 2
          },
          "yaxis": {
           "automargin": true,
           "gridcolor": "white",
           "linecolor": "white",
           "ticks": "",
           "title": {
            "standoff": 15
           },
           "zerolinecolor": "white",
           "zerolinewidth": 2
          }
         }
        },
        "title": {
         "text": "Graphe des années de sortie"
        },
        "xaxis": {
         "anchor": "y",
         "domain": [
          0,
          1
         ],
         "title": {
          "text": "Année"
         }
        },
        "yaxis": {
         "anchor": "x",
         "domain": [
          0,
          1
         ],
         "title": {
          "text": "Nombre de pistes"
         }
        }
       }
      },
      "text/html": [
       "<div>                            <div id=\"163c730e-e160-4359-97fe-87e02fa82f70\" class=\"plotly-graph-div\" style=\"height:525px; width:100%;\"></div>            <script type=\"text/javascript\">                require([\"plotly\"], function(Plotly) {                    window.PLOTLYENV=window.PLOTLYENV || {};                                    if (document.getElementById(\"163c730e-e160-4359-97fe-87e02fa82f70\")) {                    Plotly.newPlot(                        \"163c730e-e160-4359-97fe-87e02fa82f70\",                        [{\"alignmentgroup\": \"True\", \"hovertemplate\": \"variable=release_year<br>index=%{x}<br>value=%{y}<extra></extra>\", \"legendgroup\": \"release_year\", \"marker\": {\"color\": \"#636efa\"}, \"name\": \"release_year\", \"offsetgroup\": \"release_year\", \"orientation\": \"v\", \"showlegend\": true, \"textposition\": \"auto\", \"type\": \"bar\", \"x\": [2014, 2013, 2012, 2010, 2011, 2015, 2008, 2009, 2016, 2017], \"xaxis\": \"x\", \"y\": [11, 10, 5, 3, 3, 3, 1, 1, 1, 1], \"yaxis\": \"y\"}],                        {\"barmode\": \"relative\", \"legend\": {\"title\": {\"text\": \"variable\"}, \"tracegroupgap\": 0}, \"margin\": {\"t\": 60}, \"showlegend\": false, \"template\": {\"data\": {\"bar\": [{\"error_x\": {\"color\": \"#2a3f5f\"}, \"error_y\": {\"color\": \"#2a3f5f\"}, \"marker\": {\"line\": {\"color\": \"#E5ECF6\", \"width\": 0.5}}, \"type\": \"bar\"}], \"barpolar\": [{\"marker\": {\"line\": {\"color\": \"#E5ECF6\", \"width\": 0.5}}, \"type\": \"barpolar\"}], \"carpet\": [{\"aaxis\": {\"endlinecolor\": \"#2a3f5f\", \"gridcolor\": \"white\", \"linecolor\": \"white\", \"minorgridcolor\": \"white\", \"startlinecolor\": \"#2a3f5f\"}, \"baxis\": {\"endlinecolor\": \"#2a3f5f\", \"gridcolor\": \"white\", \"linecolor\": \"white\", \"minorgridcolor\": \"white\", \"startlinecolor\": \"#2a3f5f\"}, \"type\": \"carpet\"}], \"choropleth\": [{\"colorbar\": {\"outlinewidth\": 0, \"ticks\": \"\"}, \"type\": \"choropleth\"}], \"contour\": [{\"colorbar\": {\"outlinewidth\": 0, \"ticks\": \"\"}, \"colorscale\": [[0.0, \"#0d0887\"], [0.1111111111111111, \"#46039f\"], [0.2222222222222222, \"#7201a8\"], [0.3333333333333333, \"#9c179e\"], [0.4444444444444444, \"#bd3786\"], [0.5555555555555556, \"#d8576b\"], [0.6666666666666666, \"#ed7953\"], [0.7777777777777778, \"#fb9f3a\"], [0.8888888888888888, \"#fdca26\"], [1.0, \"#f0f921\"]], \"type\": \"contour\"}], \"contourcarpet\": [{\"colorbar\": {\"outlinewidth\": 0, \"ticks\": \"\"}, \"type\": \"contourcarpet\"}], \"heatmap\": [{\"colorbar\": {\"outlinewidth\": 0, \"ticks\": \"\"}, \"colorscale\": [[0.0, \"#0d0887\"], [0.1111111111111111, \"#46039f\"], [0.2222222222222222, \"#7201a8\"], [0.3333333333333333, \"#9c179e\"], [0.4444444444444444, \"#bd3786\"], [0.5555555555555556, \"#d8576b\"], [0.6666666666666666, \"#ed7953\"], [0.7777777777777778, \"#fb9f3a\"], [0.8888888888888888, \"#fdca26\"], [1.0, \"#f0f921\"]], \"type\": \"heatmap\"}], \"heatmapgl\": [{\"colorbar\": {\"outlinewidth\": 0, \"ticks\": \"\"}, \"colorscale\": [[0.0, \"#0d0887\"], [0.1111111111111111, \"#46039f\"], [0.2222222222222222, \"#7201a8\"], [0.3333333333333333, \"#9c179e\"], [0.4444444444444444, \"#bd3786\"], [0.5555555555555556, \"#d8576b\"], [0.6666666666666666, \"#ed7953\"], [0.7777777777777778, \"#fb9f3a\"], [0.8888888888888888, \"#fdca26\"], [1.0, \"#f0f921\"]], \"type\": \"heatmapgl\"}], \"histogram\": [{\"marker\": {\"colorbar\": {\"outlinewidth\": 0, \"ticks\": \"\"}}, \"type\": \"histogram\"}], \"histogram2d\": [{\"colorbar\": {\"outlinewidth\": 0, \"ticks\": \"\"}, \"colorscale\": [[0.0, \"#0d0887\"], [0.1111111111111111, \"#46039f\"], [0.2222222222222222, \"#7201a8\"], [0.3333333333333333, \"#9c179e\"], [0.4444444444444444, \"#bd3786\"], [0.5555555555555556, \"#d8576b\"], [0.6666666666666666, \"#ed7953\"], [0.7777777777777778, \"#fb9f3a\"], [0.8888888888888888, \"#fdca26\"], [1.0, \"#f0f921\"]], \"type\": \"histogram2d\"}], \"histogram2dcontour\": [{\"colorbar\": {\"outlinewidth\": 0, \"ticks\": \"\"}, \"colorscale\": [[0.0, \"#0d0887\"], [0.1111111111111111, \"#46039f\"], [0.2222222222222222, \"#7201a8\"], [0.3333333333333333, \"#9c179e\"], [0.4444444444444444, \"#bd3786\"], [0.5555555555555556, \"#d8576b\"], [0.6666666666666666, \"#ed7953\"], [0.7777777777777778, \"#fb9f3a\"], [0.8888888888888888, \"#fdca26\"], [1.0, \"#f0f921\"]], \"type\": \"histogram2dcontour\"}], \"mesh3d\": [{\"colorbar\": {\"outlinewidth\": 0, \"ticks\": \"\"}, \"type\": \"mesh3d\"}], \"parcoords\": [{\"line\": {\"colorbar\": {\"outlinewidth\": 0, \"ticks\": \"\"}}, \"type\": \"parcoords\"}], \"pie\": [{\"automargin\": true, \"type\": \"pie\"}], \"scatter\": [{\"marker\": {\"colorbar\": {\"outlinewidth\": 0, \"ticks\": \"\"}}, \"type\": \"scatter\"}], \"scatter3d\": [{\"line\": {\"colorbar\": {\"outlinewidth\": 0, \"ticks\": \"\"}}, \"marker\": {\"colorbar\": {\"outlinewidth\": 0, \"ticks\": \"\"}}, \"type\": \"scatter3d\"}], \"scattercarpet\": [{\"marker\": {\"colorbar\": {\"outlinewidth\": 0, \"ticks\": \"\"}}, \"type\": \"scattercarpet\"}], \"scattergeo\": [{\"marker\": {\"colorbar\": {\"outlinewidth\": 0, \"ticks\": \"\"}}, \"type\": \"scattergeo\"}], \"scattergl\": [{\"marker\": {\"colorbar\": {\"outlinewidth\": 0, \"ticks\": \"\"}}, \"type\": \"scattergl\"}], \"scattermapbox\": [{\"marker\": {\"colorbar\": {\"outlinewidth\": 0, \"ticks\": \"\"}}, \"type\": \"scattermapbox\"}], \"scatterpolar\": [{\"marker\": {\"colorbar\": {\"outlinewidth\": 0, \"ticks\": \"\"}}, \"type\": \"scatterpolar\"}], \"scatterpolargl\": [{\"marker\": {\"colorbar\": {\"outlinewidth\": 0, \"ticks\": \"\"}}, \"type\": \"scatterpolargl\"}], \"scatterternary\": [{\"marker\": {\"colorbar\": {\"outlinewidth\": 0, \"ticks\": \"\"}}, \"type\": \"scatterternary\"}], \"surface\": [{\"colorbar\": {\"outlinewidth\": 0, \"ticks\": \"\"}, \"colorscale\": [[0.0, \"#0d0887\"], [0.1111111111111111, \"#46039f\"], [0.2222222222222222, \"#7201a8\"], [0.3333333333333333, \"#9c179e\"], [0.4444444444444444, \"#bd3786\"], [0.5555555555555556, \"#d8576b\"], [0.6666666666666666, \"#ed7953\"], [0.7777777777777778, \"#fb9f3a\"], [0.8888888888888888, \"#fdca26\"], [1.0, \"#f0f921\"]], \"type\": \"surface\"}], \"table\": [{\"cells\": {\"fill\": {\"color\": \"#EBF0F8\"}, \"line\": {\"color\": \"white\"}}, \"header\": {\"fill\": {\"color\": \"#C8D4E3\"}, \"line\": {\"color\": \"white\"}}, \"type\": \"table\"}]}, \"layout\": {\"annotationdefaults\": {\"arrowcolor\": \"#2a3f5f\", \"arrowhead\": 0, \"arrowwidth\": 1}, \"autotypenumbers\": \"strict\", \"coloraxis\": {\"colorbar\": {\"outlinewidth\": 0, \"ticks\": \"\"}}, \"colorscale\": {\"diverging\": [[0, \"#8e0152\"], [0.1, \"#c51b7d\"], [0.2, \"#de77ae\"], [0.3, \"#f1b6da\"], [0.4, \"#fde0ef\"], [0.5, \"#f7f7f7\"], [0.6, \"#e6f5d0\"], [0.7, \"#b8e186\"], [0.8, \"#7fbc41\"], [0.9, \"#4d9221\"], [1, \"#276419\"]], \"sequential\": [[0.0, \"#0d0887\"], [0.1111111111111111, \"#46039f\"], [0.2222222222222222, \"#7201a8\"], [0.3333333333333333, \"#9c179e\"], [0.4444444444444444, \"#bd3786\"], [0.5555555555555556, \"#d8576b\"], [0.6666666666666666, \"#ed7953\"], [0.7777777777777778, \"#fb9f3a\"], [0.8888888888888888, \"#fdca26\"], [1.0, \"#f0f921\"]], \"sequentialminus\": [[0.0, \"#0d0887\"], [0.1111111111111111, \"#46039f\"], [0.2222222222222222, \"#7201a8\"], [0.3333333333333333, \"#9c179e\"], [0.4444444444444444, \"#bd3786\"], [0.5555555555555556, \"#d8576b\"], [0.6666666666666666, \"#ed7953\"], [0.7777777777777778, \"#fb9f3a\"], [0.8888888888888888, \"#fdca26\"], [1.0, \"#f0f921\"]]}, \"colorway\": [\"#636efa\", \"#EF553B\", \"#00cc96\", \"#ab63fa\", \"#FFA15A\", \"#19d3f3\", \"#FF6692\", \"#B6E880\", \"#FF97FF\", \"#FECB52\"], \"font\": {\"color\": \"#2a3f5f\"}, \"geo\": {\"bgcolor\": \"white\", \"lakecolor\": \"white\", \"landcolor\": \"#E5ECF6\", \"showlakes\": true, \"showland\": true, \"subunitcolor\": \"white\"}, \"hoverlabel\": {\"align\": \"left\"}, \"hovermode\": \"closest\", \"mapbox\": {\"style\": \"light\"}, \"paper_bgcolor\": \"white\", \"plot_bgcolor\": \"#E5ECF6\", \"polar\": {\"angularaxis\": {\"gridcolor\": \"white\", \"linecolor\": \"white\", \"ticks\": \"\"}, \"bgcolor\": \"#E5ECF6\", \"radialaxis\": {\"gridcolor\": \"white\", \"linecolor\": \"white\", \"ticks\": \"\"}}, \"scene\": {\"xaxis\": {\"backgroundcolor\": \"#E5ECF6\", \"gridcolor\": \"white\", \"gridwidth\": 2, \"linecolor\": \"white\", \"showbackground\": true, \"ticks\": \"\", \"zerolinecolor\": \"white\"}, \"yaxis\": {\"backgroundcolor\": \"#E5ECF6\", \"gridcolor\": \"white\", \"gridwidth\": 2, \"linecolor\": \"white\", \"showbackground\": true, \"ticks\": \"\", \"zerolinecolor\": \"white\"}, \"zaxis\": {\"backgroundcolor\": \"#E5ECF6\", \"gridcolor\": \"white\", \"gridwidth\": 2, \"linecolor\": \"white\", \"showbackground\": true, \"ticks\": \"\", \"zerolinecolor\": \"white\"}}, \"shapedefaults\": {\"line\": {\"color\": \"#2a3f5f\"}}, \"ternary\": {\"aaxis\": {\"gridcolor\": \"white\", \"linecolor\": \"white\", \"ticks\": \"\"}, \"baxis\": {\"gridcolor\": \"white\", \"linecolor\": \"white\", \"ticks\": \"\"}, \"bgcolor\": \"#E5ECF6\", \"caxis\": {\"gridcolor\": \"white\", \"linecolor\": \"white\", \"ticks\": \"\"}}, \"title\": {\"x\": 0.05}, \"xaxis\": {\"automargin\": true, \"gridcolor\": \"white\", \"linecolor\": \"white\", \"ticks\": \"\", \"title\": {\"standoff\": 15}, \"zerolinecolor\": \"white\", \"zerolinewidth\": 2}, \"yaxis\": {\"automargin\": true, \"gridcolor\": \"white\", \"linecolor\": \"white\", \"ticks\": \"\", \"title\": {\"standoff\": 15}, \"zerolinecolor\": \"white\", \"zerolinewidth\": 2}}}, \"title\": {\"text\": \"Graphe des ann\\u00e9es de sortie\"}, \"xaxis\": {\"anchor\": \"y\", \"domain\": [0.0, 1.0], \"title\": {\"text\": \"Ann\\u00e9e\"}}, \"yaxis\": {\"anchor\": \"x\", \"domain\": [0.0, 1.0], \"title\": {\"text\": \"Nombre de pistes\"}}},                        {\"responsive\": true}                    ).then(function(){\n",
       "                            \n",
       "var gd = document.getElementById('163c730e-e160-4359-97fe-87e02fa82f70');\n",
       "var x = new MutationObserver(function (mutations, observer) {{\n",
       "        var display = window.getComputedStyle(gd).display;\n",
       "        if (!display || display === 'none') {{\n",
       "            console.log([gd, 'removed!']);\n",
       "            Plotly.purge(gd);\n",
       "            observer.disconnect();\n",
       "        }}\n",
       "}});\n",
       "\n",
       "// Listen for the removal of the full notebook cells\n",
       "var notebookContainer = gd.closest('#notebook-container');\n",
       "if (notebookContainer) {{\n",
       "    x.observe(notebookContainer, {childList: true});\n",
       "}}\n",
       "\n",
       "// Listen for the clearing of the current output cell\n",
       "var outputEl = gd.closest('.output');\n",
       "if (outputEl) {{\n",
       "    x.observe(outputEl, {childList: true});\n",
       "}}\n",
       "\n",
       "                        })                };                });            </script>        </div>"
      ]
     },
     "metadata": {},
     "output_type": "display_data"
    }
   ],
   "source": [
    "y = playlist['release_year'].value_counts()\n",
    "fig = px.bar(y)\n",
    "fig.update_layout(title=\"Graphe des années de sortie\",\n",
    "                  xaxis_title=\"Année\",\n",
    "                  yaxis_title=\"Nombre de pistes\",\n",
    "                  showlegend=False)\n",
    "fig.show()"
   ]
  },
  {
   "cell_type": "code",
   "execution_count": 62,
   "id": "067ba09d",
   "metadata": {},
   "outputs": [
    {
     "data": {
      "application/vnd.plotly.v1+json": {
       "config": {
        "plotlyServerURL": "https://plot.ly"
       },
       "data": [
        {
         "alignmentgroup": "True",
         "bingroup": "x",
         "hovertemplate": "release_date=%{x}<br>count=%{y}<extra></extra>",
         "legendgroup": "",
         "marker": {
          "color": "#636efa"
         },
         "name": "",
         "offsetgroup": "",
         "orientation": "v",
         "showlegend": false,
         "type": "histogram",
         "x": [
          "2015-02-09",
          "2014-11-21",
          "2011-05-23",
          "2012-12-07",
          "2014-10-31",
          "2012-11-19",
          "2016-05-06",
          "2011-01-01",
          "2012-06-22",
          "2010-01-01",
          "2014-08-04",
          "2013-01-01",
          "2013-01-01",
          "2013",
          "2013-11-25",
          "2013-01-01",
          "2013-11-25",
          "2014-05-27",
          "2013-04-19",
          "2014-01-01",
          "2008-06-17",
          "2012-01-01",
          "2010-11-19",
          "2011-11-11",
          "2013-11-11",
          "2014-06-02",
          "2014-01-01",
          "2014-10-31",
          "2014-03-03",
          "2017-03-17",
          "2015-07-10",
          "2014-09-02",
          "2012",
          "2013-01-01",
          "2014-09-02",
          "2009-09-08",
          "2010-02-26",
          "2015-11-20",
          "2013-09-10"
         ],
         "xaxis": "x",
         "yaxis": "y"
        }
       ],
       "layout": {
        "barmode": "relative",
        "legend": {
         "tracegroupgap": 0
        },
        "margin": {
         "t": 60
        },
        "template": {
         "data": {
          "bar": [
           {
            "error_x": {
             "color": "#2a3f5f"
            },
            "error_y": {
             "color": "#2a3f5f"
            },
            "marker": {
             "line": {
              "color": "#E5ECF6",
              "width": 0.5
             }
            },
            "type": "bar"
           }
          ],
          "barpolar": [
           {
            "marker": {
             "line": {
              "color": "#E5ECF6",
              "width": 0.5
             }
            },
            "type": "barpolar"
           }
          ],
          "carpet": [
           {
            "aaxis": {
             "endlinecolor": "#2a3f5f",
             "gridcolor": "white",
             "linecolor": "white",
             "minorgridcolor": "white",
             "startlinecolor": "#2a3f5f"
            },
            "baxis": {
             "endlinecolor": "#2a3f5f",
             "gridcolor": "white",
             "linecolor": "white",
             "minorgridcolor": "white",
             "startlinecolor": "#2a3f5f"
            },
            "type": "carpet"
           }
          ],
          "choropleth": [
           {
            "colorbar": {
             "outlinewidth": 0,
             "ticks": ""
            },
            "type": "choropleth"
           }
          ],
          "contour": [
           {
            "colorbar": {
             "outlinewidth": 0,
             "ticks": ""
            },
            "colorscale": [
             [
              0,
              "#0d0887"
             ],
             [
              0.1111111111111111,
              "#46039f"
             ],
             [
              0.2222222222222222,
              "#7201a8"
             ],
             [
              0.3333333333333333,
              "#9c179e"
             ],
             [
              0.4444444444444444,
              "#bd3786"
             ],
             [
              0.5555555555555556,
              "#d8576b"
             ],
             [
              0.6666666666666666,
              "#ed7953"
             ],
             [
              0.7777777777777778,
              "#fb9f3a"
             ],
             [
              0.8888888888888888,
              "#fdca26"
             ],
             [
              1,
              "#f0f921"
             ]
            ],
            "type": "contour"
           }
          ],
          "contourcarpet": [
           {
            "colorbar": {
             "outlinewidth": 0,
             "ticks": ""
            },
            "type": "contourcarpet"
           }
          ],
          "heatmap": [
           {
            "colorbar": {
             "outlinewidth": 0,
             "ticks": ""
            },
            "colorscale": [
             [
              0,
              "#0d0887"
             ],
             [
              0.1111111111111111,
              "#46039f"
             ],
             [
              0.2222222222222222,
              "#7201a8"
             ],
             [
              0.3333333333333333,
              "#9c179e"
             ],
             [
              0.4444444444444444,
              "#bd3786"
             ],
             [
              0.5555555555555556,
              "#d8576b"
             ],
             [
              0.6666666666666666,
              "#ed7953"
             ],
             [
              0.7777777777777778,
              "#fb9f3a"
             ],
             [
              0.8888888888888888,
              "#fdca26"
             ],
             [
              1,
              "#f0f921"
             ]
            ],
            "type": "heatmap"
           }
          ],
          "heatmapgl": [
           {
            "colorbar": {
             "outlinewidth": 0,
             "ticks": ""
            },
            "colorscale": [
             [
              0,
              "#0d0887"
             ],
             [
              0.1111111111111111,
              "#46039f"
             ],
             [
              0.2222222222222222,
              "#7201a8"
             ],
             [
              0.3333333333333333,
              "#9c179e"
             ],
             [
              0.4444444444444444,
              "#bd3786"
             ],
             [
              0.5555555555555556,
              "#d8576b"
             ],
             [
              0.6666666666666666,
              "#ed7953"
             ],
             [
              0.7777777777777778,
              "#fb9f3a"
             ],
             [
              0.8888888888888888,
              "#fdca26"
             ],
             [
              1,
              "#f0f921"
             ]
            ],
            "type": "heatmapgl"
           }
          ],
          "histogram": [
           {
            "marker": {
             "colorbar": {
              "outlinewidth": 0,
              "ticks": ""
             }
            },
            "type": "histogram"
           }
          ],
          "histogram2d": [
           {
            "colorbar": {
             "outlinewidth": 0,
             "ticks": ""
            },
            "colorscale": [
             [
              0,
              "#0d0887"
             ],
             [
              0.1111111111111111,
              "#46039f"
             ],
             [
              0.2222222222222222,
              "#7201a8"
             ],
             [
              0.3333333333333333,
              "#9c179e"
             ],
             [
              0.4444444444444444,
              "#bd3786"
             ],
             [
              0.5555555555555556,
              "#d8576b"
             ],
             [
              0.6666666666666666,
              "#ed7953"
             ],
             [
              0.7777777777777778,
              "#fb9f3a"
             ],
             [
              0.8888888888888888,
              "#fdca26"
             ],
             [
              1,
              "#f0f921"
             ]
            ],
            "type": "histogram2d"
           }
          ],
          "histogram2dcontour": [
           {
            "colorbar": {
             "outlinewidth": 0,
             "ticks": ""
            },
            "colorscale": [
             [
              0,
              "#0d0887"
             ],
             [
              0.1111111111111111,
              "#46039f"
             ],
             [
              0.2222222222222222,
              "#7201a8"
             ],
             [
              0.3333333333333333,
              "#9c179e"
             ],
             [
              0.4444444444444444,
              "#bd3786"
             ],
             [
              0.5555555555555556,
              "#d8576b"
             ],
             [
              0.6666666666666666,
              "#ed7953"
             ],
             [
              0.7777777777777778,
              "#fb9f3a"
             ],
             [
              0.8888888888888888,
              "#fdca26"
             ],
             [
              1,
              "#f0f921"
             ]
            ],
            "type": "histogram2dcontour"
           }
          ],
          "mesh3d": [
           {
            "colorbar": {
             "outlinewidth": 0,
             "ticks": ""
            },
            "type": "mesh3d"
           }
          ],
          "parcoords": [
           {
            "line": {
             "colorbar": {
              "outlinewidth": 0,
              "ticks": ""
             }
            },
            "type": "parcoords"
           }
          ],
          "pie": [
           {
            "automargin": true,
            "type": "pie"
           }
          ],
          "scatter": [
           {
            "marker": {
             "colorbar": {
              "outlinewidth": 0,
              "ticks": ""
             }
            },
            "type": "scatter"
           }
          ],
          "scatter3d": [
           {
            "line": {
             "colorbar": {
              "outlinewidth": 0,
              "ticks": ""
             }
            },
            "marker": {
             "colorbar": {
              "outlinewidth": 0,
              "ticks": ""
             }
            },
            "type": "scatter3d"
           }
          ],
          "scattercarpet": [
           {
            "marker": {
             "colorbar": {
              "outlinewidth": 0,
              "ticks": ""
             }
            },
            "type": "scattercarpet"
           }
          ],
          "scattergeo": [
           {
            "marker": {
             "colorbar": {
              "outlinewidth": 0,
              "ticks": ""
             }
            },
            "type": "scattergeo"
           }
          ],
          "scattergl": [
           {
            "marker": {
             "colorbar": {
              "outlinewidth": 0,
              "ticks": ""
             }
            },
            "type": "scattergl"
           }
          ],
          "scattermapbox": [
           {
            "marker": {
             "colorbar": {
              "outlinewidth": 0,
              "ticks": ""
             }
            },
            "type": "scattermapbox"
           }
          ],
          "scatterpolar": [
           {
            "marker": {
             "colorbar": {
              "outlinewidth": 0,
              "ticks": ""
             }
            },
            "type": "scatterpolar"
           }
          ],
          "scatterpolargl": [
           {
            "marker": {
             "colorbar": {
              "outlinewidth": 0,
              "ticks": ""
             }
            },
            "type": "scatterpolargl"
           }
          ],
          "scatterternary": [
           {
            "marker": {
             "colorbar": {
              "outlinewidth": 0,
              "ticks": ""
             }
            },
            "type": "scatterternary"
           }
          ],
          "surface": [
           {
            "colorbar": {
             "outlinewidth": 0,
             "ticks": ""
            },
            "colorscale": [
             [
              0,
              "#0d0887"
             ],
             [
              0.1111111111111111,
              "#46039f"
             ],
             [
              0.2222222222222222,
              "#7201a8"
             ],
             [
              0.3333333333333333,
              "#9c179e"
             ],
             [
              0.4444444444444444,
              "#bd3786"
             ],
             [
              0.5555555555555556,
              "#d8576b"
             ],
             [
              0.6666666666666666,
              "#ed7953"
             ],
             [
              0.7777777777777778,
              "#fb9f3a"
             ],
             [
              0.8888888888888888,
              "#fdca26"
             ],
             [
              1,
              "#f0f921"
             ]
            ],
            "type": "surface"
           }
          ],
          "table": [
           {
            "cells": {
             "fill": {
              "color": "#EBF0F8"
             },
             "line": {
              "color": "white"
             }
            },
            "header": {
             "fill": {
              "color": "#C8D4E3"
             },
             "line": {
              "color": "white"
             }
            },
            "type": "table"
           }
          ]
         },
         "layout": {
          "annotationdefaults": {
           "arrowcolor": "#2a3f5f",
           "arrowhead": 0,
           "arrowwidth": 1
          },
          "autotypenumbers": "strict",
          "coloraxis": {
           "colorbar": {
            "outlinewidth": 0,
            "ticks": ""
           }
          },
          "colorscale": {
           "diverging": [
            [
             0,
             "#8e0152"
            ],
            [
             0.1,
             "#c51b7d"
            ],
            [
             0.2,
             "#de77ae"
            ],
            [
             0.3,
             "#f1b6da"
            ],
            [
             0.4,
             "#fde0ef"
            ],
            [
             0.5,
             "#f7f7f7"
            ],
            [
             0.6,
             "#e6f5d0"
            ],
            [
             0.7,
             "#b8e186"
            ],
            [
             0.8,
             "#7fbc41"
            ],
            [
             0.9,
             "#4d9221"
            ],
            [
             1,
             "#276419"
            ]
           ],
           "sequential": [
            [
             0,
             "#0d0887"
            ],
            [
             0.1111111111111111,
             "#46039f"
            ],
            [
             0.2222222222222222,
             "#7201a8"
            ],
            [
             0.3333333333333333,
             "#9c179e"
            ],
            [
             0.4444444444444444,
             "#bd3786"
            ],
            [
             0.5555555555555556,
             "#d8576b"
            ],
            [
             0.6666666666666666,
             "#ed7953"
            ],
            [
             0.7777777777777778,
             "#fb9f3a"
            ],
            [
             0.8888888888888888,
             "#fdca26"
            ],
            [
             1,
             "#f0f921"
            ]
           ],
           "sequentialminus": [
            [
             0,
             "#0d0887"
            ],
            [
             0.1111111111111111,
             "#46039f"
            ],
            [
             0.2222222222222222,
             "#7201a8"
            ],
            [
             0.3333333333333333,
             "#9c179e"
            ],
            [
             0.4444444444444444,
             "#bd3786"
            ],
            [
             0.5555555555555556,
             "#d8576b"
            ],
            [
             0.6666666666666666,
             "#ed7953"
            ],
            [
             0.7777777777777778,
             "#fb9f3a"
            ],
            [
             0.8888888888888888,
             "#fdca26"
            ],
            [
             1,
             "#f0f921"
            ]
           ]
          },
          "colorway": [
           "#636efa",
           "#EF553B",
           "#00cc96",
           "#ab63fa",
           "#FFA15A",
           "#19d3f3",
           "#FF6692",
           "#B6E880",
           "#FF97FF",
           "#FECB52"
          ],
          "font": {
           "color": "#2a3f5f"
          },
          "geo": {
           "bgcolor": "white",
           "lakecolor": "white",
           "landcolor": "#E5ECF6",
           "showlakes": true,
           "showland": true,
           "subunitcolor": "white"
          },
          "hoverlabel": {
           "align": "left"
          },
          "hovermode": "closest",
          "mapbox": {
           "style": "light"
          },
          "paper_bgcolor": "white",
          "plot_bgcolor": "#E5ECF6",
          "polar": {
           "angularaxis": {
            "gridcolor": "white",
            "linecolor": "white",
            "ticks": ""
           },
           "bgcolor": "#E5ECF6",
           "radialaxis": {
            "gridcolor": "white",
            "linecolor": "white",
            "ticks": ""
           }
          },
          "scene": {
           "xaxis": {
            "backgroundcolor": "#E5ECF6",
            "gridcolor": "white",
            "gridwidth": 2,
            "linecolor": "white",
            "showbackground": true,
            "ticks": "",
            "zerolinecolor": "white"
           },
           "yaxis": {
            "backgroundcolor": "#E5ECF6",
            "gridcolor": "white",
            "gridwidth": 2,
            "linecolor": "white",
            "showbackground": true,
            "ticks": "",
            "zerolinecolor": "white"
           },
           "zaxis": {
            "backgroundcolor": "#E5ECF6",
            "gridcolor": "white",
            "gridwidth": 2,
            "linecolor": "white",
            "showbackground": true,
            "ticks": "",
            "zerolinecolor": "white"
           }
          },
          "shapedefaults": {
           "line": {
            "color": "#2a3f5f"
           }
          },
          "ternary": {
           "aaxis": {
            "gridcolor": "white",
            "linecolor": "white",
            "ticks": ""
           },
           "baxis": {
            "gridcolor": "white",
            "linecolor": "white",
            "ticks": ""
           },
           "bgcolor": "#E5ECF6",
           "caxis": {
            "gridcolor": "white",
            "linecolor": "white",
            "ticks": ""
           }
          },
          "title": {
           "x": 0.05
          },
          "xaxis": {
           "automargin": true,
           "gridcolor": "white",
           "linecolor": "white",
           "ticks": "",
           "title": {
            "standoff": 15
           },
           "zerolinecolor": "white",
           "zerolinewidth": 2
          },
          "yaxis": {
           "automargin": true,
           "gridcolor": "white",
           "linecolor": "white",
           "ticks": "",
           "title": {
            "standoff": 15
           },
           "zerolinecolor": "white",
           "zerolinewidth": 2
          }
         }
        },
        "xaxis": {
         "anchor": "y",
         "domain": [
          0,
          1
         ],
         "title": {
          "text": "release_date"
         }
        },
        "yaxis": {
         "anchor": "x",
         "domain": [
          0,
          1
         ],
         "title": {
          "text": "count"
         }
        }
       }
      },
      "text/html": [
       "<div>                            <div id=\"b8ad8cc9-471c-4ab3-81de-6c82f82a310a\" class=\"plotly-graph-div\" style=\"height:525px; width:100%;\"></div>            <script type=\"text/javascript\">                require([\"plotly\"], function(Plotly) {                    window.PLOTLYENV=window.PLOTLYENV || {};                                    if (document.getElementById(\"b8ad8cc9-471c-4ab3-81de-6c82f82a310a\")) {                    Plotly.newPlot(                        \"b8ad8cc9-471c-4ab3-81de-6c82f82a310a\",                        [{\"alignmentgroup\": \"True\", \"bingroup\": \"x\", \"hovertemplate\": \"release_date=%{x}<br>count=%{y}<extra></extra>\", \"legendgroup\": \"\", \"marker\": {\"color\": \"#636efa\"}, \"name\": \"\", \"offsetgroup\": \"\", \"orientation\": \"v\", \"showlegend\": false, \"type\": \"histogram\", \"x\": [\"2015-02-09\", \"2014-11-21\", \"2011-05-23\", \"2012-12-07\", \"2014-10-31\", \"2012-11-19\", \"2016-05-06\", \"2011-01-01\", \"2012-06-22\", \"2010-01-01\", \"2014-08-04\", \"2013-01-01\", \"2013-01-01\", \"2013\", \"2013-11-25\", \"2013-01-01\", \"2013-11-25\", \"2014-05-27\", \"2013-04-19\", \"2014-01-01\", \"2008-06-17\", \"2012-01-01\", \"2010-11-19\", \"2011-11-11\", \"2013-11-11\", \"2014-06-02\", \"2014-01-01\", \"2014-10-31\", \"2014-03-03\", \"2017-03-17\", \"2015-07-10\", \"2014-09-02\", \"2012\", \"2013-01-01\", \"2014-09-02\", \"2009-09-08\", \"2010-02-26\", \"2015-11-20\", \"2013-09-10\"], \"xaxis\": \"x\", \"yaxis\": \"y\"}],                        {\"barmode\": \"relative\", \"legend\": {\"tracegroupgap\": 0}, \"margin\": {\"t\": 60}, \"template\": {\"data\": {\"bar\": [{\"error_x\": {\"color\": \"#2a3f5f\"}, \"error_y\": {\"color\": \"#2a3f5f\"}, \"marker\": {\"line\": {\"color\": \"#E5ECF6\", \"width\": 0.5}}, \"type\": \"bar\"}], \"barpolar\": [{\"marker\": {\"line\": {\"color\": \"#E5ECF6\", \"width\": 0.5}}, \"type\": \"barpolar\"}], \"carpet\": [{\"aaxis\": {\"endlinecolor\": \"#2a3f5f\", \"gridcolor\": \"white\", \"linecolor\": \"white\", \"minorgridcolor\": \"white\", \"startlinecolor\": \"#2a3f5f\"}, \"baxis\": {\"endlinecolor\": \"#2a3f5f\", \"gridcolor\": \"white\", \"linecolor\": \"white\", \"minorgridcolor\": \"white\", \"startlinecolor\": \"#2a3f5f\"}, \"type\": \"carpet\"}], \"choropleth\": [{\"colorbar\": {\"outlinewidth\": 0, \"ticks\": \"\"}, \"type\": \"choropleth\"}], \"contour\": [{\"colorbar\": {\"outlinewidth\": 0, \"ticks\": \"\"}, \"colorscale\": [[0.0, \"#0d0887\"], [0.1111111111111111, \"#46039f\"], [0.2222222222222222, \"#7201a8\"], [0.3333333333333333, \"#9c179e\"], [0.4444444444444444, \"#bd3786\"], [0.5555555555555556, \"#d8576b\"], [0.6666666666666666, \"#ed7953\"], [0.7777777777777778, \"#fb9f3a\"], [0.8888888888888888, \"#fdca26\"], [1.0, \"#f0f921\"]], \"type\": \"contour\"}], \"contourcarpet\": [{\"colorbar\": {\"outlinewidth\": 0, \"ticks\": \"\"}, \"type\": \"contourcarpet\"}], \"heatmap\": [{\"colorbar\": {\"outlinewidth\": 0, \"ticks\": \"\"}, \"colorscale\": [[0.0, \"#0d0887\"], [0.1111111111111111, \"#46039f\"], [0.2222222222222222, \"#7201a8\"], [0.3333333333333333, \"#9c179e\"], [0.4444444444444444, \"#bd3786\"], [0.5555555555555556, \"#d8576b\"], [0.6666666666666666, \"#ed7953\"], [0.7777777777777778, \"#fb9f3a\"], [0.8888888888888888, \"#fdca26\"], [1.0, \"#f0f921\"]], \"type\": \"heatmap\"}], \"heatmapgl\": [{\"colorbar\": {\"outlinewidth\": 0, \"ticks\": \"\"}, \"colorscale\": [[0.0, \"#0d0887\"], [0.1111111111111111, \"#46039f\"], [0.2222222222222222, \"#7201a8\"], [0.3333333333333333, \"#9c179e\"], [0.4444444444444444, \"#bd3786\"], [0.5555555555555556, \"#d8576b\"], [0.6666666666666666, \"#ed7953\"], [0.7777777777777778, \"#fb9f3a\"], [0.8888888888888888, \"#fdca26\"], [1.0, \"#f0f921\"]], \"type\": \"heatmapgl\"}], \"histogram\": [{\"marker\": {\"colorbar\": {\"outlinewidth\": 0, \"ticks\": \"\"}}, \"type\": \"histogram\"}], \"histogram2d\": [{\"colorbar\": {\"outlinewidth\": 0, \"ticks\": \"\"}, \"colorscale\": [[0.0, \"#0d0887\"], [0.1111111111111111, \"#46039f\"], [0.2222222222222222, \"#7201a8\"], [0.3333333333333333, \"#9c179e\"], [0.4444444444444444, \"#bd3786\"], [0.5555555555555556, \"#d8576b\"], [0.6666666666666666, \"#ed7953\"], [0.7777777777777778, \"#fb9f3a\"], [0.8888888888888888, \"#fdca26\"], [1.0, \"#f0f921\"]], \"type\": \"histogram2d\"}], \"histogram2dcontour\": [{\"colorbar\": {\"outlinewidth\": 0, \"ticks\": \"\"}, \"colorscale\": [[0.0, \"#0d0887\"], [0.1111111111111111, \"#46039f\"], [0.2222222222222222, \"#7201a8\"], [0.3333333333333333, \"#9c179e\"], [0.4444444444444444, \"#bd3786\"], [0.5555555555555556, \"#d8576b\"], [0.6666666666666666, \"#ed7953\"], [0.7777777777777778, \"#fb9f3a\"], [0.8888888888888888, \"#fdca26\"], [1.0, \"#f0f921\"]], \"type\": \"histogram2dcontour\"}], \"mesh3d\": [{\"colorbar\": {\"outlinewidth\": 0, \"ticks\": \"\"}, \"type\": \"mesh3d\"}], \"parcoords\": [{\"line\": {\"colorbar\": {\"outlinewidth\": 0, \"ticks\": \"\"}}, \"type\": \"parcoords\"}], \"pie\": [{\"automargin\": true, \"type\": \"pie\"}], \"scatter\": [{\"marker\": {\"colorbar\": {\"outlinewidth\": 0, \"ticks\": \"\"}}, \"type\": \"scatter\"}], \"scatter3d\": [{\"line\": {\"colorbar\": {\"outlinewidth\": 0, \"ticks\": \"\"}}, \"marker\": {\"colorbar\": {\"outlinewidth\": 0, \"ticks\": \"\"}}, \"type\": \"scatter3d\"}], \"scattercarpet\": [{\"marker\": {\"colorbar\": {\"outlinewidth\": 0, \"ticks\": \"\"}}, \"type\": \"scattercarpet\"}], \"scattergeo\": [{\"marker\": {\"colorbar\": {\"outlinewidth\": 0, \"ticks\": \"\"}}, \"type\": \"scattergeo\"}], \"scattergl\": [{\"marker\": {\"colorbar\": {\"outlinewidth\": 0, \"ticks\": \"\"}}, \"type\": \"scattergl\"}], \"scattermapbox\": [{\"marker\": {\"colorbar\": {\"outlinewidth\": 0, \"ticks\": \"\"}}, \"type\": \"scattermapbox\"}], \"scatterpolar\": [{\"marker\": {\"colorbar\": {\"outlinewidth\": 0, \"ticks\": \"\"}}, \"type\": \"scatterpolar\"}], \"scatterpolargl\": [{\"marker\": {\"colorbar\": {\"outlinewidth\": 0, \"ticks\": \"\"}}, \"type\": \"scatterpolargl\"}], \"scatterternary\": [{\"marker\": {\"colorbar\": {\"outlinewidth\": 0, \"ticks\": \"\"}}, \"type\": \"scatterternary\"}], \"surface\": [{\"colorbar\": {\"outlinewidth\": 0, \"ticks\": \"\"}, \"colorscale\": [[0.0, \"#0d0887\"], [0.1111111111111111, \"#46039f\"], [0.2222222222222222, \"#7201a8\"], [0.3333333333333333, \"#9c179e\"], [0.4444444444444444, \"#bd3786\"], [0.5555555555555556, \"#d8576b\"], [0.6666666666666666, \"#ed7953\"], [0.7777777777777778, \"#fb9f3a\"], [0.8888888888888888, \"#fdca26\"], [1.0, \"#f0f921\"]], \"type\": \"surface\"}], \"table\": [{\"cells\": {\"fill\": {\"color\": \"#EBF0F8\"}, \"line\": {\"color\": \"white\"}}, \"header\": {\"fill\": {\"color\": \"#C8D4E3\"}, \"line\": {\"color\": \"white\"}}, \"type\": \"table\"}]}, \"layout\": {\"annotationdefaults\": {\"arrowcolor\": \"#2a3f5f\", \"arrowhead\": 0, \"arrowwidth\": 1}, \"autotypenumbers\": \"strict\", \"coloraxis\": {\"colorbar\": {\"outlinewidth\": 0, \"ticks\": \"\"}}, \"colorscale\": {\"diverging\": [[0, \"#8e0152\"], [0.1, \"#c51b7d\"], [0.2, \"#de77ae\"], [0.3, \"#f1b6da\"], [0.4, \"#fde0ef\"], [0.5, \"#f7f7f7\"], [0.6, \"#e6f5d0\"], [0.7, \"#b8e186\"], [0.8, \"#7fbc41\"], [0.9, \"#4d9221\"], [1, \"#276419\"]], \"sequential\": [[0.0, \"#0d0887\"], [0.1111111111111111, \"#46039f\"], [0.2222222222222222, \"#7201a8\"], [0.3333333333333333, \"#9c179e\"], [0.4444444444444444, \"#bd3786\"], [0.5555555555555556, \"#d8576b\"], [0.6666666666666666, \"#ed7953\"], [0.7777777777777778, \"#fb9f3a\"], [0.8888888888888888, \"#fdca26\"], [1.0, \"#f0f921\"]], \"sequentialminus\": [[0.0, \"#0d0887\"], [0.1111111111111111, \"#46039f\"], [0.2222222222222222, \"#7201a8\"], [0.3333333333333333, \"#9c179e\"], [0.4444444444444444, \"#bd3786\"], [0.5555555555555556, \"#d8576b\"], [0.6666666666666666, \"#ed7953\"], [0.7777777777777778, \"#fb9f3a\"], [0.8888888888888888, \"#fdca26\"], [1.0, \"#f0f921\"]]}, \"colorway\": [\"#636efa\", \"#EF553B\", \"#00cc96\", \"#ab63fa\", \"#FFA15A\", \"#19d3f3\", \"#FF6692\", \"#B6E880\", \"#FF97FF\", \"#FECB52\"], \"font\": {\"color\": \"#2a3f5f\"}, \"geo\": {\"bgcolor\": \"white\", \"lakecolor\": \"white\", \"landcolor\": \"#E5ECF6\", \"showlakes\": true, \"showland\": true, \"subunitcolor\": \"white\"}, \"hoverlabel\": {\"align\": \"left\"}, \"hovermode\": \"closest\", \"mapbox\": {\"style\": \"light\"}, \"paper_bgcolor\": \"white\", \"plot_bgcolor\": \"#E5ECF6\", \"polar\": {\"angularaxis\": {\"gridcolor\": \"white\", \"linecolor\": \"white\", \"ticks\": \"\"}, \"bgcolor\": \"#E5ECF6\", \"radialaxis\": {\"gridcolor\": \"white\", \"linecolor\": \"white\", \"ticks\": \"\"}}, \"scene\": {\"xaxis\": {\"backgroundcolor\": \"#E5ECF6\", \"gridcolor\": \"white\", \"gridwidth\": 2, \"linecolor\": \"white\", \"showbackground\": true, \"ticks\": \"\", \"zerolinecolor\": \"white\"}, \"yaxis\": {\"backgroundcolor\": \"#E5ECF6\", \"gridcolor\": \"white\", \"gridwidth\": 2, \"linecolor\": \"white\", \"showbackground\": true, \"ticks\": \"\", \"zerolinecolor\": \"white\"}, \"zaxis\": {\"backgroundcolor\": \"#E5ECF6\", \"gridcolor\": \"white\", \"gridwidth\": 2, \"linecolor\": \"white\", \"showbackground\": true, \"ticks\": \"\", \"zerolinecolor\": \"white\"}}, \"shapedefaults\": {\"line\": {\"color\": \"#2a3f5f\"}}, \"ternary\": {\"aaxis\": {\"gridcolor\": \"white\", \"linecolor\": \"white\", \"ticks\": \"\"}, \"baxis\": {\"gridcolor\": \"white\", \"linecolor\": \"white\", \"ticks\": \"\"}, \"bgcolor\": \"#E5ECF6\", \"caxis\": {\"gridcolor\": \"white\", \"linecolor\": \"white\", \"ticks\": \"\"}}, \"title\": {\"x\": 0.05}, \"xaxis\": {\"automargin\": true, \"gridcolor\": \"white\", \"linecolor\": \"white\", \"ticks\": \"\", \"title\": {\"standoff\": 15}, \"zerolinecolor\": \"white\", \"zerolinewidth\": 2}, \"yaxis\": {\"automargin\": true, \"gridcolor\": \"white\", \"linecolor\": \"white\", \"ticks\": \"\", \"title\": {\"standoff\": 15}, \"zerolinecolor\": \"white\", \"zerolinewidth\": 2}}}, \"xaxis\": {\"anchor\": \"y\", \"domain\": [0.0, 1.0], \"title\": {\"text\": \"release_date\"}}, \"yaxis\": {\"anchor\": \"x\", \"domain\": [0.0, 1.0], \"title\": {\"text\": \"count\"}}},                        {\"responsive\": true}                    ).then(function(){\n",
       "                            \n",
       "var gd = document.getElementById('b8ad8cc9-471c-4ab3-81de-6c82f82a310a');\n",
       "var x = new MutationObserver(function (mutations, observer) {{\n",
       "        var display = window.getComputedStyle(gd).display;\n",
       "        if (!display || display === 'none') {{\n",
       "            console.log([gd, 'removed!']);\n",
       "            Plotly.purge(gd);\n",
       "            observer.disconnect();\n",
       "        }}\n",
       "}});\n",
       "\n",
       "// Listen for the removal of the full notebook cells\n",
       "var notebookContainer = gd.closest('#notebook-container');\n",
       "if (notebookContainer) {{\n",
       "    x.observe(notebookContainer, {childList: true});\n",
       "}}\n",
       "\n",
       "// Listen for the clearing of the current output cell\n",
       "var outputEl = gd.closest('.output');\n",
       "if (outputEl) {{\n",
       "    x.observe(outputEl, {childList: true});\n",
       "}}\n",
       "\n",
       "                        })                };                });            </script>        </div>"
      ]
     },
     "metadata": {},
     "output_type": "display_data"
    }
   ],
   "source": [
    "fig = px.histogram(playlist, x='release_date')\n",
    "fig.show()"
   ]
  },
  {
   "cell_type": "markdown",
   "id": "62630cde",
   "metadata": {},
   "source": [
    "Plusieurs pistes pour analyser :\n",
    "- ajouter à `audio_feat` une colonne correspondant aux tags associés  la playlist en question\n",
    "- enregistrer un dataframe en csv pour pouvoir l'utiliser dans d'autres codes\n",
    "- caractériser certains tags comme \"déterminants\" pour qu'ils soient pris en compte dans l'analyse approfondie"
   ]
  },
  {
   "cell_type": "code",
   "execution_count": 59,
   "id": "8c187c5b",
   "metadata": {},
   "outputs": [],
   "source": [
    "def tag(audio_feat, carac, moy):\n",
    "    if not audio_feat.loc[carac, \"to analyse\"] : return None\n",
    "    for i, seuil in enumerate(audio_feat.loc[carac, \"intervals\"]):\n",
    "        if moy < seuil :\n",
    "            return audio_feat.loc[carac, \"tags\"][i-1]"
   ]
  },
  {
   "cell_type": "code",
   "execution_count": 60,
   "id": "7a124c6f",
   "metadata": {
    "scrolled": true
   },
   "outputs": [
    {
     "data": {
      "text/plain": [
       "'Plutôt léger'"
      ]
     },
     "execution_count": 60,
     "metadata": {},
     "output_type": "execute_result"
    }
   ],
   "source": [
    "tag(audio_feat, 'valence', playlist['valence'].mean())"
   ]
  },
  {
   "cell_type": "code",
   "execution_count": 61,
   "id": "3462fd51",
   "metadata": {
    "scrolled": false
   },
   "outputs": [
    {
     "data": {
      "text/html": [
       "<div>\n",
       "<style scoped>\n",
       "    .dataframe tbody tr th:only-of-type {\n",
       "        vertical-align: middle;\n",
       "    }\n",
       "\n",
       "    .dataframe tbody tr th {\n",
       "        vertical-align: top;\n",
       "    }\n",
       "\n",
       "    .dataframe thead th {\n",
       "        text-align: right;\n",
       "    }\n",
       "</style>\n",
       "<table border=\"1\" class=\"dataframe\">\n",
       "  <thead>\n",
       "    <tr style=\"text-align: right;\">\n",
       "      <th></th>\n",
       "      <th>name</th>\n",
       "      <th>description</th>\n",
       "      <th>average</th>\n",
       "      <th>tag</th>\n",
       "      <th>min</th>\n",
       "      <th>max</th>\n",
       "      <th>median</th>\n",
       "      <th>st dev</th>\n",
       "    </tr>\n",
       "    <tr>\n",
       "      <th>audio-features</th>\n",
       "      <th></th>\n",
       "      <th></th>\n",
       "      <th></th>\n",
       "      <th></th>\n",
       "      <th></th>\n",
       "      <th></th>\n",
       "      <th></th>\n",
       "      <th></th>\n",
       "    </tr>\n",
       "  </thead>\n",
       "  <tbody>\n",
       "    <tr>\n",
       "      <th>acousticness</th>\n",
       "      <td>Acoustique</td>\n",
       "      <td>Décrit dans quelle proportion la piste est pro...</td>\n",
       "      <td>0.090473</td>\n",
       "      <td>Synthétique</td>\n",
       "      <td>0.000079</td>\n",
       "      <td>0.622</td>\n",
       "      <td>0.0426</td>\n",
       "      <td>0.120483</td>\n",
       "    </tr>\n",
       "    <tr>\n",
       "      <th>danceability</th>\n",
       "      <td>Dansabilité</td>\n",
       "      <td>Décrit à quel point il est possible de danser ...</td>\n",
       "      <td>0.663564</td>\n",
       "      <td>Très dansant</td>\n",
       "      <td>0.279000</td>\n",
       "      <td>0.912</td>\n",
       "      <td>0.6690</td>\n",
       "      <td>0.116529</td>\n",
       "    </tr>\n",
       "    <tr>\n",
       "      <th>energy</th>\n",
       "      <td>Energie</td>\n",
       "      <td>Décrit dans quelle mesure la piste est intense...</td>\n",
       "      <td>0.758231</td>\n",
       "      <td>Energique</td>\n",
       "      <td>0.318000</td>\n",
       "      <td>0.963</td>\n",
       "      <td>0.7800</td>\n",
       "      <td>0.138497</td>\n",
       "    </tr>\n",
       "    <tr>\n",
       "      <th>instrumentalness</th>\n",
       "      <td>Insturmentalité</td>\n",
       "      <td>Décrit dans quelle proportion on entend des vo...</td>\n",
       "      <td>0.007564</td>\n",
       "      <td>Majorité de paroles</td>\n",
       "      <td>0.000000</td>\n",
       "      <td>0.150</td>\n",
       "      <td>0.0000</td>\n",
       "      <td>0.029851</td>\n",
       "    </tr>\n",
       "    <tr>\n",
       "      <th>key</th>\n",
       "      <td>Tonalité</td>\n",
       "      <td>Donne la tonalité principale de la piste. 0 = ...</td>\n",
       "      <td>4.923077</td>\n",
       "      <td>None</td>\n",
       "      <td>0.000000</td>\n",
       "      <td>11.000</td>\n",
       "      <td>4.0000</td>\n",
       "      <td>3.673408</td>\n",
       "    </tr>\n",
       "    <tr>\n",
       "      <th>liveness</th>\n",
       "      <td>Live</td>\n",
       "      <td>Décrit si un public est présent. 0 = piste enr...</td>\n",
       "      <td>0.197141</td>\n",
       "      <td>Enregistrement studio</td>\n",
       "      <td>0.036000</td>\n",
       "      <td>0.694</td>\n",
       "      <td>0.1390</td>\n",
       "      <td>0.154553</td>\n",
       "    </tr>\n",
       "    <tr>\n",
       "      <th>loudness</th>\n",
       "      <td>Puissance acoustique</td>\n",
       "      <td>Décrit à quel point la piste rend un son fort....</td>\n",
       "      <td>-4.984641</td>\n",
       "      <td>None</td>\n",
       "      <td>-10.070000</td>\n",
       "      <td>-1.538</td>\n",
       "      <td>-4.9000</td>\n",
       "      <td>1.698357</td>\n",
       "    </tr>\n",
       "    <tr>\n",
       "      <th>mode</th>\n",
       "      <td>Mode</td>\n",
       "      <td>Donne le mode (majeur/mineur) de la piste. 0 =...</td>\n",
       "      <td>0.564103</td>\n",
       "      <td>None</td>\n",
       "      <td>0.000000</td>\n",
       "      <td>1.000</td>\n",
       "      <td>1.0000</td>\n",
       "      <td>0.502356</td>\n",
       "    </tr>\n",
       "    <tr>\n",
       "      <th>speechiness</th>\n",
       "      <td>Parler</td>\n",
       "      <td>Décrit dans quelle mesure la piste contient de...</td>\n",
       "      <td>0.070264</td>\n",
       "      <td>Musical</td>\n",
       "      <td>0.029200</td>\n",
       "      <td>0.392</td>\n",
       "      <td>0.0460</td>\n",
       "      <td>0.068046</td>\n",
       "    </tr>\n",
       "    <tr>\n",
       "      <th>tempo</th>\n",
       "      <td>Tempo</td>\n",
       "      <td>Donne le tempo de la piste en battementss par ...</td>\n",
       "      <td>122.318564</td>\n",
       "      <td>None</td>\n",
       "      <td>74.110000</td>\n",
       "      <td>189.868</td>\n",
       "      <td>120.9700</td>\n",
       "      <td>23.770778</td>\n",
       "    </tr>\n",
       "    <tr>\n",
       "      <th>valence</th>\n",
       "      <td>Jovialité</td>\n",
       "      <td>Décrit la positivité communiquée par la piste....</td>\n",
       "      <td>0.630667</td>\n",
       "      <td>Plutôt léger</td>\n",
       "      <td>0.286000</td>\n",
       "      <td>0.965</td>\n",
       "      <td>0.6600</td>\n",
       "      <td>0.211210</td>\n",
       "    </tr>\n",
       "    <tr>\n",
       "      <th>popularity</th>\n",
       "      <td>Popularité</td>\n",
       "      <td>Décrit l'étendue du public que la piste, et co...</td>\n",
       "      <td>71.871795</td>\n",
       "      <td>Populaire</td>\n",
       "      <td>14.000000</td>\n",
       "      <td>84.000</td>\n",
       "      <td>77.0000</td>\n",
       "      <td>13.461797</td>\n",
       "    </tr>\n",
       "  </tbody>\n",
       "</table>\n",
       "</div>"
      ],
      "text/plain": [
       "                                  name  \\\n",
       "audio-features                           \n",
       "acousticness                Acoustique   \n",
       "danceability               Dansabilité   \n",
       "energy                         Energie   \n",
       "instrumentalness       Insturmentalité   \n",
       "key                           Tonalité   \n",
       "liveness                          Live   \n",
       "loudness          Puissance acoustique   \n",
       "mode                              Mode   \n",
       "speechiness                     Parler   \n",
       "tempo                            Tempo   \n",
       "valence                      Jovialité   \n",
       "popularity                  Popularité   \n",
       "\n",
       "                                                        description  \\\n",
       "audio-features                                                        \n",
       "acousticness      Décrit dans quelle proportion la piste est pro...   \n",
       "danceability      Décrit à quel point il est possible de danser ...   \n",
       "energy            Décrit dans quelle mesure la piste est intense...   \n",
       "instrumentalness  Décrit dans quelle proportion on entend des vo...   \n",
       "key               Donne la tonalité principale de la piste. 0 = ...   \n",
       "liveness          Décrit si un public est présent. 0 = piste enr...   \n",
       "loudness          Décrit à quel point la piste rend un son fort....   \n",
       "mode              Donne le mode (majeur/mineur) de la piste. 0 =...   \n",
       "speechiness       Décrit dans quelle mesure la piste contient de...   \n",
       "tempo             Donne le tempo de la piste en battementss par ...   \n",
       "valence           Décrit la positivité communiquée par la piste....   \n",
       "popularity        Décrit l'étendue du public que la piste, et co...   \n",
       "\n",
       "                     average                    tag        min      max  \\\n",
       "audio-features                                                            \n",
       "acousticness        0.090473            Synthétique   0.000079    0.622   \n",
       "danceability        0.663564           Très dansant   0.279000    0.912   \n",
       "energy              0.758231              Energique   0.318000    0.963   \n",
       "instrumentalness    0.007564    Majorité de paroles   0.000000    0.150   \n",
       "key                 4.923077                   None   0.000000   11.000   \n",
       "liveness            0.197141  Enregistrement studio   0.036000    0.694   \n",
       "loudness           -4.984641                   None -10.070000   -1.538   \n",
       "mode                0.564103                   None   0.000000    1.000   \n",
       "speechiness         0.070264                Musical   0.029200    0.392   \n",
       "tempo             122.318564                   None  74.110000  189.868   \n",
       "valence             0.630667           Plutôt léger   0.286000    0.965   \n",
       "popularity         71.871795              Populaire  14.000000   84.000   \n",
       "\n",
       "                    median     st dev  \n",
       "audio-features                         \n",
       "acousticness        0.0426   0.120483  \n",
       "danceability        0.6690   0.116529  \n",
       "energy              0.7800   0.138497  \n",
       "instrumentalness    0.0000   0.029851  \n",
       "key                 4.0000   3.673408  \n",
       "liveness            0.1390   0.154553  \n",
       "loudness           -4.9000   1.698357  \n",
       "mode                1.0000   0.502356  \n",
       "speechiness         0.0460   0.068046  \n",
       "tempo             120.9700  23.770778  \n",
       "valence             0.6600   0.211210  \n",
       "popularity         77.0000  13.461797  "
      ]
     },
     "execution_count": 61,
     "metadata": {},
     "output_type": "execute_result"
    }
   ],
   "source": [
    "playlist2 = audio_feat.loc[:, 'name':'description'].copy()\n",
    "for aud in playlist2.index:\n",
    "    playlist2.loc[aud, 'average'] = playlist[aud].mean()\n",
    "    playlist2.loc[aud, 'tag'] = tag(audio_feat, aud, playlist2.loc[aud, 'average'])\n",
    "    playlist2.loc[aud, 'min'] = playlist[aud].min()\n",
    "    playlist2.loc[aud, 'max'] = playlist[aud].max()\n",
    "    playlist2.loc[aud, 'median'] = playlist[aud].median()\n",
    "    playlist2.loc[aud, 'st dev'] = playlist[aud].std()\n",
    "playlist2"
   ]
  },
  {
   "cell_type": "code",
   "execution_count": null,
   "id": "f77ef5fa",
   "metadata": {},
   "outputs": [],
   "source": [
    "# Pour afficher dans Streamlit\n",
    "# st.write(fig = plotly figure)  ==> \"write arguments to the app\"\n",
    "# st.plotly_chart(fig = plotly figure)"
   ]
  },
  {
   "cell_type": "markdown",
   "id": "918a8538",
   "metadata": {},
   "source": [
    "## Test d'enregistrement en .csv du dataframe, mais récupération des listes non résolues"
   ]
  },
  {
   "cell_type": "code",
   "execution_count": null,
   "id": "347656bb",
   "metadata": {},
   "outputs": [],
   "source": [
    "audio_feat.to_csv(\"test01.csv\")"
   ]
  },
  {
   "cell_type": "code",
   "execution_count": null,
   "id": "29621a82",
   "metadata": {},
   "outputs": [],
   "source": [
    "df = pd.read_csv(\"test01.csv\").set_index(\"Audio-features\")\n",
    "df.head()"
   ]
  },
  {
   "cell_type": "code",
   "execution_count": null,
   "id": "472c8512",
   "metadata": {},
   "outputs": [],
   "source": [
    "def str_to_list(st):\n",
    "    assert st[0]=='[' and st[-1]==']'\n",
    "    return list(st[1:-1].split(', '))"
   ]
  },
  {
   "cell_type": "code",
   "execution_count": null,
   "id": "878f567e",
   "metadata": {},
   "outputs": [],
   "source": [
    "for aud in df.index:\n",
    "    df.loc[aud, 'Intervalles'] = str_to_list(df.loc[aud, 'Intervalles'])\n",
    "    df.loc[aud, 'Intervalles'] = list(map(float, df.loc[aud, 'Intervalles']))"
   ]
  },
  {
   "cell_type": "code",
   "execution_count": null,
   "id": "4a89f4f1",
   "metadata": {
    "scrolled": true
   },
   "outputs": [],
   "source": [
    "df.loc['energy', 'Intervalles'] = str_to_list(df.loc['energy', 'Intervalles'])"
   ]
  },
  {
   "cell_type": "code",
   "execution_count": null,
   "id": "1fd96f71",
   "metadata": {},
   "outputs": [],
   "source": [
    "for st in df.index:\n",
    "    print(st)"
   ]
  },
  {
   "cell_type": "code",
   "execution_count": null,
   "id": "bdf20c8f",
   "metadata": {},
   "outputs": [],
   "source": []
  }
 ],
 "metadata": {
  "kernelspec": {
   "display_name": "Python 3",
   "language": "python",
   "name": "python3"
  },
  "language_info": {
   "codemirror_mode": {
    "name": "ipython",
    "version": 3
   },
   "file_extension": ".py",
   "mimetype": "text/x-python",
   "name": "python",
   "nbconvert_exporter": "python",
   "pygments_lexer": "ipython3",
   "version": "3.9.4"
  }
 },
 "nbformat": 4,
 "nbformat_minor": 5
}
