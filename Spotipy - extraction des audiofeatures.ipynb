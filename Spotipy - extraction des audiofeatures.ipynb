{
 "cells": [
  {
   "cell_type": "code",
   "execution_count": 20,
   "metadata": {},
   "outputs": [],
   "source": [
    "import spotipy\n",
    "from spotipy.oauth2 import SpotifyClientCredentials\n",
    "from spotipy.oauth2 import SpotifyOAuth\n",
    "import pandas as pd\n",
    "import time "
   ]
  },
  {
   "cell_type": "markdown",
   "metadata": {},
   "source": [
    "A partir de l'ID de la playlist, on est capable de récupérer les audio features dans un dataframe. On peut facilement les passer en csv si besoin."
   ]
  },
  {
   "cell_type": "code",
   "execution_count": 21,
   "metadata": {},
   "outputs": [],
   "source": [
    "cid = '1344579488b94b5690228b09751fefe5'\n",
    "secret = 'a049d54e046d48d1a16d73250f733117'\n",
    "client_credentials_manager = SpotifyClientCredentials(client_id=cid, client_secret=secret)\n",
    "sp = spotipy.Spotify(client_credentials_manager=client_credentials_manager)"
   ]
  },
  {
   "cell_type": "code",
   "execution_count": 30,
   "metadata": {},
   "outputs": [],
   "source": [
    "def getTrackIDs(playlist_id):\n",
    "    ids = []\n",
    "    playlist = sp.playlist(playlist_id)\n",
    "    for item in playlist['tracks']['items']:\n",
    "        track = item['track']\n",
    "        ids.append(track['id'])\n",
    "    return ids"
   ]
  },
  {
   "cell_type": "code",
   "execution_count": 31,
   "metadata": {},
   "outputs": [],
   "source": [
    "def getTrackFeatures(id):\n",
    "    meta = sp.track(id)\n",
    "    features = sp.audio_features(id)\n",
    "    return [meta['name'], \n",
    "             meta['album']['name'],\n",
    "             meta['album']['artists'][0]['name'],\n",
    "             meta['album']['release_date'],\n",
    "             meta['duration_ms'], \n",
    "             meta['popularity'], \n",
    "             features[0]['acousticness'],\n",
    "             features[0]['danceability'], \n",
    "             features[0]['energy'], \n",
    "             features[0]['instrumentalness'],\n",
    "             features[0]['key'], \n",
    "             features[0]['liveness'], \n",
    "             features[0]['loudness'], \n",
    "             features[0]['mode'], \n",
    "             features[0]['speechiness'], \n",
    "             features[0]['tempo'], \n",
    "             features[0]['time_signature'], \n",
    "             features[0]['valence']]"
   ]
  },
  {
   "cell_type": "code",
   "execution_count": 32,
   "metadata": {},
   "outputs": [],
   "source": [
    "def creat_df_audiofeatures(playlist_id):\n",
    "    ids = getTrackIDs(playlist_id)\n",
    "    tracks = []\n",
    "    for i in range(len(ids)):\n",
    "        time.sleep(.5)\n",
    "        track = getTrackFeatures(ids[i])\n",
    "        tracks.append(track)\n",
    "    return pd.DataFrame(tracks, columns = ['name', 'album', 'artist', 'release_date', 'length', 'popularity', 'acousticness', 'danceability', 'energy', 'instrumentalness', 'key', 'liveness', 'loudness', 'mode', 'speechiness', 'tempo', 'time_signature','valence']) "
   ]
  },
  {
   "cell_type": "code",
   "execution_count": 33,
   "metadata": {},
   "outputs": [],
   "source": [
    "def get_playlist_id(user_id):\n",
    "    playlists = sp.user_playlists(user_id)\n",
    "    \n",
    "    ide=[]\n",
    "    nom=[]\n",
    "    while playlists:\n",
    "        for i, playlist in enumerate(playlists['items']):\n",
    "            ide.append(playlist['uri'].split(':')[2])\n",
    "            nom.append(playlist['name'])\n",
    "        if playlists['next']:\n",
    "            playlists = sp.next(playlists)\n",
    "        else:\n",
    "            playlists = None\n",
    "    return ide,nom"
   ]
  },
  {
   "cell_type": "code",
   "execution_count": 34,
   "metadata": {},
   "outputs": [
    {
     "name": "stdout",
     "output_type": "stream",
     "text": [
      "<bound method Spotify.current_user_playlists of <spotipy.client.Spotify object at 0x000001A6CB6C4820>>\n"
     ]
    }
   ],
   "source": [
    "print(sp.current_user_playlists)"
   ]
  },
  {
   "cell_type": "code",
   "execution_count": 35,
   "metadata": {},
   "outputs": [],
   "source": [
    "ide,nom=get_playlist_id('11122869277')"
   ]
  },
  {
   "cell_type": "code",
   "execution_count": 36,
   "metadata": {
    "scrolled": true
   },
   "outputs": [
    {
     "name": "stdout",
     "output_type": "stream",
     "text": [
      "['64e2SkGAkaMkr4KWO2gDqs', '5WD8DlozA14CIIq9zvpW69', '6SUm0RDRICmIYYcoccVQta', '0tdVnQ8ZhojhEclJ03Ocap', '59KL6DQj11qafv874fpD2n', '57rDp09cPULXiF4KZCAK4X', '1B1LHPVgTnKppbNFSzt5CC'] ['idk mood', 'Juice WRLD my fav songs', 'Old school radio dings ', 'Meine Shazam-Titel', 'AMD235', 'US rap', 'Abschluss shit']\n"
     ]
    }
   ],
   "source": [
    "print(ide,nom)"
   ]
  },
  {
   "cell_type": "code",
   "execution_count": 47,
   "metadata": {},
   "outputs": [
    {
     "name": "stdout",
     "output_type": "stream",
     "text": [
      "(['04sFPUidqxItad6l9aP60i', '2VLED6GJOlFHaF8ybrVsFw', '0SZjAeUN1tPPzu7WiTYw3H', '6okGeywpXFMpHuzGKSIInR', '3Bz5oBdE3fYTNpczCsLlEa', '6vnJ6HX7CLCDk9MoyAJpfl', '10WCOR0kuxSS1hYeV8OQ2j', '1Kji16Y0Scn3lFMgtKEcEE', '2od1z2v7A8fYj44QXEslCS', '3apMUIy53oshTE8F3OB2pD', '0ActQQQpVjpOr2Z2WEZ2PQ', '3RVHXUadLcbxh6mWzWlDNG', '1BggsAxJMDFsGxHIy0Xnxt', '5EI1M6tXdBGrYOkvsZnGnL', '4WciMuQqNpc619z8O7u5V0', '7rqJZP4KoYrEZGIFVFiNzZ', '37i9dQZF1DXaodSs2OkSAz', '6TDFcnEAW55FIJQ4n2TQzp', '6kD3TZ8rv1iRwf29fYeYcu', '1TOuDqT36tu2HaqaSU06Kc', '0wBwgZaFqnpS5OSTRLxBok', '2hJr1byRcpSCWKqxK0el2S', '4WA4jCfeCwrNfTxPEbakpu', '3x3oQxlYuKnJFOzpGudJU8', '3Ua54HTyUUfLwZ1O9aDAf3', '7xgZdsrlc7HsVqI1PZUTiu', '0AKDBB8OmFg8HJvZx5VZic', '3uovY3jNwehCPO48FCxZ6z', '5Ldceh7wpVrCEfA5loVze7', '4wHAA7iZ2x86vJdMkYBsN3', '35gYkgB4EwM4rfzQNIdGqg', '1qFGWaZRm7m4Ht5ab4YINu', '5sf0Hb2CJUSqGLwJfu6QXQ', '03Ki5wFQGTaOooJeTwEObl'], ['Meine Playlist Nr.\\xa033', 'Coole Deutsche Lieder 🏆🏆🏆🥇🥈🥉🥉🥉🥉🥇🥇🥇🥇🥇🥇🥇🥇🥇🥈🥈🥈🥈🥈🥈🥈', 'Hoppelhopp', 'Sad Songs / Traurige Lieder zum Weinen  😭💔', 'Paulinekings lieblings Songs', 'Susan Oseloff', 'Paulinesking', 'Toyler Swift', 'Paulineking', 'Die Schule der magischen tiere ferien hörspiele', ' Die Schule der magischen Tiere -Endlich Ferien -Alle Hörspiele', 'Klingt', 'Tolyer Swift', 'Die Vampirschwestern (Hoerspiel)', 'lina larisser strahl', 'Deine freunde', 'This Is Deine Freunde', 'Lover', 'Tschüß', 'Die coolen songs', 'wendy', 'Wendy – Folge 63: Oliver verliebt sich', 'Party Musik', 'Die Entscheidung - Teil 05 – H2O - Plötzlich Meerjungfrau!', 'ä#lökhlgj<<<<<<<', 'hallo', 'Cool', ' Der Löwe und das Lamm', 'Lisa-Marie Koroll — Auf einer Welle', 'Sternenschweif – Teil 1 bis 48', 'Spirit - Hörspiel', 'Gregs & Ruperts Tagebuch', 'Deine Freunde', 'Gregs Tagebuch 1—16'])\n"
     ]
    }
   ],
   "source": [
    "print(get_playlist_id('uzpdvlqz013uhv6crmiqoh7hk'))"
   ]
  },
  {
   "cell_type": "code",
   "execution_count": 38,
   "metadata": {},
   "outputs": [],
   "source": [
    "playlist_id='4pUzBoCxZzig6QncK4fcxD'\n",
    "playlist_id2 = '6SUm0RDRICmIYYcoccVQta'"
   ]
  },
  {
   "cell_type": "code",
   "execution_count": 39,
   "metadata": {},
   "outputs": [
    {
     "name": "stdout",
     "output_type": "stream",
     "text": [
      "<class 'int'>\n"
     ]
    }
   ],
   "source": [
    "print(type(1))"
   ]
  },
  {
   "cell_type": "code",
   "execution_count": 40,
   "metadata": {},
   "outputs": [],
   "source": [
    "df_self = creat_df_audiofeatures(playlist_id)"
   ]
  },
  {
   "cell_type": "code",
   "execution_count": 46,
   "metadata": {},
   "outputs": [
    {
     "data": {
      "text/plain": [
       "Index(['name', 'album', 'artist', 'release_date', 'length', 'popularity',\n",
       "       'acousticness', 'danceability', 'energy', 'instrumentalness', 'key',\n",
       "       'liveness', 'loudness', 'mode', 'speechiness', 'tempo',\n",
       "       'time_signature', 'valence'],\n",
       "      dtype='object')"
      ]
     },
     "execution_count": 46,
     "metadata": {},
     "output_type": "execute_result"
    }
   ],
   "source": [
    "df_self.columns"
   ]
  },
  {
   "cell_type": "code",
   "execution_count": 43,
   "metadata": {
    "scrolled": true
   },
   "outputs": [],
   "source": [
    "df = creat_df_audiofeatures(playlist_id2)"
   ]
  },
  {
   "cell_type": "code",
   "execution_count": 44,
   "metadata": {
    "scrolled": true
   },
   "outputs": [
    {
     "data": {
      "text/html": [
       "<div>\n",
       "<style scoped>\n",
       "    .dataframe tbody tr th:only-of-type {\n",
       "        vertical-align: middle;\n",
       "    }\n",
       "\n",
       "    .dataframe tbody tr th {\n",
       "        vertical-align: top;\n",
       "    }\n",
       "\n",
       "    .dataframe thead th {\n",
       "        text-align: right;\n",
       "    }\n",
       "</style>\n",
       "<table border=\"1\" class=\"dataframe\">\n",
       "  <thead>\n",
       "    <tr style=\"text-align: right;\">\n",
       "      <th></th>\n",
       "      <th>name</th>\n",
       "      <th>album</th>\n",
       "      <th>artist</th>\n",
       "      <th>release_date</th>\n",
       "      <th>length</th>\n",
       "      <th>popularity</th>\n",
       "      <th>acousticness</th>\n",
       "      <th>danceability</th>\n",
       "      <th>energy</th>\n",
       "      <th>instrumentalness</th>\n",
       "      <th>key</th>\n",
       "      <th>liveness</th>\n",
       "      <th>loudness</th>\n",
       "      <th>mode</th>\n",
       "      <th>speechiness</th>\n",
       "      <th>tempo</th>\n",
       "      <th>time_signature</th>\n",
       "      <th>valence</th>\n",
       "    </tr>\n",
       "  </thead>\n",
       "  <tbody>\n",
       "    <tr>\n",
       "      <th>0</th>\n",
       "      <td>Boom Clap</td>\n",
       "      <td>SUCKER</td>\n",
       "      <td>Charli XCX</td>\n",
       "      <td>2015-02-09</td>\n",
       "      <td>169866</td>\n",
       "      <td>65</td>\n",
       "      <td>0.1540</td>\n",
       "      <td>0.659</td>\n",
       "      <td>0.911</td>\n",
       "      <td>0.000304</td>\n",
       "      <td>4</td>\n",
       "      <td>0.1910</td>\n",
       "      <td>-2.280</td>\n",
       "      <td>1</td>\n",
       "      <td>0.0786</td>\n",
       "      <td>91.999</td>\n",
       "      <td>4</td>\n",
       "      <td>0.576</td>\n",
       "    </tr>\n",
       "    <tr>\n",
       "      <th>1</th>\n",
       "      <td>Time of Our Lives</td>\n",
       "      <td>Globalization</td>\n",
       "      <td>Pitbull</td>\n",
       "      <td>2014-11-21</td>\n",
       "      <td>229360</td>\n",
       "      <td>81</td>\n",
       "      <td>0.0921</td>\n",
       "      <td>0.720</td>\n",
       "      <td>0.802</td>\n",
       "      <td>0.000000</td>\n",
       "      <td>1</td>\n",
       "      <td>0.6940</td>\n",
       "      <td>-5.797</td>\n",
       "      <td>1</td>\n",
       "      <td>0.0582</td>\n",
       "      <td>124.043</td>\n",
       "      <td>4</td>\n",
       "      <td>0.723</td>\n",
       "    </tr>\n",
       "    <tr>\n",
       "      <th>2</th>\n",
       "      <td>Pumped Up Kicks</td>\n",
       "      <td>Torches</td>\n",
       "      <td>Foster The People</td>\n",
       "      <td>2011-05-23</td>\n",
       "      <td>239600</td>\n",
       "      <td>85</td>\n",
       "      <td>0.1450</td>\n",
       "      <td>0.733</td>\n",
       "      <td>0.710</td>\n",
       "      <td>0.115000</td>\n",
       "      <td>5</td>\n",
       "      <td>0.0956</td>\n",
       "      <td>-5.849</td>\n",
       "      <td>0</td>\n",
       "      <td>0.0292</td>\n",
       "      <td>127.975</td>\n",
       "      <td>4</td>\n",
       "      <td>0.965</td>\n",
       "    </tr>\n",
       "    <tr>\n",
       "      <th>3</th>\n",
       "      <td>Titanium (feat. Sia)</td>\n",
       "      <td>Nothing but the Beat (Ultimate Edition)</td>\n",
       "      <td>David Guetta</td>\n",
       "      <td>2012-12-07</td>\n",
       "      <td>245040</td>\n",
       "      <td>80</td>\n",
       "      <td>0.0679</td>\n",
       "      <td>0.604</td>\n",
       "      <td>0.787</td>\n",
       "      <td>0.150000</td>\n",
       "      <td>0</td>\n",
       "      <td>0.1270</td>\n",
       "      <td>-3.674</td>\n",
       "      <td>0</td>\n",
       "      <td>0.1030</td>\n",
       "      <td>126.062</td>\n",
       "      <td>4</td>\n",
       "      <td>0.301</td>\n",
       "    </tr>\n",
       "    <tr>\n",
       "      <th>4</th>\n",
       "      <td>Blame (feat. John Newman)</td>\n",
       "      <td>Motion</td>\n",
       "      <td>Calvin Harris</td>\n",
       "      <td>2014-10-31</td>\n",
       "      <td>212960</td>\n",
       "      <td>76</td>\n",
       "      <td>0.0287</td>\n",
       "      <td>0.414</td>\n",
       "      <td>0.857</td>\n",
       "      <td>0.005740</td>\n",
       "      <td>0</td>\n",
       "      <td>0.3430</td>\n",
       "      <td>-4.078</td>\n",
       "      <td>0</td>\n",
       "      <td>0.0808</td>\n",
       "      <td>128.024</td>\n",
       "      <td>4</td>\n",
       "      <td>0.348</td>\n",
       "    </tr>\n",
       "  </tbody>\n",
       "</table>\n",
       "</div>"
      ],
      "text/plain": [
       "                        name                                    album  \\\n",
       "0                  Boom Clap                                   SUCKER   \n",
       "1          Time of Our Lives                            Globalization   \n",
       "2            Pumped Up Kicks                                  Torches   \n",
       "3       Titanium (feat. Sia)  Nothing but the Beat (Ultimate Edition)   \n",
       "4  Blame (feat. John Newman)                                   Motion   \n",
       "\n",
       "              artist release_date  length  popularity  acousticness  \\\n",
       "0         Charli XCX   2015-02-09  169866          65        0.1540   \n",
       "1            Pitbull   2014-11-21  229360          81        0.0921   \n",
       "2  Foster The People   2011-05-23  239600          85        0.1450   \n",
       "3       David Guetta   2012-12-07  245040          80        0.0679   \n",
       "4      Calvin Harris   2014-10-31  212960          76        0.0287   \n",
       "\n",
       "   danceability  energy  instrumentalness  key  liveness  loudness  mode  \\\n",
       "0         0.659   0.911          0.000304    4    0.1910    -2.280     1   \n",
       "1         0.720   0.802          0.000000    1    0.6940    -5.797     1   \n",
       "2         0.733   0.710          0.115000    5    0.0956    -5.849     0   \n",
       "3         0.604   0.787          0.150000    0    0.1270    -3.674     0   \n",
       "4         0.414   0.857          0.005740    0    0.3430    -4.078     0   \n",
       "\n",
       "   speechiness    tempo  time_signature  valence  \n",
       "0       0.0786   91.999               4    0.576  \n",
       "1       0.0582  124.043               4    0.723  \n",
       "2       0.0292  127.975               4    0.965  \n",
       "3       0.1030  126.062               4    0.301  \n",
       "4       0.0808  128.024               4    0.348  "
      ]
     },
     "execution_count": 44,
     "metadata": {},
     "output_type": "execute_result"
    }
   ],
   "source": [
    "df.head()"
   ]
  },
  {
   "cell_type": "code",
   "execution_count": 45,
   "metadata": {},
   "outputs": [
    {
     "data": {
      "text/plain": [
       "[0.659,\n",
       " 0.72,\n",
       " 0.733,\n",
       " 0.604,\n",
       " 0.414,\n",
       " 0.618,\n",
       " 0.637,\n",
       " 0.73,\n",
       " 0.747,\n",
       " 0.751,\n",
       " 0.774,\n",
       " 0.664,\n",
       " 0.559,\n",
       " 0.655,\n",
       " 0.6,\n",
       " 0.679,\n",
       " 0.652,\n",
       " 0.799,\n",
       " 0.794,\n",
       " 0.673,\n",
       " 0.706,\n",
       " 0.783,\n",
       " 0.736,\n",
       " 0.646,\n",
       " 0.669,\n",
       " 0.799,\n",
       " 0.912,\n",
       " 0.596,\n",
       " 0.647,\n",
       " 0.694,\n",
       " 0.56,\n",
       " 0.742,\n",
       " 0.581,\n",
       " 0.647,\n",
       " 0.279,\n",
       " 0.491,\n",
       " 0.762,\n",
       " 0.47,\n",
       " 0.697]"
      ]
     },
     "execution_count": 45,
     "metadata": {},
     "output_type": "execute_result"
    }
   ],
   "source": [
    "df['danceability'].tolist()"
   ]
  },
  {
   "cell_type": "markdown",
   "metadata": {},
   "source": [
    "Par contre, c'est un peu long à créer la table. Peut-être il y a moyen de faire autrement."
   ]
  },
  {
   "cell_type": "markdown",
   "metadata": {},
   "source": [
    "On vient de récupérer tous les audio features et les données meta de la playlist sous forme d'un data frame."
   ]
  },
  {
   "cell_type": "markdown",
   "metadata": {},
   "source": [
    "# Playlists de l'utilisateurs\n",
    "A partir du numéro d'utilisateur, on peut récuperer la list de playlist avec leur nom (pour que l'utilisateur choisisse laquelle analyser) et leur identification (nécesaire pour récuperer le dataframe)"
   ]
  },
  {
   "cell_type": "code",
   "execution_count": 11,
   "metadata": {},
   "outputs": [
    {
     "name": "stdout",
     "output_type": "stream",
     "text": [
      "idk mood  ->  64e2SkGAkaMkr4KWO2gDqs\n",
      "Juice WRLD my fav songs  ->  5WD8DlozA14CIIq9zvpW69\n",
      "Old school radio dings   ->  6SUm0RDRICmIYYcoccVQta\n",
      "Meine Shazam-Titel  ->  0tdVnQ8ZhojhEclJ03Ocap\n",
      "AMD235  ->  59KL6DQj11qafv874fpD2n\n",
      "US rap  ->  57rDp09cPULXiF4KZCAK4X\n",
      "Abschluss shit  ->  1B1LHPVgTnKppbNFSzt5CC\n"
     ]
    }
   ],
   "source": [
    "playlists = sp.user_playlists('11122869277')\n",
    "while playlists:\n",
    "    for i, playlist in enumerate(playlists['items']):\n",
    "        tab= playlist['uri'].split(':')\n",
    "        print(playlist['name'], \" -> \",tab[2])\n",
    "    if playlists['next']:\n",
    "        playlists = sp.next(playlists)\n",
    "    else:\n",
    "        playlists = None"
   ]
  },
  {
   "cell_type": "markdown",
   "metadata": {},
   "source": [
    "# Récupération de l'ID de l'utilisateur\n",
    "Il me semble que pour ça, il faut se connecter"
   ]
  },
  {
   "cell_type": "markdown",
   "metadata": {},
   "source": [
    "Si j'essaye de mettre les identifiants dans cid et le code secret"
   ]
  },
  {
   "cell_type": "code",
   "execution_count": 27,
   "metadata": {},
   "outputs": [],
   "source": [
    "cid2 = 'paupau.vehrle@gmail.com'\n",
    "secret2 = 'MinesParisTech.6'\n",
    "client_credentials_manager2 = SpotifyClientCredentials(client_id=cid, client_secret=secret)\n",
    "sp2 = spotipy.Spotify(client_credentials_manager=client_credentials_manager)"
   ]
  },
  {
   "cell_type": "code",
   "execution_count": 28,
   "metadata": {},
   "outputs": [],
   "source": [
    "playlists12 = sp2.user_playlists('spotify')"
   ]
  },
  {
   "cell_type": "code",
   "execution_count": 29,
   "metadata": {
    "scrolled": true
   },
   "outputs": [
    {
     "name": "stdout",
     "output_type": "stream",
     "text": [
      "{'href': 'https://api.spotify.com/v1/users/spotify/playlists?offset=0&limit=50', 'items': [{'collaborative': False, 'description': 'Olivia Rodrigo is on top of the Hottest 50!', 'external_urls': {'spotify': 'https://open.spotify.com/playlist/37i9dQZF1DXcBWIGoYBM5M'}, 'href': 'https://api.spotify.com/v1/playlists/37i9dQZF1DXcBWIGoYBM5M', 'id': '37i9dQZF1DXcBWIGoYBM5M', 'images': [{'height': None, 'url': 'https://i.scdn.co/image/ab67706f000000033dea43365eb16182a263326e', 'width': None}], 'name': \"Today's Top Hits\", 'owner': {'display_name': 'Spotify', 'external_urls': {'spotify': 'https://open.spotify.com/user/spotify'}, 'href': 'https://api.spotify.com/v1/users/spotify', 'id': 'spotify', 'type': 'user', 'uri': 'spotify:user:spotify'}, 'primary_color': None, 'public': True, 'snapshot_id': 'MTYxNzU5ODgwMCwwMDAwMDQ5MzAwMDAwMTc4YTA2NmUwZDIwMDAwMDE3ODkwYzVmMjQ4', 'tracks': {'href': 'https://api.spotify.com/v1/playlists/37i9dQZF1DXcBWIGoYBM5M/tracks', 'total': 50}, 'type': 'playlist', 'uri': 'spotify:playlist:37i9dQZF1DXcBWIGoYBM5M'}, {'collaborative': False, 'description': 'Music from Lil Tjay, Drake and Pooh Shiesty.', 'external_urls': {'spotify': 'https://open.spotify.com/playlist/37i9dQZF1DX0XUsuxWHRQd'}, 'href': 'https://api.spotify.com/v1/playlists/37i9dQZF1DX0XUsuxWHRQd', 'id': '37i9dQZF1DX0XUsuxWHRQd', 'images': [{'height': None, 'url': 'https://i.scdn.co/image/ab67706f00000003b88c67fe4fa8c33a5513cb87', 'width': None}], 'name': 'RapCaviar', 'owner': {'display_name': 'Spotify', 'external_urls': {'spotify': 'https://open.spotify.com/user/spotify'}, 'href': 'https://api.spotify.com/v1/users/spotify', 'id': 'spotify', 'type': 'user', 'uri': 'spotify:user:spotify'}, 'primary_color': None, 'public': True, 'snapshot_id': 'MTYxNzYzOTE5MiwwMDAwMDU2NzAwMDAwMTc4YTJjZjM5NjEwMDAwMDE3ODhlNTZjZTc0', 'tracks': {'href': 'https://api.spotify.com/v1/playlists/37i9dQZF1DX0XUsuxWHRQd/tracks', 'total': 50}, 'type': 'playlist', 'uri': 'spotify:playlist:37i9dQZF1DX0XUsuxWHRQd'}, {'collaborative': False, 'description': \"Today's top country hits of the week, worldwide! Cover: Kelsea Ballerini\", 'external_urls': {'spotify': 'https://open.spotify.com/playlist/37i9dQZF1DX1lVhptIYRda'}, 'href': 'https://api.spotify.com/v1/playlists/37i9dQZF1DX1lVhptIYRda', 'id': '37i9dQZF1DX1lVhptIYRda', 'images': [{'height': None, 'url': 'https://i.scdn.co/image/ab67706f0000000379d103bc14c77354ee33ac1e', 'width': None}], 'name': 'Hot Country', 'owner': {'display_name': 'Spotify', 'external_urls': {'spotify': 'https://open.spotify.com/user/spotify'}, 'href': 'https://api.spotify.com/v1/users/spotify', 'id': 'spotify', 'type': 'user', 'uri': 'spotify:user:spotify'}, 'primary_color': None, 'public': True, 'snapshot_id': 'MTYxNzMzNjAwMCwwMDAwMDMwNzAwMDAwMTc4OTBiY2RlOGMwMDAwMDE3ODkwMzQ4YmIz', 'tracks': {'href': 'https://api.spotify.com/v1/playlists/37i9dQZF1DX1lVhptIYRda/tracks', 'total': 52}, 'type': 'playlist', 'uri': 'spotify:playlist:37i9dQZF1DX1lVhptIYRda'}, {'collaborative': False, 'description': \"Today's top Latin hits are right here, on ¡Viva Latino! Cover: Karol G\", 'external_urls': {'spotify': 'https://open.spotify.com/playlist/37i9dQZF1DX10zKzsJ2jva'}, 'href': 'https://api.spotify.com/v1/playlists/37i9dQZF1DX10zKzsJ2jva', 'id': '37i9dQZF1DX10zKzsJ2jva', 'images': [{'height': None, 'url': 'https://i.scdn.co/image/ab67706f00000003ca52d177146b3082faf1acf4', 'width': None}], 'name': '¡Viva Latino!', 'owner': {'display_name': 'Spotify', 'external_urls': {'spotify': 'https://open.spotify.com/user/spotify'}, 'href': 'https://api.spotify.com/v1/users/spotify', 'id': 'spotify', 'type': 'user', 'uri': 'spotify:user:spotify'}, 'primary_color': None, 'public': True, 'snapshot_id': 'MTYxNzc4Mjk3MSwwMDAwMDAwMGQ0MWQ4Y2Q5OGYwMGIyMDRlOTgwMDk5OGVjZjg0Mjdl', 'tracks': {'href': 'https://api.spotify.com/v1/playlists/37i9dQZF1DX10zKzsJ2jva/tracks', 'total': 50}, 'type': 'playlist', 'uri': 'spotify:playlist:37i9dQZF1DX10zKzsJ2jva'}, {'collaborative': False, 'description': 'New music from Olivia Rodrigo, Demi Lovato & Ariana Grande, Lil Tjay, and more! ', 'external_urls': {'spotify': 'https://open.spotify.com/playlist/37i9dQZF1DX4JAvHpjipBk'}, 'href': 'https://api.spotify.com/v1/playlists/37i9dQZF1DX4JAvHpjipBk', 'id': '37i9dQZF1DX4JAvHpjipBk', 'images': [{'height': None, 'url': 'https://i.scdn.co/image/ab67706f000000034c0b20079499e84bafa09745', 'width': None}], 'name': 'New Music Friday', 'owner': {'display_name': 'Spotify', 'external_urls': {'spotify': 'https://open.spotify.com/user/spotify'}, 'href': 'https://api.spotify.com/v1/users/spotify', 'id': 'spotify', 'type': 'user', 'uri': 'spotify:user:spotify'}, 'primary_color': None, 'public': True, 'snapshot_id': 'MTYxNzMzNjAzNiwwMDAwMDMzZDAwMDAwMTc4OTBiZDZiYjgwMDAwMDE3ODhmYjBiODkz', 'tracks': {'href': 'https://api.spotify.com/v1/playlists/37i9dQZF1DX4JAvHpjipBk/tracks', 'total': 100}, 'type': 'playlist', 'uri': 'spotify:playlist:37i9dQZF1DX4JAvHpjipBk'}, {'collaborative': False, 'description': 'Relax and indulge with beautiful piano pieces', 'external_urls': {'spotify': 'https://open.spotify.com/playlist/37i9dQZF1DX4sWSpwq3LiO'}, 'href': 'https://api.spotify.com/v1/playlists/37i9dQZF1DX4sWSpwq3LiO', 'id': '37i9dQZF1DX4sWSpwq3LiO', 'images': [{'height': None, 'url': 'https://i.scdn.co/image/ab67706f00000003ca5a7517156021292e5663a6', 'width': None}], 'name': 'Peaceful Piano', 'owner': {'display_name': 'Spotify', 'external_urls': {'spotify': 'https://open.spotify.com/user/spotify'}, 'href': 'https://api.spotify.com/v1/users/spotify', 'id': 'spotify', 'type': 'user', 'uri': 'spotify:user:spotify'}, 'primary_color': None, 'public': True, 'snapshot_id': 'MTYxNzEwNTU4NSwwMDAwMDBlYzAwMDAwMTc4ODMwMTA3MzIwMDAwMDE2ZDE1NTk1OTFk', 'tracks': {'href': 'https://api.spotify.com/v1/playlists/37i9dQZF1DX4sWSpwq3LiO/tracks', 'total': 330}, 'type': 'playlist', 'uri': 'spotify:playlist:37i9dQZF1DX4sWSpwq3LiO'}, {'collaborative': False, 'description': 'The pulse of R&B music today.  Cover: Silk Sonic', 'external_urls': {'spotify': 'https://open.spotify.com/playlist/37i9dQZF1DX4SBhb3fqCJd'}, 'href': 'https://api.spotify.com/v1/playlists/37i9dQZF1DX4SBhb3fqCJd', 'id': '37i9dQZF1DX4SBhb3fqCJd', 'images': [{'height': None, 'url': 'https://i.scdn.co/image/ab67706f00000003d840a7962f41a5833582f886', 'width': None}], 'name': 'Are & Be', 'owner': {'display_name': 'Spotify', 'external_urls': {'spotify': 'https://open.spotify.com/user/spotify'}, 'href': 'https://api.spotify.com/v1/users/spotify', 'id': 'spotify', 'type': 'user', 'uri': 'spotify:user:spotify'}, 'primary_color': None, 'public': True, 'snapshot_id': 'MTYxNzMzNjA2MCwwMDAwMDUwNzAwMDAwMTc4OTBiZGM4ZjcwMDAwMDE3ODhmY2E5M2M4', 'tracks': {'href': 'https://api.spotify.com/v1/playlists/37i9dQZF1DX4SBhb3fqCJd/tracks', 'total': 50}, 'type': 'playlist', 'uri': 'spotify:playlist:37i9dQZF1DX4SBhb3fqCJd'}, {'collaborative': False, 'description': 'Rock legends and epic songs that continue to inspire generations.', 'external_urls': {'spotify': 'https://open.spotify.com/playlist/37i9dQZF1DWXRqgorJj26U'}, 'href': 'https://api.spotify.com/v1/playlists/37i9dQZF1DWXRqgorJj26U', 'id': '37i9dQZF1DWXRqgorJj26U', 'images': [{'height': None, 'url': 'https://i.scdn.co/image/ab67706f00000003519fc8771d90f496501a4da3', 'width': None}], 'name': 'Rock Classics', 'owner': {'display_name': 'Spotify', 'external_urls': {'spotify': 'https://open.spotify.com/user/spotify'}, 'href': 'https://api.spotify.com/v1/users/spotify', 'id': 'spotify', 'type': 'user', 'uri': 'spotify:user:spotify'}, 'primary_color': None, 'public': True, 'snapshot_id': 'MTYwMDc5MTM4OSwwMDAwMDA1NzAwMDAwMTc0YjY5YTI1OGMwMDAwMDE3M2ZlNjNkYjRm', 'tracks': {'href': 'https://api.spotify.com/v1/playlists/37i9dQZF1DWXRqgorJj26U/tracks', 'total': 145}, 'type': 'playlist', 'uri': 'spotify:playlist:37i9dQZF1DWXRqgorJj26U'}, {'collaborative': False, 'description': \"The world's biggest dance hits. Music from Afrojack, Timmy Trumpet, Becky Hill and more!\", 'external_urls': {'spotify': 'https://open.spotify.com/playlist/37i9dQZF1DX4dyzvuaRJ0n'}, 'href': 'https://api.spotify.com/v1/playlists/37i9dQZF1DX4dyzvuaRJ0n', 'id': '37i9dQZF1DX4dyzvuaRJ0n', 'images': [{'height': None, 'url': 'https://i.scdn.co/image/ab67706f000000038830c7282a3797a0e9417041', 'width': None}], 'name': 'mint', 'owner': {'display_name': 'Spotify', 'external_urls': {'spotify': 'https://open.spotify.com/user/spotify'}, 'href': 'https://api.spotify.com/v1/users/spotify', 'id': 'spotify', 'type': 'user', 'uri': 'spotify:user:spotify'}, 'primary_color': None, 'public': True, 'snapshot_id': 'MTYxNzMzNjA2MCwwMDAwMDQ4NjAwMDAwMTc4OTBiZGM4ZmEwMDAwMDE3ODhlM2RmNDRk', 'tracks': {'href': 'https://api.spotify.com/v1/playlists/37i9dQZF1DX4dyzvuaRJ0n/tracks', 'total': 88}, 'type': 'playlist', 'uri': 'spotify:playlist:37i9dQZF1DX4dyzvuaRJ0n'}, {'collaborative': False, 'description': 'The newest music from Kaleo, along with the top Rock songs you need to know.', 'external_urls': {'spotify': 'https://open.spotify.com/playlist/37i9dQZF1DXcF6B6QPhFDv'}, 'href': 'https://api.spotify.com/v1/playlists/37i9dQZF1DXcF6B6QPhFDv', 'id': '37i9dQZF1DXcF6B6QPhFDv', 'images': [{'height': None, 'url': 'https://i.scdn.co/image/ab67706f000000034e1da5bd2472134dfc3fa6fa', 'width': None}], 'name': 'Rock This', 'owner': {'display_name': 'Spotify', 'external_urls': {'spotify': 'https://open.spotify.com/user/spotify'}, 'href': 'https://api.spotify.com/v1/users/spotify', 'id': 'spotify', 'type': 'user', 'uri': 'spotify:user:spotify'}, 'primary_color': None, 'public': True, 'snapshot_id': 'MTYxNzMzNjA2MCwwMDAwMDYzZDAwMDAwMTc4OTBiZGM4ZWIwMDAwMDE3ODhmNTkzYTc0', 'tracks': {'href': 'https://api.spotify.com/v1/playlists/37i9dQZF1DXcF6B6QPhFDv/tracks', 'total': 50}, 'type': 'playlist', 'uri': 'spotify:playlist:37i9dQZF1DXcF6B6QPhFDv'}, {'collaborative': False, 'description': 'The very best in new music from around the world. Cover: Olivia Rodrigo', 'external_urls': {'spotify': 'https://open.spotify.com/playlist/37i9dQZF1DWXJfnUiYjUKT'}, 'href': 'https://api.spotify.com/v1/playlists/37i9dQZF1DWXJfnUiYjUKT', 'id': '37i9dQZF1DWXJfnUiYjUKT', 'images': [{'height': None, 'url': 'https://i.scdn.co/image/ab67706f00000003fab0828b17fbb15015ea224e', 'width': None}], 'name': 'New Music Friday', 'owner': {'display_name': 'Spotify', 'external_urls': {'spotify': 'https://open.spotify.com/user/spotify'}, 'href': 'https://api.spotify.com/v1/users/spotify', 'id': 'spotify', 'type': 'user', 'uri': 'spotify:user:spotify'}, 'primary_color': None, 'public': True, 'snapshot_id': 'MTYxNzMxNTAxMywwMDAwMDMxNTAwMDAwMTc4OGY3Y2ExZjcwMDAwMDE3ODhmN2MzMDU5', 'tracks': {'href': 'https://api.spotify.com/v1/playlists/37i9dQZF1DWXJfnUiYjUKT/tracks', 'total': 98}, 'type': 'playlist', 'uri': 'spotify:playlist:37i9dQZF1DWXJfnUiYjUKT'}, {'collaborative': False, 'description': 'Current favorites and exciting new music. Cover: Joel Corry, RAYE, David Guetta ', 'external_urls': {'spotify': 'https://open.spotify.com/playlist/37i9dQZF1DXcRXFNfZr7Tp'}, 'href': 'https://api.spotify.com/v1/playlists/37i9dQZF1DXcRXFNfZr7Tp', 'id': '37i9dQZF1DXcRXFNfZr7Tp', 'images': [{'height': None, 'url': 'https://i.scdn.co/image/ab67706f00000003d10c06dd8f909d637c55c736', 'width': None}], 'name': 'just hits', 'owner': {'display_name': 'Spotify', 'external_urls': {'spotify': 'https://open.spotify.com/user/spotify'}, 'href': 'https://api.spotify.com/v1/users/spotify', 'id': 'spotify', 'type': 'user', 'uri': 'spotify:user:spotify'}, 'primary_color': None, 'public': True, 'snapshot_id': 'MTYxNzc0NTU3MCwwMDAwMDRhYjAwMDAwMTc4YTkyNjZhYmYwMDAwMDE3ODhmNmE5ZmRj', 'tracks': {'href': 'https://api.spotify.com/v1/playlists/37i9dQZF1DXcRXFNfZr7Tp/tracks', 'total': 101}, 'type': 'playlist', 'uri': 'spotify:playlist:37i9dQZF1DXcRXFNfZr7Tp'}, {'collaborative': False, 'description': 'The decade that catapulted electronic music, hip hop and indie rock into the mainstream.', 'external_urls': {'spotify': 'https://open.spotify.com/playlist/37i9dQZF1DX4o1oenSJRJd'}, 'href': 'https://api.spotify.com/v1/playlists/37i9dQZF1DX4o1oenSJRJd', 'id': '37i9dQZF1DX4o1oenSJRJd', 'images': [{'height': None, 'url': 'https://i.scdn.co/image/ab67706f000000039a70cf678112e05257aa9e7b', 'width': None}], 'name': 'All Out 00s', 'owner': {'display_name': 'Spotify', 'external_urls': {'spotify': 'https://open.spotify.com/user/spotify'}, 'href': 'https://api.spotify.com/v1/users/spotify', 'id': 'spotify', 'type': 'user', 'uri': 'spotify:user:spotify'}, 'primary_color': None, 'public': True, 'snapshot_id': 'MTYxNzc4Mjk3MSwwMDAwMDAwMGQ0MWQ4Y2Q5OGYwMGIyMDRlOTgwMDk5OGVjZjg0Mjdl', 'tracks': {'href': 'https://api.spotify.com/v1/playlists/37i9dQZF1DX4o1oenSJRJd/tracks', 'total': 100}, 'type': 'playlist', 'uri': 'spotify:playlist:37i9dQZF1DX4o1oenSJRJd'}, {'collaborative': False, 'description': 'Boy bands, girl groups, britpop, grunge & a golden era for hip hop.', 'external_urls': {'spotify': 'https://open.spotify.com/playlist/37i9dQZF1DXbTxeAdrVG2l'}, 'href': 'https://api.spotify.com/v1/playlists/37i9dQZF1DXbTxeAdrVG2l', 'id': '37i9dQZF1DXbTxeAdrVG2l', 'images': [{'height': None, 'url': 'https://i.scdn.co/image/ab67706f00000003f9494ee401e66837e9d7ed3b', 'width': None}], 'name': 'All Out 90s', 'owner': {'display_name': 'Spotify', 'external_urls': {'spotify': 'https://open.spotify.com/user/spotify'}, 'href': 'https://api.spotify.com/v1/users/spotify', 'id': 'spotify', 'type': 'user', 'uri': 'spotify:user:spotify'}, 'primary_color': None, 'public': True, 'snapshot_id': 'MTYxNzc4Mjk3MSwwMDAwMDAwMGQ0MWQ4Y2Q5OGYwMGIyMDRlOTgwMDk5OGVjZjg0Mjdl', 'tracks': {'href': 'https://api.spotify.com/v1/playlists/37i9dQZF1DXbTxeAdrVG2l/tracks', 'total': 150}, 'type': 'playlist', 'uri': 'spotify:playlist:37i9dQZF1DXbTxeAdrVG2l'}, {'collaborative': False, 'description': \"Dramatic, diverse to the sometimes ridiculous - here's the 80's.\", 'external_urls': {'spotify': 'https://open.spotify.com/playlist/37i9dQZF1DX4UtSsGT1Sbe'}, 'href': 'https://api.spotify.com/v1/playlists/37i9dQZF1DX4UtSsGT1Sbe', 'id': '37i9dQZF1DX4UtSsGT1Sbe', 'images': [{'height': None, 'url': 'https://i.scdn.co/image/ab67706f00000003bf428168947d2ca8a8960dac', 'width': None}], 'name': 'All Out 80s', 'owner': {'display_name': 'Spotify', 'external_urls': {'spotify': 'https://open.spotify.com/user/spotify'}, 'href': 'https://api.spotify.com/v1/users/spotify', 'id': 'spotify', 'type': 'user', 'uri': 'spotify:user:spotify'}, 'primary_color': None, 'public': True, 'snapshot_id': 'MTYxNzc4Mjk3MSwwMDAwMDAwMGQ0MWQ4Y2Q5OGYwMGIyMDRlOTgwMDk5OGVjZjg0Mjdl', 'tracks': {'href': 'https://api.spotify.com/v1/playlists/37i9dQZF1DX4UtSsGT1Sbe/tracks', 'total': 150}, 'type': 'playlist', 'uri': 'spotify:playlist:37i9dQZF1DX4UtSsGT1Sbe'}, {'collaborative': False, 'description': '', 'external_urls': {'spotify': 'https://open.spotify.com/playlist/37i9dQZF1DWTJ7xPn4vNaz'}, 'href': 'https://api.spotify.com/v1/playlists/37i9dQZF1DWTJ7xPn4vNaz', 'id': '37i9dQZF1DWTJ7xPn4vNaz', 'images': [{'height': None, 'url': 'https://i.scdn.co/image/ab67706f00000003d836d081b18fa9939b2df936', 'width': None}], 'name': 'All Out 70s', 'owner': {'display_name': 'Spotify', 'external_urls': {'spotify': 'https://open.spotify.com/user/spotify'}, 'href': 'https://api.spotify.com/v1/users/spotify', 'id': 'spotify', 'type': 'user', 'uri': 'spotify:user:spotify'}, 'primary_color': None, 'public': True, 'snapshot_id': 'MTYxNzc4Mjk3MSwwMDAwMDAwMGQ0MWQ4Y2Q5OGYwMGIyMDRlOTgwMDk5OGVjZjg0Mjdl', 'tracks': {'href': 'https://api.spotify.com/v1/playlists/37i9dQZF1DWTJ7xPn4vNaz/tracks', 'total': 150}, 'type': 'playlist', 'uri': 'spotify:playlist:37i9dQZF1DWTJ7xPn4vNaz'}, {'collaborative': False, 'description': 'The essential tracks from a decade of revolutions.', 'external_urls': {'spotify': 'https://open.spotify.com/playlist/37i9dQZF1DXaKIA8E7WcJj'}, 'href': 'https://api.spotify.com/v1/playlists/37i9dQZF1DXaKIA8E7WcJj', 'id': '37i9dQZF1DXaKIA8E7WcJj', 'images': [{'height': None, 'url': 'https://i.scdn.co/image/ab67706f00000003aa98e067bcdea8cb0ce147de', 'width': None}], 'name': 'All Out 60s', 'owner': {'display_name': 'Spotify', 'external_urls': {'spotify': 'https://open.spotify.com/user/spotify'}, 'href': 'https://api.spotify.com/v1/users/spotify', 'id': 'spotify', 'type': 'user', 'uri': 'spotify:user:spotify'}, 'primary_color': None, 'public': True, 'snapshot_id': 'MTYxNzc4Mjk3MSwwMDAwMDAwMGQ0MWQ4Y2Q5OGYwMGIyMDRlOTgwMDk5OGVjZjg0Mjdl', 'tracks': {'href': 'https://api.spotify.com/v1/playlists/37i9dQZF1DXaKIA8E7WcJj/tracks', 'total': 150}, 'type': 'playlist', 'uri': 'spotify:playlist:37i9dQZF1DXaKIA8E7WcJj'}, {'collaborative': False, 'description': \"The 50's were a time of changes and the birth of Rock ’n’ Roll.\", 'external_urls': {'spotify': 'https://open.spotify.com/playlist/37i9dQZF1DWSV3Tk4GO2fq'}, 'href': 'https://api.spotify.com/v1/playlists/37i9dQZF1DWSV3Tk4GO2fq', 'id': '37i9dQZF1DWSV3Tk4GO2fq', 'images': [{'height': None, 'url': 'https://i.scdn.co/image/ab67706f000000036751ab1eafcfb1ce8bba8733', 'width': None}], 'name': 'All Out 50s', 'owner': {'display_name': 'Spotify', 'external_urls': {'spotify': 'https://open.spotify.com/user/spotify'}, 'href': 'https://api.spotify.com/v1/users/spotify', 'id': 'spotify', 'type': 'user', 'uri': 'spotify:user:spotify'}, 'primary_color': None, 'public': True, 'snapshot_id': 'MTYxNzc4Mjk3MSwwMDAwMDAwMGQ0MWQ4Y2Q5OGYwMGIyMDRlOTgwMDk5OGVjZjg0Mjdl', 'tracks': {'href': 'https://api.spotify.com/v1/playlists/37i9dQZF1DWSV3Tk4GO2fq/tracks', 'total': 150}, 'type': 'playlist', 'uri': 'spotify:playlist:37i9dQZF1DWSV3Tk4GO2fq'}, {'collaborative': False, 'description': 'Listen to easy songs from your favorite artists! Cover: Adele', 'external_urls': {'spotify': 'https://open.spotify.com/playlist/37i9dQZF1DWTwnEm1IYyoj'}, 'href': 'https://api.spotify.com/v1/playlists/37i9dQZF1DWTwnEm1IYyoj', 'id': '37i9dQZF1DWTwnEm1IYyoj', 'images': [{'height': None, 'url': 'https://i.scdn.co/image/ab67706f00000003a259e07a24c5b6ccf60de2d3', 'width': None}], 'name': 'Soft Pop Hits', 'owner': {'display_name': 'Spotify', 'external_urls': {'spotify': 'https://open.spotify.com/user/spotify'}, 'href': 'https://api.spotify.com/v1/users/spotify', 'id': 'spotify', 'type': 'user', 'uri': 'spotify:user:spotify'}, 'primary_color': None, 'public': True, 'snapshot_id': 'MTYxNzA0NTE1MywwMDAwMDA3MTAwMDAwMTc4N2Y2NmU3ZjgwMDAwMDE3ODdmNTY0NTcy', 'tracks': {'href': 'https://api.spotify.com/v1/playlists/37i9dQZF1DWTwnEm1IYyoj/tracks', 'total': 241}, 'type': 'playlist', 'uri': 'spotify:playlist:37i9dQZF1DWTwnEm1IYyoj'}, {'collaborative': False, 'description': 'Crossing over like Allen I. Cover: 24kGoldn', 'external_urls': {'spotify': 'https://open.spotify.com/playlist/37i9dQZF1DX2A29LI7xHn1'}, 'href': 'https://api.spotify.com/v1/playlists/37i9dQZF1DX2A29LI7xHn1', 'id': '37i9dQZF1DX2A29LI7xHn1', 'images': [{'height': None, 'url': 'https://i.scdn.co/image/ab67706f0000000308732b68fd61b1753f21c17f', 'width': None}], 'name': 'Signed XOXO', 'owner': {'display_name': 'Spotify', 'external_urls': {'spotify': 'https://open.spotify.com/user/spotify'}, 'href': 'https://api.spotify.com/v1/users/spotify', 'id': 'spotify', 'type': 'user', 'uri': 'spotify:user:spotify'}, 'primary_color': None, 'public': True, 'snapshot_id': 'MTYxNzMzNzQ3OSwwMDAwMDIwYjAwMDAwMTc4OTBkMzcwNjgwMDAwMDE3ODhmMzYyMGJh', 'tracks': {'href': 'https://api.spotify.com/v1/playlists/37i9dQZF1DX2A29LI7xHn1/tracks', 'total': 109}, 'type': 'playlist', 'uri': 'spotify:playlist:37i9dQZF1DX2A29LI7xHn1'}, {'collaborative': False, 'description': 'The official voice of generation next. Cover: Coi Leray', 'external_urls': {'spotify': 'https://open.spotify.com/playlist/37i9dQZF1DX2RxBh64BHjQ'}, 'href': 'https://api.spotify.com/v1/playlists/37i9dQZF1DX2RxBh64BHjQ', 'id': '37i9dQZF1DX2RxBh64BHjQ', 'images': [{'height': None, 'url': 'https://i.scdn.co/image/ab67706f000000031c187e3f7c6a0d9d98f51dc4', 'width': None}], 'name': 'Most Necessary', 'owner': {'display_name': 'Spotify', 'external_urls': {'spotify': 'https://open.spotify.com/user/spotify'}, 'href': 'https://api.spotify.com/v1/users/spotify', 'id': 'spotify', 'type': 'user', 'uri': 'spotify:user:spotify'}, 'primary_color': None, 'public': True, 'snapshot_id': 'MTYxNzM5OTk4OSwwMDAwMDM1YTAwMDAwMTc4OTQ4ZDQ2NTMwMDAwMDE3ODg5NmE5ODY1', 'tracks': {'href': 'https://api.spotify.com/v1/playlists/37i9dQZF1DX2RxBh64BHjQ/tracks', 'total': 100}, 'type': 'playlist', 'uri': 'spotify:playlist:37i9dQZF1DX2RxBh64BHjQ'}, {'collaborative': False, 'description': 'Taking it back. Cover: Busta Rhymes', 'external_urls': {'spotify': 'https://open.spotify.com/playlist/37i9dQZF1DWVA1Gq4XHa6U'}, 'href': 'https://api.spotify.com/v1/playlists/37i9dQZF1DWVA1Gq4XHa6U', 'id': '37i9dQZF1DWVA1Gq4XHa6U', 'images': [{'height': None, 'url': 'https://i.scdn.co/image/ab67706f00000003070f01e1375386b8569da6c8', 'width': None}], 'name': 'Gold School', 'owner': {'display_name': 'Spotify', 'external_urls': {'spotify': 'https://open.spotify.com/user/spotify'}, 'href': 'https://api.spotify.com/v1/users/spotify', 'id': 'spotify', 'type': 'user', 'uri': 'spotify:user:spotify'}, 'primary_color': None, 'public': True, 'snapshot_id': 'MTYxNDk4MzMwNCwwMDAwMDBhZjAwMDAwMTc4MDQ4MTk0NTYwMDAwMDE3ODAzNDQxYjY2', 'tracks': {'href': 'https://api.spotify.com/v1/playlists/37i9dQZF1DWVA1Gq4XHa6U/tracks', 'total': 47}, 'type': 'playlist', 'uri': 'spotify:playlist:37i9dQZF1DWVA1Gq4XHa6U'}, {'collaborative': False, 'description': 'Mode: Turnt', 'external_urls': {'spotify': 'https://open.spotify.com/playlist/37i9dQZF1DWY4xHQp97fN6'}, 'href': 'https://api.spotify.com/v1/playlists/37i9dQZF1DWY4xHQp97fN6', 'id': '37i9dQZF1DWY4xHQp97fN6', 'images': [{'height': None, 'url': 'https://i.scdn.co/image/ab67706f00000003d823ac3fcce9fc06fc8b0a10', 'width': None}], 'name': 'Get Turnt', 'owner': {'display_name': 'Spotify', 'external_urls': {'spotify': 'https://open.spotify.com/user/spotify'}, 'href': 'https://api.spotify.com/v1/users/spotify', 'id': 'spotify', 'type': 'user', 'uri': 'spotify:user:spotify'}, 'primary_color': None, 'public': True, 'snapshot_id': 'MTYxNzMzNjA2MCwwMDAwMDQ5YTAwMDAwMTc4OTBiZGM4ZmIwMDAwMDE3ODhhNTdiNTg2', 'tracks': {'href': 'https://api.spotify.com/v1/playlists/37i9dQZF1DWY4xHQp97fN6/tracks', 'total': 100}, 'type': 'playlist', 'uri': 'spotify:playlist:37i9dQZF1DWY4xHQp97fN6'}, {'collaborative': False, 'description': 'Hip-Hop + R&B: Before. Anything. Else. Cover: Blxst', 'external_urls': {'spotify': 'https://open.spotify.com/playlist/37i9dQZF1DWX3387IZmjNa'}, 'href': 'https://api.spotify.com/v1/playlists/37i9dQZF1DWX3387IZmjNa', 'id': '37i9dQZF1DWX3387IZmjNa', 'images': [{'height': None, 'url': 'https://i.scdn.co/image/ab67706f000000039d1a40f098b55196de0b5b07', 'width': None}], 'name': 'B.A.E.', 'owner': {'display_name': 'Spotify', 'external_urls': {'spotify': 'https://open.spotify.com/user/spotify'}, 'href': 'https://api.spotify.com/v1/users/spotify', 'id': 'spotify', 'type': 'user', 'uri': 'spotify:user:spotify'}, 'primary_color': None, 'public': True, 'snapshot_id': 'MTYxNzMzNzEzMCwwMDAwMDRjNjAwMDAwMTc4OTBjZTFmOGUwMDAwMDE3ODhmMjQzMzQ2', 'tracks': {'href': 'https://api.spotify.com/v1/playlists/37i9dQZF1DWX3387IZmjNa/tracks', 'total': 52}, 'type': 'playlist', 'uri': 'spotify:playlist:37i9dQZF1DWX3387IZmjNa'}, {'collaborative': False, 'description': 'Real African vibes, right here. Africa to the world! Cover: <a href=\"spotify:artist:1sSt1DqqqFLkPwfrqafVyn\">Ice Prince</a> & <a href=\"spotify:artist:3WTrdbZU99dgTtt3ZkyamT\">Oxlade</a>', 'external_urls': {'spotify': 'https://open.spotify.com/playlist/37i9dQZF1DWYkaDif7Ztbp'}, 'href': 'https://api.spotify.com/v1/playlists/37i9dQZF1DWYkaDif7Ztbp', 'id': '37i9dQZF1DWYkaDif7Ztbp', 'images': [{'height': None, 'url': 'https://i.scdn.co/image/ab67706f0000000377fceccba66a430b45cd9333', 'width': None}], 'name': 'African Heat', 'owner': {'display_name': 'Spotify', 'external_urls': {'spotify': 'https://open.spotify.com/user/spotify'}, 'href': 'https://api.spotify.com/v1/users/spotify', 'id': 'spotify', 'type': 'user', 'uri': 'spotify:user:spotify'}, 'primary_color': None, 'public': True, 'snapshot_id': 'MTYxNzMxNDQwMCwwMDAwMDFmMTAwMDAwMTc4OGY3MzQ3OTQwMDAwMDE3ODhlMWZiNDM5', 'tracks': {'href': 'https://api.spotify.com/v1/playlists/37i9dQZF1DWYkaDif7Ztbp/tracks', 'total': 72}, 'type': 'playlist', 'uri': 'spotify:playlist:37i9dQZF1DWYkaDif7Ztbp'}, {'collaborative': False, 'description': 'The Real hip-hop. Cover: Westside Gunn', 'external_urls': {'spotify': 'https://open.spotify.com/playlist/37i9dQZF1DX5hR0J49CmXC'}, 'href': 'https://api.spotify.com/v1/playlists/37i9dQZF1DX5hR0J49CmXC', 'id': '37i9dQZF1DX5hR0J49CmXC', 'images': [{'height': None, 'url': 'https://i.scdn.co/image/ab67706f00000003bed7e397d53e3778b494c911', 'width': None}], 'name': 'Mind Right', 'owner': {'display_name': 'Spotify', 'external_urls': {'spotify': 'https://open.spotify.com/user/spotify'}, 'href': 'https://api.spotify.com/v1/users/spotify', 'id': 'spotify', 'type': 'user', 'uri': 'spotify:user:spotify'}, 'primary_color': None, 'public': True, 'snapshot_id': 'MTYxNzM5ODY2MywwMDAwMDE0NzAwMDAwMTc4OTQ3OTBhYzcwMDAwMDE3ODkwMTYzYzU5', 'tracks': {'href': 'https://api.spotify.com/v1/playlists/37i9dQZF1DX5hR0J49CmXC/tracks', 'total': 50}, 'type': 'playlist', 'uri': 'spotify:playlist:37i9dQZF1DX5hR0J49CmXC'}, {'collaborative': False, 'description': 'The best in new & current Dancehall. Cover: Projexx', 'external_urls': {'spotify': 'https://open.spotify.com/playlist/37i9dQZF1DXan38dNVDdl4'}, 'href': 'https://api.spotify.com/v1/playlists/37i9dQZF1DXan38dNVDdl4', 'id': '37i9dQZF1DXan38dNVDdl4', 'images': [{'height': None, 'url': 'https://i.scdn.co/image/ab67706f00000003478a6828fe5e177c7c6b3c17', 'width': None}], 'name': 'Dancehall Official', 'owner': {'display_name': 'Spotify', 'external_urls': {'spotify': 'https://open.spotify.com/user/spotify'}, 'href': 'https://api.spotify.com/v1/users/spotify', 'id': 'spotify', 'type': 'user', 'uri': 'spotify:user:spotify'}, 'primary_color': None, 'public': True, 'snapshot_id': 'MTYxNjQyOTA4MCwwMDAwMDEwMDAwMDAwMTc4NWFhZTVmOWYwMDAwMDE3ODU4ZTk0NWUz', 'tracks': {'href': 'https://api.spotify.com/v1/playlists/37i9dQZF1DXan38dNVDdl4/tracks', 'total': 50}, 'type': 'playlist', 'uri': 'spotify:playlist:37i9dQZF1DXan38dNVDdl4'}, {'collaborative': False, 'description': \"Holdin' it down for the westside. Cover: BlueBucksClan\", 'external_urls': {'spotify': 'https://open.spotify.com/playlist/37i9dQZF1DWSvKsRPPnv5o'}, 'href': 'https://api.spotify.com/v1/playlists/37i9dQZF1DWSvKsRPPnv5o', 'id': '37i9dQZF1DWSvKsRPPnv5o', 'images': [{'height': None, 'url': 'https://i.scdn.co/image/ab67706f000000031236a75d5f2cc88de90ec69c', 'width': None}], 'name': 'Westside Story', 'owner': {'display_name': 'Spotify', 'external_urls': {'spotify': 'https://open.spotify.com/user/spotify'}, 'href': 'https://api.spotify.com/v1/users/spotify', 'id': 'spotify', 'type': 'user', 'uri': 'spotify:user:spotify'}, 'primary_color': None, 'public': True, 'snapshot_id': 'MTYxNzMzODE5MywwMDAwMDRjYjAwMDAwMTc4OTBkZTU4MDAwMDAwMDE3ODhmZjc5YjNl', 'tracks': {'href': 'https://api.spotify.com/v1/playlists/37i9dQZF1DWSvKsRPPnv5o/tracks', 'total': 50}, 'type': 'playlist', 'uri': 'spotify:playlist:37i9dQZF1DWSvKsRPPnv5o'}, {'collaborative': False, 'description': 'For whatever activity you do that may need a punch of intensity!', 'external_urls': {'spotify': 'https://open.spotify.com/playlist/37i9dQZF1DWUVpAXiEPK8P'}, 'href': 'https://api.spotify.com/v1/playlists/37i9dQZF1DWUVpAXiEPK8P', 'id': '37i9dQZF1DWUVpAXiEPK8P', 'images': [{'height': None, 'url': 'https://i.scdn.co/image/ab67706f000000035b9afc20f73de2953ea450f7', 'width': None}], 'name': 'Power Workout', 'owner': {'display_name': 'Spotify', 'external_urls': {'spotify': 'https://open.spotify.com/user/spotify'}, 'href': 'https://api.spotify.com/v1/users/spotify', 'id': 'spotify', 'type': 'user', 'uri': 'spotify:user:spotify'}, 'primary_color': None, 'public': True, 'snapshot_id': 'MTYxNzc4Mjk3MSwwMDAwMDAwMGQ0MWQ4Y2Q5OGYwMGIyMDRlOTgwMDk5OGVjZjg0Mjdl', 'tracks': {'href': 'https://api.spotify.com/v1/playlists/37i9dQZF1DWUVpAXiEPK8P/tracks', 'total': 50}, 'type': 'playlist', 'uri': 'spotify:playlist:37i9dQZF1DWUVpAXiEPK8P'}, {'collaborative': False, 'description': 'Keeping it real for the dirty south. Cover: Moneybagg Yo', 'external_urls': {'spotify': 'https://open.spotify.com/playlist/37i9dQZF1DX0Tkc6ltcBfU'}, 'href': 'https://api.spotify.com/v1/playlists/37i9dQZF1DX0Tkc6ltcBfU', 'id': '37i9dQZF1DX0Tkc6ltcBfU', 'images': [{'height': None, 'url': 'https://i.scdn.co/image/ab67706f000000031a578b21903c783d0cf90e5c', 'width': None}], 'name': 'No Cap', 'owner': {'display_name': 'Spotify', 'external_urls': {'spotify': 'https://open.spotify.com/user/spotify'}, 'href': 'https://api.spotify.com/v1/users/spotify', 'id': 'spotify', 'type': 'user', 'uri': 'spotify:user:spotify'}, 'primary_color': None, 'public': True, 'snapshot_id': 'MTYxNzc2MTE5MiwwMDAwMDFhNDAwMDAwMTc4YWExNGNhYjMwMDAwMDE3ODhhMWMwZDM5', 'tracks': {'href': 'https://api.spotify.com/v1/playlists/37i9dQZF1DX0Tkc6ltcBfU/tracks', 'total': 53}, 'type': 'playlist', 'uri': 'spotify:playlist:37i9dQZF1DX0Tkc6ltcBfU'}, {'collaborative': False, 'description': 'Up and down I-95. Cover: Lil Tjay', 'external_urls': {'spotify': 'https://open.spotify.com/playlist/37i9dQZF1DX1YPTAhwehsC'}, 'href': 'https://api.spotify.com/v1/playlists/37i9dQZF1DX1YPTAhwehsC', 'id': '37i9dQZF1DX1YPTAhwehsC', 'images': [{'height': None, 'url': 'https://i.scdn.co/image/ab67706f0000000336657fba607a5d7b1aca5baf', 'width': None}], 'name': 'State of Mind', 'owner': {'display_name': 'Spotify', 'external_urls': {'spotify': 'https://open.spotify.com/user/spotify'}, 'href': 'https://api.spotify.com/v1/users/spotify', 'id': 'spotify', 'type': 'user', 'uri': 'spotify:user:spotify'}, 'primary_color': None, 'public': True, 'snapshot_id': 'MTYxNzMzNjA2MCwwMDAwMDRhMjAwMDAwMTc4OTBiZGM4ZWMwMDAwMDE3ODkwMjFmZjhi', 'tracks': {'href': 'https://api.spotify.com/v1/playlists/37i9dQZF1DX1YPTAhwehsC/tracks', 'total': 50}, 'type': 'playlist', 'uri': 'spotify:playlist:37i9dQZF1DX1YPTAhwehsC'}, {'collaborative': False, 'description': 'New, leftfield and for the real hip-hop stans! Cover: BROCKHAMPTON', 'external_urls': {'spotify': 'https://open.spotify.com/playlist/37i9dQZF1DWTggY0yqBxES'}, 'href': 'https://api.spotify.com/v1/playlists/37i9dQZF1DWTggY0yqBxES', 'id': '37i9dQZF1DWTggY0yqBxES', 'images': [{'height': None, 'url': 'https://i.scdn.co/image/ab67706f00000003d7514a76a22517c223899bfe', 'width': None}], 'name': 'Alternative Hip Hop', 'owner': {'display_name': 'Spotify', 'external_urls': {'spotify': 'https://open.spotify.com/user/spotify'}, 'href': 'https://api.spotify.com/v1/users/spotify', 'id': 'spotify', 'type': 'user', 'uri': 'spotify:user:spotify'}, 'primary_color': None, 'public': True, 'snapshot_id': 'MTYxNzc4Mjk3MSwwMDAwMDAwMGQ0MWQ4Y2Q5OGYwMGIyMDRlOTgwMDk5OGVjZjg0Mjdl', 'tracks': {'href': 'https://api.spotify.com/v1/playlists/37i9dQZF1DWTggY0yqBxES/tracks', 'total': 50}, 'type': 'playlist', 'uri': 'spotify:playlist:37i9dQZF1DWTggY0yqBxES'}, {'collaborative': False, 'description': 'Get your body right with this workout twerkout', 'external_urls': {'spotify': 'https://open.spotify.com/playlist/37i9dQZF1DX0HRj9P7NxeE'}, 'href': 'https://api.spotify.com/v1/playlists/37i9dQZF1DX0HRj9P7NxeE', 'id': '37i9dQZF1DX0HRj9P7NxeE', 'images': [{'height': None, 'url': 'https://i.scdn.co/image/ab67706f0000000305b898dee14d4c0df8642d21', 'width': None}], 'name': 'Workout Twerkout', 'owner': {'display_name': 'Spotify', 'external_urls': {'spotify': 'https://open.spotify.com/user/spotify'}, 'href': 'https://api.spotify.com/v1/users/spotify', 'id': 'spotify', 'type': 'user', 'uri': 'spotify:user:spotify'}, 'primary_color': None, 'public': True, 'snapshot_id': 'MTYxNzMzNjAwMCwwMDAwMDQ0MzAwMDAwMTc4OTBiY2RlODgwMDAwMDE2ZDAwY2IyOTcx', 'tracks': {'href': 'https://api.spotify.com/v1/playlists/37i9dQZF1DX0HRj9P7NxeE/tracks', 'total': 51}, 'type': 'playlist', 'uri': 'spotify:playlist:37i9dQZF1DX0HRj9P7NxeE'}, {'collaborative': False, 'description': 'Afro sounds crossing borders. Top Afro Bashment, Pop, Fusion / X-Overs from all across the world.  Cover: <a href=\"spotify:artist:3tVQdUvClmAT7URs9V3rsp\">WizKid</a>', 'external_urls': {'spotify': 'https://open.spotify.com/playlist/37i9dQZF1DWT6SJaitNDax'}, 'href': 'https://api.spotify.com/v1/playlists/37i9dQZF1DWT6SJaitNDax', 'id': '37i9dQZF1DWT6SJaitNDax', 'images': [{'height': None, 'url': 'https://i.scdn.co/image/ab67706f000000035e2da04ffe7dd09fe225d6c5', 'width': None}], 'name': 'We Everywhere', 'owner': {'display_name': 'Spotify', 'external_urls': {'spotify': 'https://open.spotify.com/user/spotify'}, 'href': 'https://api.spotify.com/v1/users/spotify', 'id': 'spotify', 'type': 'user', 'uri': 'spotify:user:spotify'}, 'primary_color': None, 'public': True, 'snapshot_id': 'MTYxNzc4Mjk3MSwwMDAwMDAwMGQ0MWQ4Y2Q5OGYwMGIyMDRlOTgwMDk5OGVjZjg0Mjdl', 'tracks': {'href': 'https://api.spotify.com/v1/playlists/37i9dQZF1DWT6SJaitNDax/tracks', 'total': 100}, 'type': 'playlist', 'uri': 'spotify:playlist:37i9dQZF1DWT6SJaitNDax'}, {'collaborative': False, 'description': 'Saluting the songs and artists that have filled us with pride.', 'external_urls': {'spotify': 'https://open.spotify.com/playlist/37i9dQZF1DX2r0FByV5U4C'}, 'href': 'https://api.spotify.com/v1/playlists/37i9dQZF1DX2r0FByV5U4C', 'id': '37i9dQZF1DX2r0FByV5U4C', 'images': [{'height': None, 'url': 'https://i.scdn.co/image/ab67706f00000003541ee6776be2adaf393ca8ea', 'width': None}], 'name': 'Black History Salute', 'owner': {'display_name': 'Spotify', 'external_urls': {'spotify': 'https://open.spotify.com/user/spotify'}, 'href': 'https://api.spotify.com/v1/users/spotify', 'id': 'spotify', 'type': 'user', 'uri': 'spotify:user:spotify'}, 'primary_color': None, 'public': True, 'snapshot_id': 'MTYxNTkxODQ3MiwwMDAwMDA0NDAwMDAwMTc4M2MzZjFlZTMwMDAwMDE3ODNjM2RkMmQ1', 'tracks': {'href': 'https://api.spotify.com/v1/playlists/37i9dQZF1DX2r0FByV5U4C/tracks', 'total': 26}, 'type': 'playlist', 'uri': 'spotify:playlist:37i9dQZF1DX2r0FByV5U4C'}, {'collaborative': False, 'description': 'Watch your screen as you listen to see lyrics, fun facts, and artist stories from Genius! (on mobile only)', 'external_urls': {'spotify': 'https://open.spotify.com/playlist/37i9dQZF1DXaKctwWdt4be'}, 'href': 'https://api.spotify.com/v1/playlists/37i9dQZF1DXaKctwWdt4be', 'id': '37i9dQZF1DXaKctwWdt4be', 'images': [{'height': None, 'url': 'https://i.scdn.co/image/ab67706f00000003e3fb132e20dc80ab038883f7', 'width': None}], 'name': 'Behind The Lyrics: Hip Hop', 'owner': {'display_name': 'Spotify', 'external_urls': {'spotify': 'https://open.spotify.com/user/spotify'}, 'href': 'https://api.spotify.com/v1/users/spotify', 'id': 'spotify', 'type': 'user', 'uri': 'spotify:user:spotify'}, 'primary_color': None, 'public': True, 'snapshot_id': 'MTU2NzY3NDQ4MiwwMDAwMDAxZDAwMDAwMTY4OWZjNjI5ZjQwMDAwMDE2ZDAwYWU0MGZj', 'tracks': {'href': 'https://api.spotify.com/v1/playlists/37i9dQZF1DXaKctwWdt4be/tracks', 'total': 50}, 'type': 'playlist', 'uri': 'spotify:playlist:37i9dQZF1DXaKctwWdt4be'}, {'collaborative': False, 'description': \"Here's your cheat sheet for everything new in the rock/alt world. Cover: Lauran Hibberd with Lydia Night & The Regrettes\", 'external_urls': {'spotify': 'https://open.spotify.com/playlist/37i9dQZF1DWT2jS7NwYPVI'}, 'href': 'https://api.spotify.com/v1/playlists/37i9dQZF1DWT2jS7NwYPVI', 'id': '37i9dQZF1DWT2jS7NwYPVI', 'images': [{'height': None, 'url': 'https://i.scdn.co/image/ab67706f000000039653c67eaf904db95a477f32', 'width': None}], 'name': 'New Noise', 'owner': {'display_name': 'Spotify', 'external_urls': {'spotify': 'https://open.spotify.com/user/spotify'}, 'href': 'https://api.spotify.com/v1/users/spotify', 'id': 'spotify', 'type': 'user', 'uri': 'spotify:user:spotify'}, 'primary_color': None, 'public': True, 'snapshot_id': 'MTYxNzMzNjA2MCwwMDAwMDZiOTAwMDAwMTc4OTBiZGM4ZjgwMDAwMDE3ODY2YzZlMjAz', 'tracks': {'href': 'https://api.spotify.com/v1/playlists/37i9dQZF1DWT2jS7NwYPVI/tracks', 'total': 100}, 'type': 'playlist', 'uri': 'spotify:playlist:37i9dQZF1DWT2jS7NwYPVI'}, {'collaborative': False, 'description': \"No rules. No boundaries. Just cool music you need to hear. Cover: DE'WAYNE & Awsten Knight\", 'external_urls': {'spotify': 'https://open.spotify.com/playlist/37i9dQZF1DX82GYcclJ3Ug'}, 'href': 'https://api.spotify.com/v1/playlists/37i9dQZF1DX82GYcclJ3Ug', 'id': '37i9dQZF1DX82GYcclJ3Ug', 'images': [{'height': None, 'url': 'https://i.scdn.co/image/ab67706f00000003c328d3dfb0e2e82370acf9fe', 'width': None}], 'name': 'The New Alt', 'owner': {'display_name': 'Spotify', 'external_urls': {'spotify': 'https://open.spotify.com/user/spotify'}, 'href': 'https://api.spotify.com/v1/users/spotify', 'id': 'spotify', 'type': 'user', 'uri': 'spotify:user:spotify'}, 'primary_color': None, 'public': True, 'snapshot_id': 'MTYxNzMzNjA2MCwwMDAwMDY2NjAwMDAwMTc4OTBiZGM4ZmYwMDAwMDE3ODViNjcxZTZl', 'tracks': {'href': 'https://api.spotify.com/v1/playlists/37i9dQZF1DX82GYcclJ3Ug/tracks', 'total': 100}, 'type': 'playlist', 'uri': 'spotify:playlist:37i9dQZF1DX82GYcclJ3Ug'}, {'collaborative': False, 'description': 'New classics and essential cuts from all your favorite rock bands. Cover: Rage Against The Machine', 'external_urls': {'spotify': 'https://open.spotify.com/playlist/37i9dQZF1DX49jUV2NfGku'}, 'href': 'https://api.spotify.com/v1/playlists/37i9dQZF1DX49jUV2NfGku', 'id': '37i9dQZF1DX49jUV2NfGku', 'images': [{'height': None, 'url': 'https://i.scdn.co/image/ab67706f00000003cf20210dbff3b9ff7fe5706c', 'width': None}], 'name': 'Rock Solid', 'owner': {'display_name': 'Spotify', 'external_urls': {'spotify': 'https://open.spotify.com/user/spotify'}, 'href': 'https://api.spotify.com/v1/users/spotify', 'id': 'spotify', 'type': 'user', 'uri': 'spotify:user:spotify'}, 'primary_color': None, 'public': True, 'snapshot_id': 'MTYxNjQ0NDg0NSwwMDAwMDA1MTAwMDAwMTc4NWI5ZWVkZTAwMDAwMDE3ODViOWRjOTk4', 'tracks': {'href': 'https://api.spotify.com/v1/playlists/37i9dQZF1DX49jUV2NfGku/tracks', 'total': 80}, 'type': 'playlist', 'uri': 'spotify:playlist:37i9dQZF1DX49jUV2NfGku'}, {'collaborative': False, 'description': 'A look back at some of the most impactful songs of 2017.', 'external_urls': {'spotify': 'https://open.spotify.com/playlist/37i9dQZF1DX1Jg9KZ76Rr9'}, 'href': 'https://api.spotify.com/v1/playlists/37i9dQZF1DX1Jg9KZ76Rr9', 'id': '37i9dQZF1DX1Jg9KZ76Rr9', 'images': [{'height': None, 'url': 'https://i.scdn.co/image/ab67706f000000035c21a744e28d69209cd4b1b7', 'width': None}], 'name': 'Rock This: Best of 2017', 'owner': {'display_name': 'Spotify', 'external_urls': {'spotify': 'https://open.spotify.com/user/spotify'}, 'href': 'https://api.spotify.com/v1/users/spotify', 'id': 'spotify', 'type': 'user', 'uri': 'spotify:user:spotify'}, 'primary_color': None, 'public': True, 'snapshot_id': 'MTU2NzY3NDY2OSwwMDAwMDAwYjAwMDAwMTYwM2MxZTE3YTEwMDAwMDE2ZDAwYjExODlh', 'tracks': {'href': 'https://api.spotify.com/v1/playlists/37i9dQZF1DX1Jg9KZ76Rr9/tracks', 'total': 100}, 'type': 'playlist', 'uri': 'spotify:playlist:37i9dQZF1DX1Jg9KZ76Rr9'}, {'collaborative': False, 'description': 'The ultimate rock party playlist!', 'external_urls': {'spotify': 'https://open.spotify.com/playlist/37i9dQZF1DX8FwnYE6PRvL'}, 'href': 'https://api.spotify.com/v1/playlists/37i9dQZF1DX8FwnYE6PRvL', 'id': '37i9dQZF1DX8FwnYE6PRvL', 'images': [{'height': None, 'url': 'https://i.scdn.co/image/ab67706f00000003feb66cd1f6632ecfa89b3e8c', 'width': None}], 'name': 'Rock Party', 'owner': {'display_name': 'Spotify', 'external_urls': {'spotify': 'https://open.spotify.com/user/spotify'}, 'href': 'https://api.spotify.com/v1/users/spotify', 'id': 'spotify', 'type': 'user', 'uri': 'spotify:user:spotify'}, 'primary_color': None, 'public': True, 'snapshot_id': 'MTYxNzc4Mjk3MSwwMDAwMDAwMGQ0MWQ4Y2Q5OGYwMGIyMDRlOTgwMDk5OGVjZjg0Mjdl', 'tracks': {'href': 'https://api.spotify.com/v1/playlists/37i9dQZF1DX8FwnYE6PRvL/tracks', 'total': 50}, 'type': 'playlist', 'uri': 'spotify:playlist:37i9dQZF1DX8FwnYE6PRvL'}, {'collaborative': False, 'description': \"It's just us—and this awesome alt soundtrack.\", 'external_urls': {'spotify': 'https://open.spotify.com/playlist/37i9dQZF1DX6mvEU1S6INL'}, 'href': 'https://api.spotify.com/v1/playlists/37i9dQZF1DX6mvEU1S6INL', 'id': '37i9dQZF1DX6mvEU1S6INL', 'images': [{'height': None, 'url': 'https://i.scdn.co/image/ab67706f00000003399330e810fd7b01ea377ee8', 'width': None}], 'name': 'You & Me', 'owner': {'display_name': 'Spotify', 'external_urls': {'spotify': 'https://open.spotify.com/user/spotify'}, 'href': 'https://api.spotify.com/v1/users/spotify', 'id': 'spotify', 'type': 'user', 'uri': 'spotify:user:spotify'}, 'primary_color': None, 'public': True, 'snapshot_id': 'MTYxMTg2MzI3NSwwMDAwMDA1MjAwMDAwMTc3NGE4OWI5ZGUwMDAwMDE2ZDAwYWY3MWFj', 'tracks': {'href': 'https://api.spotify.com/v1/playlists/37i9dQZF1DX6mvEU1S6INL/tracks', 'total': 100}, 'type': 'playlist', 'uri': 'spotify:playlist:37i9dQZF1DX6mvEU1S6INL'}, {'collaborative': False, 'description': 'ALT the Good Vibes.', 'external_urls': {'spotify': 'https://open.spotify.com/playlist/37i9dQZF1DX2SK4ytI2KAZ'}, 'href': 'https://api.spotify.com/v1/playlists/37i9dQZF1DX2SK4ytI2KAZ', 'id': '37i9dQZF1DX2SK4ytI2KAZ', 'images': [{'height': None, 'url': 'https://i.scdn.co/image/ab67706f0000000347cd5a0f1c493c1f809cdeec', 'width': None}], 'name': \"It's ALT Good!\", 'owner': {'display_name': 'Spotify', 'external_urls': {'spotify': 'https://open.spotify.com/user/spotify'}, 'href': 'https://api.spotify.com/v1/users/spotify', 'id': 'spotify', 'type': 'user', 'uri': 'spotify:user:spotify'}, 'primary_color': None, 'public': True, 'snapshot_id': 'MTYxNzc4Mjk3MSwwMDAwMDAwMGQ0MWQ4Y2Q5OGYwMGIyMDRlOTgwMDk5OGVjZjg0Mjdl', 'tracks': {'href': 'https://api.spotify.com/v1/playlists/37i9dQZF1DX2SK4ytI2KAZ/tracks', 'total': 100}, 'type': 'playlist', 'uri': 'spotify:playlist:37i9dQZF1DX2SK4ytI2KAZ'}, {'collaborative': False, 'description': 'Call it pop-punk, emo, post-hardcore, whatever you want. We call it all awesome. Cover: Waterparks', 'external_urls': {'spotify': 'https://open.spotify.com/playlist/37i9dQZF1DWZkHEX2YHpDV'}, 'href': 'https://api.spotify.com/v1/playlists/37i9dQZF1DWZkHEX2YHpDV', 'id': '37i9dQZF1DWZkHEX2YHpDV', 'images': [{'height': None, 'url': 'https://i.scdn.co/image/ab67706f00000003c6f3a9bf5b77fafcdd1048cd', 'width': None}], 'name': 'The Scene', 'owner': {'display_name': 'Spotify', 'external_urls': {'spotify': 'https://open.spotify.com/user/spotify'}, 'href': 'https://api.spotify.com/v1/users/spotify', 'id': 'spotify', 'type': 'user', 'uri': 'spotify:user:spotify'}, 'primary_color': None, 'public': True, 'snapshot_id': 'MTYxNzc4Mjk3MSwwMDAwMDAwMGQ0MWQ4Y2Q5OGYwMGIyMDRlOTgwMDk5OGVjZjg0Mjdl', 'tracks': {'href': 'https://api.spotify.com/v1/playlists/37i9dQZF1DWZkHEX2YHpDV/tracks', 'total': 125}, 'type': 'playlist', 'uri': 'spotify:playlist:37i9dQZF1DWZkHEX2YHpDV'}, {'collaborative': False, 'description': 'For those who like the newest songs loud. Very loud. Cover: Evanescence', 'external_urls': {'spotify': 'https://open.spotify.com/playlist/37i9dQZF1DWWJOmJ7nRx0C'}, 'href': 'https://api.spotify.com/v1/playlists/37i9dQZF1DWWJOmJ7nRx0C', 'id': '37i9dQZF1DWWJOmJ7nRx0C', 'images': [{'height': None, 'url': 'https://i.scdn.co/image/ab67706f00000003a21993bab6fa2f1a85a5a89a', 'width': None}], 'name': 'Rock Hard', 'owner': {'display_name': 'Spotify', 'external_urls': {'spotify': 'https://open.spotify.com/user/spotify'}, 'href': 'https://api.spotify.com/v1/users/spotify', 'id': 'spotify', 'type': 'user', 'uri': 'spotify:user:spotify'}, 'primary_color': None, 'public': True, 'snapshot_id': 'MTYxNzM5MTE0NiwwMDAwMDY0YzAwMDAwMTc4OTQwNjU3ZTUwMDAwMDE3ODY1MjljNmQw', 'tracks': {'href': 'https://api.spotify.com/v1/playlists/37i9dQZF1DWWJOmJ7nRx0C/tracks', 'total': 100}, 'type': 'playlist', 'uri': 'spotify:playlist:37i9dQZF1DWWJOmJ7nRx0C'}, {'collaborative': False, 'description': 'The essential Ryan Adams, all in one place.', 'external_urls': {'spotify': 'https://open.spotify.com/playlist/37i9dQZF1DXdXKIWnpyigm'}, 'href': 'https://api.spotify.com/v1/playlists/37i9dQZF1DXdXKIWnpyigm', 'id': '37i9dQZF1DXdXKIWnpyigm', 'images': [{'height': None, 'url': 'https://i.scdn.co/image/ab67706f000000038175dfc8e027e1ad667191d0', 'width': None}], 'name': 'This Is Ryan Adams', 'owner': {'display_name': 'Spotify', 'external_urls': {'spotify': 'https://open.spotify.com/user/spotify'}, 'href': 'https://api.spotify.com/v1/users/spotify', 'id': 'spotify', 'type': 'user', 'uri': 'spotify:user:spotify'}, 'primary_color': None, 'public': True, 'snapshot_id': 'MTU2ODAxNzc2NCwwMDAwMDAwNzAwMDAwMTY0ODlhMmQ5NjkwMDAwMDE2ZDE1MjQ1MGFm', 'tracks': {'href': 'https://api.spotify.com/v1/playlists/37i9dQZF1DXdXKIWnpyigm/tracks', 'total': 57}, 'type': 'playlist', 'uri': 'spotify:playlist:37i9dQZF1DXdXKIWnpyigm'}, {'collaborative': False, 'description': 'One of the most iconic bands of recent time. Here is the best of The Black Keys.', 'external_urls': {'spotify': 'https://open.spotify.com/playlist/37i9dQZF1DX2rBR3X9E86S'}, 'href': 'https://api.spotify.com/v1/playlists/37i9dQZF1DX2rBR3X9E86S', 'id': '37i9dQZF1DX2rBR3X9E86S', 'images': [{'height': None, 'url': 'https://i.scdn.co/image/ab67706f000000032bfb21f9aa8a779bccc0b194', 'width': None}], 'name': 'This Is The Black Keys', 'owner': {'display_name': 'Spotify', 'external_urls': {'spotify': 'https://open.spotify.com/user/spotify'}, 'href': 'https://api.spotify.com/v1/users/spotify', 'id': 'spotify', 'type': 'user', 'uri': 'spotify:user:spotify'}, 'primary_color': None, 'public': True, 'snapshot_id': 'MTYwOTc4NDYzNiwwMDAwMDAxNTAwMDAwMTc2Y2VhNDMyZmQwMDAwMDE2ZTdlNzM5Zjk3', 'tracks': {'href': 'https://api.spotify.com/v1/playlists/37i9dQZF1DX2rBR3X9E86S/tracks', 'total': 51}, 'type': 'playlist', 'uri': 'spotify:playlist:37i9dQZF1DX2rBR3X9E86S'}, {'collaborative': False, 'description': 'Experience Tom Petty\\'s final project, \"Wildflowers & All The Rest,\" the way he originally envisioned it.', 'external_urls': {'spotify': 'https://open.spotify.com/playlist/37i9dQZF1DWUlZhYdX0uqM'}, 'href': 'https://api.spotify.com/v1/playlists/37i9dQZF1DWUlZhYdX0uqM', 'id': '37i9dQZF1DWUlZhYdX0uqM', 'images': [{'height': None, 'url': 'https://i.scdn.co/image/ab67706f000000037c06177f46991eda50c57879', 'width': None}], 'name': 'This Is Tom Petty', 'owner': {'display_name': 'Spotify', 'external_urls': {'spotify': 'https://open.spotify.com/user/spotify'}, 'href': 'https://api.spotify.com/v1/users/spotify', 'id': 'spotify', 'type': 'user', 'uri': 'spotify:user:spotify'}, 'primary_color': None, 'public': True, 'snapshot_id': 'MTYwMjg3MDY0MSwwMDAwMDAyMDAwMDAwMTc1MzI4OTAxN2MwMDAwMDE3NTFkY2U3Y2Nj', 'tracks': {'href': 'https://api.spotify.com/v1/playlists/37i9dQZF1DWUlZhYdX0uqM/tracks', 'total': 76}, 'type': 'playlist', 'uri': 'spotify:playlist:37i9dQZF1DWUlZhYdX0uqM'}, {'collaborative': False, 'description': 'The best of Nirvana, all in one place.', 'external_urls': {'spotify': 'https://open.spotify.com/playlist/37i9dQZF1DX82CY3GzF2m6'}, 'href': 'https://api.spotify.com/v1/playlists/37i9dQZF1DX82CY3GzF2m6', 'id': '37i9dQZF1DX82CY3GzF2m6', 'images': [{'height': None, 'url': 'https://i.scdn.co/image/ab67706f00000003c9328ee6b657b925693b1a9f', 'width': None}], 'name': 'This Is Nirvana', 'owner': {'display_name': 'Spotify', 'external_urls': {'spotify': 'https://open.spotify.com/user/spotify'}, 'href': 'https://api.spotify.com/v1/users/spotify', 'id': 'spotify', 'type': 'user', 'uri': 'spotify:user:spotify'}, 'primary_color': None, 'public': True, 'snapshot_id': 'MTU5ODI4OTA4NywwMDAwMDAyMzAwMDAwMTc0MjE3NDBkZDMwMDAwMDE2ZDAwYjc1MmIw', 'tracks': {'href': 'https://api.spotify.com/v1/playlists/37i9dQZF1DX82CY3GzF2m6/tracks', 'total': 45}, 'type': 'playlist', 'uri': 'spotify:playlist:37i9dQZF1DX82CY3GzF2m6'}, {'collaborative': False, 'description': 'The essential Ramones, all in one playlist.', 'external_urls': {'spotify': 'https://open.spotify.com/playlist/37i9dQZF1DWWc7UGhP4Mpw'}, 'href': 'https://api.spotify.com/v1/playlists/37i9dQZF1DWWc7UGhP4Mpw', 'id': '37i9dQZF1DWWc7UGhP4Mpw', 'images': [{'height': None, 'url': 'https://i.scdn.co/image/ab67706f00000003062bbea101c18ebb10d5231f', 'width': None}], 'name': 'This Is Ramones', 'owner': {'display_name': 'Spotify', 'external_urls': {'spotify': 'https://open.spotify.com/user/spotify'}, 'href': 'https://api.spotify.com/v1/users/spotify', 'id': 'spotify', 'type': 'user', 'uri': 'spotify:user:spotify'}, 'primary_color': None, 'public': True, 'snapshot_id': 'MTU2ODAxODEyOCwwMDAwMDAwNjAwMDAwMTYzZmE2NjIyOWEwMDAwMDE2ZDE1MjlkZjQy', 'tracks': {'href': 'https://api.spotify.com/v1/playlists/37i9dQZF1DWWc7UGhP4Mpw/tracks', 'total': 34}, 'type': 'playlist', 'uri': 'spotify:playlist:37i9dQZF1DWWc7UGhP4Mpw'}], 'limit': 50, 'next': 'https://api.spotify.com/v1/users/spotify/playlists?offset=50&limit=50', 'offset': 0, 'previous': None, 'total': 1398}\n"
     ]
    }
   ],
   "source": [
    "print(playlists12)"
   ]
  },
  {
   "cell_type": "code",
   "execution_count": 30,
   "metadata": {
    "collapsed": true
   },
   "outputs": [
    {
     "name": "stderr",
     "output_type": "stream",
     "text": [
      "HTTP Error for GET to https://api.spotify.com/v1/me/playlists returned 401 due to Unauthorized.\n"
     ]
    },
    {
     "ename": "SpotifyException",
     "evalue": "http status: 401, code:-1 - https://api.spotify.com/v1/me/playlists?limit=50&offset=0:\n Unauthorized., reason: None",
     "output_type": "error",
     "traceback": [
      "\u001b[1;31m---------------------------------------------------------------------------\u001b[0m",
      "\u001b[1;31mHTTPError\u001b[0m                                 Traceback (most recent call last)",
      "\u001b[1;32m~\\miniconda3\\lib\\site-packages\\spotipy\\client.py\u001b[0m in \u001b[0;36m_internal_call\u001b[1;34m(self, method, url, payload, params)\u001b[0m\n\u001b[0;32m    244\u001b[0m \u001b[1;33m\u001b[0m\u001b[0m\n\u001b[1;32m--> 245\u001b[1;33m             \u001b[0mresponse\u001b[0m\u001b[1;33m.\u001b[0m\u001b[0mraise_for_status\u001b[0m\u001b[1;33m(\u001b[0m\u001b[1;33m)\u001b[0m\u001b[1;33m\u001b[0m\u001b[1;33m\u001b[0m\u001b[0m\n\u001b[0m\u001b[0;32m    246\u001b[0m             \u001b[0mresults\u001b[0m \u001b[1;33m=\u001b[0m \u001b[0mresponse\u001b[0m\u001b[1;33m.\u001b[0m\u001b[0mjson\u001b[0m\u001b[1;33m(\u001b[0m\u001b[1;33m)\u001b[0m\u001b[1;33m\u001b[0m\u001b[1;33m\u001b[0m\u001b[0m\n",
      "\u001b[1;32m~\\miniconda3\\lib\\site-packages\\requests\\models.py\u001b[0m in \u001b[0;36mraise_for_status\u001b[1;34m(self)\u001b[0m\n\u001b[0;32m    942\u001b[0m         \u001b[1;32mif\u001b[0m \u001b[0mhttp_error_msg\u001b[0m\u001b[1;33m:\u001b[0m\u001b[1;33m\u001b[0m\u001b[1;33m\u001b[0m\u001b[0m\n\u001b[1;32m--> 943\u001b[1;33m             \u001b[1;32mraise\u001b[0m \u001b[0mHTTPError\u001b[0m\u001b[1;33m(\u001b[0m\u001b[0mhttp_error_msg\u001b[0m\u001b[1;33m,\u001b[0m \u001b[0mresponse\u001b[0m\u001b[1;33m=\u001b[0m\u001b[0mself\u001b[0m\u001b[1;33m)\u001b[0m\u001b[1;33m\u001b[0m\u001b[1;33m\u001b[0m\u001b[0m\n\u001b[0m\u001b[0;32m    944\u001b[0m \u001b[1;33m\u001b[0m\u001b[0m\n",
      "\u001b[1;31mHTTPError\u001b[0m: 401 Client Error: Unauthorized for url: https://api.spotify.com/v1/me/playlists?limit=50&offset=0",
      "\nDuring handling of the above exception, another exception occurred:\n",
      "\u001b[1;31mSpotifyException\u001b[0m                          Traceback (most recent call last)",
      "\u001b[1;32m<ipython-input-30-27104ac5f2c8>\u001b[0m in \u001b[0;36m<module>\u001b[1;34m\u001b[0m\n\u001b[1;32m----> 1\u001b[1;33m \u001b[0mplays\u001b[0m \u001b[1;33m=\u001b[0m \u001b[0msp2\u001b[0m\u001b[1;33m.\u001b[0m\u001b[0mcurrent_user_playlists\u001b[0m\u001b[1;33m(\u001b[0m\u001b[1;33m)\u001b[0m\u001b[1;33m\u001b[0m\u001b[1;33m\u001b[0m\u001b[0m\n\u001b[0m",
      "\u001b[1;32m~\\miniconda3\\lib\\site-packages\\spotipy\\client.py\u001b[0m in \u001b[0;36mcurrent_user_playlists\u001b[1;34m(self, limit, offset)\u001b[0m\n\u001b[0;32m    595\u001b[0m                 \u001b[1;33m-\u001b[0m \u001b[0moffset\u001b[0m \u001b[1;33m-\u001b[0m \u001b[0mthe\u001b[0m \u001b[0mindex\u001b[0m \u001b[0mof\u001b[0m \u001b[0mthe\u001b[0m \u001b[0mfirst\u001b[0m \u001b[0mitem\u001b[0m \u001b[0mto\u001b[0m \u001b[1;32mreturn\u001b[0m\u001b[1;33m\u001b[0m\u001b[1;33m\u001b[0m\u001b[0m\n\u001b[0;32m    596\u001b[0m         \"\"\"\n\u001b[1;32m--> 597\u001b[1;33m         \u001b[1;32mreturn\u001b[0m \u001b[0mself\u001b[0m\u001b[1;33m.\u001b[0m\u001b[0m_get\u001b[0m\u001b[1;33m(\u001b[0m\u001b[1;34m\"me/playlists\"\u001b[0m\u001b[1;33m,\u001b[0m \u001b[0mlimit\u001b[0m\u001b[1;33m=\u001b[0m\u001b[0mlimit\u001b[0m\u001b[1;33m,\u001b[0m \u001b[0moffset\u001b[0m\u001b[1;33m=\u001b[0m\u001b[0moffset\u001b[0m\u001b[1;33m)\u001b[0m\u001b[1;33m\u001b[0m\u001b[1;33m\u001b[0m\u001b[0m\n\u001b[0m\u001b[0;32m    598\u001b[0m \u001b[1;33m\u001b[0m\u001b[0m\n\u001b[0;32m    599\u001b[0m     \u001b[1;32mdef\u001b[0m \u001b[0mplaylist\u001b[0m\u001b[1;33m(\u001b[0m\u001b[0mself\u001b[0m\u001b[1;33m,\u001b[0m \u001b[0mplaylist_id\u001b[0m\u001b[1;33m,\u001b[0m \u001b[0mfields\u001b[0m\u001b[1;33m=\u001b[0m\u001b[1;32mNone\u001b[0m\u001b[1;33m,\u001b[0m \u001b[0mmarket\u001b[0m\u001b[1;33m=\u001b[0m\u001b[1;32mNone\u001b[0m\u001b[1;33m,\u001b[0m \u001b[0madditional_types\u001b[0m\u001b[1;33m=\u001b[0m\u001b[1;33m(\u001b[0m\u001b[1;34m\"track\"\u001b[0m\u001b[1;33m,\u001b[0m\u001b[1;33m)\u001b[0m\u001b[1;33m)\u001b[0m\u001b[1;33m:\u001b[0m\u001b[1;33m\u001b[0m\u001b[1;33m\u001b[0m\u001b[0m\n",
      "\u001b[1;32m~\\miniconda3\\lib\\site-packages\\spotipy\\client.py\u001b[0m in \u001b[0;36m_get\u001b[1;34m(self, url, args, payload, **kwargs)\u001b[0m\n\u001b[0;32m    289\u001b[0m             \u001b[0mkwargs\u001b[0m\u001b[1;33m.\u001b[0m\u001b[0mupdate\u001b[0m\u001b[1;33m(\u001b[0m\u001b[0margs\u001b[0m\u001b[1;33m)\u001b[0m\u001b[1;33m\u001b[0m\u001b[1;33m\u001b[0m\u001b[0m\n\u001b[0;32m    290\u001b[0m \u001b[1;33m\u001b[0m\u001b[0m\n\u001b[1;32m--> 291\u001b[1;33m         \u001b[1;32mreturn\u001b[0m \u001b[0mself\u001b[0m\u001b[1;33m.\u001b[0m\u001b[0m_internal_call\u001b[0m\u001b[1;33m(\u001b[0m\u001b[1;34m\"GET\"\u001b[0m\u001b[1;33m,\u001b[0m \u001b[0murl\u001b[0m\u001b[1;33m,\u001b[0m \u001b[0mpayload\u001b[0m\u001b[1;33m,\u001b[0m \u001b[0mkwargs\u001b[0m\u001b[1;33m)\u001b[0m\u001b[1;33m\u001b[0m\u001b[1;33m\u001b[0m\u001b[0m\n\u001b[0m\u001b[0;32m    292\u001b[0m \u001b[1;33m\u001b[0m\u001b[0m\n\u001b[0;32m    293\u001b[0m     \u001b[1;32mdef\u001b[0m \u001b[0m_post\u001b[0m\u001b[1;33m(\u001b[0m\u001b[0mself\u001b[0m\u001b[1;33m,\u001b[0m \u001b[0murl\u001b[0m\u001b[1;33m,\u001b[0m \u001b[0margs\u001b[0m\u001b[1;33m=\u001b[0m\u001b[1;32mNone\u001b[0m\u001b[1;33m,\u001b[0m \u001b[0mpayload\u001b[0m\u001b[1;33m=\u001b[0m\u001b[1;32mNone\u001b[0m\u001b[1;33m,\u001b[0m \u001b[1;33m**\u001b[0m\u001b[0mkwargs\u001b[0m\u001b[1;33m)\u001b[0m\u001b[1;33m:\u001b[0m\u001b[1;33m\u001b[0m\u001b[1;33m\u001b[0m\u001b[0m\n",
      "\u001b[1;32m~\\miniconda3\\lib\\site-packages\\spotipy\\client.py\u001b[0m in \u001b[0;36m_internal_call\u001b[1;34m(self, method, url, payload, params)\u001b[0m\n\u001b[0;32m    259\u001b[0m                          method, url, response.status_code, msg)\n\u001b[0;32m    260\u001b[0m \u001b[1;33m\u001b[0m\u001b[0m\n\u001b[1;32m--> 261\u001b[1;33m             raise SpotifyException(\n\u001b[0m\u001b[0;32m    262\u001b[0m                 \u001b[0mresponse\u001b[0m\u001b[1;33m.\u001b[0m\u001b[0mstatus_code\u001b[0m\u001b[1;33m,\u001b[0m\u001b[1;33m\u001b[0m\u001b[1;33m\u001b[0m\u001b[0m\n\u001b[0;32m    263\u001b[0m                 \u001b[1;33m-\u001b[0m\u001b[1;36m1\u001b[0m\u001b[1;33m,\u001b[0m\u001b[1;33m\u001b[0m\u001b[1;33m\u001b[0m\u001b[0m\n",
      "\u001b[1;31mSpotifyException\u001b[0m: http status: 401, code:-1 - https://api.spotify.com/v1/me/playlists?limit=50&offset=0:\n Unauthorized., reason: None"
     ]
    }
   ],
   "source": [
    "plays = sp2.current_user_playlists()"
   ]
  },
  {
   "cell_type": "code",
   "execution_count": 31,
   "metadata": {
    "collapsed": true
   },
   "outputs": [
    {
     "name": "stderr",
     "output_type": "stream",
     "text": [
      "HTTP Error for GET to https://api.spotify.com/v1/me/playlists returned 401 due to Unauthorized.\n"
     ]
    },
    {
     "ename": "SpotifyException",
     "evalue": "http status: 401, code:-1 - https://api.spotify.com/v1/me/playlists?limit=50&offset=0:\n Unauthorized., reason: None",
     "output_type": "error",
     "traceback": [
      "\u001b[1;31m---------------------------------------------------------------------------\u001b[0m",
      "\u001b[1;31mHTTPError\u001b[0m                                 Traceback (most recent call last)",
      "\u001b[1;32m~\\miniconda3\\lib\\site-packages\\spotipy\\client.py\u001b[0m in \u001b[0;36m_internal_call\u001b[1;34m(self, method, url, payload, params)\u001b[0m\n\u001b[0;32m    244\u001b[0m \u001b[1;33m\u001b[0m\u001b[0m\n\u001b[1;32m--> 245\u001b[1;33m             \u001b[0mresponse\u001b[0m\u001b[1;33m.\u001b[0m\u001b[0mraise_for_status\u001b[0m\u001b[1;33m(\u001b[0m\u001b[1;33m)\u001b[0m\u001b[1;33m\u001b[0m\u001b[1;33m\u001b[0m\u001b[0m\n\u001b[0m\u001b[0;32m    246\u001b[0m             \u001b[0mresults\u001b[0m \u001b[1;33m=\u001b[0m \u001b[0mresponse\u001b[0m\u001b[1;33m.\u001b[0m\u001b[0mjson\u001b[0m\u001b[1;33m(\u001b[0m\u001b[1;33m)\u001b[0m\u001b[1;33m\u001b[0m\u001b[1;33m\u001b[0m\u001b[0m\n",
      "\u001b[1;32m~\\miniconda3\\lib\\site-packages\\requests\\models.py\u001b[0m in \u001b[0;36mraise_for_status\u001b[1;34m(self)\u001b[0m\n\u001b[0;32m    942\u001b[0m         \u001b[1;32mif\u001b[0m \u001b[0mhttp_error_msg\u001b[0m\u001b[1;33m:\u001b[0m\u001b[1;33m\u001b[0m\u001b[1;33m\u001b[0m\u001b[0m\n\u001b[1;32m--> 943\u001b[1;33m             \u001b[1;32mraise\u001b[0m \u001b[0mHTTPError\u001b[0m\u001b[1;33m(\u001b[0m\u001b[0mhttp_error_msg\u001b[0m\u001b[1;33m,\u001b[0m \u001b[0mresponse\u001b[0m\u001b[1;33m=\u001b[0m\u001b[0mself\u001b[0m\u001b[1;33m)\u001b[0m\u001b[1;33m\u001b[0m\u001b[1;33m\u001b[0m\u001b[0m\n\u001b[0m\u001b[0;32m    944\u001b[0m \u001b[1;33m\u001b[0m\u001b[0m\n",
      "\u001b[1;31mHTTPError\u001b[0m: 401 Client Error: Unauthorized for url: https://api.spotify.com/v1/me/playlists?limit=50&offset=0",
      "\nDuring handling of the above exception, another exception occurred:\n",
      "\u001b[1;31mSpotifyException\u001b[0m                          Traceback (most recent call last)",
      "\u001b[1;32m<ipython-input-31-fc41607672ce>\u001b[0m in \u001b[0;36m<module>\u001b[1;34m\u001b[0m\n\u001b[1;32m----> 1\u001b[1;33m \u001b[0mplaylists\u001b[0m \u001b[1;33m=\u001b[0m \u001b[0msp2\u001b[0m\u001b[1;33m.\u001b[0m\u001b[0mcurrent_user_playlists\u001b[0m\u001b[1;33m(\u001b[0m\u001b[1;33m)\u001b[0m\u001b[1;33m\u001b[0m\u001b[1;33m\u001b[0m\u001b[0m\n\u001b[0m\u001b[0;32m      2\u001b[0m \u001b[1;32mwhile\u001b[0m \u001b[0mplaylists12\u001b[0m\u001b[1;33m:\u001b[0m\u001b[1;33m\u001b[0m\u001b[1;33m\u001b[0m\u001b[0m\n\u001b[0;32m      3\u001b[0m     \u001b[1;32mfor\u001b[0m \u001b[0mi\u001b[0m\u001b[1;33m,\u001b[0m \u001b[0mplaylist\u001b[0m \u001b[1;32min\u001b[0m \u001b[0menumerate\u001b[0m\u001b[1;33m(\u001b[0m\u001b[0mplaylists12\u001b[0m\u001b[1;33m[\u001b[0m\u001b[1;34m'items'\u001b[0m\u001b[1;33m]\u001b[0m\u001b[1;33m)\u001b[0m\u001b[1;33m:\u001b[0m\u001b[1;33m\u001b[0m\u001b[1;33m\u001b[0m\u001b[0m\n\u001b[0;32m      4\u001b[0m         \u001b[0mtab\u001b[0m\u001b[1;33m=\u001b[0m \u001b[0mplaylist\u001b[0m\u001b[1;33m[\u001b[0m\u001b[1;34m'uri'\u001b[0m\u001b[1;33m]\u001b[0m\u001b[1;33m.\u001b[0m\u001b[0msplit\u001b[0m\u001b[1;33m(\u001b[0m\u001b[1;34m':'\u001b[0m\u001b[1;33m)\u001b[0m\u001b[1;33m\u001b[0m\u001b[1;33m\u001b[0m\u001b[0m\n\u001b[0;32m      5\u001b[0m         \u001b[0mprint\u001b[0m\u001b[1;33m(\u001b[0m\u001b[0mplaylist\u001b[0m\u001b[1;33m[\u001b[0m\u001b[1;34m'name'\u001b[0m\u001b[1;33m]\u001b[0m\u001b[1;33m,\u001b[0m \u001b[1;34m\" -> \"\u001b[0m\u001b[1;33m,\u001b[0m\u001b[0mtab\u001b[0m\u001b[1;33m[\u001b[0m\u001b[1;36m2\u001b[0m\u001b[1;33m]\u001b[0m\u001b[1;33m)\u001b[0m\u001b[1;33m\u001b[0m\u001b[1;33m\u001b[0m\u001b[0m\n",
      "\u001b[1;32m~\\miniconda3\\lib\\site-packages\\spotipy\\client.py\u001b[0m in \u001b[0;36mcurrent_user_playlists\u001b[1;34m(self, limit, offset)\u001b[0m\n\u001b[0;32m    595\u001b[0m                 \u001b[1;33m-\u001b[0m \u001b[0moffset\u001b[0m \u001b[1;33m-\u001b[0m \u001b[0mthe\u001b[0m \u001b[0mindex\u001b[0m \u001b[0mof\u001b[0m \u001b[0mthe\u001b[0m \u001b[0mfirst\u001b[0m \u001b[0mitem\u001b[0m \u001b[0mto\u001b[0m \u001b[1;32mreturn\u001b[0m\u001b[1;33m\u001b[0m\u001b[1;33m\u001b[0m\u001b[0m\n\u001b[0;32m    596\u001b[0m         \"\"\"\n\u001b[1;32m--> 597\u001b[1;33m         \u001b[1;32mreturn\u001b[0m \u001b[0mself\u001b[0m\u001b[1;33m.\u001b[0m\u001b[0m_get\u001b[0m\u001b[1;33m(\u001b[0m\u001b[1;34m\"me/playlists\"\u001b[0m\u001b[1;33m,\u001b[0m \u001b[0mlimit\u001b[0m\u001b[1;33m=\u001b[0m\u001b[0mlimit\u001b[0m\u001b[1;33m,\u001b[0m \u001b[0moffset\u001b[0m\u001b[1;33m=\u001b[0m\u001b[0moffset\u001b[0m\u001b[1;33m)\u001b[0m\u001b[1;33m\u001b[0m\u001b[1;33m\u001b[0m\u001b[0m\n\u001b[0m\u001b[0;32m    598\u001b[0m \u001b[1;33m\u001b[0m\u001b[0m\n\u001b[0;32m    599\u001b[0m     \u001b[1;32mdef\u001b[0m \u001b[0mplaylist\u001b[0m\u001b[1;33m(\u001b[0m\u001b[0mself\u001b[0m\u001b[1;33m,\u001b[0m \u001b[0mplaylist_id\u001b[0m\u001b[1;33m,\u001b[0m \u001b[0mfields\u001b[0m\u001b[1;33m=\u001b[0m\u001b[1;32mNone\u001b[0m\u001b[1;33m,\u001b[0m \u001b[0mmarket\u001b[0m\u001b[1;33m=\u001b[0m\u001b[1;32mNone\u001b[0m\u001b[1;33m,\u001b[0m \u001b[0madditional_types\u001b[0m\u001b[1;33m=\u001b[0m\u001b[1;33m(\u001b[0m\u001b[1;34m\"track\"\u001b[0m\u001b[1;33m,\u001b[0m\u001b[1;33m)\u001b[0m\u001b[1;33m)\u001b[0m\u001b[1;33m:\u001b[0m\u001b[1;33m\u001b[0m\u001b[1;33m\u001b[0m\u001b[0m\n",
      "\u001b[1;32m~\\miniconda3\\lib\\site-packages\\spotipy\\client.py\u001b[0m in \u001b[0;36m_get\u001b[1;34m(self, url, args, payload, **kwargs)\u001b[0m\n\u001b[0;32m    289\u001b[0m             \u001b[0mkwargs\u001b[0m\u001b[1;33m.\u001b[0m\u001b[0mupdate\u001b[0m\u001b[1;33m(\u001b[0m\u001b[0margs\u001b[0m\u001b[1;33m)\u001b[0m\u001b[1;33m\u001b[0m\u001b[1;33m\u001b[0m\u001b[0m\n\u001b[0;32m    290\u001b[0m \u001b[1;33m\u001b[0m\u001b[0m\n\u001b[1;32m--> 291\u001b[1;33m         \u001b[1;32mreturn\u001b[0m \u001b[0mself\u001b[0m\u001b[1;33m.\u001b[0m\u001b[0m_internal_call\u001b[0m\u001b[1;33m(\u001b[0m\u001b[1;34m\"GET\"\u001b[0m\u001b[1;33m,\u001b[0m \u001b[0murl\u001b[0m\u001b[1;33m,\u001b[0m \u001b[0mpayload\u001b[0m\u001b[1;33m,\u001b[0m \u001b[0mkwargs\u001b[0m\u001b[1;33m)\u001b[0m\u001b[1;33m\u001b[0m\u001b[1;33m\u001b[0m\u001b[0m\n\u001b[0m\u001b[0;32m    292\u001b[0m \u001b[1;33m\u001b[0m\u001b[0m\n\u001b[0;32m    293\u001b[0m     \u001b[1;32mdef\u001b[0m \u001b[0m_post\u001b[0m\u001b[1;33m(\u001b[0m\u001b[0mself\u001b[0m\u001b[1;33m,\u001b[0m \u001b[0murl\u001b[0m\u001b[1;33m,\u001b[0m \u001b[0margs\u001b[0m\u001b[1;33m=\u001b[0m\u001b[1;32mNone\u001b[0m\u001b[1;33m,\u001b[0m \u001b[0mpayload\u001b[0m\u001b[1;33m=\u001b[0m\u001b[1;32mNone\u001b[0m\u001b[1;33m,\u001b[0m \u001b[1;33m**\u001b[0m\u001b[0mkwargs\u001b[0m\u001b[1;33m)\u001b[0m\u001b[1;33m:\u001b[0m\u001b[1;33m\u001b[0m\u001b[1;33m\u001b[0m\u001b[0m\n",
      "\u001b[1;32m~\\miniconda3\\lib\\site-packages\\spotipy\\client.py\u001b[0m in \u001b[0;36m_internal_call\u001b[1;34m(self, method, url, payload, params)\u001b[0m\n\u001b[0;32m    259\u001b[0m                          method, url, response.status_code, msg)\n\u001b[0;32m    260\u001b[0m \u001b[1;33m\u001b[0m\u001b[0m\n\u001b[1;32m--> 261\u001b[1;33m             raise SpotifyException(\n\u001b[0m\u001b[0;32m    262\u001b[0m                 \u001b[0mresponse\u001b[0m\u001b[1;33m.\u001b[0m\u001b[0mstatus_code\u001b[0m\u001b[1;33m,\u001b[0m\u001b[1;33m\u001b[0m\u001b[1;33m\u001b[0m\u001b[0m\n\u001b[0;32m    263\u001b[0m                 \u001b[1;33m-\u001b[0m\u001b[1;36m1\u001b[0m\u001b[1;33m,\u001b[0m\u001b[1;33m\u001b[0m\u001b[1;33m\u001b[0m\u001b[0m\n",
      "\u001b[1;31mSpotifyException\u001b[0m: http status: 401, code:-1 - https://api.spotify.com/v1/me/playlists?limit=50&offset=0:\n Unauthorized., reason: None"
     ]
    }
   ],
   "source": [
    "playlists = sp2.current_user_playlists()\n",
    "while playlists12:\n",
    "    for i, playlist in enumerate(playlists12['items']):\n",
    "        tab= playlist['uri'].split(':')\n",
    "        print(playlist['name'], \" -> \",tab[2])\n",
    "    if playlists12['next']:\n",
    "        playlists12 = sp.next(playlists12)\n",
    "    else:\n",
    "        playlists12 = None"
   ]
  },
  {
   "cell_type": "code",
   "execution_count": 20,
   "metadata": {
    "scrolled": true
   },
   "outputs": [
    {
     "ename": "SpotifyOauthError",
     "evalue": "No client_id. Pass it or set a SPOTIPY_CLIENT_ID environment variable.",
     "output_type": "error",
     "traceback": [
      "\u001b[1;31m---------------------------------------------------------------------------\u001b[0m",
      "\u001b[1;31mSpotifyOauthError\u001b[0m                         Traceback (most recent call last)",
      "\u001b[1;32m<ipython-input-20-ddaa53099239>\u001b[0m in \u001b[0;36m<module>\u001b[1;34m\u001b[0m\n\u001b[0;32m      1\u001b[0m \u001b[1;32mfrom\u001b[0m \u001b[0mspotipy\u001b[0m\u001b[1;33m.\u001b[0m\u001b[0moauth2\u001b[0m \u001b[1;32mimport\u001b[0m \u001b[0mSpotifyClientCredentials\u001b[0m\u001b[1;33m\u001b[0m\u001b[1;33m\u001b[0m\u001b[0m\n\u001b[0;32m      2\u001b[0m \u001b[1;33m\u001b[0m\u001b[0m\n\u001b[1;32m----> 3\u001b[1;33m \u001b[0mauth_manager\u001b[0m \u001b[1;33m=\u001b[0m \u001b[0mSpotifyClientCredentials\u001b[0m\u001b[1;33m(\u001b[0m\u001b[1;33m)\u001b[0m\u001b[1;33m\u001b[0m\u001b[1;33m\u001b[0m\u001b[0m\n\u001b[0m\u001b[0;32m      4\u001b[0m \u001b[0msp\u001b[0m \u001b[1;33m=\u001b[0m \u001b[0mspotipy\u001b[0m\u001b[1;33m.\u001b[0m\u001b[0mSpotify\u001b[0m\u001b[1;33m(\u001b[0m\u001b[0mauth_manager\u001b[0m\u001b[1;33m=\u001b[0m\u001b[0mauth_manager\u001b[0m\u001b[1;33m)\u001b[0m\u001b[1;33m\u001b[0m\u001b[1;33m\u001b[0m\u001b[0m\n\u001b[0;32m      5\u001b[0m \u001b[1;33m\u001b[0m\u001b[0m\n",
      "\u001b[1;32m~\\miniconda3\\lib\\site-packages\\spotipy\\oauth2.py\u001b[0m in \u001b[0;36m__init__\u001b[1;34m(self, client_id, client_secret, proxies, requests_session, requests_timeout)\u001b[0m\n\u001b[0;32m    151\u001b[0m         \u001b[0msuper\u001b[0m\u001b[1;33m(\u001b[0m\u001b[0mSpotifyClientCredentials\u001b[0m\u001b[1;33m,\u001b[0m \u001b[0mself\u001b[0m\u001b[1;33m)\u001b[0m\u001b[1;33m.\u001b[0m\u001b[0m__init__\u001b[0m\u001b[1;33m(\u001b[0m\u001b[0mrequests_session\u001b[0m\u001b[1;33m)\u001b[0m\u001b[1;33m\u001b[0m\u001b[1;33m\u001b[0m\u001b[0m\n\u001b[0;32m    152\u001b[0m \u001b[1;33m\u001b[0m\u001b[0m\n\u001b[1;32m--> 153\u001b[1;33m         \u001b[0mself\u001b[0m\u001b[1;33m.\u001b[0m\u001b[0mclient_id\u001b[0m \u001b[1;33m=\u001b[0m \u001b[0mclient_id\u001b[0m\u001b[1;33m\u001b[0m\u001b[1;33m\u001b[0m\u001b[0m\n\u001b[0m\u001b[0;32m    154\u001b[0m         \u001b[0mself\u001b[0m\u001b[1;33m.\u001b[0m\u001b[0mclient_secret\u001b[0m \u001b[1;33m=\u001b[0m \u001b[0mclient_secret\u001b[0m\u001b[1;33m\u001b[0m\u001b[1;33m\u001b[0m\u001b[0m\n\u001b[0;32m    155\u001b[0m         \u001b[0mself\u001b[0m\u001b[1;33m.\u001b[0m\u001b[0mtoken_info\u001b[0m \u001b[1;33m=\u001b[0m \u001b[1;32mNone\u001b[0m\u001b[1;33m\u001b[0m\u001b[1;33m\u001b[0m\u001b[0m\n",
      "\u001b[1;32m~\\miniconda3\\lib\\site-packages\\spotipy\\oauth2.py\u001b[0m in \u001b[0;36mclient_id\u001b[1;34m(self, val)\u001b[0m\n\u001b[0;32m     90\u001b[0m     \u001b[1;33m@\u001b[0m\u001b[0mclient_id\u001b[0m\u001b[1;33m.\u001b[0m\u001b[0msetter\u001b[0m\u001b[1;33m\u001b[0m\u001b[1;33m\u001b[0m\u001b[0m\n\u001b[0;32m     91\u001b[0m     \u001b[1;32mdef\u001b[0m \u001b[0mclient_id\u001b[0m\u001b[1;33m(\u001b[0m\u001b[0mself\u001b[0m\u001b[1;33m,\u001b[0m \u001b[0mval\u001b[0m\u001b[1;33m)\u001b[0m\u001b[1;33m:\u001b[0m\u001b[1;33m\u001b[0m\u001b[1;33m\u001b[0m\u001b[0m\n\u001b[1;32m---> 92\u001b[1;33m         \u001b[0mself\u001b[0m\u001b[1;33m.\u001b[0m\u001b[0m_client_id\u001b[0m \u001b[1;33m=\u001b[0m \u001b[0m_ensure_value\u001b[0m\u001b[1;33m(\u001b[0m\u001b[0mval\u001b[0m\u001b[1;33m,\u001b[0m \u001b[1;34m\"client_id\"\u001b[0m\u001b[1;33m)\u001b[0m\u001b[1;33m\u001b[0m\u001b[1;33m\u001b[0m\u001b[0m\n\u001b[0m\u001b[0;32m     93\u001b[0m \u001b[1;33m\u001b[0m\u001b[0m\n\u001b[0;32m     94\u001b[0m     \u001b[1;33m@\u001b[0m\u001b[0mproperty\u001b[0m\u001b[1;33m\u001b[0m\u001b[1;33m\u001b[0m\u001b[0m\n",
      "\u001b[1;32m~\\miniconda3\\lib\\site-packages\\spotipy\\oauth2.py\u001b[0m in \u001b[0;36m_ensure_value\u001b[1;34m(value, env_key)\u001b[0m\n\u001b[0;32m     69\u001b[0m             \u001b[0menv_val\u001b[0m\u001b[1;33m,\u001b[0m\u001b[1;33m\u001b[0m\u001b[1;33m\u001b[0m\u001b[0m\n\u001b[0;32m     70\u001b[0m         )\n\u001b[1;32m---> 71\u001b[1;33m         \u001b[1;32mraise\u001b[0m \u001b[0mSpotifyOauthError\u001b[0m\u001b[1;33m(\u001b[0m\u001b[0mmsg\u001b[0m\u001b[1;33m)\u001b[0m\u001b[1;33m\u001b[0m\u001b[1;33m\u001b[0m\u001b[0m\n\u001b[0m\u001b[0;32m     72\u001b[0m     \u001b[1;32mreturn\u001b[0m \u001b[0m_val\u001b[0m\u001b[1;33m\u001b[0m\u001b[1;33m\u001b[0m\u001b[0m\n\u001b[0;32m     73\u001b[0m \u001b[1;33m\u001b[0m\u001b[0m\n",
      "\u001b[1;31mSpotifyOauthError\u001b[0m: No client_id. Pass it or set a SPOTIPY_CLIENT_ID environment variable."
     ]
    }
   ],
   "source": [
    "from spotipy.oauth2 import SpotifyClientCredentials\n",
    "\n",
    "auth_manager = SpotifyClientCredentials()\n",
    "sp = spotipy.Spotify(auth_manager=auth_manager)\n",
    "\n",
    "playlists = sp.user_playlists('spotify')\n",
    "while playlists:\n",
    "    for i, playlist in enumerate(playlists['items']):\n",
    "        print(\"%4d %s %s\" % (i + 1 + playlists['offset'], playlist['uri'],  playlist['name']))\n",
    "    if playlists['next']:\n",
    "        playlists = sp.next(playlists)\n",
    "    else:\n",
    "        playlists = None"
   ]
  },
  {
   "cell_type": "code",
   "execution_count": 22,
   "metadata": {},
   "outputs": [
    {
     "name": "stderr",
     "output_type": "stream",
     "text": [
      "<ipython-input-22-84356e440206>:19: DeprecationWarning: You're using 'as_dict = True'.get_access_token will return the token string directly in future versions. Please adjust your code accordingly, or use get_cached_token instead.\n",
      "  token = credentials.get_access_token()\n"
     ]
    },
    {
     "ename": "SpotifyOauthError",
     "evalue": "error: invalid_client, error_description: Invalid client",
     "output_type": "error",
     "traceback": [
      "\u001b[1;31m---------------------------------------------------------------------------\u001b[0m",
      "\u001b[1;31mSpotifyOauthError\u001b[0m                         Traceback (most recent call last)",
      "\u001b[1;32m<ipython-input-22-84356e440206>\u001b[0m in \u001b[0;36m<module>\u001b[1;34m\u001b[0m\n\u001b[0;32m     17\u001b[0m         client_secret=CLIENT_SECRET)\n\u001b[0;32m     18\u001b[0m \u001b[1;33m\u001b[0m\u001b[0m\n\u001b[1;32m---> 19\u001b[1;33m \u001b[0mtoken\u001b[0m \u001b[1;33m=\u001b[0m \u001b[0mcredentials\u001b[0m\u001b[1;33m.\u001b[0m\u001b[0mget_access_token\u001b[0m\u001b[1;33m(\u001b[0m\u001b[1;33m)\u001b[0m\u001b[1;33m\u001b[0m\u001b[1;33m\u001b[0m\u001b[0m\n\u001b[0m\u001b[0;32m     20\u001b[0m \u001b[0mspotify\u001b[0m \u001b[1;33m=\u001b[0m \u001b[0mspotipy\u001b[0m\u001b[1;33m.\u001b[0m\u001b[0mSpotify\u001b[0m\u001b[1;33m(\u001b[0m\u001b[0mauth\u001b[0m\u001b[1;33m=\u001b[0m\u001b[0mtoken\u001b[0m\u001b[1;33m)\u001b[0m\u001b[1;33m\u001b[0m\u001b[1;33m\u001b[0m\u001b[0m\n\u001b[0;32m     21\u001b[0m \u001b[1;33m\u001b[0m\u001b[0m\n",
      "\u001b[1;32m~\\miniconda3\\lib\\site-packages\\spotipy\\oauth2.py\u001b[0m in \u001b[0;36mget_access_token\u001b[1;34m(self, as_dict)\u001b[0m\n\u001b[0;32m    180\u001b[0m             \u001b[1;32mreturn\u001b[0m \u001b[0mself\u001b[0m\u001b[1;33m.\u001b[0m\u001b[0mtoken_info\u001b[0m \u001b[1;32mif\u001b[0m \u001b[0mas_dict\u001b[0m \u001b[1;32melse\u001b[0m \u001b[0mself\u001b[0m\u001b[1;33m.\u001b[0m\u001b[0mtoken_info\u001b[0m\u001b[1;33m[\u001b[0m\u001b[1;34m\"access_token\"\u001b[0m\u001b[1;33m]\u001b[0m\u001b[1;33m\u001b[0m\u001b[1;33m\u001b[0m\u001b[0m\n\u001b[0;32m    181\u001b[0m \u001b[1;33m\u001b[0m\u001b[0m\n\u001b[1;32m--> 182\u001b[1;33m         \u001b[0mtoken_info\u001b[0m \u001b[1;33m=\u001b[0m \u001b[0mself\u001b[0m\u001b[1;33m.\u001b[0m\u001b[0m_request_access_token\u001b[0m\u001b[1;33m(\u001b[0m\u001b[1;33m)\u001b[0m\u001b[1;33m\u001b[0m\u001b[1;33m\u001b[0m\u001b[0m\n\u001b[0m\u001b[0;32m    183\u001b[0m         \u001b[0mtoken_info\u001b[0m \u001b[1;33m=\u001b[0m \u001b[0mself\u001b[0m\u001b[1;33m.\u001b[0m\u001b[0m_add_custom_values_to_token_info\u001b[0m\u001b[1;33m(\u001b[0m\u001b[0mtoken_info\u001b[0m\u001b[1;33m)\u001b[0m\u001b[1;33m\u001b[0m\u001b[1;33m\u001b[0m\u001b[0m\n\u001b[0;32m    184\u001b[0m         \u001b[0mself\u001b[0m\u001b[1;33m.\u001b[0m\u001b[0mtoken_info\u001b[0m \u001b[1;33m=\u001b[0m \u001b[0mtoken_info\u001b[0m\u001b[1;33m\u001b[0m\u001b[1;33m\u001b[0m\u001b[0m\n",
      "\u001b[1;32m~\\miniconda3\\lib\\site-packages\\spotipy\\oauth2.py\u001b[0m in \u001b[0;36m_request_access_token\u001b[1;34m(self)\u001b[0m\n\u001b[0;32m    208\u001b[0m         \u001b[1;32mif\u001b[0m \u001b[0mresponse\u001b[0m\u001b[1;33m.\u001b[0m\u001b[0mstatus_code\u001b[0m \u001b[1;33m!=\u001b[0m \u001b[1;36m200\u001b[0m\u001b[1;33m:\u001b[0m\u001b[1;33m\u001b[0m\u001b[1;33m\u001b[0m\u001b[0m\n\u001b[0;32m    209\u001b[0m             \u001b[0merror_payload\u001b[0m \u001b[1;33m=\u001b[0m \u001b[0mresponse\u001b[0m\u001b[1;33m.\u001b[0m\u001b[0mjson\u001b[0m\u001b[1;33m(\u001b[0m\u001b[1;33m)\u001b[0m\u001b[1;33m\u001b[0m\u001b[1;33m\u001b[0m\u001b[0m\n\u001b[1;32m--> 210\u001b[1;33m             raise SpotifyOauthError(\n\u001b[0m\u001b[0;32m    211\u001b[0m                 'error: {0}, error_description: {1}'.format(\n\u001b[0;32m    212\u001b[0m                     error_payload['error'], error_payload['error_description']),\n",
      "\u001b[1;31mSpotifyOauthError\u001b[0m: error: invalid_client, error_description: Invalid client"
     ]
    }
   ],
   "source": [
    "import spotipy\n",
    "import spotipy.util as util\n",
    "from spotipy.oauth2 import SpotifyClientCredentials\n",
    "import spotipy.oauth2 as oauth2\n",
    "\n",
    "market = [ \"AD\", \"AR\", \"AT\", \"AU\", \"BE\", \"BG\", \"BO\", \"BR\", \"CA\", \"CH\", \"CL\", \"CO\", \"CR\", \"CY\", \n",
    "      \"CZ\", \"DE\", \"DK\", \"DO\", \"EC\", \"EE\", \"ES\", \"FI\", \"FR\", \"GB\", \"GR\", \"GT\", \"HK\", \"HN\", \"HU\", \n",
    "      \"ID\", \"IE\", \"IS\", \"IT\", \"JP\", \"LI\", \"LT\", \"LU\", \"LV\", \"MC\", \"MT\", \"MX\", \"MY\", \"NI\", \"NL\", \n",
    "      \"NO\", \"NZ\", \"PA\", \"PE\", \"PH\", \"PL\", \"PT\", \"PY\", \"SE\", \"SG\", \"SK\", \"SV\", \"TH\", \"TR\", \"TW\", \n",
    "      \"US\", \"UY\", \"VN\" ]\n",
    "\n",
    "CLIENT_ID = \"pauline.vehrle@mines-paristech.fr\"\n",
    "CLIENT_SECRET = \"MinesParisTech.6\"\n",
    "\n",
    "credentials = oauth2.SpotifyClientCredentials(\n",
    "        client_id=CLIENT_ID,\n",
    "        client_secret=CLIENT_SECRET)\n",
    "\n",
    "token = credentials.get_access_token()\n",
    "spotify = spotipy.Spotify(auth=token)\n",
    "\n",
    "track = \"coldplay yellow\"\n",
    "res = spotify.search(track, type=\"track\", market=market, limit=1)\n",
    "print(res)"
   ]
  },
  {
   "cell_type": "code",
   "execution_count": 4,
   "metadata": {},
   "outputs": [],
   "source": [
    "import pyen\n",
    "import spotipy\n",
    "import requests"
   ]
  },
  {
   "cell_type": "code",
   "execution_count": 1,
   "metadata": {
    "scrolled": true
   },
   "outputs": [],
   "source": [
    "USERNAME = 'Adrin Mdwrld' #your spotify username\n",
    "CLIENT_ID = '1344579488b94b5690228b09751fefe5'#set at your developer account\n",
    "CLIENT_SECRET = 'a049d54e046d48d1a16d73250f733117' #set at your developer account\n",
    "REDIRECT_URI = 'http://localhost:8000' #set at your developer account, usually \"http://localhost:8000\"\n",
    "SCOPE = 'playlist-modify-public' # or else"
   ]
  },
  {
   "cell_type": "code",
   "execution_count": 2,
   "metadata": {},
   "outputs": [
    {
     "ename": "NameError",
     "evalue": "name 'util' is not defined",
     "output_type": "error",
     "traceback": [
      "\u001b[1;31m---------------------------------------------------------------------------\u001b[0m",
      "\u001b[1;31mNameError\u001b[0m                                 Traceback (most recent call last)",
      "\u001b[1;32m<ipython-input-2-97c689e5c50b>\u001b[0m in \u001b[0;36m<module>\u001b[1;34m\u001b[0m\n\u001b[1;32m----> 1\u001b[1;33m token = util.prompt_for_user_token(username = USERNAME, \n\u001b[0m\u001b[0;32m      2\u001b[0m                                    \u001b[0mclient_id\u001b[0m \u001b[1;33m=\u001b[0m \u001b[0mCLIENT_ID\u001b[0m\u001b[1;33m,\u001b[0m\u001b[1;33m\u001b[0m\u001b[1;33m\u001b[0m\u001b[0m\n\u001b[0;32m      3\u001b[0m                                    \u001b[0mclient_secret\u001b[0m \u001b[1;33m=\u001b[0m \u001b[0mCLIENT_SECRET\u001b[0m\u001b[1;33m,\u001b[0m\u001b[1;33m\u001b[0m\u001b[1;33m\u001b[0m\u001b[0m\n\u001b[0;32m      4\u001b[0m                                    redirect_uri = REDIRECT_URI)\n\u001b[0;32m      5\u001b[0m \u001b[1;33m\u001b[0m\u001b[0m\n",
      "\u001b[1;31mNameError\u001b[0m: name 'util' is not defined"
     ]
    }
   ],
   "source": [
    "token = util.prompt_for_user_token(username = USERNAME, \n",
    "                                   client_id = CLIENT_ID, \n",
    "                                   client_secret = CLIENT_SECRET, \n",
    "                                   redirect_uri = REDIRECT_URI)\n",
    "\n",
    "if token:\n",
    "   sp = spotipy.Spotify(auth=token)\n",
    "   # dig your api"
   ]
  },
  {
   "cell_type": "code",
   "execution_count": null,
   "metadata": {},
   "outputs": [],
   "source": []
  }
 ],
 "metadata": {
  "kernelspec": {
   "display_name": "Python 3",
   "language": "python",
   "name": "python3"
  },
  "language_info": {
   "codemirror_mode": {
    "name": "ipython",
    "version": 3
   },
   "file_extension": ".py",
   "mimetype": "text/x-python",
   "name": "python",
   "nbconvert_exporter": "python",
   "pygments_lexer": "ipython3",
   "version": "3.8.3"
  }
 },
 "nbformat": 4,
 "nbformat_minor": 4
}
