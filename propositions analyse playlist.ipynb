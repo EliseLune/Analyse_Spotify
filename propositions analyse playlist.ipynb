{
 "cells": [
  {
   "cell_type": "markdown",
   "metadata": {},
   "source": [
    "On peut proposer des analyses particulières suivant les occasions où les personnes écoutent leurs playlists :\n",
    "(entre parenthèses, la valeur dont on cherche à s'approcher)\n",
    "\n",
    "**sport** : \n",
    "* danceability (1)\n",
    "* energy (1)\n",
    "* loudness?\n",
    "* speechiness(0)\n",
    "* tempo (haut)\n",
    "* valence (1)\n",
    "\n",
    "**travail**\n",
    "* acousticness (1)\n",
    "* instrumentalness (1)\n",
    "* speechiness (0)\n",
    "* tempo(bas)\n",
    "* valence (0,5)"
   ]
  },
  {
   "cell_type": "markdown",
   "metadata": {},
   "source": [
    "on pourrait tenter d'autres types de playlist (voiture ou autre), mais là ça devient assez subjectif les styles qu'on cherche..."
   ]
  }
 ],
 "metadata": {
  "kernelspec": {
   "display_name": "Python 3",
   "language": "python",
   "name": "python3"
  },
  "language_info": {
   "codemirror_mode": {
    "name": "ipython",
    "version": 3
   },
   "file_extension": ".py",
   "mimetype": "text/x-python",
   "name": "python",
   "nbconvert_exporter": "python",
   "pygments_lexer": "ipython3",
   "version": "3.8.3"
  }
 },
 "nbformat": 4,
 "nbformat_minor": 4
}
