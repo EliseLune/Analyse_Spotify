{
 "cells": [
  {
   "cell_type": "markdown",
   "metadata": {},
   "source": [
    "On peut proposer des analyses particulières suivant les occasions où les personnes écoutent leurs playlists :\n",
    "(entre parenthèses, la valeur dont on cherche à s'approcher)\n",
    "\n",
    "**sport** : \n",
    "* danceability (1)\n",
    "* energy (1)\n",
    "* loudness?\n",
    "* speechiness(0)\n",
    "* tempo (haut)\n",
    "* valence (1)\n",
    "\n",
    "**travail**\n",
    "* acousticness (1)\n",
    "* instrumentalness (1)\n",
    "* speechiness (0)\n",
    "* tempo(bas)\n",
    "* valence (0,5)"
   ]
  },
  {
   "cell_type": "markdown",
   "metadata": {},
   "source": [
    "on pourrait tenter d'autres types de playlist (voiture ou autre), mais là ça devient assez subjectif les styles qu'on cherche..."
   ]
<<<<<<< HEAD
  },
  {
   "cell_type": "code",
   "execution_count": 2,
   "metadata": {},
   "outputs": [],
   "source": [
    "import numpy as np\n",
    "import pandas as pd\n",
    "import json\n",
    "import matplotlib.pyplot as plt"
   ]
  },
  {
   "cell_type": "code",
   "execution_count": 6,
   "metadata": {},
   "outputs": [],
   "source": [
    "table = pd.read_csv('user_top_tracks_medium_term_audio-features.csv')"
   ]
  },
  {
   "cell_type": "markdown",
   "metadata": {},
   "source": [
    "**analyse sport**"
   ]
  },
  {
   "cell_type": "code",
   "execution_count": 7,
   "metadata": {},
   "outputs": [
    {
     "data": {
      "text/plain": [
       "<AxesSubplot:>"
      ]
     },
     "execution_count": 7,
     "metadata": {},
     "output_type": "execute_result"
    },
    {
     "data": {
      "image/png": "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\n",
      "text/plain": [
       "<Figure size 432x288 with 1 Axes>"
      ]
     },
     "metadata": {
      "needs_background": "light"
     },
     "output_type": "display_data"
    }
   ],
   "source": [
    "table['danceability'].hist()"
   ]
  },
  {
   "cell_type": "code",
   "execution_count": 8,
   "metadata": {},
   "outputs": [
    {
     "data": {
      "text/plain": [
       "<AxesSubplot:>"
      ]
     },
     "execution_count": 8,
     "metadata": {},
     "output_type": "execute_result"
    },
    {
     "data": {
      "image/png": "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\n",
      "text/plain": [
       "<Figure size 432x288 with 1 Axes>"
      ]
     },
     "metadata": {
      "needs_background": "light"
     },
     "output_type": "display_data"
    }
   ],
   "source": [
    "table['energy'].hist()"
   ]
  },
  {
   "cell_type": "code",
   "execution_count": 9,
   "metadata": {},
   "outputs": [
    {
     "data": {
      "text/plain": [
       "<AxesSubplot:>"
      ]
     },
     "execution_count": 9,
     "metadata": {},
     "output_type": "execute_result"
    },
    {
     "data": {
      "image/png": "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\n",
      "text/plain": [
       "<Figure size 432x288 with 1 Axes>"
      ]
     },
     "metadata": {
      "needs_background": "light"
     },
     "output_type": "display_data"
    }
   ],
   "source": [
    "table['loudness'].hist()"
   ]
  },
  {
   "cell_type": "code",
   "execution_count": 10,
   "metadata": {},
   "outputs": [
    {
     "data": {
      "text/plain": [
       "<AxesSubplot:>"
      ]
     },
     "execution_count": 10,
     "metadata": {},
     "output_type": "execute_result"
    },
    {
     "data": {
      "image/png": "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\n",
      "text/plain": [
       "<Figure size 432x288 with 1 Axes>"
      ]
     },
     "metadata": {
      "needs_background": "light"
     },
     "output_type": "display_data"
    }
   ],
   "source": [
    "table['speechiness'].hist()"
   ]
  },
  {
   "cell_type": "code",
   "execution_count": 12,
   "metadata": {},
   "outputs": [
    {
     "data": {
      "text/plain": [
       "<AxesSubplot:>"
      ]
     },
     "execution_count": 12,
     "metadata": {},
     "output_type": "execute_result"
    },
    {
     "data": {
      "image/png": "iVBORw0KGgoAAAANSUhEUgAAAWoAAAD4CAYAAADFAawfAAAAOXRFWHRTb2Z0d2FyZQBNYXRwbG90bGliIHZlcnNpb24zLjMuMSwgaHR0cHM6Ly9tYXRwbG90bGliLm9yZy/d3fzzAAAACXBIWXMAAAsTAAALEwEAmpwYAAAOqklEQVR4nO3dYYxldXnH8e/jLuCyg4t24VYX0tm0SmLcaNlbaktrZ1ZjFyHQF77AqIHWZhITCSXYusS0iS+aopY2vjBpN5VAKmVCKbSGjRZqOxKTAp2h4C4uRIRVWJAtsV0dSsBtn764Z91he2fvmXvvmfufO99PMtl7z/mfO89vdvbH3TPnLJGZSJLK9bpRDyBJOjWLWpIKZ1FLUuEsakkqnEUtSYXb2MSLbt26NScnJ5t46VN66aWX2Lx586p/3tW0HjKCOceNOXtbWFh4MTPP6bavkaKenJxkfn6+iZc+pbm5Oaamplb9866m9ZARzDluzNlbRHxvuX2e+pCkwlnUklQ4i1qSCmdRS1LhLGpJKpxFLUmFq1XUEXF2RNwZEY9HxMGI+JWmB5MkddS9jvoLwNcy84MRcTpwZoMzSZKW6FnUEfEG4D3A1QCZ+SrwarNjSZKOi17/44CIeBewF/g28E5gAbg2M186ad0MMAPQarV2zs7ONjHvKS0uLjIxMdHXsfsPHx3yNPXt2Lal9tpBMq4l5hwv5uxtenp6ITPb3fbVKeo28ABwcWY+GBFfAH6UmX+43DHtdjvX2i3kk3v2DXeYFTh046W113or7ngx53gZ8BbyZYu6zg8TnwWezcwHq+d3Ahf2NYkkacV6FnVm/gB4JiIuqDa9l85pEEnSKqh71cc1wG3VFR9PAb/d3EiSpKVqFXVmPgJ0PXciSWqWdyZKUuEsakkqnEUtSYWzqCWpcBa1JBXOopakwlnUklQ4i1qSCmdRS1LhLGpJKpxFLUmFs6glqXAWtSQVzqKWpMJZ1JJUOItakgpnUUtS4SxqSSqcRS1JhbOoJalwFrUkFc6ilqTCWdSSVDiLWpIKZ1FLUuE21lkUEYeAHwP/AxzLzHaTQ0mSTqhV1JXpzHyxsUkkSV156kOSCheZ2XtRxNPAfwIJ/GVm7u2yZgaYAWi1WjtnZ2eHPGpvi4uLTExM9HXs/sNHhzxNfTu2bam9dpCMJys58zBzlsyc42WQnNPT0wvLnVauW9RvycznIuJc4D7gmsy8f7n17XY75+fn+xp2EHNzc0xNTfV17OSefcMdZgUO3Xhp7bWDZDxZyZmHmbNk5hwvg+SMiGWLutapj8x8rvr1CHA3cFFfk0iSVqxnUUfE5og46/hj4P3AgaYHkyR11LnqowXcHRHH1/9NZn6t0akkST/Vs6gz8yngnaswiySpCy/Pk6TCWdSSVDiLWpIKZ1FLUuEsakkqnEUtSYWzqCWpcBa1JBXOopakwlnUklQ4i1qSCmdRS1LhLGpJKpxFLUmFs6glqXAWtSQVzqKWpMJZ1JJUOItakgpnUUtS4SxqSSqcRS1JhbOoJalwFrUkFc6ilqTCWdSSVLjaRR0RGyLi3yPiniYHkiS91kreUV8LHGxqEElSd7WKOiLOAy4F/qrZcSRJJ4vM7L0o4k7gT4CzgE9m5mVd1swAMwCtVmvn7OxsXwPtP3y0r+MAWpvghZf7PnxkdmzbUnvt4uIiExMTQ/m8g3ytB9Ur8zBzlsyczRjV9/b2LRv6zjk9Pb2Qme1u+zb2OjgiLgOOZOZCREwtty4z9wJ7Adrtdk5NLbv0lK7es6+v4wCu33GMm/b3jFScQx+eqr12bm6Ofr+2Jxvkaz2oXpmHmbNk5mzGqL63b9m9uZGcdU59XAxcHhGHgFlgV0R8eeiTSJK66lnUmXlDZp6XmZPAlcA/Z+ZHGp9MkgR4HbUkFW9FJ3Qzcw6Ya2QSSVJXvqOWpMJZ1JJUOItakgpnUUtS4SxqSSqcRS1JhbOoJalwFrUkFc6ilqTCWdSSVDiLWpIKZ1FLUuEsakkqnEUtSYWzqCWpcBa1JBXOopakwlnUklQ4i1qSCmdRS1LhLGpJKpxFLUmFs6glqXAWtSQVzqKWpML1LOqIeH1EPBQRj0bEYxHxmdUYTJLUsbHGmleAXZm5GBGnAd+MiK9m5gMNzyZJokZRZ2YCi9XT06qPbHIoSdIJ0enhHosiNgALwC8AX8zMT3VZMwPMALRarZ2zs7N9DbT/8NG+jgNobYIXXu778DVhPWSE5nLu2LZl+C86gMXFRSYmJkY9RuNWO+cgPTKI7Vs29J1zenp6ITPb3fbVKuqfLo44G7gbuCYzDyy3rt1u5/z8/ErnBGByz76+jgO4fscxbtpf52zO2rUeMkJzOQ/deOnQX3MQc3NzTE1NjXqMxq12zkF6ZBC37N7cd86IWLaoV3TVR2b+FzAH7O5rEknSitW56uOc6p00EbEJeB/weMNzSZIqdf5u+Wbg1uo89euAOzLznmbHkiQdV+eqj28Bv7gKs0iSuvDOREkqnEUtSYWzqCWpcBa1JBXOopakwlnUklQ4i1qSCmdRS1LhLGpJKpxFLUmFs6glqXAWtSQVzqKWpMJZ1JJUOItakgpnUUtS4SxqSSqcRS1JhbOoJalwFrUkFc6ilqTCWdSSVDiLWpIKZ1FLUuEsakkqnEUtSYXrWdQRcX5E/EtEHIyIxyLi2tUYTJLUsbHGmmPA9Zn5cEScBSxExH2Z+e2GZ5MkUeMddWY+n5kPV49/DBwEtjU9mCSpIzKz/uKISeB+4B2Z+aOT9s0AMwCtVmvn7OxsXwPtP3y0r+MAWpvghZf7PnxNWA8ZobmcO7ZtGf6L1rDc9/Vq/H6OKvNSi4uLTExMrNrnG6RHBrF9y4a+c05PTy9kZrvbvtpFHRETwDeAP87Mu061tt1u5/z8/IoHBZjcs6+v4wCu33GMm/bXOZuzdq2HjNBczkM3Xjr016xjue/r1fj9HFXmpebm5piamlq1zzdIjwzilt2b+84ZEcsWda2rPiLiNODvgNt6lbQkabjqXPURwJeAg5n5Z82PJElaqs476ouBjwK7IuKR6uMDDc8lSar0PDmWmd8EYhVmkSR14Z2JklQ4i1qSCmdRS1LhLGpJKpxFLUmFs6glqXAWtSQVzqKWpMJZ1JJUOItakgpnUUtS4SxqSSqcRS1JhbOoJalwFrUkFc6ilqTCWdSSVDiLWpIKZ1FLUuEsakkqnEUtSYWzqCWpcBa1JBXOopakwlnUklS4nkUdETdHxJGIOLAaA0mSXqvOO+pbgN0NzyFJWkbPos7M+4EfrsIskqQuIjN7L4qYBO7JzHecYs0MMAPQarV2zs7O9jXQ/sNH+zoOoLUJXni578PXhPWQEcw5btZLzu1bNjAxMdHXsdPT0wuZ2e62b2hFvVS73c75+fkVDXnc5J59fR0HcP2OY9y0f2Pfx68F6yEjmHPcrJect+zezNTUVF/HRsSyRe1VH5JUOItakgpX5/K824F/BS6IiGcj4mPNjyVJOq7nSaPM/NBqDCJJ6s5TH5JUOItakgpnUUtS4SxqSSqcRS1JhbOoJalwFrUkFc6ilqTCWdSSVDiLWpIKZ1FLUuEsakkqnEUtSYWzqCWpcBa1JBXOopakwlnUklQ4i1qSCmdRS1LhLGpJKpxFLUmFs6glqXAWtSQVzqKWpMJZ1JJUOItakgpXq6gjYndEPBERT0bEnqaHkiSd0LOoI2ID8EXgEuDtwIci4u1NDyZJ6qjzjvoi4MnMfCozXwVmgSuaHUuSdFxk5qkXRHwQ2J2Zv1s9/yjwy5n5iZPWzQAz1dMLgCeGP25PW4EXR/B5V9N6yAjmHDfm7O3nMvOcbjs21jg4umz7f+2emXuBvSscbKgiYj4z26OcoWnrISOYc9yYczB1Tn08C5y/5Pl5wHPDHkSS1F2dov434K0RsT0iTgeuBL7S7FiSpON6nvrIzGMR8QngH4ENwM2Z+Vjjk/VnpKdeVsl6yAjmHDfmHEDPHyZKkkbLOxMlqXAWtSQVbs0WdURcFxGPRcSBiLg9Il4fEW+KiPsi4jvVr28c9ZwrFRE3R8SRiDiwZNuyuSLihurW/ici4jdHM/XKLZPz8xHxeER8KyLujoizl+wbm5xL9n0yIjIiti7ZNlY5I+KaKstjEfG5JdvHJmdEvCsiHoiIRyJiPiIuWrJvODkzc819ANuAp4FN1fM7gKuBzwF7qm17gM+OetY+sr0HuBA4sGRb11x0bul/FDgD2A58F9gw6gwD5Hw/sLF6/NlxzVltP5/OD+i/B2wdx5zANPBPwBnV83PHNOe9wCXV4w8Ac8POuWbfUdO5YmVTRGwEzqRzbfcVwK3V/luB3xrNaP3LzPuBH560eblcVwCzmflKZj4NPEnnlv/idcuZmfdm5rHq6QN0rtmHMctZ+XPgD3jtzWPjlvPjwI2Z+Uq15ki1fdxyJvCG6vEWTtxnMrSca7KoM/Mw8KfA94HngaOZeS/QysznqzXPA+eObsqhWi7XNuCZJeuerbaNg98Bvlo9HqucEXE5cDgzHz1p11jlBN4G/HpEPBgR34iIX6q2j1vO3wM+HxHP0OmlG6rtQ8u5Jou6Okd7BZ2/TrwF2BwRHxntVCNR6/b+tSYiPg0cA247vqnLsjWZMyLOBD4N/FG33V22rcmclY3AG4F3A78P3BERwfjl/DhwXWaeD1wHfKnaPrSca7KogfcBT2fmf2TmT4C7gF8FXoiINwNUvx45xWusJcvlGrvb+yPiKuAy4MNZnehjvHL+PJ03GI9GxCE6WR6OiJ9lvHJCJ89d2fEQ8L90/tGicct5FZ0OAvhbTpzeGFrOtVrU3wfeHRFnVv+Ffi9wkM6t7VdVa64C/mFE8w3bcrm+AlwZEWdExHbgrcBDI5hvKCJiN/Ap4PLM/O8lu8YmZ2buz8xzM3MyMyfp/GG+MDN/wBjlrPw9sAsgIt4GnE7nX5Ybt5zPAb9RPd4FfKd6PLyco/4p6gA/ff0M8DhwAPhrOj9Z/Rng69UX6uvAm0Y9Zx+5bqdz3v0ndP4Qf+xUuej8Nfq7dP5Z2UtGPf+AOZ+kc07vkerjL8Yx50n7D1Fd9TFuOekU85erP6MPA7vGNOevAQt0rvB4ENg57JzeQi5JhVurpz4kad2wqCWpcBa1JBXOopakwlnUklQ4i1qSCmdRS1Lh/g9ZqifKuUnHmgAAAABJRU5ErkJggg==\n",
      "text/plain": [
       "<Figure size 432x288 with 1 Axes>"
      ]
     },
     "metadata": {
      "needs_background": "light"
     },
     "output_type": "display_data"
    }
   ],
   "source": [
    "table['tempo'].hist()"
   ]
  },
  {
   "cell_type": "code",
   "execution_count": 13,
   "metadata": {},
   "outputs": [
    {
     "data": {
      "text/plain": [
       "<AxesSubplot:>"
      ]
     },
     "execution_count": 13,
     "metadata": {},
     "output_type": "execute_result"
    },
    {
     "data": {
      "image/png": "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\n",
      "text/plain": [
       "<Figure size 432x288 with 1 Axes>"
      ]
     },
     "metadata": {
      "needs_background": "light"
     },
     "output_type": "display_data"
    }
   ],
   "source": [
    "table['valence'].hist()"
   ]
  },
  {
   "cell_type": "markdown",
   "metadata": {},
   "source": [
    "**analyse travail**"
   ]
  },
  {
   "cell_type": "code",
   "execution_count": null,
   "metadata": {},
   "outputs": [],
   "source": [
    "table['acousticness'].hist()"
   ]
  },
  {
   "cell_type": "code",
   "execution_count": null,
   "metadata": {},
   "outputs": [],
   "source": [
    "table['instrumentalness'].hist()"
   ]
  },
  {
   "cell_type": "code",
   "execution_count": null,
   "metadata": {},
   "outputs": [],
   "source": [
    "table['speechiness'].hist()"
   ]
  },
  {
   "cell_type": "code",
   "execution_count": null,
   "metadata": {},
   "outputs": [],
   "source": [
    "table['tempo'].hist()"
   ]
  },
  {
   "cell_type": "code",
   "execution_count": null,
   "metadata": {},
   "outputs": [],
   "source": [
    "table['valence'].hist()"
   ]
=======
>>>>>>> 3b3b006bac532c597cad8333ead7c58d01ed7992
  }
 ],
 "metadata": {
  "kernelspec": {
   "display_name": "Python 3",
   "language": "python",
   "name": "python3"
  },
  "language_info": {
   "codemirror_mode": {
    "name": "ipython",
    "version": 3
   },
   "file_extension": ".py",
   "mimetype": "text/x-python",
   "name": "python",
   "nbconvert_exporter": "python",
   "pygments_lexer": "ipython3",
   "version": "3.8.3"
  }
 },
 "nbformat": 4,
 "nbformat_minor": 4
}
