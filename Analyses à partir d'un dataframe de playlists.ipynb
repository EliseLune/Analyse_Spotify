{
 "cells": [
  {
   "cell_type": "code",
   "execution_count": 1,
   "id": "3160d5b8",
   "metadata": {},
   "outputs": [],
   "source": [
    "import numpy as np\n",
    "import pandas as pd\n",
    "# import plotly\n",
    "import matplotlib.pyplot as plt"
   ]
  },
  {
   "cell_type": "code",
   "execution_count": 2,
   "id": "15242f0a",
   "metadata": {
    "scrolled": true
   },
   "outputs": [
    {
     "data": {
      "text/html": [
       "<div>\n",
       "<style scoped>\n",
       "    .dataframe tbody tr th:only-of-type {\n",
       "        vertical-align: middle;\n",
       "    }\n",
       "\n",
       "    .dataframe tbody tr th {\n",
       "        vertical-align: top;\n",
       "    }\n",
       "\n",
       "    .dataframe thead th {\n",
       "        text-align: right;\n",
       "    }\n",
       "</style>\n",
       "<table border=\"1\" class=\"dataframe\">\n",
       "  <thead>\n",
       "    <tr style=\"text-align: right;\">\n",
       "      <th></th>\n",
       "      <th>name</th>\n",
       "      <th>album</th>\n",
       "      <th>artist</th>\n",
       "      <th>release_date</th>\n",
       "      <th>length</th>\n",
       "      <th>popularity</th>\n",
       "      <th>acousticness</th>\n",
       "      <th>danceability</th>\n",
       "      <th>energy</th>\n",
       "      <th>instrumentalness</th>\n",
       "      <th>key</th>\n",
       "      <th>liveness</th>\n",
       "      <th>loudness</th>\n",
       "      <th>mode</th>\n",
       "      <th>speechiness</th>\n",
       "      <th>tempo</th>\n",
       "      <th>time_signature</th>\n",
       "      <th>valence</th>\n",
       "    </tr>\n",
       "  </thead>\n",
       "  <tbody>\n",
       "    <tr>\n",
       "      <th>0</th>\n",
       "      <td>Boom Clap</td>\n",
       "      <td>SUCKER</td>\n",
       "      <td>Charli XCX</td>\n",
       "      <td>2015-02-09</td>\n",
       "      <td>169866</td>\n",
       "      <td>64</td>\n",
       "      <td>0.1540</td>\n",
       "      <td>0.659</td>\n",
       "      <td>0.911</td>\n",
       "      <td>0.000304</td>\n",
       "      <td>4</td>\n",
       "      <td>0.1910</td>\n",
       "      <td>-2.280</td>\n",
       "      <td>1</td>\n",
       "      <td>0.0786</td>\n",
       "      <td>91.999</td>\n",
       "      <td>4</td>\n",
       "      <td>0.576</td>\n",
       "    </tr>\n",
       "    <tr>\n",
       "      <th>1</th>\n",
       "      <td>Time of Our Lives</td>\n",
       "      <td>Globalization</td>\n",
       "      <td>Pitbull</td>\n",
       "      <td>2014-11-21</td>\n",
       "      <td>229360</td>\n",
       "      <td>81</td>\n",
       "      <td>0.0921</td>\n",
       "      <td>0.721</td>\n",
       "      <td>0.802</td>\n",
       "      <td>0.000000</td>\n",
       "      <td>1</td>\n",
       "      <td>0.6940</td>\n",
       "      <td>-5.797</td>\n",
       "      <td>1</td>\n",
       "      <td>0.0583</td>\n",
       "      <td>124.022</td>\n",
       "      <td>4</td>\n",
       "      <td>0.724</td>\n",
       "    </tr>\n",
       "    <tr>\n",
       "      <th>2</th>\n",
       "      <td>Pumped Up Kicks</td>\n",
       "      <td>Torches</td>\n",
       "      <td>Foster The People</td>\n",
       "      <td>2011-05-23</td>\n",
       "      <td>239600</td>\n",
       "      <td>84</td>\n",
       "      <td>0.1450</td>\n",
       "      <td>0.733</td>\n",
       "      <td>0.710</td>\n",
       "      <td>0.115000</td>\n",
       "      <td>5</td>\n",
       "      <td>0.0956</td>\n",
       "      <td>-5.849</td>\n",
       "      <td>0</td>\n",
       "      <td>0.0292</td>\n",
       "      <td>127.975</td>\n",
       "      <td>4</td>\n",
       "      <td>0.965</td>\n",
       "    </tr>\n",
       "    <tr>\n",
       "      <th>3</th>\n",
       "      <td>Titanium (feat. Sia)</td>\n",
       "      <td>Nothing but the Beat (Ultimate Edition)</td>\n",
       "      <td>David Guetta</td>\n",
       "      <td>2012-12-07</td>\n",
       "      <td>245040</td>\n",
       "      <td>79</td>\n",
       "      <td>0.0679</td>\n",
       "      <td>0.604</td>\n",
       "      <td>0.787</td>\n",
       "      <td>0.150000</td>\n",
       "      <td>0</td>\n",
       "      <td>0.1270</td>\n",
       "      <td>-3.674</td>\n",
       "      <td>0</td>\n",
       "      <td>0.1030</td>\n",
       "      <td>126.062</td>\n",
       "      <td>4</td>\n",
       "      <td>0.301</td>\n",
       "    </tr>\n",
       "    <tr>\n",
       "      <th>4</th>\n",
       "      <td>Blame (feat. John Newman)</td>\n",
       "      <td>Motion</td>\n",
       "      <td>Calvin Harris</td>\n",
       "      <td>2014-10-31</td>\n",
       "      <td>212960</td>\n",
       "      <td>76</td>\n",
       "      <td>0.0287</td>\n",
       "      <td>0.414</td>\n",
       "      <td>0.857</td>\n",
       "      <td>0.005740</td>\n",
       "      <td>0</td>\n",
       "      <td>0.3430</td>\n",
       "      <td>-4.078</td>\n",
       "      <td>0</td>\n",
       "      <td>0.0808</td>\n",
       "      <td>128.024</td>\n",
       "      <td>4</td>\n",
       "      <td>0.348</td>\n",
       "    </tr>\n",
       "  </tbody>\n",
       "</table>\n",
       "</div>"
      ],
      "text/plain": [
       "                        name                                    album  \\\n",
       "0                  Boom Clap                                   SUCKER   \n",
       "1          Time of Our Lives                            Globalization   \n",
       "2            Pumped Up Kicks                                  Torches   \n",
       "3       Titanium (feat. Sia)  Nothing but the Beat (Ultimate Edition)   \n",
       "4  Blame (feat. John Newman)                                   Motion   \n",
       "\n",
       "              artist release_date  length  popularity  acousticness  \\\n",
       "0         Charli XCX   2015-02-09  169866          64        0.1540   \n",
       "1            Pitbull   2014-11-21  229360          81        0.0921   \n",
       "2  Foster The People   2011-05-23  239600          84        0.1450   \n",
       "3       David Guetta   2012-12-07  245040          79        0.0679   \n",
       "4      Calvin Harris   2014-10-31  212960          76        0.0287   \n",
       "\n",
       "   danceability  energy  instrumentalness  key  liveness  loudness  mode  \\\n",
       "0         0.659   0.911          0.000304    4    0.1910    -2.280     1   \n",
       "1         0.721   0.802          0.000000    1    0.6940    -5.797     1   \n",
       "2         0.733   0.710          0.115000    5    0.0956    -5.849     0   \n",
       "3         0.604   0.787          0.150000    0    0.1270    -3.674     0   \n",
       "4         0.414   0.857          0.005740    0    0.3430    -4.078     0   \n",
       "\n",
       "   speechiness    tempo  time_signature  valence  \n",
       "0       0.0786   91.999               4    0.576  \n",
       "1       0.0583  124.022               4    0.724  \n",
       "2       0.0292  127.975               4    0.965  \n",
       "3       0.1030  126.062               4    0.301  \n",
       "4       0.0808  128.024               4    0.348  "
      ]
     },
     "execution_count": 2,
     "metadata": {},
     "output_type": "execute_result"
    }
   ],
   "source": [
    "playlistName = \"Example 1, id = 4pUzBoCxZzig6QncK4fcxD\"\n",
    "data = pd.read_csv('df_example_01.csv')\n",
    "data.head()"
   ]
  },
  {
   "cell_type": "code",
   "execution_count": 86,
   "id": "2ce5a342",
   "metadata": {},
   "outputs": [],
   "source": [
    "def create_work():\n",
    "    feat = ['acousticsness', 'danceability', 'energy', 'instrumentalness', 'key', 'liveness', 'loudness', 'mode', 'speechiness', 'tempo', 'valence']\n",
    "    name = ['Acoustique', 'Dansabilité', 'Energie', 'Insturmentalité', 'Tonalité', 'Live', 'Puissance acoustique', 'Mode', 'Parler', 'Tempo', 'Jovialité']\n",
    "    desc = [\"Décrit dans quelle proportion la piste est produite par des instruments acoustiques. 0 = électro | 1 = Vivaldi\", \"Décrit à quel point il est possible de danser sur la piste. 0 = émission radio | 1 = musique de boîte\", \"Décrit dans quelle mesure la piste est intense, active. 0 = prélude de Bach | 1 = death metal\", \"Décrit dans quelle proportion on entend des voix (paroles de chant, parlées) dans la piste. 0 = rap pur | 1 = pièce pour piano\", \"Donne la tonalité principale de la piste. 0 = Do, 1 = Do#, 2 = Ré, etc.\", \"Décrit si un public est présent. 0 = piste enregistré en studio | 1 = public qui chante avec l'artiste en concert\", \"Décrit à quel point la piste rend un son fort. -60 dB = ASMR | 0 dB = hard metal\", \"Donne le mode (majeur/mineur) de la piste. 0 = mineur ; 1 = majeur\", \"Décrit dans quelle mesure la piste contient des paroles parlées. 0 = musique pure | 1 = podcast\", \"Donne le tempo de la piste en battementss par minute (BPM).\", \"Décrit la positivité communiquée par la piste. 0 = Sound of Silence | 1 = Happy\"]\n",
    "    inte = [[0, 0.25, 0.5, 0.75, 1], [0, 0.33, 0.66, 1], [0, 0.33, 0.66, 1], [0, 0.5, 0.75, 1], None, [0, 0.5, 0.8, 1], None, None, [0, 0.33, 0.66, 1], None, [0, 0.25, 0.5, 0.75, 1]]\n",
    "    tags = [['Synthétisé', 'Plutôt synthétisé', 'Plutôt acoustique', 'Acoustique'], ['Calme', 'De quoi battre le rythme', 'Très dansant'], ['Doux', 'Moyen', 'Energique'], ['Majorité de paroles', 'Majorité instrumentale', 'Instrumental pur'], None, ['Enregistrement studio', \"Présence d'un petit public\", 'Live'], None, None, ['Musical', 'Mélange discours et musique', 'Discours pur'], None, ['Très sombre', 'Plutôt sombre', 'Plutôt léger', 'Joyeux']]\n",
    "    anly = [True, True, True, True, False, True, False, False, True, False, True]\n",
    "    dict  = {'Audio-features':feat, 'Name':name, 'Description':desc, 'Intervalles':inte, 'Tags':tags, 'A analyser':anly}\n",
    "    audio_feat = pd.DataFrame(dict).set_index('Audio-features')\n",
    "    return audio_feat"
   ]
  },
  {
   "cell_type": "code",
   "execution_count": 87,
   "id": "f06e855c",
   "metadata": {
    "scrolled": false
   },
   "outputs": [],
   "source": [
    "audio_feat = create_work()"
   ]
  },
  {
   "cell_type": "code",
   "execution_count": 18,
   "id": "4f5d2814",
   "metadata": {},
   "outputs": [],
   "source": [
    "# Nombre de pistes total\n",
    "nbrTotTracks = data.shape[0]\n",
    "# Durée d'écoute totale (ms)\n",
    "lengthTot = data['length'].sum()"
   ]
  },
  {
   "cell_type": "code",
   "execution_count": 21,
   "id": "15f14f7a",
   "metadata": {},
   "outputs": [],
   "source": [
    "# Nombre de piste par artiste\n",
    "y = data['artist'].value_counts()\n",
    "# Nombre d'artiste par nbr d'occurences\n",
    "y.value_counts()"
   ]
  },
  {
   "cell_type": "code",
   "execution_count": 25,
   "id": "2117a8ea",
   "metadata": {},
   "outputs": [
    {
     "data": {
      "text/plain": [
       "23.77077767011074"
      ]
     },
     "execution_count": 25,
     "metadata": {},
     "output_type": "execute_result"
    }
   ],
   "source": [
    "# Ecart-type du tempo (si petit -> playlist de sport ? marche ?)\n",
    "data['tempo'].std()"
   ]
  },
  {
   "cell_type": "code",
   "execution_count": 30,
   "id": "292cfb36",
   "metadata": {},
   "outputs": [
    {
     "data": {
      "text/plain": [
       "(array([ 1.,  0.,  0.,  0.,  1.,  1.,  4.,  4.,  8., 20.]),\n",
       " array([14., 21., 28., 35., 42., 49., 56., 63., 70., 77., 84.]),\n",
       " <BarContainer object of 10 artists>)"
      ]
     },
     "execution_count": 30,
     "metadata": {},
     "output_type": "execute_result"
    },
    {
     "data": {
      "image/png": "[encoded data removed]",
      "text/plain": [
       "<Figure size 432x288 with 1 Axes>"
      ]
     },
     "metadata": {
      "needs_background": "light"
     },
     "output_type": "display_data"
    }
   ],
   "source": [
    "plt.hist(data['popularity'])"
   ]
  },
  {
   "cell_type": "code",
   "execution_count": 57,
   "id": "e4918909",
   "metadata": {},
   "outputs": [],
   "source": [
    "def date_to_year(date):\n",
    "    return int(date[:4])\n",
    "date_to_year = np.vectorize(date_to_year)"
   ]
  },
  {
   "cell_type": "code",
   "execution_count": 58,
   "id": "e84c44a7",
   "metadata": {},
   "outputs": [],
   "source": [
    "data[\"release_year\"] = date_to_year(data['release_date'])"
   ]
  },
  {
   "cell_type": "code",
   "execution_count": 73,
   "id": "b6184049",
   "metadata": {},
   "outputs": [
    {
     "data": {
      "text/plain": [
       "<BarContainer object of 10 artists>"
      ]
     },
     "execution_count": 73,
     "metadata": {},
     "output_type": "execute_result"
    },
    {
     "data": {
      "image/png": "[encoded data removed]",
      "text/plain": [
       "<Figure size 432x288 with 1 Axes>"
      ]
     },
     "metadata": {
      "needs_background": "light"
     },
     "output_type": "display_data"
    }
   ],
   "source": [
    "y = data['release_year'].value_counts()\n",
    "plt.bar(y.index, y)"
   ]
  },
  {
   "cell_type": "markdown",
   "id": "62630cde",
   "metadata": {},
   "source": [
    "Plusieurs pistes pour analyser :\n",
    "- ajouter à `audio_feat` une colonne correspondant aux tags associés  la playlist en question\n",
    "- enregistrer un dataframe en csv pour pouvoir l'utiliser dans d'autres codes\n",
    "- caractériser certains tags comme \"déterminants\" pour qu'ils soient pris en compte dans l'analyse approfondie"
   ]
  },
  {
   "cell_type": "code",
   "execution_count": null,
   "id": "8c187c5b",
   "metadata": {},
   "outputs": [],
   "source": []
  }
 ],
 "metadata": {
  "kernelspec": {
   "display_name": "Python 3",
   "language": "python",
   "name": "python3"
  },
  "language_info": {
   "codemirror_mode": {
    "name": "ipython",
    "version": 3
   },
   "file_extension": ".py",
   "mimetype": "text/x-python",
   "name": "python",
   "nbconvert_exporter": "python",
   "pygments_lexer": "ipython3",
   "version": "3.9.4"
  }
 },
 "nbformat": 4,
 "nbformat_minor": 5
}
