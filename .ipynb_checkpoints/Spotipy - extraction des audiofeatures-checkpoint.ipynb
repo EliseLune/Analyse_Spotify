{
 "cells": [
  {
   "cell_type": "code",
   "execution_count": 1,
   "metadata": {},
   "outputs": [],
   "source": [
    "import spotipy\n",
    "from spotipy.oauth2 import SpotifyClientCredentials\n",
    "import pandas as pd\n",
    "import time "
   ]
  },
  {
   "cell_type": "markdown",
   "metadata": {},
   "source": [
    "A partir de l'ID de la playlist, on est capable de récupérer les audio features dans un dataframe. On peut facilement les passer en csv si besoin."
   ]
  },
  {
   "cell_type": "code",
   "execution_count": 2,
   "metadata": {},
   "outputs": [],
   "source": [
    "cid = '1344579488b94b5690228b09751fefe5'\n",
    "secret = 'a049d54e046d48d1a16d73250f733117'\n",
    "client_credentials_manager = SpotifyClientCredentials(client_id=cid, client_secret=secret)\n",
    "sp = spotipy.Spotify(client_credentials_manager=client_credentials_manager)"
   ]
  },
  {
   "cell_type": "code",
   "execution_count": 3,
   "metadata": {},
   "outputs": [],
   "source": [
    "def getTrackIDs(playlist_id):\n",
    "    ids = []\n",
    "    playlist = sp.playlist(playlist_id)\n",
    "    for item in playlist['tracks']['items']:\n",
    "        track = item['track']\n",
    "        ids.append(track['id'])\n",
    "    return ids"
   ]
  },
  {
   "cell_type": "code",
   "execution_count": 83,
   "metadata": {},
   "outputs": [],
   "source": [
    "def getTrackFeatures(id):\n",
    "    meta = sp.track(id)\n",
    "    features = sp.audio_features(id)\n",
    "    return [meta['name'], \n",
    "             meta['album']['name'],\n",
    "             meta['album']['artists'][0]['name'],\n",
    "             meta['album']['release_date'],\n",
    "             meta['duration_ms'], \n",
    "             meta['popularity'], \n",
    "             features[0]['acousticness'],\n",
    "             features[0]['danceability'], \n",
    "             features[0]['energy'], \n",
    "             features[0]['instrumentalness'],\n",
    "             features[0]['key'], \n",
    "             features[0]['liveness'], \n",
    "             features[0]['loudness'], \n",
    "             features[0]['mode'], \n",
    "             features[0]['speechiness'], \n",
    "             features[0]['tempo'], \n",
    "             features[0]['time_signature'], \n",
    "             features[0]['valence']]"
   ]
  },
  {
   "cell_type": "code",
   "execution_count": 84,
   "metadata": {},
   "outputs": [],
   "source": [
    "def creat_df_audiofeatures(playlist_id):\n",
    "    ids = getTrackIDs(playlist_id)\n",
    "    tracks = []\n",
    "    for i in range(len(ids)):\n",
    "        time.sleep(.5)\n",
    "        track = getTrackFeatures(ids[i])\n",
    "        tracks.append(track)\n",
    "    return pd.DataFrame(tracks, columns = ['name', 'album', 'artist', 'release_date', 'length', 'popularity', 'acousticness', 'danceability', 'energy', 'instrumentalness', 'key', 'liveness', 'loudness', 'mode', 'speechiness', 'tempo', 'time_signature','valence']) "
   ]
  },
  {
   "cell_type": "code",
   "execution_count": 85,
   "metadata": {},
   "outputs": [],
   "source": [
    "playlist_id='4pUzBoCxZzig6QncK4fcxD'\n",
    "playlist_id2 = '6SUm0RDRICmIYYcoccVQta'"
   ]
  },
  {
   "cell_type": "code",
   "execution_count": 86,
   "metadata": {
    "scrolled": true
   },
   "outputs": [],
   "source": [
    "df = creat_df_audiofeatures(playlist_id2)"
   ]
  },
  {
   "cell_type": "code",
   "execution_count": 87,
   "metadata": {
    "scrolled": false
   },
   "outputs": [
    {
     "data": {
      "text/html": [
       "<div>\n",
       "<style scoped>\n",
       "    .dataframe tbody tr th:only-of-type {\n",
       "        vertical-align: middle;\n",
       "    }\n",
       "\n",
       "    .dataframe tbody tr th {\n",
       "        vertical-align: top;\n",
       "    }\n",
       "\n",
       "    .dataframe thead th {\n",
       "        text-align: right;\n",
       "    }\n",
       "</style>\n",
       "<table border=\"1\" class=\"dataframe\">\n",
       "  <thead>\n",
       "    <tr style=\"text-align: right;\">\n",
       "      <th></th>\n",
       "      <th>name</th>\n",
       "      <th>album</th>\n",
       "      <th>artist</th>\n",
       "      <th>release_date</th>\n",
       "      <th>length</th>\n",
       "      <th>popularity</th>\n",
       "      <th>acousticness</th>\n",
       "      <th>danceability</th>\n",
       "      <th>energy</th>\n",
       "      <th>instrumentalness</th>\n",
       "      <th>key</th>\n",
       "      <th>liveness</th>\n",
       "      <th>loudness</th>\n",
       "      <th>mode</th>\n",
       "      <th>speechiness</th>\n",
       "      <th>tempo</th>\n",
       "      <th>time_signature</th>\n",
       "      <th>valence</th>\n",
       "    </tr>\n",
       "  </thead>\n",
       "  <tbody>\n",
       "    <tr>\n",
       "      <th>0</th>\n",
       "      <td>Boom Clap</td>\n",
       "      <td>SUCKER</td>\n",
       "      <td>Charli XCX</td>\n",
       "      <td>2015-02-09</td>\n",
       "      <td>169866</td>\n",
       "      <td>66</td>\n",
       "      <td>0.1540</td>\n",
       "      <td>0.659</td>\n",
       "      <td>0.911</td>\n",
       "      <td>0.000304</td>\n",
       "      <td>4</td>\n",
       "      <td>0.1910</td>\n",
       "      <td>-2.280</td>\n",
       "      <td>1</td>\n",
       "      <td>0.0786</td>\n",
       "      <td>91.999</td>\n",
       "      <td>4</td>\n",
       "      <td>0.576</td>\n",
       "    </tr>\n",
       "    <tr>\n",
       "      <th>1</th>\n",
       "      <td>Time of Our Lives</td>\n",
       "      <td>Globalization</td>\n",
       "      <td>Pitbull</td>\n",
       "      <td>2014-11-21</td>\n",
       "      <td>229360</td>\n",
       "      <td>82</td>\n",
       "      <td>0.0921</td>\n",
       "      <td>0.720</td>\n",
       "      <td>0.802</td>\n",
       "      <td>0.000000</td>\n",
       "      <td>1</td>\n",
       "      <td>0.6940</td>\n",
       "      <td>-5.797</td>\n",
       "      <td>1</td>\n",
       "      <td>0.0582</td>\n",
       "      <td>124.043</td>\n",
       "      <td>4</td>\n",
       "      <td>0.723</td>\n",
       "    </tr>\n",
       "    <tr>\n",
       "      <th>2</th>\n",
       "      <td>Pumped Up Kicks</td>\n",
       "      <td>Torches</td>\n",
       "      <td>Foster The People</td>\n",
       "      <td>2011-05-23</td>\n",
       "      <td>239600</td>\n",
       "      <td>85</td>\n",
       "      <td>0.1450</td>\n",
       "      <td>0.733</td>\n",
       "      <td>0.710</td>\n",
       "      <td>0.115000</td>\n",
       "      <td>5</td>\n",
       "      <td>0.0956</td>\n",
       "      <td>-5.849</td>\n",
       "      <td>0</td>\n",
       "      <td>0.0292</td>\n",
       "      <td>127.975</td>\n",
       "      <td>4</td>\n",
       "      <td>0.965</td>\n",
       "    </tr>\n",
       "    <tr>\n",
       "      <th>3</th>\n",
       "      <td>Titanium (feat. Sia)</td>\n",
       "      <td>Nothing but the Beat (Ultimate Edition)</td>\n",
       "      <td>David Guetta</td>\n",
       "      <td>2012-12-07</td>\n",
       "      <td>245040</td>\n",
       "      <td>80</td>\n",
       "      <td>0.0679</td>\n",
       "      <td>0.604</td>\n",
       "      <td>0.787</td>\n",
       "      <td>0.150000</td>\n",
       "      <td>0</td>\n",
       "      <td>0.1270</td>\n",
       "      <td>-3.674</td>\n",
       "      <td>0</td>\n",
       "      <td>0.1030</td>\n",
       "      <td>126.062</td>\n",
       "      <td>4</td>\n",
       "      <td>0.301</td>\n",
       "    </tr>\n",
       "    <tr>\n",
       "      <th>4</th>\n",
       "      <td>Blame (feat. John Newman)</td>\n",
       "      <td>Motion</td>\n",
       "      <td>Calvin Harris</td>\n",
       "      <td>2014-10-31</td>\n",
       "      <td>212960</td>\n",
       "      <td>77</td>\n",
       "      <td>0.0287</td>\n",
       "      <td>0.414</td>\n",
       "      <td>0.857</td>\n",
       "      <td>0.005740</td>\n",
       "      <td>0</td>\n",
       "      <td>0.3430</td>\n",
       "      <td>-4.078</td>\n",
       "      <td>0</td>\n",
       "      <td>0.0808</td>\n",
       "      <td>128.024</td>\n",
       "      <td>4</td>\n",
       "      <td>0.348</td>\n",
       "    </tr>\n",
       "  </tbody>\n",
       "</table>\n",
       "</div>"
      ],
      "text/plain": [
       "                        name                                    album  \\\n",
       "0                  Boom Clap                                   SUCKER   \n",
       "1          Time of Our Lives                            Globalization   \n",
       "2            Pumped Up Kicks                                  Torches   \n",
       "3       Titanium (feat. Sia)  Nothing but the Beat (Ultimate Edition)   \n",
       "4  Blame (feat. John Newman)                                   Motion   \n",
       "\n",
       "              artist release_date  length  popularity  acousticness  \\\n",
       "0         Charli XCX   2015-02-09  169866          66        0.1540   \n",
       "1            Pitbull   2014-11-21  229360          82        0.0921   \n",
       "2  Foster The People   2011-05-23  239600          85        0.1450   \n",
       "3       David Guetta   2012-12-07  245040          80        0.0679   \n",
       "4      Calvin Harris   2014-10-31  212960          77        0.0287   \n",
       "\n",
       "   danceability  energy  instrumentalness  key  liveness  loudness  mode  \\\n",
       "0         0.659   0.911          0.000304    4    0.1910    -2.280     1   \n",
       "1         0.720   0.802          0.000000    1    0.6940    -5.797     1   \n",
       "2         0.733   0.710          0.115000    5    0.0956    -5.849     0   \n",
       "3         0.604   0.787          0.150000    0    0.1270    -3.674     0   \n",
       "4         0.414   0.857          0.005740    0    0.3430    -4.078     0   \n",
       "\n",
       "   speechiness    tempo  time_signature  valence  \n",
       "0       0.0786   91.999               4    0.576  \n",
       "1       0.0582  124.043               4    0.723  \n",
       "2       0.0292  127.975               4    0.965  \n",
       "3       0.1030  126.062               4    0.301  \n",
       "4       0.0808  128.024               4    0.348  "
      ]
     },
     "execution_count": 87,
     "metadata": {},
     "output_type": "execute_result"
    }
   ],
   "source": [
    "df.head()"
   ]
  },
  {
   "cell_type": "markdown",
   "metadata": {},
   "source": [
    "Par contre, c'est un peu long à créer la table. Peut-être il y a moyen de faire autrement."
   ]
  },
  {
   "cell_type": "markdown",
   "metadata": {},
   "source": [
    "On vient de récupérer tous les audio features et les données meta de la playlist sous forme d'un data frame."
   ]
  },
  {
   "cell_type": "markdown",
   "metadata": {},
   "source": [
    "# Playlists de l'utilisateurs\n",
    "A partir du numéro d'utilisateur, on peut récuperer la list de playlist avec leur nom (pour que l'utilisateur choisisse laquelle analyser) et leur identification (nécesaire pour récuperer le dataframe)"
   ]
  },
  {
   "cell_type": "code",
   "execution_count": 79,
   "metadata": {},
   "outputs": [
    {
     "name": "stdout",
     "output_type": "stream",
     "text": [
      "idk mood  ->  64e2SkGAkaMkr4KWO2gDqs\n",
      "Juice WRLD my fav songs  ->  5WD8DlozA14CIIq9zvpW69\n",
      "Old school radio dings   ->  6SUm0RDRICmIYYcoccVQta\n",
      "Meine Shazam-Titel  ->  0tdVnQ8ZhojhEclJ03Ocap\n",
      "AMD235  ->  59KL6DQj11qafv874fpD2n\n",
      "US rap  ->  57rDp09cPULXiF4KZCAK4X\n",
      "Abschluss shit  ->  1B1LHPVgTnKppbNFSzt5CC\n"
     ]
    }
   ],
   "source": [
    "playlists = sp.user_playlists('11122869277')\n",
    "while playlists:\n",
    "    for i, playlist in enumerate(playlists['items']):\n",
    "        tab= playlist['uri'].split(':')\n",
    "        print(playlist['name'], \" -> \",tab[2])\n",
    "    if playlists['next']:\n",
    "        playlists = sp.next(playlists)\n",
    "    else:\n",
    "        playlists = None"
   ]
  },
  {
   "cell_type": "markdown",
   "metadata": {},
   "source": [
    "# Récupération de l'ID de l'utilisateur\n",
    "Il me semble que pour ça, il faut se connecter"
   ]
  },
  {
   "cell_type": "code",
   "execution_count": null,
   "metadata": {},
   "outputs": [],
   "source": []
  }
 ],
 "metadata": {
  "kernelspec": {
   "display_name": "Python 3",
   "language": "python",
   "name": "python3"
  },
  "language_info": {
   "codemirror_mode": {
    "name": "ipython",
    "version": 3
   },
   "file_extension": ".py",
   "mimetype": "text/x-python",
   "name": "python",
   "nbconvert_exporter": "python",
   "pygments_lexer": "ipython3",
   "version": "3.8.3"
  }
 },
 "nbformat": 4,
 "nbformat_minor": 4
}
